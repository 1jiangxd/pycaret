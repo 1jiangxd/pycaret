{
 "cells": [
  {
   "cell_type": "markdown",
   "metadata": {
    "colab_type": "text",
    "id": "opRJcZi01RRO"
   },
   "source": [
    "#  <span style=\"color:orange\">Regression Tutorial (REG102) - Level Intermediate</span>"
   ]
  },
  {
   "cell_type": "markdown",
   "metadata": {
    "colab_type": "text",
    "id": "wi1fabUC1RRY"
   },
   "source": [
    "**Created using: PyCaret 2.2** <br />\n",
    "**Date Updated: November 25, 2020**\n",
    "\n",
    "# 1.0 Tutorial Objective\n",
    "Welcome to the regression tutorial **(REG102)** - Level Intermediate. This tutorial assumes that you have completed __[Regression Tutorial (REG101) - Level Beginner](https://github.com/pycaret/pycaret/blob/master/tutorials/Regression%20Tutorial%20Level%20Beginner%20-%20REG101.ipynb)__. If you haven't used PyCaret before and this is your first tutorial, we strongly recommend you to go back and progress through the beginner tutorial to understand the basics of working in PyCaret.\n",
    "\n",
    "In this tutorial we will use the `pycaret.regression` module to learn:\n",
    "\n",
    "* **Normalization:**  How to normalize and scale the dataset\n",
    "* **Transformation:**  How to apply transformations that make the data linear and approximately normal\n",
    "* **Target Transformation:**  How to apply transformations to the target variable\n",
    "* **Combine Rare Levels:**  How to combine rare levels in categorical features\n",
    "* **Bin Numeric Variables:**  How to bin numeric variables and transform numeric features into categorical ones using 'sturges' rule\n",
    "* **Model Ensembling and Stacking:**  How to boost model performance using several ensembling techniques such as Bagging, Boosting, Voting and Generalized Stacking.\n",
    "* **Experiment Logging:** How to log experiments in PyCaret using MLFlow backend\n",
    "\n",
    "Read Time : Approx 60 Minutes\n",
    "\n",
    "\n",
    "# 1.1 Installing PyCaret\n",
    "If you haven't installed PyCaret yet. Please follow the link to __[Beginner's Tutorial](https://github.com/pycaret/pycaret/blob/master/tutorials/Regression%20Tutorial%20Level%20Beginner%20-%20REG101.ipynb)__ for instructions on how to install pycaret.\n",
    "\n",
    "# 1.2 Pre-Requisites\n",
    "- Python 3.6 or greater\n",
    "- PyCaret 2.0 or greater\n",
    "- Internet connection to load data from pycaret's repository\n",
    "- Completion of Regression Tutorial (REG101) - Level Beginner\n",
    "\n",
    "# 1.3 For Google colab users:\n",
    "If you are running this notebook on Google colab, run the following code at top of your notebook to display interactive visuals.<br/>\n",
    "<br/>\n",
    "`from pycaret.utils import enable_colab` <br/>\n",
    "`enable_colab()`\n",
    "\n",
    "# 1.4 See also:\n",
    "- __[Regression Tutorial (REG101) - Level Beginner](https://github.com/pycaret/pycaret/blob/master/tutorials/Regression%20Tutorial%20Level%20Beginner%20-%20REG101.ipynb)__\n",
    "- __[Regression Tutorial (REG103) - Level Expert](https://github.com/pycaret/pycaret/blob/master/tutorials/Regression%20Tutorial%20Level%20Expert%20-%20REG103.ipynb)__"
   ]
  },
  {
   "cell_type": "markdown",
   "metadata": {
    "colab_type": "text",
    "id": "h1iXlqnO1RRd"
   },
   "source": [
    "# 2.0 Brief overview of techniques covered in this tutorial\n",
    "Before we into the practical execution of the techniques mentioned above in Section 1, it is important to understand what are these techniques are and when to use them. More often than not most of these techniques will help linear and parametric algorithms, however it is not surprising to also see performance gains in tree-based models. The Below explanations are only brief and we recommend that you do extra reading to dive deeper and get a more thorough understanding of these techniques.\n",
    "\n",
    "- **Normalization:** Normalization / Scaling (often used interchangeably with standardization) is used to transform the actual values of numeric variables in a way that provides helpful properties for machine learning. Many algorithms such as Linear Regression, Support Vector Machine and K Nearest Neighbors assume that all features are centered around zero and have variances that are at the same level of order. If a particular feature in a dataset has a variance that is larger in order of magnitude than other features, the model may not understand all features correctly and could perform poorly. __[Read more](https://sebastianraschka.com/Articles/2014_about_feature_scaling.html#z-score-standardization-or-min-max-scaling)__ <br/>\n",
    "<br/>\n",
    "- **Transformation:** While normalization transforms the range of data to remove the impact of magnitude in variance, transformation is a more radical technique as it changes the shape of the distribution so that transformed data can be represented by a normal or approximate normal distirbution. In general, you should transform the data if using algorithms that assume normality or a gaussian distribution. Examples of such models are Linear Regression, Lasso Regression and Ridge Regression. __[Read more](https://en.wikipedia.org/wiki/Power_transform)__<br/>\n",
    "<br/>\n",
    "- **Target Transformation:** This is similar to the `transformation` technique explained above with the exception that this is only applied to the target variable. __[Read more](https://scikit-learn.org/stable/auto_examples/compose/plot_transformed_target.html)__ to understand the effects of transforming the target variable in regression.<br/>\n",
    "<br/>\n",
    "- **Combine Rare Levels:** Sometimes categorical features have levels that are insignificant in the frequency distribution. As such, they may introduce noise into the dataset due to a limited sample size for learning. One way to deal with rare levels in categorical features is to combine them into a new class. <br/>\n",
    "<br/>\n",
    "- **Bin Numeric Variables:** Binning or discretization is the process of transforming numerical variables into categorical features. An example would be `Carat Weight` in this experiment. It is a continious distribution of numeric values that can be discretized into intervals. Binning may improve the accuracy of a predictive model by reducing the noise or non-linearity in the data. PyCaret automatically determines the number and size of bins using Sturges rule.  __[Read more](https://www.vosesoftware.com/riskwiki/Sturgesrule.php)__<br/>\n",
    "<br/>\n",
    "- **Model Ensembling and Stacking:** Ensemble modeling is a process where multiple diverse models are created to predict an outcome. This is achieved either by using many different modeling algorithms or using different samples of training data sets. The ensemble model then aggregates the predictions of each base model resulting in one final prediction for the unseen data. The motivation for using ensemble models is to reduce the generalization error of the prediction. As long as the base models are diverse and independent, the prediction error of the model decreases when the ensemble approach is used. The two most common methods in ensemble learning are `Bagging` and `Boosting`. Stacking is also a type of ensemble learning where predictions from multiple models are used as input features for a meta model that predicts the final outcome. __[Read more](https://blog.statsbot.co/ensemble-learning-d1dcd548e936)__<br/>\n",
    "<br/>\n",
    "- **Tuning Hyperparameters of Ensemblers:** Similar to hyperparameter tuning for a single machine learning model, we will also learn how to tune hyperparameters for an ensemble model."
   ]
  },
  {
   "cell_type": "markdown",
   "metadata": {
    "colab_type": "text",
    "id": "zrNWkm4v1RRh"
   },
   "source": [
    "# 3.0 Dataset for the Tutorial"
   ]
  },
  {
   "cell_type": "markdown",
   "metadata": {
    "colab_type": "text",
    "id": "n_N5u8MZ1RRm"
   },
   "source": [
    "For this tutorial we will be using the same dataset that was used in __[Regression Tutorial (REG101) - Level Beginner](https://github.com/pycaret/pycaret/blob/master/tutorials/Regression%20Tutorial%20Level%20Beginner%20-%20REG101.ipynb)__.\n",
    "\n",
    "# Dataset Acknowledgements:\n",
    "This case was prepared by Greg Mills (MBA ’07) under the supervision of Phillip E. Pfeifer, Alumni Research Professor of Business Administration. Copyright (c) 2007 by the University of Virginia Darden School Foundation, Charlottesville, VA. All rights reserved.\n",
    "\n",
    "The original dataset and description can be __[found here.](https://github.com/DardenDSC/sarah-gets-a-diamond)__ "
   ]
  },
  {
   "cell_type": "markdown",
   "metadata": {
    "colab_type": "text",
    "id": "BuL2VDPq1RRq"
   },
   "source": [
    "# 4.0 Getting the Data"
   ]
  },
  {
   "cell_type": "markdown",
   "metadata": {
    "colab_type": "text",
    "id": "OljCicBG1RRu"
   },
   "source": [
    "You can download the data from the original source __[found here](https://github.com/DardenDSC/sarah-gets-a-diamond)__ and load it using the pandas read_csv function or you can use PyCaret's data respository to load the data using the get_data function (This will require internet connection)."
   ]
  },
  {
   "cell_type": "code",
   "execution_count": 1,
   "metadata": {
    "colab": {},
    "colab_type": "code",
    "id": "p84oCDfz1RRz",
    "outputId": "41972d81-7bf0-4023-9a62-8a75fb059d4b"
   },
   "outputs": [
    {
     "data": {
      "text/html": [
       "<div>\n",
       "<style scoped>\n",
       "    .dataframe tbody tr th:only-of-type {\n",
       "        vertical-align: middle;\n",
       "    }\n",
       "\n",
       "    .dataframe tbody tr th {\n",
       "        vertical-align: top;\n",
       "    }\n",
       "\n",
       "    .dataframe thead th {\n",
       "        text-align: right;\n",
       "    }\n",
       "</style>\n",
       "<table border=\"1\" class=\"dataframe\">\n",
       "  <thead>\n",
       "    <tr style=\"text-align: right;\">\n",
       "      <th></th>\n",
       "      <th>Carat Weight</th>\n",
       "      <th>Cut</th>\n",
       "      <th>Color</th>\n",
       "      <th>Clarity</th>\n",
       "      <th>Polish</th>\n",
       "      <th>Symmetry</th>\n",
       "      <th>Report</th>\n",
       "      <th>Price</th>\n",
       "    </tr>\n",
       "  </thead>\n",
       "  <tbody>\n",
       "    <tr>\n",
       "      <th>0</th>\n",
       "      <td>1.10</td>\n",
       "      <td>Ideal</td>\n",
       "      <td>H</td>\n",
       "      <td>SI1</td>\n",
       "      <td>VG</td>\n",
       "      <td>EX</td>\n",
       "      <td>GIA</td>\n",
       "      <td>5169</td>\n",
       "    </tr>\n",
       "    <tr>\n",
       "      <th>1</th>\n",
       "      <td>0.83</td>\n",
       "      <td>Ideal</td>\n",
       "      <td>H</td>\n",
       "      <td>VS1</td>\n",
       "      <td>ID</td>\n",
       "      <td>ID</td>\n",
       "      <td>AGSL</td>\n",
       "      <td>3470</td>\n",
       "    </tr>\n",
       "    <tr>\n",
       "      <th>2</th>\n",
       "      <td>0.85</td>\n",
       "      <td>Ideal</td>\n",
       "      <td>H</td>\n",
       "      <td>SI1</td>\n",
       "      <td>EX</td>\n",
       "      <td>EX</td>\n",
       "      <td>GIA</td>\n",
       "      <td>3183</td>\n",
       "    </tr>\n",
       "    <tr>\n",
       "      <th>3</th>\n",
       "      <td>0.91</td>\n",
       "      <td>Ideal</td>\n",
       "      <td>E</td>\n",
       "      <td>SI1</td>\n",
       "      <td>VG</td>\n",
       "      <td>VG</td>\n",
       "      <td>GIA</td>\n",
       "      <td>4370</td>\n",
       "    </tr>\n",
       "    <tr>\n",
       "      <th>4</th>\n",
       "      <td>0.83</td>\n",
       "      <td>Ideal</td>\n",
       "      <td>G</td>\n",
       "      <td>SI1</td>\n",
       "      <td>EX</td>\n",
       "      <td>EX</td>\n",
       "      <td>GIA</td>\n",
       "      <td>3171</td>\n",
       "    </tr>\n",
       "  </tbody>\n",
       "</table>\n",
       "</div>"
      ],
      "text/plain": [
       "   Carat Weight    Cut Color Clarity Polish Symmetry Report  Price\n",
       "0          1.10  Ideal     H     SI1     VG       EX    GIA   5169\n",
       "1          0.83  Ideal     H     VS1     ID       ID   AGSL   3470\n",
       "2          0.85  Ideal     H     SI1     EX       EX    GIA   3183\n",
       "3          0.91  Ideal     E     SI1     VG       VG    GIA   4370\n",
       "4          0.83  Ideal     G     SI1     EX       EX    GIA   3171"
      ]
     },
     "metadata": {},
     "output_type": "display_data"
    }
   ],
   "source": [
    "from pycaret.datasets import get_data\n",
    "dataset = get_data('diamond')"
   ]
  },
  {
   "cell_type": "markdown",
   "metadata": {
    "colab_type": "text",
    "id": "M_odMvI51RSI"
   },
   "source": [
    "Notice that when the `profile` parameter is to `True`, it displays a data profile for exploratory data analysis. Several pre-processing steps as discussed in section 2 above will be performed in this experiment based on this analysis. Let's summarize how the profile has helped make critical pre-processing choices with the data.\n",
    "\n",
    "- **Missing Values:** There are no missing values in the data. However, we still need imputers in our pipeline just in case the new unseen data has missing values (not applicable in this case). When you execute the `setup()` function, imputers are created and stored in the pipeline automatically. By default, it uses a mean imputer for numeric values and a constant imputer for categorical. This can be changed using the `numeric_imputation` and `categorical_imputation` parameters in `setup()`. <br/>\n",
    "<br/>\n",
    "- **Combine Rare Levels:** Notice the distribution of the `Clarity` feature in the dataset. It has 7 distinct classes of which `FL` only appears 4 times. Similarly in the `Cut` feature, the `Fair` level only appears `2.1%` of the time in the training dataset. We will use the `combine_rare_categories` parameter in the setup to combine the rare levels. <br/>\n",
    "<br/>\n",
    "- **Data Scale / Range:** Notice how the scale / range of `Carat Weight` is significantly different than the `Price` variable. Carat Weight ranges from between 0.75 to 2.91 while Price ranges from 2,184 all the way up to 101,561. We will deal with this problem by using the `normalize` parameter in setup. <br/>\n",
    "<br/>\n",
    "- **Target Transformation:** The target variable `Price` is not normally distributed. It is right skewed with high kurtosis. We will use the `transform_target` parameter in the setup to apply a linear transformation on the target variable. `<br/>\n",
    "<br/>\n",
    "- **Bin Numeric Features:** `Carat Weight` is the only numeric feature. When looking at its histogram, the distribution seems to have natural breaks. Binning will convert it into a categorical feature and create several levels using sturges' rule. This will help remove the noise for linear algorithms. <br/>\n",
    "<br/>"
   ]
  },
  {
   "cell_type": "code",
   "execution_count": 2,
   "metadata": {
    "colab": {},
    "colab_type": "code",
    "id": "4FBfpsdK1RSM",
    "outputId": "7d7ccdd1-5a13-4bbc-e158-2d6d477a8835"
   },
   "outputs": [
    {
     "data": {
      "text/plain": [
       "(6000, 8)"
      ]
     },
     "execution_count": 2,
     "metadata": {},
     "output_type": "execute_result"
    }
   ],
   "source": [
    "#check the shape of data\n",
    "dataset.shape"
   ]
  },
  {
   "cell_type": "markdown",
   "metadata": {
    "colab_type": "text",
    "id": "8pp-pq_I1RSb"
   },
   "source": [
    "In order to demonstrate the `predict_model()` function on unseen data, a sample of 600 has been withheld from the original dataset to be used for predictions. This should not be confused with a train/test split as this particular split is performed to simulate a real life scenario. Another way to think about this is that these 600 records were not available at the time when the machine learning experiment was performed."
   ]
  },
  {
   "cell_type": "code",
   "execution_count": 3,
   "metadata": {
    "colab": {},
    "colab_type": "code",
    "id": "NGqMrv8U1RSf",
    "outputId": "96f2ccee-68fa-4df0-cfb8-edbdcbf9eb54"
   },
   "outputs": [
    {
     "name": "stdout",
     "output_type": "stream",
     "text": [
      "Data for Modeling: (5400, 8)\n",
      "Unseen Data For Predictions (600, 8)\n"
     ]
    }
   ],
   "source": [
    "data = dataset.sample(frac=0.9, random_state=786)\n",
    "data_unseen = dataset.drop(data.index)\n",
    "\n",
    "data.reset_index(drop=True, inplace=True)\n",
    "data_unseen.reset_index(drop=True, inplace=True)\n",
    "\n",
    "print('Data for Modeling: ' + str(data.shape))\n",
    "print('Unseen Data For Predictions ' + str(data_unseen.shape))"
   ]
  },
  {
   "cell_type": "markdown",
   "metadata": {
    "colab_type": "text",
    "id": "vZbKDK261RSt"
   },
   "source": [
    "# 5.0 Setting up Environment in PyCaret"
   ]
  },
  {
   "cell_type": "markdown",
   "metadata": {
    "colab_type": "text",
    "id": "NW9Lw4l91RSz"
   },
   "source": [
    "In the previous tutorial __[Regression (REG101) - Level Beginner](https://github.com/pycaret/pycaret/blob/master/tutorials/Regression%20Tutorial%20Level%20Beginner%20-%20REG101.ipynb)__ we learned how to initialize the environment in pycaret using `setup()`. No additional parameters were passed in our last example as we did not perform any pre-processing steps (other than those that are imperative for machine learning experiments which were performed automatically by PyCaret). In this example we will take it to the next level by customizing the pre-processing pipeline using `setup()`. Let's look at how to implement all the steps discussed in section 4 above."
   ]
  },
  {
   "cell_type": "code",
   "execution_count": 4,
   "metadata": {},
   "outputs": [],
   "source": [
    "from pycaret.regression import *"
   ]
  },
  {
   "cell_type": "code",
   "execution_count": 6,
   "metadata": {
    "colab": {},
    "colab_type": "code",
    "id": "Atcjop5M1RTE",
    "outputId": "9f17e438-1144-4063-ed18-7ff2a07c9d07",
    "scrolled": false
   },
   "outputs": [
    {
     "data": {
      "text/html": [
       "<style type=\"text/css\">\n",
       "#T_54a2f_row10_col1, #T_54a2f_row16_col1, #T_54a2f_row18_col1, #T_54a2f_row20_col1, #T_54a2f_row22_col1 {\n",
       "  background-color: lightgreen;\n",
       "}\n",
       "</style>\n",
       "<table id=\"T_54a2f\">\n",
       "  <thead>\n",
       "    <tr>\n",
       "      <th class=\"blank level0\" >&nbsp;</th>\n",
       "      <th id=\"T_54a2f_level0_col0\" class=\"col_heading level0 col0\" >Description</th>\n",
       "      <th id=\"T_54a2f_level0_col1\" class=\"col_heading level0 col1\" >Value</th>\n",
       "    </tr>\n",
       "  </thead>\n",
       "  <tbody>\n",
       "    <tr>\n",
       "      <th id=\"T_54a2f_level0_row0\" class=\"row_heading level0 row0\" >0</th>\n",
       "      <td id=\"T_54a2f_row0_col0\" class=\"data row0 col0\" >Session id</td>\n",
       "      <td id=\"T_54a2f_row0_col1\" class=\"data row0 col1\" >123</td>\n",
       "    </tr>\n",
       "    <tr>\n",
       "      <th id=\"T_54a2f_level0_row1\" class=\"row_heading level0 row1\" >1</th>\n",
       "      <td id=\"T_54a2f_row1_col0\" class=\"data row1 col0\" >Target</td>\n",
       "      <td id=\"T_54a2f_row1_col1\" class=\"data row1 col1\" >Price</td>\n",
       "    </tr>\n",
       "    <tr>\n",
       "      <th id=\"T_54a2f_level0_row2\" class=\"row_heading level0 row2\" >2</th>\n",
       "      <td id=\"T_54a2f_row2_col0\" class=\"data row2 col0\" >Target type</td>\n",
       "      <td id=\"T_54a2f_row2_col1\" class=\"data row2 col1\" >Regression</td>\n",
       "    </tr>\n",
       "    <tr>\n",
       "      <th id=\"T_54a2f_level0_row3\" class=\"row_heading level0 row3\" >3</th>\n",
       "      <td id=\"T_54a2f_row3_col0\" class=\"data row3 col0\" >Original data shape</td>\n",
       "      <td id=\"T_54a2f_row3_col1\" class=\"data row3 col1\" >(5400, 8)</td>\n",
       "    </tr>\n",
       "    <tr>\n",
       "      <th id=\"T_54a2f_level0_row4\" class=\"row_heading level0 row4\" >4</th>\n",
       "      <td id=\"T_54a2f_row4_col0\" class=\"data row4 col0\" >Transformed data shape</td>\n",
       "      <td id=\"T_54a2f_row4_col1\" class=\"data row4 col1\" >(5400, 28)</td>\n",
       "    </tr>\n",
       "    <tr>\n",
       "      <th id=\"T_54a2f_level0_row5\" class=\"row_heading level0 row5\" >5</th>\n",
       "      <td id=\"T_54a2f_row5_col0\" class=\"data row5 col0\" >Transformed train set shape</td>\n",
       "      <td id=\"T_54a2f_row5_col1\" class=\"data row5 col1\" >(3779, 28)</td>\n",
       "    </tr>\n",
       "    <tr>\n",
       "      <th id=\"T_54a2f_level0_row6\" class=\"row_heading level0 row6\" >6</th>\n",
       "      <td id=\"T_54a2f_row6_col0\" class=\"data row6 col0\" >Transformed test set shape</td>\n",
       "      <td id=\"T_54a2f_row6_col1\" class=\"data row6 col1\" >(1621, 28)</td>\n",
       "    </tr>\n",
       "    <tr>\n",
       "      <th id=\"T_54a2f_level0_row7\" class=\"row_heading level0 row7\" >7</th>\n",
       "      <td id=\"T_54a2f_row7_col0\" class=\"data row7 col0\" >Ordinal features</td>\n",
       "      <td id=\"T_54a2f_row7_col1\" class=\"data row7 col1\" >1</td>\n",
       "    </tr>\n",
       "    <tr>\n",
       "      <th id=\"T_54a2f_level0_row8\" class=\"row_heading level0 row8\" >8</th>\n",
       "      <td id=\"T_54a2f_row8_col0\" class=\"data row8 col0\" >Numeric features</td>\n",
       "      <td id=\"T_54a2f_row8_col1\" class=\"data row8 col1\" >1</td>\n",
       "    </tr>\n",
       "    <tr>\n",
       "      <th id=\"T_54a2f_level0_row9\" class=\"row_heading level0 row9\" >9</th>\n",
       "      <td id=\"T_54a2f_row9_col0\" class=\"data row9 col0\" >Categorical features</td>\n",
       "      <td id=\"T_54a2f_row9_col1\" class=\"data row9 col1\" >6</td>\n",
       "    </tr>\n",
       "    <tr>\n",
       "      <th id=\"T_54a2f_level0_row10\" class=\"row_heading level0 row10\" >10</th>\n",
       "      <td id=\"T_54a2f_row10_col0\" class=\"data row10 col0\" >Preprocess</td>\n",
       "      <td id=\"T_54a2f_row10_col1\" class=\"data row10 col1\" >True</td>\n",
       "    </tr>\n",
       "    <tr>\n",
       "      <th id=\"T_54a2f_level0_row11\" class=\"row_heading level0 row11\" >11</th>\n",
       "      <td id=\"T_54a2f_row11_col0\" class=\"data row11 col0\" >Imputation type</td>\n",
       "      <td id=\"T_54a2f_row11_col1\" class=\"data row11 col1\" >simple</td>\n",
       "    </tr>\n",
       "    <tr>\n",
       "      <th id=\"T_54a2f_level0_row12\" class=\"row_heading level0 row12\" >12</th>\n",
       "      <td id=\"T_54a2f_row12_col0\" class=\"data row12 col0\" >Numeric imputation</td>\n",
       "      <td id=\"T_54a2f_row12_col1\" class=\"data row12 col1\" >mean</td>\n",
       "    </tr>\n",
       "    <tr>\n",
       "      <th id=\"T_54a2f_level0_row13\" class=\"row_heading level0 row13\" >13</th>\n",
       "      <td id=\"T_54a2f_row13_col0\" class=\"data row13 col0\" >Categorical imputation</td>\n",
       "      <td id=\"T_54a2f_row13_col1\" class=\"data row13 col1\" >mode</td>\n",
       "    </tr>\n",
       "    <tr>\n",
       "      <th id=\"T_54a2f_level0_row14\" class=\"row_heading level0 row14\" >14</th>\n",
       "      <td id=\"T_54a2f_row14_col0\" class=\"data row14 col0\" >Maximum one-hot encoding</td>\n",
       "      <td id=\"T_54a2f_row14_col1\" class=\"data row14 col1\" >25</td>\n",
       "    </tr>\n",
       "    <tr>\n",
       "      <th id=\"T_54a2f_level0_row15\" class=\"row_heading level0 row15\" >15</th>\n",
       "      <td id=\"T_54a2f_row15_col0\" class=\"data row15 col0\" >Encoding method</td>\n",
       "      <td id=\"T_54a2f_row15_col1\" class=\"data row15 col1\" >None</td>\n",
       "    </tr>\n",
       "    <tr>\n",
       "      <th id=\"T_54a2f_level0_row16\" class=\"row_heading level0 row16\" >16</th>\n",
       "      <td id=\"T_54a2f_row16_col0\" class=\"data row16 col0\" >Remove multicollinearity</td>\n",
       "      <td id=\"T_54a2f_row16_col1\" class=\"data row16 col1\" >True</td>\n",
       "    </tr>\n",
       "    <tr>\n",
       "      <th id=\"T_54a2f_level0_row17\" class=\"row_heading level0 row17\" >17</th>\n",
       "      <td id=\"T_54a2f_row17_col0\" class=\"data row17 col0\" >Multicollinearity threshold</td>\n",
       "      <td id=\"T_54a2f_row17_col1\" class=\"data row17 col1\" >0.950000</td>\n",
       "    </tr>\n",
       "    <tr>\n",
       "      <th id=\"T_54a2f_level0_row18\" class=\"row_heading level0 row18\" >18</th>\n",
       "      <td id=\"T_54a2f_row18_col0\" class=\"data row18 col0\" >Transformation</td>\n",
       "      <td id=\"T_54a2f_row18_col1\" class=\"data row18 col1\" >True</td>\n",
       "    </tr>\n",
       "    <tr>\n",
       "      <th id=\"T_54a2f_level0_row19\" class=\"row_heading level0 row19\" >19</th>\n",
       "      <td id=\"T_54a2f_row19_col0\" class=\"data row19 col0\" >Transformation method</td>\n",
       "      <td id=\"T_54a2f_row19_col1\" class=\"data row19 col1\" >yeo-johnson</td>\n",
       "    </tr>\n",
       "    <tr>\n",
       "      <th id=\"T_54a2f_level0_row20\" class=\"row_heading level0 row20\" >20</th>\n",
       "      <td id=\"T_54a2f_row20_col0\" class=\"data row20 col0\" >Normalize</td>\n",
       "      <td id=\"T_54a2f_row20_col1\" class=\"data row20 col1\" >True</td>\n",
       "    </tr>\n",
       "    <tr>\n",
       "      <th id=\"T_54a2f_level0_row21\" class=\"row_heading level0 row21\" >21</th>\n",
       "      <td id=\"T_54a2f_row21_col0\" class=\"data row21 col0\" >Normalize method</td>\n",
       "      <td id=\"T_54a2f_row21_col1\" class=\"data row21 col1\" >zscore</td>\n",
       "    </tr>\n",
       "    <tr>\n",
       "      <th id=\"T_54a2f_level0_row22\" class=\"row_heading level0 row22\" >22</th>\n",
       "      <td id=\"T_54a2f_row22_col0\" class=\"data row22 col0\" >Transform target</td>\n",
       "      <td id=\"T_54a2f_row22_col1\" class=\"data row22 col1\" >True</td>\n",
       "    </tr>\n",
       "    <tr>\n",
       "      <th id=\"T_54a2f_level0_row23\" class=\"row_heading level0 row23\" >23</th>\n",
       "      <td id=\"T_54a2f_row23_col0\" class=\"data row23 col0\" >Transform target method</td>\n",
       "      <td id=\"T_54a2f_row23_col1\" class=\"data row23 col1\" >yeo-johnson</td>\n",
       "    </tr>\n",
       "    <tr>\n",
       "      <th id=\"T_54a2f_level0_row24\" class=\"row_heading level0 row24\" >24</th>\n",
       "      <td id=\"T_54a2f_row24_col0\" class=\"data row24 col0\" >Fold Generator</td>\n",
       "      <td id=\"T_54a2f_row24_col1\" class=\"data row24 col1\" >KFold</td>\n",
       "    </tr>\n",
       "    <tr>\n",
       "      <th id=\"T_54a2f_level0_row25\" class=\"row_heading level0 row25\" >25</th>\n",
       "      <td id=\"T_54a2f_row25_col0\" class=\"data row25 col0\" >Fold Number</td>\n",
       "      <td id=\"T_54a2f_row25_col1\" class=\"data row25 col1\" >10</td>\n",
       "    </tr>\n",
       "    <tr>\n",
       "      <th id=\"T_54a2f_level0_row26\" class=\"row_heading level0 row26\" >26</th>\n",
       "      <td id=\"T_54a2f_row26_col0\" class=\"data row26 col0\" >CPU Jobs</td>\n",
       "      <td id=\"T_54a2f_row26_col1\" class=\"data row26 col1\" >-1</td>\n",
       "    </tr>\n",
       "    <tr>\n",
       "      <th id=\"T_54a2f_level0_row27\" class=\"row_heading level0 row27\" >27</th>\n",
       "      <td id=\"T_54a2f_row27_col0\" class=\"data row27 col0\" >Use GPU</td>\n",
       "      <td id=\"T_54a2f_row27_col1\" class=\"data row27 col1\" >False</td>\n",
       "    </tr>\n",
       "    <tr>\n",
       "      <th id=\"T_54a2f_level0_row28\" class=\"row_heading level0 row28\" >28</th>\n",
       "      <td id=\"T_54a2f_row28_col0\" class=\"data row28 col0\" >Log Experiment</td>\n",
       "      <td id=\"T_54a2f_row28_col1\" class=\"data row28 col1\" >MlflowLogger</td>\n",
       "    </tr>\n",
       "    <tr>\n",
       "      <th id=\"T_54a2f_level0_row29\" class=\"row_heading level0 row29\" >29</th>\n",
       "      <td id=\"T_54a2f_row29_col0\" class=\"data row29 col0\" >Experiment Name</td>\n",
       "      <td id=\"T_54a2f_row29_col1\" class=\"data row29 col1\" >diamond1</td>\n",
       "    </tr>\n",
       "    <tr>\n",
       "      <th id=\"T_54a2f_level0_row30\" class=\"row_heading level0 row30\" >30</th>\n",
       "      <td id=\"T_54a2f_row30_col0\" class=\"data row30 col0\" >USI</td>\n",
       "      <td id=\"T_54a2f_row30_col1\" class=\"data row30 col1\" >475e</td>\n",
       "    </tr>\n",
       "  </tbody>\n",
       "</table>\n"
      ],
      "text/plain": [
       "<pandas.io.formats.style.Styler at 0x1f8adaa8520>"
      ]
     },
     "metadata": {},
     "output_type": "display_data"
    }
   ],
   "source": [
    "exp_reg102 = setup(data = data, target = 'Price', session_id=123,\n",
    "                  normalize = True, transformation = True, transform_target = True, \n",
    "                  #combine_rare_levels = True, rare_level_threshold = 0.05,\n",
    "                  remove_multicollinearity = True, multicollinearity_threshold = 0.95, \n",
    "                  bin_numeric_features = ['Carat Weight'],\n",
    "                  log_experiment = True, experiment_name = 'diamond1') "
   ]
  },
  {
   "cell_type": "markdown",
   "metadata": {
    "colab_type": "text",
    "id": "OgDwm-V41RTR"
   },
   "source": [
    "Note that this is the same setup grid that was shown in __[Regression Tutorial (REG101) - Level Beginner](https://github.com/pycaret/pycaret/blob/master/tutorials/Regression%20Tutorial%20Level%20Beginner%20-%20REG101.ipynb)__. The only difference here is the customization parameters that were passed to `setup()` are now set to `True`. Also notice that the `session_id` is the same as the one used in the beginner tutorial, which means that the effect of randomization is completely isolated. Any improvements we see in this experiment are solely due to the pre-processing steps taken in `setup()` or any other modeling techniques used in later sections of this tutorial."
   ]
  },
  {
   "cell_type": "markdown",
   "metadata": {
    "colab_type": "text",
    "id": "E5ZGIV_61RTV"
   },
   "source": [
    "# 6.0 Comparing All Models"
   ]
  },
  {
   "cell_type": "markdown",
   "metadata": {
    "colab_type": "text",
    "id": "4gCEovkI1RTZ"
   },
   "source": [
    "Similar to __[Regression Tutorial (REG101) - Level Beginner](https://github.com/pycaret/pycaret/blob/master/tutorials/Regression%20Tutorial%20Level%20Beginner%20-%20REG101.ipynb)__ we will also begin this tutorial with `compare_models()`. We will then compare the below results with the last experiment."
   ]
  },
  {
   "cell_type": "code",
   "execution_count": 7,
   "metadata": {
    "colab": {},
    "colab_type": "code",
    "id": "veolaq_w1RTd",
    "outputId": "57f4988a-64f4-4dcb-fe21-1c89293ac94d"
   },
   "outputs": [
    {
     "data": {
      "text/html": [],
      "text/plain": [
       "<IPython.core.display.HTML object>"
      ]
     },
     "metadata": {},
     "output_type": "display_data"
    },
    {
     "data": {
      "text/html": [
       "<style type=\"text/css\">\n",
       "#T_4229a th {\n",
       "  text-align: left;\n",
       "}\n",
       "#T_4229a_row0_col0, #T_4229a_row0_col1, #T_4229a_row0_col6, #T_4229a_row1_col0, #T_4229a_row1_col2, #T_4229a_row1_col3, #T_4229a_row1_col4, #T_4229a_row1_col5, #T_4229a_row2_col0, #T_4229a_row2_col1, #T_4229a_row2_col2, #T_4229a_row2_col3, #T_4229a_row2_col4, #T_4229a_row2_col5, #T_4229a_row2_col6, #T_4229a_row3_col0, #T_4229a_row3_col1, #T_4229a_row3_col2, #T_4229a_row3_col3, #T_4229a_row3_col4, #T_4229a_row3_col5, #T_4229a_row3_col6, #T_4229a_row4_col0, #T_4229a_row4_col1, #T_4229a_row4_col2, #T_4229a_row4_col3, #T_4229a_row4_col4, #T_4229a_row4_col5, #T_4229a_row4_col6, #T_4229a_row5_col0, #T_4229a_row5_col1, #T_4229a_row5_col2, #T_4229a_row5_col3, #T_4229a_row5_col4, #T_4229a_row5_col5, #T_4229a_row5_col6, #T_4229a_row6_col0, #T_4229a_row6_col1, #T_4229a_row6_col2, #T_4229a_row6_col3, #T_4229a_row6_col4, #T_4229a_row6_col5, #T_4229a_row6_col6, #T_4229a_row7_col0, #T_4229a_row7_col1, #T_4229a_row7_col2, #T_4229a_row7_col3, #T_4229a_row7_col4, #T_4229a_row7_col5, #T_4229a_row7_col6, #T_4229a_row8_col0, #T_4229a_row8_col1, #T_4229a_row8_col2, #T_4229a_row8_col3, #T_4229a_row8_col4, #T_4229a_row8_col5, #T_4229a_row8_col6, #T_4229a_row9_col0, #T_4229a_row9_col1, #T_4229a_row9_col2, #T_4229a_row9_col3, #T_4229a_row9_col4, #T_4229a_row9_col5, #T_4229a_row9_col6, #T_4229a_row10_col0, #T_4229a_row10_col1, #T_4229a_row10_col2, #T_4229a_row10_col3, #T_4229a_row10_col4, #T_4229a_row10_col5, #T_4229a_row10_col6, #T_4229a_row11_col0, #T_4229a_row11_col1, #T_4229a_row11_col2, #T_4229a_row11_col3, #T_4229a_row11_col4, #T_4229a_row11_col5, #T_4229a_row11_col6, #T_4229a_row12_col0, #T_4229a_row12_col1, #T_4229a_row12_col2, #T_4229a_row12_col3, #T_4229a_row12_col4, #T_4229a_row12_col5, #T_4229a_row12_col6, #T_4229a_row13_col0, #T_4229a_row13_col1, #T_4229a_row13_col2, #T_4229a_row13_col3, #T_4229a_row13_col4, #T_4229a_row13_col5, #T_4229a_row13_col6, #T_4229a_row14_col0, #T_4229a_row14_col1, #T_4229a_row14_col2, #T_4229a_row14_col3, #T_4229a_row14_col4, #T_4229a_row14_col5, #T_4229a_row14_col6, #T_4229a_row15_col0, #T_4229a_row15_col1, #T_4229a_row15_col2, #T_4229a_row15_col3, #T_4229a_row15_col4, #T_4229a_row15_col5, #T_4229a_row15_col6, #T_4229a_row16_col0, #T_4229a_row16_col1, #T_4229a_row16_col2, #T_4229a_row16_col3, #T_4229a_row16_col4, #T_4229a_row16_col5, #T_4229a_row16_col6, #T_4229a_row17_col0, #T_4229a_row17_col1, #T_4229a_row17_col2, #T_4229a_row17_col3, #T_4229a_row17_col4, #T_4229a_row17_col5, #T_4229a_row17_col6 {\n",
       "  text-align: left;\n",
       "}\n",
       "#T_4229a_row0_col2, #T_4229a_row0_col3, #T_4229a_row0_col4, #T_4229a_row0_col5, #T_4229a_row1_col1, #T_4229a_row1_col6 {\n",
       "  text-align: left;\n",
       "  background-color: yellow;\n",
       "}\n",
       "#T_4229a_row0_col7, #T_4229a_row1_col7, #T_4229a_row2_col7, #T_4229a_row3_col7, #T_4229a_row4_col7, #T_4229a_row5_col7, #T_4229a_row6_col7, #T_4229a_row7_col7, #T_4229a_row8_col7, #T_4229a_row9_col7, #T_4229a_row10_col7, #T_4229a_row11_col7, #T_4229a_row12_col7, #T_4229a_row13_col7, #T_4229a_row14_col7, #T_4229a_row15_col7, #T_4229a_row16_col7 {\n",
       "  text-align: left;\n",
       "  background-color: lightgrey;\n",
       "}\n",
       "#T_4229a_row17_col7 {\n",
       "  text-align: left;\n",
       "  background-color: yellow;\n",
       "  background-color: lightgrey;\n",
       "}\n",
       "</style>\n",
       "<table id=\"T_4229a\">\n",
       "  <thead>\n",
       "    <tr>\n",
       "      <th class=\"blank level0\" >&nbsp;</th>\n",
       "      <th id=\"T_4229a_level0_col0\" class=\"col_heading level0 col0\" >Model</th>\n",
       "      <th id=\"T_4229a_level0_col1\" class=\"col_heading level0 col1\" >MAE</th>\n",
       "      <th id=\"T_4229a_level0_col2\" class=\"col_heading level0 col2\" >MSE</th>\n",
       "      <th id=\"T_4229a_level0_col3\" class=\"col_heading level0 col3\" >RMSE</th>\n",
       "      <th id=\"T_4229a_level0_col4\" class=\"col_heading level0 col4\" >R2</th>\n",
       "      <th id=\"T_4229a_level0_col5\" class=\"col_heading level0 col5\" >RMSLE</th>\n",
       "      <th id=\"T_4229a_level0_col6\" class=\"col_heading level0 col6\" >MAPE</th>\n",
       "      <th id=\"T_4229a_level0_col7\" class=\"col_heading level0 col7\" >TT (Sec)</th>\n",
       "    </tr>\n",
       "  </thead>\n",
       "  <tbody>\n",
       "    <tr>\n",
       "      <th id=\"T_4229a_level0_row0\" class=\"row_heading level0 row0\" >gbr</th>\n",
       "      <td id=\"T_4229a_row0_col0\" class=\"data row0 col0\" >Gradient Boosting Regressor</td>\n",
       "      <td id=\"T_4229a_row0_col1\" class=\"data row0 col1\" >1707.9544</td>\n",
       "      <td id=\"T_4229a_row0_col2\" class=\"data row0 col2\" >5903344.1271</td>\n",
       "      <td id=\"T_4229a_row0_col3\" class=\"data row0 col3\" >2417.2365</td>\n",
       "      <td id=\"T_4229a_row0_col4\" class=\"data row0 col4\" >0.9413</td>\n",
       "      <td id=\"T_4229a_row0_col5\" class=\"data row0 col5\" >0.2225</td>\n",
       "      <td id=\"T_4229a_row0_col6\" class=\"data row0 col6\" >0.1887</td>\n",
       "      <td id=\"T_4229a_row0_col7\" class=\"data row0 col7\" >0.5370</td>\n",
       "    </tr>\n",
       "    <tr>\n",
       "      <th id=\"T_4229a_level0_row1\" class=\"row_heading level0 row1\" >lightgbm</th>\n",
       "      <td id=\"T_4229a_row1_col0\" class=\"data row1 col0\" >Light Gradient Boosting Machine</td>\n",
       "      <td id=\"T_4229a_row1_col1\" class=\"data row1 col1\" >1660.9066</td>\n",
       "      <td id=\"T_4229a_row1_col2\" class=\"data row1 col2\" >6358156.8678</td>\n",
       "      <td id=\"T_4229a_row1_col3\" class=\"data row1 col3\" >2495.2445</td>\n",
       "      <td id=\"T_4229a_row1_col4\" class=\"data row1 col4\" >0.9377</td>\n",
       "      <td id=\"T_4229a_row1_col5\" class=\"data row1 col5\" >0.2235</td>\n",
       "      <td id=\"T_4229a_row1_col6\" class=\"data row1 col6\" >0.1842</td>\n",
       "      <td id=\"T_4229a_row1_col7\" class=\"data row1 col7\" >0.4790</td>\n",
       "    </tr>\n",
       "    <tr>\n",
       "      <th id=\"T_4229a_level0_row2\" class=\"row_heading level0 row2\" >xgboost</th>\n",
       "      <td id=\"T_4229a_row2_col0\" class=\"data row2 col0\" >Extreme Gradient Boosting</td>\n",
       "      <td id=\"T_4229a_row2_col1\" class=\"data row2 col1\" >1732.9093</td>\n",
       "      <td id=\"T_4229a_row2_col2\" class=\"data row2 col2\" >6998796.7042</td>\n",
       "      <td id=\"T_4229a_row2_col3\" class=\"data row2 col3\" >2619.1033</td>\n",
       "      <td id=\"T_4229a_row2_col4\" class=\"data row2 col4\" >0.9308</td>\n",
       "      <td id=\"T_4229a_row2_col5\" class=\"data row2 col5\" >0.2263</td>\n",
       "      <td id=\"T_4229a_row2_col6\" class=\"data row2 col6\" >0.1874</td>\n",
       "      <td id=\"T_4229a_row2_col7\" class=\"data row2 col7\" >0.3790</td>\n",
       "    </tr>\n",
       "    <tr>\n",
       "      <th id=\"T_4229a_level0_row3\" class=\"row_heading level0 row3\" >rf</th>\n",
       "      <td id=\"T_4229a_row3_col0\" class=\"data row3 col0\" >Random Forest Regressor</td>\n",
       "      <td id=\"T_4229a_row3_col1\" class=\"data row3 col1\" >1741.3787</td>\n",
       "      <td id=\"T_4229a_row3_col2\" class=\"data row3 col2\" >7137302.0316</td>\n",
       "      <td id=\"T_4229a_row3_col3\" class=\"data row3 col3\" >2652.7687</td>\n",
       "      <td id=\"T_4229a_row3_col4\" class=\"data row3 col4\" >0.9301</td>\n",
       "      <td id=\"T_4229a_row3_col5\" class=\"data row3 col5\" >0.2402</td>\n",
       "      <td id=\"T_4229a_row3_col6\" class=\"data row3 col6\" >0.1914</td>\n",
       "      <td id=\"T_4229a_row3_col7\" class=\"data row3 col7\" >0.7180</td>\n",
       "    </tr>\n",
       "    <tr>\n",
       "      <th id=\"T_4229a_level0_row4\" class=\"row_heading level0 row4\" >et</th>\n",
       "      <td id=\"T_4229a_row4_col0\" class=\"data row4 col0\" >Extra Trees Regressor</td>\n",
       "      <td id=\"T_4229a_row4_col1\" class=\"data row4 col1\" >1899.5518</td>\n",
       "      <td id=\"T_4229a_row4_col2\" class=\"data row4 col2\" >8861962.0801</td>\n",
       "      <td id=\"T_4229a_row4_col3\" class=\"data row4 col3\" >2964.1057</td>\n",
       "      <td id=\"T_4229a_row4_col4\" class=\"data row4 col4\" >0.9123</td>\n",
       "      <td id=\"T_4229a_row4_col5\" class=\"data row4 col5\" >0.2605</td>\n",
       "      <td id=\"T_4229a_row4_col6\" class=\"data row4 col6\" >0.2042</td>\n",
       "      <td id=\"T_4229a_row4_col7\" class=\"data row4 col7\" >0.9070</td>\n",
       "    </tr>\n",
       "    <tr>\n",
       "      <th id=\"T_4229a_level0_row5\" class=\"row_heading level0 row5\" >dt</th>\n",
       "      <td id=\"T_4229a_row5_col0\" class=\"data row5 col0\" >Decision Tree Regressor</td>\n",
       "      <td id=\"T_4229a_row5_col1\" class=\"data row5 col1\" >1917.2621</td>\n",
       "      <td id=\"T_4229a_row5_col2\" class=\"data row5 col2\" >9348381.9398</td>\n",
       "      <td id=\"T_4229a_row5_col3\" class=\"data row5 col3\" >3041.8356</td>\n",
       "      <td id=\"T_4229a_row5_col4\" class=\"data row5 col4\" >0.9078</td>\n",
       "      <td id=\"T_4229a_row5_col5\" class=\"data row5 col5\" >0.2611</td>\n",
       "      <td id=\"T_4229a_row5_col6\" class=\"data row5 col6\" >0.2045</td>\n",
       "      <td id=\"T_4229a_row5_col7\" class=\"data row5 col7\" >0.2960</td>\n",
       "    </tr>\n",
       "    <tr>\n",
       "      <th id=\"T_4229a_level0_row6\" class=\"row_heading level0 row6\" >huber</th>\n",
       "      <td id=\"T_4229a_row6_col0\" class=\"data row6 col0\" >Huber Regressor</td>\n",
       "      <td id=\"T_4229a_row6_col1\" class=\"data row6 col1\" >2459.0362</td>\n",
       "      <td id=\"T_4229a_row6_col2\" class=\"data row6 col2\" >13448255.5674</td>\n",
       "      <td id=\"T_4229a_row6_col3\" class=\"data row6 col3\" >3652.8315</td>\n",
       "      <td id=\"T_4229a_row6_col4\" class=\"data row6 col4\" >0.8665</td>\n",
       "      <td id=\"T_4229a_row6_col5\" class=\"data row6 col5\" >0.2773</td>\n",
       "      <td id=\"T_4229a_row6_col6\" class=\"data row6 col6\" >0.2450</td>\n",
       "      <td id=\"T_4229a_row6_col7\" class=\"data row6 col7\" >0.4530</td>\n",
       "    </tr>\n",
       "    <tr>\n",
       "      <th id=\"T_4229a_level0_row7\" class=\"row_heading level0 row7\" >ridge</th>\n",
       "      <td id=\"T_4229a_row7_col0\" class=\"data row7 col0\" >Ridge Regression</td>\n",
       "      <td id=\"T_4229a_row7_col1\" class=\"data row7 col1\" >2525.0260</td>\n",
       "      <td id=\"T_4229a_row7_col2\" class=\"data row7 col2\" >13756677.4502</td>\n",
       "      <td id=\"T_4229a_row7_col3\" class=\"data row7 col3\" >3694.6290</td>\n",
       "      <td id=\"T_4229a_row7_col4\" class=\"data row7 col4\" >0.8634</td>\n",
       "      <td id=\"T_4229a_row7_col5\" class=\"data row7 col5\" >0.2745</td>\n",
       "      <td id=\"T_4229a_row7_col6\" class=\"data row7 col6\" >0.2399</td>\n",
       "      <td id=\"T_4229a_row7_col7\" class=\"data row7 col7\" >0.4420</td>\n",
       "    </tr>\n",
       "    <tr>\n",
       "      <th id=\"T_4229a_level0_row8\" class=\"row_heading level0 row8\" >br</th>\n",
       "      <td id=\"T_4229a_row8_col0\" class=\"data row8 col0\" >Bayesian Ridge</td>\n",
       "      <td id=\"T_4229a_row8_col1\" class=\"data row8 col1\" >2528.8946</td>\n",
       "      <td id=\"T_4229a_row8_col2\" class=\"data row8 col2\" >13826571.1684</td>\n",
       "      <td id=\"T_4229a_row8_col3\" class=\"data row8 col3\" >3703.9075</td>\n",
       "      <td id=\"T_4229a_row8_col4\" class=\"data row8 col4\" >0.8627</td>\n",
       "      <td id=\"T_4229a_row8_col5\" class=\"data row8 col5\" >0.2745</td>\n",
       "      <td id=\"T_4229a_row8_col6\" class=\"data row8 col6\" >0.2399</td>\n",
       "      <td id=\"T_4229a_row8_col7\" class=\"data row8 col7\" >0.5020</td>\n",
       "    </tr>\n",
       "    <tr>\n",
       "      <th id=\"T_4229a_level0_row9\" class=\"row_heading level0 row9\" >lar</th>\n",
       "      <td id=\"T_4229a_row9_col0\" class=\"data row9 col0\" >Least Angle Regression</td>\n",
       "      <td id=\"T_4229a_row9_col1\" class=\"data row9 col1\" >2531.1665</td>\n",
       "      <td id=\"T_4229a_row9_col2\" class=\"data row9 col2\" >13967491.9759</td>\n",
       "      <td id=\"T_4229a_row9_col3\" class=\"data row9 col3\" >3720.5131</td>\n",
       "      <td id=\"T_4229a_row9_col4\" class=\"data row9 col4\" >0.8616</td>\n",
       "      <td id=\"T_4229a_row9_col5\" class=\"data row9 col5\" >0.2758</td>\n",
       "      <td id=\"T_4229a_row9_col6\" class=\"data row9 col6\" >0.2402</td>\n",
       "      <td id=\"T_4229a_row9_col7\" class=\"data row9 col7\" >0.2300</td>\n",
       "    </tr>\n",
       "    <tr>\n",
       "      <th id=\"T_4229a_level0_row10\" class=\"row_heading level0 row10\" >lr</th>\n",
       "      <td id=\"T_4229a_row10_col0\" class=\"data row10 col0\" >Linear Regression</td>\n",
       "      <td id=\"T_4229a_row10_col1\" class=\"data row10 col1\" >2532.9625</td>\n",
       "      <td id=\"T_4229a_row10_col2\" class=\"data row10 col2\" >13997138.5028</td>\n",
       "      <td id=\"T_4229a_row10_col3\" class=\"data row10 col3\" >3724.3752</td>\n",
       "      <td id=\"T_4229a_row10_col4\" class=\"data row10 col4\" >0.8612</td>\n",
       "      <td id=\"T_4229a_row10_col5\" class=\"data row10 col5\" >0.2750</td>\n",
       "      <td id=\"T_4229a_row10_col6\" class=\"data row10 col6\" >0.2402</td>\n",
       "      <td id=\"T_4229a_row10_col7\" class=\"data row10 col7\" >3.6480</td>\n",
       "    </tr>\n",
       "    <tr>\n",
       "      <th id=\"T_4229a_level0_row11\" class=\"row_heading level0 row11\" >ada</th>\n",
       "      <td id=\"T_4229a_row11_col0\" class=\"data row11 col0\" >AdaBoost Regressor</td>\n",
       "      <td id=\"T_4229a_row11_col1\" class=\"data row11 col1\" >2708.1303</td>\n",
       "      <td id=\"T_4229a_row11_col2\" class=\"data row11 col2\" >25054664.8993</td>\n",
       "      <td id=\"T_4229a_row11_col3\" class=\"data row11 col3\" >4936.7017</td>\n",
       "      <td id=\"T_4229a_row11_col4\" class=\"data row11 col4\" >0.7588</td>\n",
       "      <td id=\"T_4229a_row11_col5\" class=\"data row11 col5\" >0.2920</td>\n",
       "      <td id=\"T_4229a_row11_col6\" class=\"data row11 col6\" >0.2256</td>\n",
       "      <td id=\"T_4229a_row11_col7\" class=\"data row11 col7\" >0.7000</td>\n",
       "    </tr>\n",
       "    <tr>\n",
       "      <th id=\"T_4229a_level0_row12\" class=\"row_heading level0 row12\" >omp</th>\n",
       "      <td id=\"T_4229a_row12_col0\" class=\"data row12 col0\" >Orthogonal Matching Pursuit</td>\n",
       "      <td id=\"T_4229a_row12_col1\" class=\"data row12 col1\" >3038.6247</td>\n",
       "      <td id=\"T_4229a_row12_col2\" class=\"data row12 col2\" >31316066.6892</td>\n",
       "      <td id=\"T_4229a_row12_col3\" class=\"data row12 col3\" >5534.5785</td>\n",
       "      <td id=\"T_4229a_row12_col4\" class=\"data row12 col4\" >0.6968</td>\n",
       "      <td id=\"T_4229a_row12_col5\" class=\"data row12 col5\" >0.3329</td>\n",
       "      <td id=\"T_4229a_row12_col6\" class=\"data row12 col6\" >0.2650</td>\n",
       "      <td id=\"T_4229a_row12_col7\" class=\"data row12 col7\" >0.5160</td>\n",
       "    </tr>\n",
       "    <tr>\n",
       "      <th id=\"T_4229a_level0_row13\" class=\"row_heading level0 row13\" >knn</th>\n",
       "      <td id=\"T_4229a_row13_col0\" class=\"data row13 col0\" >K Neighbors Regressor</td>\n",
       "      <td id=\"T_4229a_row13_col1\" class=\"data row13 col1\" >4003.5558</td>\n",
       "      <td id=\"T_4229a_row13_col2\" class=\"data row13 col2\" >52680868.3074</td>\n",
       "      <td id=\"T_4229a_row13_col3\" class=\"data row13 col3\" >7229.2310</td>\n",
       "      <td id=\"T_4229a_row13_col4\" class=\"data row13 col4\" >0.4787</td>\n",
       "      <td id=\"T_4229a_row13_col5\" class=\"data row13 col5\" >0.4600</td>\n",
       "      <td id=\"T_4229a_row13_col6\" class=\"data row13 col6\" >0.3315</td>\n",
       "      <td id=\"T_4229a_row13_col7\" class=\"data row13 col7\" >0.3560</td>\n",
       "    </tr>\n",
       "    <tr>\n",
       "      <th id=\"T_4229a_level0_row14\" class=\"row_heading level0 row14\" >lasso</th>\n",
       "      <td id=\"T_4229a_row14_col0\" class=\"data row14 col0\" >Lasso Regression</td>\n",
       "      <td id=\"T_4229a_row14_col1\" class=\"data row14 col1\" >6501.4794</td>\n",
       "      <td id=\"T_4229a_row14_col2\" class=\"data row14 col2\" >113812419.9972</td>\n",
       "      <td id=\"T_4229a_row14_col3\" class=\"data row14 col3\" >10639.8451</td>\n",
       "      <td id=\"T_4229a_row14_col4\" class=\"data row14 col4\" >-0.1270</td>\n",
       "      <td id=\"T_4229a_row14_col5\" class=\"data row14 col5\" >0.7148</td>\n",
       "      <td id=\"T_4229a_row14_col6\" class=\"data row14 col6\" >0.5619</td>\n",
       "      <td id=\"T_4229a_row14_col7\" class=\"data row14 col7\" >0.4700</td>\n",
       "    </tr>\n",
       "    <tr>\n",
       "      <th id=\"T_4229a_level0_row15\" class=\"row_heading level0 row15\" >en</th>\n",
       "      <td id=\"T_4229a_row15_col0\" class=\"data row15 col0\" >Elastic Net</td>\n",
       "      <td id=\"T_4229a_row15_col1\" class=\"data row15 col1\" >6501.4794</td>\n",
       "      <td id=\"T_4229a_row15_col2\" class=\"data row15 col2\" >113812419.9972</td>\n",
       "      <td id=\"T_4229a_row15_col3\" class=\"data row15 col3\" >10639.8451</td>\n",
       "      <td id=\"T_4229a_row15_col4\" class=\"data row15 col4\" >-0.1270</td>\n",
       "      <td id=\"T_4229a_row15_col5\" class=\"data row15 col5\" >0.7148</td>\n",
       "      <td id=\"T_4229a_row15_col6\" class=\"data row15 col6\" >0.5619</td>\n",
       "      <td id=\"T_4229a_row15_col7\" class=\"data row15 col7\" >0.3040</td>\n",
       "    </tr>\n",
       "    <tr>\n",
       "      <th id=\"T_4229a_level0_row16\" class=\"row_heading level0 row16\" >llar</th>\n",
       "      <td id=\"T_4229a_row16_col0\" class=\"data row16 col0\" >Lasso Least Angle Regression</td>\n",
       "      <td id=\"T_4229a_row16_col1\" class=\"data row16 col1\" >6501.4794</td>\n",
       "      <td id=\"T_4229a_row16_col2\" class=\"data row16 col2\" >113812419.9972</td>\n",
       "      <td id=\"T_4229a_row16_col3\" class=\"data row16 col3\" >10639.8451</td>\n",
       "      <td id=\"T_4229a_row16_col4\" class=\"data row16 col4\" >-0.1270</td>\n",
       "      <td id=\"T_4229a_row16_col5\" class=\"data row16 col5\" >0.7148</td>\n",
       "      <td id=\"T_4229a_row16_col6\" class=\"data row16 col6\" >0.5619</td>\n",
       "      <td id=\"T_4229a_row16_col7\" class=\"data row16 col7\" >0.2670</td>\n",
       "    </tr>\n",
       "    <tr>\n",
       "      <th id=\"T_4229a_level0_row17\" class=\"row_heading level0 row17\" >dummy</th>\n",
       "      <td id=\"T_4229a_row17_col0\" class=\"data row17 col0\" >Dummy Regressor</td>\n",
       "      <td id=\"T_4229a_row17_col1\" class=\"data row17 col1\" >6501.4794</td>\n",
       "      <td id=\"T_4229a_row17_col2\" class=\"data row17 col2\" >113812419.9972</td>\n",
       "      <td id=\"T_4229a_row17_col3\" class=\"data row17 col3\" >10639.8451</td>\n",
       "      <td id=\"T_4229a_row17_col4\" class=\"data row17 col4\" >-0.1270</td>\n",
       "      <td id=\"T_4229a_row17_col5\" class=\"data row17 col5\" >0.7148</td>\n",
       "      <td id=\"T_4229a_row17_col6\" class=\"data row17 col6\" >0.5619</td>\n",
       "      <td id=\"T_4229a_row17_col7\" class=\"data row17 col7\" >0.2150</td>\n",
       "    </tr>\n",
       "  </tbody>\n",
       "</table>\n"
      ],
      "text/plain": [
       "<pandas.io.formats.style.Styler at 0x1f8adbe8dc0>"
      ]
     },
     "metadata": {},
     "output_type": "display_data"
    },
    {
     "data": {
      "text/html": [],
      "text/plain": [
       "<IPython.core.display.HTML object>"
      ]
     },
     "metadata": {},
     "output_type": "display_data"
    }
   ],
   "source": [
    "top3 = compare_models(exclude = ['ransac'], n_select = 3)"
   ]
  },
  {
   "cell_type": "markdown",
   "metadata": {},
   "source": [
    "Notice that we have used `n_select` parameter within `compare_models`. In last tutorial you have seen that compare_models by default returns the best performing model (single model based on default sort order). However you can use `n_select` parameter to return top N models. In this example `compare_models` has returned Top 3 models."
   ]
  },
  {
   "cell_type": "code",
   "execution_count": 8,
   "metadata": {},
   "outputs": [
    {
     "data": {
      "text/plain": [
       "list"
      ]
     },
     "execution_count": 8,
     "metadata": {},
     "output_type": "execute_result"
    }
   ],
   "source": [
    "type(top3)"
   ]
  },
  {
   "cell_type": "code",
   "execution_count": 9,
   "metadata": {},
   "outputs": [
    {
     "name": "stdout",
     "output_type": "stream",
     "text": [
      "[GradientBoostingRegressor(random_state=123), LGBMRegressor(random_state=123), XGBRegressor(base_score=0.5, booster='gbtree', callbacks=None,\n",
      "             colsample_bylevel=1, colsample_bynode=1, colsample_bytree=1,\n",
      "             early_stopping_rounds=None, enable_categorical=False,\n",
      "             eval_metric=None, feature_types=None, gamma=0, gpu_id=-1,\n",
      "             grow_policy='depthwise', importance_type=None,\n",
      "             interaction_constraints='', learning_rate=0.300000012, max_bin=256,\n",
      "             max_cat_threshold=64, max_cat_to_onehot=4, max_delta_step=0,\n",
      "             max_depth=6, max_leaves=0, min_child_weight=1, missing=nan,\n",
      "             monotone_constraints='()', n_estimators=100, n_jobs=-1,\n",
      "             num_parallel_tree=1, predictor='auto', random_state=123, ...)]\n"
     ]
    }
   ],
   "source": [
    "print(top3)"
   ]
  },
  {
   "cell_type": "markdown",
   "metadata": {
    "colab_type": "text",
    "id": "E3t7LNHf1RTr"
   },
   "source": [
    "For the purpose of comparison we will use the `RMSLE` score. Notice how drastically a few of the algorithms have improved after we performed a few pre-processing steps in `setup()`. \n",
    "- Linear Regression RMSLE improved from `0.6690` to `0.0973`\n",
    "- Ridge Regression RMSLE improved from `0.6689` to `0.0971`\n",
    "- Huber Regression RMSLE improved from `0.4333` to `0.0972`\n",
    "\n",
    "To see results for all of the models from the previous tutorial refer to Section 7 in __[Regression Tutorial (REG101) - Level Beginner](https://github.com/pycaret/pycaret/blob/master/tutorials/Regression%20Tutorial%20Level%20Beginner%20-%20REG101.ipynb)__."
   ]
  },
  {
   "cell_type": "markdown",
   "metadata": {
    "colab_type": "text",
    "id": "OYkCSO7n1RTv"
   },
   "source": [
    "# 7.0 Create a Model"
   ]
  },
  {
   "cell_type": "markdown",
   "metadata": {
    "colab_type": "text",
    "id": "n8OqV9po1RTy"
   },
   "source": [
    "In the previous tutorial __[Regression (REG101) - Level Beginner](https://github.com/pycaret/pycaret/blob/master/tutorials/Regression%20Tutorial%20Level%20Beginner%20-%20REG101.ipynb)__ we learned how to create a model using the `create_model()` function. Now we will learn about a few other parameters that may come in handy. In this section, we will create all models using 5 fold cross validation. Notice how the `fold` parameter is passed inside `create_model()` to achieve this."
   ]
  },
  {
   "cell_type": "markdown",
   "metadata": {
    "colab_type": "text",
    "id": "6TVGAA7Q1RT2"
   },
   "source": [
    "# 7.1 Create Model (with 5 Fold CV)"
   ]
  },
  {
   "cell_type": "code",
   "execution_count": 10,
   "metadata": {
    "colab": {},
    "colab_type": "code",
    "id": "Re4yQ6rI1RT6",
    "outputId": "ba0fc954-c37d-4901-8557-5f90fc455a53"
   },
   "outputs": [
    {
     "data": {
      "text/html": [],
      "text/plain": [
       "<IPython.core.display.HTML object>"
      ]
     },
     "metadata": {},
     "output_type": "display_data"
    },
    {
     "data": {
      "text/html": [
       "<style type=\"text/css\">\n",
       "#T_ffd10_row5_col0, #T_ffd10_row5_col1, #T_ffd10_row5_col2, #T_ffd10_row5_col3, #T_ffd10_row5_col4, #T_ffd10_row5_col5 {\n",
       "  background: yellow;\n",
       "}\n",
       "</style>\n",
       "<table id=\"T_ffd10\">\n",
       "  <thead>\n",
       "    <tr>\n",
       "      <th class=\"blank level0\" >&nbsp;</th>\n",
       "      <th id=\"T_ffd10_level0_col0\" class=\"col_heading level0 col0\" >MAE</th>\n",
       "      <th id=\"T_ffd10_level0_col1\" class=\"col_heading level0 col1\" >MSE</th>\n",
       "      <th id=\"T_ffd10_level0_col2\" class=\"col_heading level0 col2\" >RMSE</th>\n",
       "      <th id=\"T_ffd10_level0_col3\" class=\"col_heading level0 col3\" >R2</th>\n",
       "      <th id=\"T_ffd10_level0_col4\" class=\"col_heading level0 col4\" >RMSLE</th>\n",
       "      <th id=\"T_ffd10_level0_col5\" class=\"col_heading level0 col5\" >MAPE</th>\n",
       "    </tr>\n",
       "    <tr>\n",
       "      <th class=\"index_name level0\" >Fold</th>\n",
       "      <th class=\"blank col0\" >&nbsp;</th>\n",
       "      <th class=\"blank col1\" >&nbsp;</th>\n",
       "      <th class=\"blank col2\" >&nbsp;</th>\n",
       "      <th class=\"blank col3\" >&nbsp;</th>\n",
       "      <th class=\"blank col4\" >&nbsp;</th>\n",
       "      <th class=\"blank col5\" >&nbsp;</th>\n",
       "    </tr>\n",
       "  </thead>\n",
       "  <tbody>\n",
       "    <tr>\n",
       "      <th id=\"T_ffd10_level0_row0\" class=\"row_heading level0 row0\" >0</th>\n",
       "      <td id=\"T_ffd10_row0_col0\" class=\"data row0 col0\" >1928.1512</td>\n",
       "      <td id=\"T_ffd10_row0_col1\" class=\"data row0 col1\" >10249478.4341</td>\n",
       "      <td id=\"T_ffd10_row0_col2\" class=\"data row0 col2\" >3201.4807</td>\n",
       "      <td id=\"T_ffd10_row0_col3\" class=\"data row0 col3\" >0.9075</td>\n",
       "      <td id=\"T_ffd10_row0_col4\" class=\"data row0 col4\" >0.2616</td>\n",
       "      <td id=\"T_ffd10_row0_col5\" class=\"data row0 col5\" >0.2009</td>\n",
       "    </tr>\n",
       "    <tr>\n",
       "      <th id=\"T_ffd10_level0_row1\" class=\"row_heading level0 row1\" >1</th>\n",
       "      <td id=\"T_ffd10_row1_col0\" class=\"data row1 col0\" >1967.5722</td>\n",
       "      <td id=\"T_ffd10_row1_col1\" class=\"data row1 col1\" >9382421.9386</td>\n",
       "      <td id=\"T_ffd10_row1_col2\" class=\"data row1 col2\" >3063.0739</td>\n",
       "      <td id=\"T_ffd10_row1_col3\" class=\"data row1 col3\" >0.9060</td>\n",
       "      <td id=\"T_ffd10_row1_col4\" class=\"data row1 col4\" >0.2607</td>\n",
       "      <td id=\"T_ffd10_row1_col5\" class=\"data row1 col5\" >0.2086</td>\n",
       "    </tr>\n",
       "    <tr>\n",
       "      <th id=\"T_ffd10_level0_row2\" class=\"row_heading level0 row2\" >2</th>\n",
       "      <td id=\"T_ffd10_row2_col0\" class=\"data row2 col0\" >1950.6633</td>\n",
       "      <td id=\"T_ffd10_row2_col1\" class=\"data row2 col1\" >9201605.3151</td>\n",
       "      <td id=\"T_ffd10_row2_col2\" class=\"data row2 col2\" >3033.4148</td>\n",
       "      <td id=\"T_ffd10_row2_col3\" class=\"data row2 col3\" >0.9068</td>\n",
       "      <td id=\"T_ffd10_row2_col4\" class=\"data row2 col4\" >0.2626</td>\n",
       "      <td id=\"T_ffd10_row2_col5\" class=\"data row2 col5\" >0.2154</td>\n",
       "    </tr>\n",
       "    <tr>\n",
       "      <th id=\"T_ffd10_level0_row3\" class=\"row_heading level0 row3\" >3</th>\n",
       "      <td id=\"T_ffd10_row3_col0\" class=\"data row3 col0\" >1551.3049</td>\n",
       "      <td id=\"T_ffd10_row3_col1\" class=\"data row3 col1\" >6042836.8337</td>\n",
       "      <td id=\"T_ffd10_row3_col2\" class=\"data row3 col2\" >2458.2182</td>\n",
       "      <td id=\"T_ffd10_row3_col3\" class=\"data row3 col3\" >0.9349</td>\n",
       "      <td id=\"T_ffd10_row3_col4\" class=\"data row3 col4\" >0.2205</td>\n",
       "      <td id=\"T_ffd10_row3_col5\" class=\"data row3 col5\" >0.1624</td>\n",
       "    </tr>\n",
       "    <tr>\n",
       "      <th id=\"T_ffd10_level0_row4\" class=\"row_heading level0 row4\" >4</th>\n",
       "      <td id=\"T_ffd10_row4_col0\" class=\"data row4 col0\" >2076.3433</td>\n",
       "      <td id=\"T_ffd10_row4_col1\" class=\"data row4 col1\" >10966783.5924</td>\n",
       "      <td id=\"T_ffd10_row4_col2\" class=\"data row4 col2\" >3311.6134</td>\n",
       "      <td id=\"T_ffd10_row4_col3\" class=\"data row4 col3\" >0.8941</td>\n",
       "      <td id=\"T_ffd10_row4_col4\" class=\"data row4 col4\" >0.2810</td>\n",
       "      <td id=\"T_ffd10_row4_col5\" class=\"data row4 col5\" >0.2219</td>\n",
       "    </tr>\n",
       "    <tr>\n",
       "      <th id=\"T_ffd10_level0_row5\" class=\"row_heading level0 row5\" >Mean</th>\n",
       "      <td id=\"T_ffd10_row5_col0\" class=\"data row5 col0\" >1894.8070</td>\n",
       "      <td id=\"T_ffd10_row5_col1\" class=\"data row5 col1\" >9168625.2228</td>\n",
       "      <td id=\"T_ffd10_row5_col2\" class=\"data row5 col2\" >3013.5602</td>\n",
       "      <td id=\"T_ffd10_row5_col3\" class=\"data row5 col3\" >0.9099</td>\n",
       "      <td id=\"T_ffd10_row5_col4\" class=\"data row5 col4\" >0.2573</td>\n",
       "      <td id=\"T_ffd10_row5_col5\" class=\"data row5 col5\" >0.2018</td>\n",
       "    </tr>\n",
       "    <tr>\n",
       "      <th id=\"T_ffd10_level0_row6\" class=\"row_heading level0 row6\" >Std</th>\n",
       "      <td id=\"T_ffd10_row6_col0\" class=\"data row6 col0\" >179.1511</td>\n",
       "      <td id=\"T_ffd10_row6_col1\" class=\"data row6 col1\" >1686355.0612</td>\n",
       "      <td id=\"T_ffd10_row6_col2\" class=\"data row6 col2\" >295.0933</td>\n",
       "      <td id=\"T_ffd10_row6_col3\" class=\"data row6 col3\" >0.0135</td>\n",
       "      <td id=\"T_ffd10_row6_col4\" class=\"data row6 col4\" >0.0199</td>\n",
       "      <td id=\"T_ffd10_row6_col5\" class=\"data row6 col5\" >0.0209</td>\n",
       "    </tr>\n",
       "  </tbody>\n",
       "</table>\n"
      ],
      "text/plain": [
       "<pandas.io.formats.style.Styler at 0x1f8acd4a220>"
      ]
     },
     "metadata": {},
     "output_type": "display_data"
    },
    {
     "data": {
      "text/html": [],
      "text/plain": [
       "<IPython.core.display.HTML object>"
      ]
     },
     "metadata": {},
     "output_type": "display_data"
    }
   ],
   "source": [
    "dt = create_model('dt', fold = 5)"
   ]
  },
  {
   "cell_type": "markdown",
   "metadata": {
    "colab_type": "text",
    "id": "axAmmrbZ1RUI"
   },
   "source": [
    "# 7.2 Create Model (Metrics rounded to 2 decimals points)"
   ]
  },
  {
   "cell_type": "code",
   "execution_count": 11,
   "metadata": {
    "colab": {},
    "colab_type": "code",
    "id": "uYPm9kEK1RUM",
    "outputId": "713a2016-1d7b-4cc8-854f-bd20c3f1c38b"
   },
   "outputs": [
    {
     "data": {
      "text/html": [],
      "text/plain": [
       "<IPython.core.display.HTML object>"
      ]
     },
     "metadata": {},
     "output_type": "display_data"
    },
    {
     "data": {
      "text/html": [
       "<style type=\"text/css\">\n",
       "#T_eb8df_row10_col0, #T_eb8df_row10_col1, #T_eb8df_row10_col2, #T_eb8df_row10_col3, #T_eb8df_row10_col4, #T_eb8df_row10_col5 {\n",
       "  background: yellow;\n",
       "}\n",
       "</style>\n",
       "<table id=\"T_eb8df\">\n",
       "  <thead>\n",
       "    <tr>\n",
       "      <th class=\"blank level0\" >&nbsp;</th>\n",
       "      <th id=\"T_eb8df_level0_col0\" class=\"col_heading level0 col0\" >MAE</th>\n",
       "      <th id=\"T_eb8df_level0_col1\" class=\"col_heading level0 col1\" >MSE</th>\n",
       "      <th id=\"T_eb8df_level0_col2\" class=\"col_heading level0 col2\" >RMSE</th>\n",
       "      <th id=\"T_eb8df_level0_col3\" class=\"col_heading level0 col3\" >R2</th>\n",
       "      <th id=\"T_eb8df_level0_col4\" class=\"col_heading level0 col4\" >RMSLE</th>\n",
       "      <th id=\"T_eb8df_level0_col5\" class=\"col_heading level0 col5\" >MAPE</th>\n",
       "    </tr>\n",
       "    <tr>\n",
       "      <th class=\"index_name level0\" >Fold</th>\n",
       "      <th class=\"blank col0\" >&nbsp;</th>\n",
       "      <th class=\"blank col1\" >&nbsp;</th>\n",
       "      <th class=\"blank col2\" >&nbsp;</th>\n",
       "      <th class=\"blank col3\" >&nbsp;</th>\n",
       "      <th class=\"blank col4\" >&nbsp;</th>\n",
       "      <th class=\"blank col5\" >&nbsp;</th>\n",
       "    </tr>\n",
       "  </thead>\n",
       "  <tbody>\n",
       "    <tr>\n",
       "      <th id=\"T_eb8df_level0_row0\" class=\"row_heading level0 row0\" >0</th>\n",
       "      <td id=\"T_eb8df_row0_col0\" class=\"data row0 col0\" >1752.07</td>\n",
       "      <td id=\"T_eb8df_row0_col1\" class=\"data row0 col1\" >6449115.36</td>\n",
       "      <td id=\"T_eb8df_row0_col2\" class=\"data row0 col2\" >2539.51</td>\n",
       "      <td id=\"T_eb8df_row0_col3\" class=\"data row0 col3\" >0.93</td>\n",
       "      <td id=\"T_eb8df_row0_col4\" class=\"data row0 col4\" >0.25</td>\n",
       "      <td id=\"T_eb8df_row0_col5\" class=\"data row0 col5\" >0.19</td>\n",
       "    </tr>\n",
       "    <tr>\n",
       "      <th id=\"T_eb8df_level0_row1\" class=\"row_heading level0 row1\" >1</th>\n",
       "      <td id=\"T_eb8df_row1_col0\" class=\"data row1 col0\" >1840.63</td>\n",
       "      <td id=\"T_eb8df_row1_col1\" class=\"data row1 col1\" >10718266.21</td>\n",
       "      <td id=\"T_eb8df_row1_col2\" class=\"data row1 col2\" >3273.88</td>\n",
       "      <td id=\"T_eb8df_row1_col3\" class=\"data row1 col3\" >0.92</td>\n",
       "      <td id=\"T_eb8df_row1_col4\" class=\"data row1 col4\" >0.24</td>\n",
       "      <td id=\"T_eb8df_row1_col5\" class=\"data row1 col5\" >0.19</td>\n",
       "    </tr>\n",
       "    <tr>\n",
       "      <th id=\"T_eb8df_level0_row2\" class=\"row_heading level0 row2\" >2</th>\n",
       "      <td id=\"T_eb8df_row2_col0\" class=\"data row2 col0\" >1783.52</td>\n",
       "      <td id=\"T_eb8df_row2_col1\" class=\"data row2 col1\" >6505327.18</td>\n",
       "      <td id=\"T_eb8df_row2_col2\" class=\"data row2 col2\" >2550.55</td>\n",
       "      <td id=\"T_eb8df_row2_col3\" class=\"data row2 col3\" >0.94</td>\n",
       "      <td id=\"T_eb8df_row2_col4\" class=\"data row2 col4\" >0.25</td>\n",
       "      <td id=\"T_eb8df_row2_col5\" class=\"data row2 col5\" >0.20</td>\n",
       "    </tr>\n",
       "    <tr>\n",
       "      <th id=\"T_eb8df_level0_row3\" class=\"row_heading level0 row3\" >3</th>\n",
       "      <td id=\"T_eb8df_row3_col0\" class=\"data row3 col0\" >1720.01</td>\n",
       "      <td id=\"T_eb8df_row3_col1\" class=\"data row3 col1\" >5945124.73</td>\n",
       "      <td id=\"T_eb8df_row3_col2\" class=\"data row3 col2\" >2438.26</td>\n",
       "      <td id=\"T_eb8df_row3_col3\" class=\"data row3 col3\" >0.93</td>\n",
       "      <td id=\"T_eb8df_row3_col4\" class=\"data row3 col4\" >0.23</td>\n",
       "      <td id=\"T_eb8df_row3_col5\" class=\"data row3 col5\" >0.18</td>\n",
       "    </tr>\n",
       "    <tr>\n",
       "      <th id=\"T_eb8df_level0_row4\" class=\"row_heading level0 row4\" >4</th>\n",
       "      <td id=\"T_eb8df_row4_col0\" class=\"data row4 col0\" >1720.48</td>\n",
       "      <td id=\"T_eb8df_row4_col1\" class=\"data row4 col1\" >6022082.65</td>\n",
       "      <td id=\"T_eb8df_row4_col2\" class=\"data row4 col2\" >2453.99</td>\n",
       "      <td id=\"T_eb8df_row4_col3\" class=\"data row4 col3\" >0.92</td>\n",
       "      <td id=\"T_eb8df_row4_col4\" class=\"data row4 col4\" >0.24</td>\n",
       "      <td id=\"T_eb8df_row4_col5\" class=\"data row4 col5\" >0.20</td>\n",
       "    </tr>\n",
       "    <tr>\n",
       "      <th id=\"T_eb8df_level0_row5\" class=\"row_heading level0 row5\" >5</th>\n",
       "      <td id=\"T_eb8df_row5_col0\" class=\"data row5 col0\" >1827.36</td>\n",
       "      <td id=\"T_eb8df_row5_col1\" class=\"data row5 col1\" >8641771.67</td>\n",
       "      <td id=\"T_eb8df_row5_col2\" class=\"data row5 col2\" >2939.69</td>\n",
       "      <td id=\"T_eb8df_row5_col3\" class=\"data row5 col3\" >0.93</td>\n",
       "      <td id=\"T_eb8df_row5_col4\" class=\"data row5 col4\" >0.23</td>\n",
       "      <td id=\"T_eb8df_row5_col5\" class=\"data row5 col5\" >0.19</td>\n",
       "    </tr>\n",
       "    <tr>\n",
       "      <th id=\"T_eb8df_level0_row6\" class=\"row_heading level0 row6\" >6</th>\n",
       "      <td id=\"T_eb8df_row6_col0\" class=\"data row6 col0\" >1830.87</td>\n",
       "      <td id=\"T_eb8df_row6_col1\" class=\"data row6 col1\" >8040154.88</td>\n",
       "      <td id=\"T_eb8df_row6_col2\" class=\"data row6 col2\" >2835.52</td>\n",
       "      <td id=\"T_eb8df_row6_col3\" class=\"data row6 col3\" >0.92</td>\n",
       "      <td id=\"T_eb8df_row6_col4\" class=\"data row6 col4\" >0.24</td>\n",
       "      <td id=\"T_eb8df_row6_col5\" class=\"data row6 col5\" >0.19</td>\n",
       "    </tr>\n",
       "    <tr>\n",
       "      <th id=\"T_eb8df_level0_row7\" class=\"row_heading level0 row7\" >7</th>\n",
       "      <td id=\"T_eb8df_row7_col0\" class=\"data row7 col0\" >1360.06</td>\n",
       "      <td id=\"T_eb8df_row7_col1\" class=\"data row7 col1\" >4271736.19</td>\n",
       "      <td id=\"T_eb8df_row7_col2\" class=\"data row7 col2\" >2066.82</td>\n",
       "      <td id=\"T_eb8df_row7_col3\" class=\"data row7 col3\" >0.95</td>\n",
       "      <td id=\"T_eb8df_row7_col4\" class=\"data row7 col4\" >0.21</td>\n",
       "      <td id=\"T_eb8df_row7_col5\" class=\"data row7 col5\" >0.16</td>\n",
       "    </tr>\n",
       "    <tr>\n",
       "      <th id=\"T_eb8df_level0_row8\" class=\"row_heading level0 row8\" >8</th>\n",
       "      <td id=\"T_eb8df_row8_col0\" class=\"data row8 col0\" >1738.12</td>\n",
       "      <td id=\"T_eb8df_row8_col1\" class=\"data row8 col1\" >6622931.78</td>\n",
       "      <td id=\"T_eb8df_row8_col2\" class=\"data row8 col2\" >2573.51</td>\n",
       "      <td id=\"T_eb8df_row8_col3\" class=\"data row8 col3\" >0.93</td>\n",
       "      <td id=\"T_eb8df_row8_col4\" class=\"data row8 col4\" >0.24</td>\n",
       "      <td id=\"T_eb8df_row8_col5\" class=\"data row8 col5\" >0.19</td>\n",
       "    </tr>\n",
       "    <tr>\n",
       "      <th id=\"T_eb8df_level0_row9\" class=\"row_heading level0 row9\" >9</th>\n",
       "      <td id=\"T_eb8df_row9_col0\" class=\"data row9 col0\" >1840.68</td>\n",
       "      <td id=\"T_eb8df_row9_col1\" class=\"data row9 col1\" >8156509.67</td>\n",
       "      <td id=\"T_eb8df_row9_col2\" class=\"data row9 col2\" >2855.96</td>\n",
       "      <td id=\"T_eb8df_row9_col3\" class=\"data row9 col3\" >0.92</td>\n",
       "      <td id=\"T_eb8df_row9_col4\" class=\"data row9 col4\" >0.27</td>\n",
       "      <td id=\"T_eb8df_row9_col5\" class=\"data row9 col5\" >0.22</td>\n",
       "    </tr>\n",
       "    <tr>\n",
       "      <th id=\"T_eb8df_level0_row10\" class=\"row_heading level0 row10\" >Mean</th>\n",
       "      <td id=\"T_eb8df_row10_col0\" class=\"data row10 col0\" >1741.38</td>\n",
       "      <td id=\"T_eb8df_row10_col1\" class=\"data row10 col1\" >7137302.03</td>\n",
       "      <td id=\"T_eb8df_row10_col2\" class=\"data row10 col2\" >2652.77</td>\n",
       "      <td id=\"T_eb8df_row10_col3\" class=\"data row10 col3\" >0.93</td>\n",
       "      <td id=\"T_eb8df_row10_col4\" class=\"data row10 col4\" >0.24</td>\n",
       "      <td id=\"T_eb8df_row10_col5\" class=\"data row10 col5\" >0.19</td>\n",
       "    </tr>\n",
       "    <tr>\n",
       "      <th id=\"T_eb8df_level0_row11\" class=\"row_heading level0 row11\" >Std</th>\n",
       "      <td id=\"T_eb8df_row11_col0\" class=\"data row11 col0\" >135.39</td>\n",
       "      <td id=\"T_eb8df_row11_col1\" class=\"data row11 col1\" >1701608.04</td>\n",
       "      <td id=\"T_eb8df_row11_col2\" class=\"data row11 col2\" >316.42</td>\n",
       "      <td id=\"T_eb8df_row11_col3\" class=\"data row11 col3\" >0.01</td>\n",
       "      <td id=\"T_eb8df_row11_col4\" class=\"data row11 col4\" >0.02</td>\n",
       "      <td id=\"T_eb8df_row11_col5\" class=\"data row11 col5\" >0.02</td>\n",
       "    </tr>\n",
       "  </tbody>\n",
       "</table>\n"
      ],
      "text/plain": [
       "<pandas.io.formats.style.Styler at 0x1f8ad97d3d0>"
      ]
     },
     "metadata": {},
     "output_type": "display_data"
    },
    {
     "data": {
      "text/html": [],
      "text/plain": [
       "<IPython.core.display.HTML object>"
      ]
     },
     "metadata": {},
     "output_type": "display_data"
    }
   ],
   "source": [
    "rf = create_model('rf', round = 2)"
   ]
  },
  {
   "cell_type": "markdown",
   "metadata": {
    "colab_type": "text",
    "id": "2ukwthju1RUb"
   },
   "source": [
    "Notice how passing the `round` parameter inside `create_model()` has rounded the evaluation metrics to 2 decimals."
   ]
  },
  {
   "cell_type": "markdown",
   "metadata": {},
   "source": [
    "# 7.3 Create Model (KNN)"
   ]
  },
  {
   "cell_type": "code",
   "execution_count": 12,
   "metadata": {},
   "outputs": [
    {
     "data": {
      "text/html": [],
      "text/plain": [
       "<IPython.core.display.HTML object>"
      ]
     },
     "metadata": {},
     "output_type": "display_data"
    },
    {
     "data": {
      "text/html": [
       "<style type=\"text/css\">\n",
       "#T_ed823_row10_col0, #T_ed823_row10_col1, #T_ed823_row10_col2, #T_ed823_row10_col3, #T_ed823_row10_col4, #T_ed823_row10_col5 {\n",
       "  background: yellow;\n",
       "}\n",
       "</style>\n",
       "<table id=\"T_ed823\">\n",
       "  <thead>\n",
       "    <tr>\n",
       "      <th class=\"blank level0\" >&nbsp;</th>\n",
       "      <th id=\"T_ed823_level0_col0\" class=\"col_heading level0 col0\" >MAE</th>\n",
       "      <th id=\"T_ed823_level0_col1\" class=\"col_heading level0 col1\" >MSE</th>\n",
       "      <th id=\"T_ed823_level0_col2\" class=\"col_heading level0 col2\" >RMSE</th>\n",
       "      <th id=\"T_ed823_level0_col3\" class=\"col_heading level0 col3\" >R2</th>\n",
       "      <th id=\"T_ed823_level0_col4\" class=\"col_heading level0 col4\" >RMSLE</th>\n",
       "      <th id=\"T_ed823_level0_col5\" class=\"col_heading level0 col5\" >MAPE</th>\n",
       "    </tr>\n",
       "    <tr>\n",
       "      <th class=\"index_name level0\" >Fold</th>\n",
       "      <th class=\"blank col0\" >&nbsp;</th>\n",
       "      <th class=\"blank col1\" >&nbsp;</th>\n",
       "      <th class=\"blank col2\" >&nbsp;</th>\n",
       "      <th class=\"blank col3\" >&nbsp;</th>\n",
       "      <th class=\"blank col4\" >&nbsp;</th>\n",
       "      <th class=\"blank col5\" >&nbsp;</th>\n",
       "    </tr>\n",
       "  </thead>\n",
       "  <tbody>\n",
       "    <tr>\n",
       "      <th id=\"T_ed823_level0_row0\" class=\"row_heading level0 row0\" >0</th>\n",
       "      <td id=\"T_ed823_row0_col0\" class=\"data row0 col0\" >4096.8206</td>\n",
       "      <td id=\"T_ed823_row0_col1\" class=\"data row0 col1\" >45400257.2877</td>\n",
       "      <td id=\"T_ed823_row0_col2\" class=\"data row0 col2\" >6737.9713</td>\n",
       "      <td id=\"T_ed823_row0_col3\" class=\"data row0 col3\" >0.5016</td>\n",
       "      <td id=\"T_ed823_row0_col4\" class=\"data row0 col4\" >0.4575</td>\n",
       "      <td id=\"T_ed823_row0_col5\" class=\"data row0 col5\" >0.3400</td>\n",
       "    </tr>\n",
       "    <tr>\n",
       "      <th id=\"T_ed823_level0_row1\" class=\"row_heading level0 row1\" >1</th>\n",
       "      <td id=\"T_ed823_row1_col0\" class=\"data row1 col0\" >4692.9487</td>\n",
       "      <td id=\"T_ed823_row1_col1\" class=\"data row1 col1\" >79604690.3771</td>\n",
       "      <td id=\"T_ed823_row1_col2\" class=\"data row1 col2\" >8922.1461</td>\n",
       "      <td id=\"T_ed823_row1_col3\" class=\"data row1 col3\" >0.3899</td>\n",
       "      <td id=\"T_ed823_row1_col4\" class=\"data row1 col4\" >0.5053</td>\n",
       "      <td id=\"T_ed823_row1_col5\" class=\"data row1 col5\" >0.3763</td>\n",
       "    </tr>\n",
       "    <tr>\n",
       "      <th id=\"T_ed823_level0_row2\" class=\"row_heading level0 row2\" >2</th>\n",
       "      <td id=\"T_ed823_row2_col0\" class=\"data row2 col0\" >3919.8681</td>\n",
       "      <td id=\"T_ed823_row2_col1\" class=\"data row2 col1\" >56469332.3409</td>\n",
       "      <td id=\"T_ed823_row2_col2\" class=\"data row2 col2\" >7514.6079</td>\n",
       "      <td id=\"T_ed823_row2_col3\" class=\"data row2 col3\" >0.4821</td>\n",
       "      <td id=\"T_ed823_row2_col4\" class=\"data row2 col4\" >0.4550</td>\n",
       "      <td id=\"T_ed823_row2_col5\" class=\"data row2 col5\" >0.3292</td>\n",
       "    </tr>\n",
       "    <tr>\n",
       "      <th id=\"T_ed823_level0_row3\" class=\"row_heading level0 row3\" >3</th>\n",
       "      <td id=\"T_ed823_row3_col0\" class=\"data row3 col0\" >4140.9397</td>\n",
       "      <td id=\"T_ed823_row3_col1\" class=\"data row3 col1\" >51540049.0058</td>\n",
       "      <td id=\"T_ed823_row3_col2\" class=\"data row3 col2\" >7179.1399</td>\n",
       "      <td id=\"T_ed823_row3_col3\" class=\"data row3 col3\" >0.4314</td>\n",
       "      <td id=\"T_ed823_row3_col4\" class=\"data row3 col4\" >0.4902</td>\n",
       "      <td id=\"T_ed823_row3_col5\" class=\"data row3 col5\" >0.3348</td>\n",
       "    </tr>\n",
       "    <tr>\n",
       "      <th id=\"T_ed823_level0_row4\" class=\"row_heading level0 row4\" >4</th>\n",
       "      <td id=\"T_ed823_row4_col0\" class=\"data row4 col0\" >3617.9247</td>\n",
       "      <td id=\"T_ed823_row4_col1\" class=\"data row4 col1\" >41613627.8755</td>\n",
       "      <td id=\"T_ed823_row4_col2\" class=\"data row4 col2\" >6450.8626</td>\n",
       "      <td id=\"T_ed823_row4_col3\" class=\"data row4 col3\" >0.4810</td>\n",
       "      <td id=\"T_ed823_row4_col4\" class=\"data row4 col4\" >0.4337</td>\n",
       "      <td id=\"T_ed823_row4_col5\" class=\"data row4 col5\" >0.3064</td>\n",
       "    </tr>\n",
       "    <tr>\n",
       "      <th id=\"T_ed823_level0_row5\" class=\"row_heading level0 row5\" >5</th>\n",
       "      <td id=\"T_ed823_row5_col0\" class=\"data row5 col0\" >3752.7984</td>\n",
       "      <td id=\"T_ed823_row5_col1\" class=\"data row5 col1\" >54018481.1460</td>\n",
       "      <td id=\"T_ed823_row5_col2\" class=\"data row5 col2\" >7349.7266</td>\n",
       "      <td id=\"T_ed823_row5_col3\" class=\"data row5 col3\" >0.5390</td>\n",
       "      <td id=\"T_ed823_row5_col4\" class=\"data row5 col4\" >0.4278</td>\n",
       "      <td id=\"T_ed823_row5_col5\" class=\"data row5 col5\" >0.3217</td>\n",
       "    </tr>\n",
       "    <tr>\n",
       "      <th id=\"T_ed823_level0_row6\" class=\"row_heading level0 row6\" >6</th>\n",
       "      <td id=\"T_ed823_row6_col0\" class=\"data row6 col0\" >4090.9154</td>\n",
       "      <td id=\"T_ed823_row6_col1\" class=\"data row6 col1\" >54842846.7726</td>\n",
       "      <td id=\"T_ed823_row6_col2\" class=\"data row6 col2\" >7405.5956</td>\n",
       "      <td id=\"T_ed823_row6_col3\" class=\"data row6 col3\" >0.4848</td>\n",
       "      <td id=\"T_ed823_row6_col4\" class=\"data row6 col4\" >0.4470</td>\n",
       "      <td id=\"T_ed823_row6_col5\" class=\"data row6 col5\" >0.3138</td>\n",
       "    </tr>\n",
       "    <tr>\n",
       "      <th id=\"T_ed823_level0_row7\" class=\"row_heading level0 row7\" >7</th>\n",
       "      <td id=\"T_ed823_row7_col0\" class=\"data row7 col0\" >3849.6441</td>\n",
       "      <td id=\"T_ed823_row7_col1\" class=\"data row7 col1\" >45791279.9598</td>\n",
       "      <td id=\"T_ed823_row7_col2\" class=\"data row7 col2\" >6766.9254</td>\n",
       "      <td id=\"T_ed823_row7_col3\" class=\"data row7 col3\" >0.4209</td>\n",
       "      <td id=\"T_ed823_row7_col4\" class=\"data row7 col4\" >0.4881</td>\n",
       "      <td id=\"T_ed823_row7_col5\" class=\"data row7 col5\" >0.3255</td>\n",
       "    </tr>\n",
       "    <tr>\n",
       "      <th id=\"T_ed823_level0_row8\" class=\"row_heading level0 row8\" >8</th>\n",
       "      <td id=\"T_ed823_row8_col0\" class=\"data row8 col0\" >3985.4358</td>\n",
       "      <td id=\"T_ed823_row8_col1\" class=\"data row8 col1\" >49882782.2179</td>\n",
       "      <td id=\"T_ed823_row8_col2\" class=\"data row8 col2\" >7062.7744</td>\n",
       "      <td id=\"T_ed823_row8_col3\" class=\"data row8 col3\" >0.5101</td>\n",
       "      <td id=\"T_ed823_row8_col4\" class=\"data row8 col4\" >0.4404</td>\n",
       "      <td id=\"T_ed823_row8_col5\" class=\"data row8 col5\" >0.3060</td>\n",
       "    </tr>\n",
       "    <tr>\n",
       "      <th id=\"T_ed823_level0_row9\" class=\"row_heading level0 row9\" >9</th>\n",
       "      <td id=\"T_ed823_row9_col0\" class=\"data row9 col0\" >3888.2621</td>\n",
       "      <td id=\"T_ed823_row9_col1\" class=\"data row9 col1\" >47645336.0906</td>\n",
       "      <td id=\"T_ed823_row9_col2\" class=\"data row9 col2\" >6902.5601</td>\n",
       "      <td id=\"T_ed823_row9_col3\" class=\"data row9 col3\" >0.5463</td>\n",
       "      <td id=\"T_ed823_row9_col4\" class=\"data row9 col4\" >0.4549</td>\n",
       "      <td id=\"T_ed823_row9_col5\" class=\"data row9 col5\" >0.3611</td>\n",
       "    </tr>\n",
       "    <tr>\n",
       "      <th id=\"T_ed823_level0_row10\" class=\"row_heading level0 row10\" >Mean</th>\n",
       "      <td id=\"T_ed823_row10_col0\" class=\"data row10 col0\" >4003.5558</td>\n",
       "      <td id=\"T_ed823_row10_col1\" class=\"data row10 col1\" >52680868.3074</td>\n",
       "      <td id=\"T_ed823_row10_col2\" class=\"data row10 col2\" >7229.2310</td>\n",
       "      <td id=\"T_ed823_row10_col3\" class=\"data row10 col3\" >0.4787</td>\n",
       "      <td id=\"T_ed823_row10_col4\" class=\"data row10 col4\" >0.4600</td>\n",
       "      <td id=\"T_ed823_row10_col5\" class=\"data row10 col5\" >0.3315</td>\n",
       "    </tr>\n",
       "    <tr>\n",
       "      <th id=\"T_ed823_level0_row11\" class=\"row_heading level0 row11\" >Std</th>\n",
       "      <td id=\"T_ed823_row11_col0\" class=\"data row11 col0\" >276.8341</td>\n",
       "      <td id=\"T_ed823_row11_col1\" class=\"data row11 col1\" >10015752.0332</td>\n",
       "      <td id=\"T_ed823_row11_col2\" class=\"data row11 col2\" >647.3697</td>\n",
       "      <td id=\"T_ed823_row11_col3\" class=\"data row11 col3\" >0.0482</td>\n",
       "      <td id=\"T_ed823_row11_col4\" class=\"data row11 col4\" >0.0247</td>\n",
       "      <td id=\"T_ed823_row11_col5\" class=\"data row11 col5\" >0.0217</td>\n",
       "    </tr>\n",
       "  </tbody>\n",
       "</table>\n"
      ],
      "text/plain": [
       "<pandas.io.formats.style.Styler at 0x1f8adcd9cd0>"
      ]
     },
     "metadata": {},
     "output_type": "display_data"
    },
    {
     "data": {
      "text/html": [],
      "text/plain": [
       "<IPython.core.display.HTML object>"
      ]
     },
     "metadata": {},
     "output_type": "display_data"
    }
   ],
   "source": [
    "knn = create_model('knn')"
   ]
  },
  {
   "cell_type": "code",
   "execution_count": 13,
   "metadata": {},
   "outputs": [
    {
     "name": "stdout",
     "output_type": "stream",
     "text": [
      "KNeighborsRegressor(n_jobs=-1)\n"
     ]
    }
   ],
   "source": [
    "print(knn)"
   ]
  },
  {
   "cell_type": "markdown",
   "metadata": {
    "colab_type": "text",
    "id": "Jlef9kIH1RUk"
   },
   "source": [
    "# 8.0 Tune a Model"
   ]
  },
  {
   "cell_type": "markdown",
   "metadata": {
    "colab_type": "text",
    "id": "5d9IwoCE1RUo"
   },
   "source": [
    "In the previous tutorial __[Regression (REG101) - Level Beginner](https://github.com/pycaret/pycaret/blob/master/tutorials/Regression%20Tutorial%20Level%20Beginner%20-%20REG101.ipynb)__ we learned how to automatically tune the hyperparameters of a model using pre-defined grids. Here we will introduce the the `n_iter` parameter in `tune_model()`. `n_iter` is the number of iterations within a random grid search. For every iteration, the model randomly selects one value from a pre-defined grid of hyperparameters. By default, the parameter is set to `10` which means there would be a maximum of 10 iterations to find the best value for hyperparameters. Increasing the value may improve the performance but will also increase the training time. See the example below:"
   ]
  },
  {
   "cell_type": "code",
   "execution_count": 14,
   "metadata": {
    "colab": {},
    "colab_type": "code",
    "id": "2RL-Efjf1RUt",
    "outputId": "4fbfa307-964d-40e0-956d-5029f5db5ee7"
   },
   "outputs": [
    {
     "data": {
      "text/html": [],
      "text/plain": [
       "<IPython.core.display.HTML object>"
      ]
     },
     "metadata": {},
     "output_type": "display_data"
    },
    {
     "data": {
      "text/html": [
       "<style type=\"text/css\">\n",
       "#T_3c00d_row10_col0, #T_3c00d_row10_col1, #T_3c00d_row10_col2, #T_3c00d_row10_col3, #T_3c00d_row10_col4, #T_3c00d_row10_col5 {\n",
       "  background: yellow;\n",
       "}\n",
       "</style>\n",
       "<table id=\"T_3c00d\">\n",
       "  <thead>\n",
       "    <tr>\n",
       "      <th class=\"blank level0\" >&nbsp;</th>\n",
       "      <th id=\"T_3c00d_level0_col0\" class=\"col_heading level0 col0\" >MAE</th>\n",
       "      <th id=\"T_3c00d_level0_col1\" class=\"col_heading level0 col1\" >MSE</th>\n",
       "      <th id=\"T_3c00d_level0_col2\" class=\"col_heading level0 col2\" >RMSE</th>\n",
       "      <th id=\"T_3c00d_level0_col3\" class=\"col_heading level0 col3\" >R2</th>\n",
       "      <th id=\"T_3c00d_level0_col4\" class=\"col_heading level0 col4\" >RMSLE</th>\n",
       "      <th id=\"T_3c00d_level0_col5\" class=\"col_heading level0 col5\" >MAPE</th>\n",
       "    </tr>\n",
       "    <tr>\n",
       "      <th class=\"index_name level0\" >Fold</th>\n",
       "      <th class=\"blank col0\" >&nbsp;</th>\n",
       "      <th class=\"blank col1\" >&nbsp;</th>\n",
       "      <th class=\"blank col2\" >&nbsp;</th>\n",
       "      <th class=\"blank col3\" >&nbsp;</th>\n",
       "      <th class=\"blank col4\" >&nbsp;</th>\n",
       "      <th class=\"blank col5\" >&nbsp;</th>\n",
       "    </tr>\n",
       "  </thead>\n",
       "  <tbody>\n",
       "    <tr>\n",
       "      <th id=\"T_3c00d_level0_row0\" class=\"row_heading level0 row0\" >0</th>\n",
       "      <td id=\"T_3c00d_row0_col0\" class=\"data row0 col0\" >2927.4439</td>\n",
       "      <td id=\"T_3c00d_row0_col1\" class=\"data row0 col1\" >30099480.7429</td>\n",
       "      <td id=\"T_3c00d_row0_col2\" class=\"data row0 col2\" >5486.2994</td>\n",
       "      <td id=\"T_3c00d_row0_col3\" class=\"data row0 col3\" >0.6695</td>\n",
       "      <td id=\"T_3c00d_row0_col4\" class=\"data row0 col4\" >0.3585</td>\n",
       "      <td id=\"T_3c00d_row0_col5\" class=\"data row0 col5\" >0.2484</td>\n",
       "    </tr>\n",
       "    <tr>\n",
       "      <th id=\"T_3c00d_level0_row1\" class=\"row_heading level0 row1\" >1</th>\n",
       "      <td id=\"T_3c00d_row1_col0\" class=\"data row1 col0\" >3424.3837</td>\n",
       "      <td id=\"T_3c00d_row1_col1\" class=\"data row1 col1\" >47003436.8814</td>\n",
       "      <td id=\"T_3c00d_row1_col2\" class=\"data row1 col2\" >6855.9053</td>\n",
       "      <td id=\"T_3c00d_row1_col3\" class=\"data row1 col3\" >0.6398</td>\n",
       "      <td id=\"T_3c00d_row1_col4\" class=\"data row1 col4\" >0.3863</td>\n",
       "      <td id=\"T_3c00d_row1_col5\" class=\"data row1 col5\" >0.2631</td>\n",
       "    </tr>\n",
       "    <tr>\n",
       "      <th id=\"T_3c00d_level0_row2\" class=\"row_heading level0 row2\" >2</th>\n",
       "      <td id=\"T_3c00d_row2_col0\" class=\"data row2 col0\" >3112.2023</td>\n",
       "      <td id=\"T_3c00d_row2_col1\" class=\"data row2 col1\" >42682256.6933</td>\n",
       "      <td id=\"T_3c00d_row2_col2\" class=\"data row2 col2\" >6533.1659</td>\n",
       "      <td id=\"T_3c00d_row2_col3\" class=\"data row2 col3\" >0.6085</td>\n",
       "      <td id=\"T_3c00d_row2_col4\" class=\"data row2 col4\" >0.3666</td>\n",
       "      <td id=\"T_3c00d_row2_col5\" class=\"data row2 col5\" >0.2612</td>\n",
       "    </tr>\n",
       "    <tr>\n",
       "      <th id=\"T_3c00d_level0_row3\" class=\"row_heading level0 row3\" >3</th>\n",
       "      <td id=\"T_3c00d_row3_col0\" class=\"data row3 col0\" >3226.5194</td>\n",
       "      <td id=\"T_3c00d_row3_col1\" class=\"data row3 col1\" >34550553.6184</td>\n",
       "      <td id=\"T_3c00d_row3_col2\" class=\"data row3 col2\" >5877.9719</td>\n",
       "      <td id=\"T_3c00d_row3_col3\" class=\"data row3 col3\" >0.6188</td>\n",
       "      <td id=\"T_3c00d_row3_col4\" class=\"data row3 col4\" >0.3647</td>\n",
       "      <td id=\"T_3c00d_row3_col5\" class=\"data row3 col5\" >0.2468</td>\n",
       "    </tr>\n",
       "    <tr>\n",
       "      <th id=\"T_3c00d_level0_row4\" class=\"row_heading level0 row4\" >4</th>\n",
       "      <td id=\"T_3c00d_row4_col0\" class=\"data row4 col0\" >2721.4621</td>\n",
       "      <td id=\"T_3c00d_row4_col1\" class=\"data row4 col1\" >26157896.4256</td>\n",
       "      <td id=\"T_3c00d_row4_col2\" class=\"data row4 col2\" >5114.4791</td>\n",
       "      <td id=\"T_3c00d_row4_col3\" class=\"data row4 col3\" >0.6737</td>\n",
       "      <td id=\"T_3c00d_row4_col4\" class=\"data row4 col4\" >0.3351</td>\n",
       "      <td id=\"T_3c00d_row4_col5\" class=\"data row4 col5\" >0.2395</td>\n",
       "    </tr>\n",
       "    <tr>\n",
       "      <th id=\"T_3c00d_level0_row5\" class=\"row_heading level0 row5\" >5</th>\n",
       "      <td id=\"T_3c00d_row5_col0\" class=\"data row5 col0\" >2877.8925</td>\n",
       "      <td id=\"T_3c00d_row5_col1\" class=\"data row5 col1\" >41721821.9671</td>\n",
       "      <td id=\"T_3c00d_row5_col2\" class=\"data row5 col2\" >6459.2431</td>\n",
       "      <td id=\"T_3c00d_row5_col3\" class=\"data row5 col3\" >0.6439</td>\n",
       "      <td id=\"T_3c00d_row5_col4\" class=\"data row5 col4\" >0.3211</td>\n",
       "      <td id=\"T_3c00d_row5_col5\" class=\"data row5 col5\" >0.2322</td>\n",
       "    </tr>\n",
       "    <tr>\n",
       "      <th id=\"T_3c00d_level0_row6\" class=\"row_heading level0 row6\" >6</th>\n",
       "      <td id=\"T_3c00d_row6_col0\" class=\"data row6 col0\" >3193.3727</td>\n",
       "      <td id=\"T_3c00d_row6_col1\" class=\"data row6 col1\" >48188698.9766</td>\n",
       "      <td id=\"T_3c00d_row6_col2\" class=\"data row6 col2\" >6941.8080</td>\n",
       "      <td id=\"T_3c00d_row6_col3\" class=\"data row6 col3\" >0.5473</td>\n",
       "      <td id=\"T_3c00d_row6_col4\" class=\"data row6 col4\" >0.3664</td>\n",
       "      <td id=\"T_3c00d_row6_col5\" class=\"data row6 col5\" >0.2365</td>\n",
       "    </tr>\n",
       "    <tr>\n",
       "      <th id=\"T_3c00d_level0_row7\" class=\"row_heading level0 row7\" >7</th>\n",
       "      <td id=\"T_3c00d_row7_col0\" class=\"data row7 col0\" >2641.5358</td>\n",
       "      <td id=\"T_3c00d_row7_col1\" class=\"data row7 col1\" >29258853.9933</td>\n",
       "      <td id=\"T_3c00d_row7_col2\" class=\"data row7 col2\" >5409.1454</td>\n",
       "      <td id=\"T_3c00d_row7_col3\" class=\"data row7 col3\" >0.6300</td>\n",
       "      <td id=\"T_3c00d_row7_col4\" class=\"data row7 col4\" >0.3633</td>\n",
       "      <td id=\"T_3c00d_row7_col5\" class=\"data row7 col5\" >0.2233</td>\n",
       "    </tr>\n",
       "    <tr>\n",
       "      <th id=\"T_3c00d_level0_row8\" class=\"row_heading level0 row8\" >8</th>\n",
       "      <td id=\"T_3c00d_row8_col0\" class=\"data row8 col0\" >3174.5941</td>\n",
       "      <td id=\"T_3c00d_row8_col1\" class=\"data row8 col1\" >35647145.5891</td>\n",
       "      <td id=\"T_3c00d_row8_col2\" class=\"data row8 col2\" >5970.5231</td>\n",
       "      <td id=\"T_3c00d_row8_col3\" class=\"data row8 col3\" >0.6499</td>\n",
       "      <td id=\"T_3c00d_row8_col4\" class=\"data row8 col4\" >0.3599</td>\n",
       "      <td id=\"T_3c00d_row8_col5\" class=\"data row8 col5\" >0.2469</td>\n",
       "    </tr>\n",
       "    <tr>\n",
       "      <th id=\"T_3c00d_level0_row9\" class=\"row_heading level0 row9\" >9</th>\n",
       "      <td id=\"T_3c00d_row9_col0\" class=\"data row9 col0\" >3061.9084</td>\n",
       "      <td id=\"T_3c00d_row9_col1\" class=\"data row9 col1\" >34524306.3654</td>\n",
       "      <td id=\"T_3c00d_row9_col2\" class=\"data row9 col2\" >5875.7388</td>\n",
       "      <td id=\"T_3c00d_row9_col3\" class=\"data row9 col3\" >0.6713</td>\n",
       "      <td id=\"T_3c00d_row9_col4\" class=\"data row9 col4\" >0.3662</td>\n",
       "      <td id=\"T_3c00d_row9_col5\" class=\"data row9 col5\" >0.2697</td>\n",
       "    </tr>\n",
       "    <tr>\n",
       "      <th id=\"T_3c00d_level0_row10\" class=\"row_heading level0 row10\" >Mean</th>\n",
       "      <td id=\"T_3c00d_row10_col0\" class=\"data row10 col0\" >3036.1315</td>\n",
       "      <td id=\"T_3c00d_row10_col1\" class=\"data row10 col1\" >36983445.1253</td>\n",
       "      <td id=\"T_3c00d_row10_col2\" class=\"data row10 col2\" >6052.4280</td>\n",
       "      <td id=\"T_3c00d_row10_col3\" class=\"data row10 col3\" >0.6353</td>\n",
       "      <td id=\"T_3c00d_row10_col4\" class=\"data row10 col4\" >0.3588</td>\n",
       "      <td id=\"T_3c00d_row10_col5\" class=\"data row10 col5\" >0.2468</td>\n",
       "    </tr>\n",
       "    <tr>\n",
       "      <th id=\"T_3c00d_level0_row11\" class=\"row_heading level0 row11\" >Std</th>\n",
       "      <td id=\"T_3c00d_row11_col0\" class=\"data row11 col0\" >229.9805</td>\n",
       "      <td id=\"T_3c00d_row11_col1\" class=\"data row11 col1\" >7203397.9235</td>\n",
       "      <td id=\"T_3c00d_row11_col2\" class=\"data row11 col2\" >592.9254</td>\n",
       "      <td id=\"T_3c00d_row11_col3\" class=\"data row11 col3\" >0.0361</td>\n",
       "      <td id=\"T_3c00d_row11_col4\" class=\"data row11 col4\" >0.0172</td>\n",
       "      <td id=\"T_3c00d_row11_col5\" class=\"data row11 col5\" >0.0139</td>\n",
       "    </tr>\n",
       "  </tbody>\n",
       "</table>\n"
      ],
      "text/plain": [
       "<pandas.io.formats.style.Styler at 0x1f8ad920910>"
      ]
     },
     "metadata": {},
     "output_type": "display_data"
    },
    {
     "data": {
      "text/html": [],
      "text/plain": [
       "<IPython.core.display.HTML object>"
      ]
     },
     "metadata": {},
     "output_type": "display_data"
    },
    {
     "name": "stdout",
     "output_type": "stream",
     "text": [
      "Fitting 10 folds for each of 10 candidates, totalling 100 fits\n"
     ]
    }
   ],
   "source": [
    "tuned_knn = tune_model(knn)"
   ]
  },
  {
   "cell_type": "code",
   "execution_count": 15,
   "metadata": {
    "colab": {},
    "colab_type": "code",
    "id": "ETYEYBDO1RU8",
    "outputId": "63eb436d-ce8e-4d4d-986e-98b6e10164cb"
   },
   "outputs": [
    {
     "data": {
      "text/html": [],
      "text/plain": [
       "<IPython.core.display.HTML object>"
      ]
     },
     "metadata": {},
     "output_type": "display_data"
    },
    {
     "data": {
      "text/html": [
       "<style type=\"text/css\">\n",
       "#T_bae75_row10_col0, #T_bae75_row10_col1, #T_bae75_row10_col2, #T_bae75_row10_col3, #T_bae75_row10_col4, #T_bae75_row10_col5 {\n",
       "  background: yellow;\n",
       "}\n",
       "</style>\n",
       "<table id=\"T_bae75\">\n",
       "  <thead>\n",
       "    <tr>\n",
       "      <th class=\"blank level0\" >&nbsp;</th>\n",
       "      <th id=\"T_bae75_level0_col0\" class=\"col_heading level0 col0\" >MAE</th>\n",
       "      <th id=\"T_bae75_level0_col1\" class=\"col_heading level0 col1\" >MSE</th>\n",
       "      <th id=\"T_bae75_level0_col2\" class=\"col_heading level0 col2\" >RMSE</th>\n",
       "      <th id=\"T_bae75_level0_col3\" class=\"col_heading level0 col3\" >R2</th>\n",
       "      <th id=\"T_bae75_level0_col4\" class=\"col_heading level0 col4\" >RMSLE</th>\n",
       "      <th id=\"T_bae75_level0_col5\" class=\"col_heading level0 col5\" >MAPE</th>\n",
       "    </tr>\n",
       "    <tr>\n",
       "      <th class=\"index_name level0\" >Fold</th>\n",
       "      <th class=\"blank col0\" >&nbsp;</th>\n",
       "      <th class=\"blank col1\" >&nbsp;</th>\n",
       "      <th class=\"blank col2\" >&nbsp;</th>\n",
       "      <th class=\"blank col3\" >&nbsp;</th>\n",
       "      <th class=\"blank col4\" >&nbsp;</th>\n",
       "      <th class=\"blank col5\" >&nbsp;</th>\n",
       "    </tr>\n",
       "  </thead>\n",
       "  <tbody>\n",
       "    <tr>\n",
       "      <th id=\"T_bae75_level0_row0\" class=\"row_heading level0 row0\" >0</th>\n",
       "      <td id=\"T_bae75_row0_col0\" class=\"data row0 col0\" >2962.6263</td>\n",
       "      <td id=\"T_bae75_row0_col1\" class=\"data row0 col1\" >28183280.9659</td>\n",
       "      <td id=\"T_bae75_row0_col2\" class=\"data row0 col2\" >5308.7928</td>\n",
       "      <td id=\"T_bae75_row0_col3\" class=\"data row0 col3\" >0.6906</td>\n",
       "      <td id=\"T_bae75_row0_col4\" class=\"data row0 col4\" >0.3603</td>\n",
       "      <td id=\"T_bae75_row0_col5\" class=\"data row0 col5\" >0.2569</td>\n",
       "    </tr>\n",
       "    <tr>\n",
       "      <th id=\"T_bae75_level0_row1\" class=\"row_heading level0 row1\" >1</th>\n",
       "      <td id=\"T_bae75_row1_col0\" class=\"data row1 col0\" >3534.2239</td>\n",
       "      <td id=\"T_bae75_row1_col1\" class=\"data row1 col1\" >48705639.1999</td>\n",
       "      <td id=\"T_bae75_row1_col2\" class=\"data row1 col2\" >6978.9426</td>\n",
       "      <td id=\"T_bae75_row1_col3\" class=\"data row1 col3\" >0.6267</td>\n",
       "      <td id=\"T_bae75_row1_col4\" class=\"data row1 col4\" >0.4141</td>\n",
       "      <td id=\"T_bae75_row1_col5\" class=\"data row1 col5\" >0.2799</td>\n",
       "    </tr>\n",
       "    <tr>\n",
       "      <th id=\"T_bae75_level0_row2\" class=\"row_heading level0 row2\" >2</th>\n",
       "      <td id=\"T_bae75_row2_col0\" class=\"data row2 col0\" >3063.7516</td>\n",
       "      <td id=\"T_bae75_row2_col1\" class=\"data row2 col1\" >42889210.0893</td>\n",
       "      <td id=\"T_bae75_row2_col2\" class=\"data row2 col2\" >6548.9854</td>\n",
       "      <td id=\"T_bae75_row2_col3\" class=\"data row2 col3\" >0.6066</td>\n",
       "      <td id=\"T_bae75_row2_col4\" class=\"data row2 col4\" >0.3769</td>\n",
       "      <td id=\"T_bae75_row2_col5\" class=\"data row2 col5\" >0.2614</td>\n",
       "    </tr>\n",
       "    <tr>\n",
       "      <th id=\"T_bae75_level0_row3\" class=\"row_heading level0 row3\" >3</th>\n",
       "      <td id=\"T_bae75_row3_col0\" class=\"data row3 col0\" >3182.4450</td>\n",
       "      <td id=\"T_bae75_row3_col1\" class=\"data row3 col1\" >35078591.6057</td>\n",
       "      <td id=\"T_bae75_row3_col2\" class=\"data row3 col2\" >5922.7183</td>\n",
       "      <td id=\"T_bae75_row3_col3\" class=\"data row3 col3\" >0.6130</td>\n",
       "      <td id=\"T_bae75_row3_col4\" class=\"data row3 col4\" >0.3776</td>\n",
       "      <td id=\"T_bae75_row3_col5\" class=\"data row3 col5\" >0.2463</td>\n",
       "    </tr>\n",
       "    <tr>\n",
       "      <th id=\"T_bae75_level0_row4\" class=\"row_heading level0 row4\" >4</th>\n",
       "      <td id=\"T_bae75_row4_col0\" class=\"data row4 col0\" >2769.7818</td>\n",
       "      <td id=\"T_bae75_row4_col1\" class=\"data row4 col1\" >26753943.2658</td>\n",
       "      <td id=\"T_bae75_row4_col2\" class=\"data row4 col2\" >5172.4214</td>\n",
       "      <td id=\"T_bae75_row4_col3\" class=\"data row4 col3\" >0.6663</td>\n",
       "      <td id=\"T_bae75_row4_col4\" class=\"data row4 col4\" >0.3482</td>\n",
       "      <td id=\"T_bae75_row4_col5\" class=\"data row4 col5\" >0.2490</td>\n",
       "    </tr>\n",
       "    <tr>\n",
       "      <th id=\"T_bae75_level0_row5\" class=\"row_heading level0 row5\" >5</th>\n",
       "      <td id=\"T_bae75_row5_col0\" class=\"data row5 col0\" >2787.3481</td>\n",
       "      <td id=\"T_bae75_row5_col1\" class=\"data row5 col1\" >37614195.3754</td>\n",
       "      <td id=\"T_bae75_row5_col2\" class=\"data row5 col2\" >6133.0413</td>\n",
       "      <td id=\"T_bae75_row5_col3\" class=\"data row5 col3\" >0.6790</td>\n",
       "      <td id=\"T_bae75_row5_col4\" class=\"data row5 col4\" >0.3247</td>\n",
       "      <td id=\"T_bae75_row5_col5\" class=\"data row5 col5\" >0.2342</td>\n",
       "    </tr>\n",
       "    <tr>\n",
       "      <th id=\"T_bae75_level0_row6\" class=\"row_heading level0 row6\" >6</th>\n",
       "      <td id=\"T_bae75_row6_col0\" class=\"data row6 col0\" >3187.8450</td>\n",
       "      <td id=\"T_bae75_row6_col1\" class=\"data row6 col1\" >44254879.5540</td>\n",
       "      <td id=\"T_bae75_row6_col2\" class=\"data row6 col2\" >6652.4341</td>\n",
       "      <td id=\"T_bae75_row6_col3\" class=\"data row6 col3\" >0.5842</td>\n",
       "      <td id=\"T_bae75_row6_col4\" class=\"data row6 col4\" >0.3676</td>\n",
       "      <td id=\"T_bae75_row6_col5\" class=\"data row6 col5\" >0.2450</td>\n",
       "    </tr>\n",
       "    <tr>\n",
       "      <th id=\"T_bae75_level0_row7\" class=\"row_heading level0 row7\" >7</th>\n",
       "      <td id=\"T_bae75_row7_col0\" class=\"data row7 col0\" >2782.7807</td>\n",
       "      <td id=\"T_bae75_row7_col1\" class=\"data row7 col1\" >31600957.9954</td>\n",
       "      <td id=\"T_bae75_row7_col2\" class=\"data row7 col2\" >5621.4729</td>\n",
       "      <td id=\"T_bae75_row7_col3\" class=\"data row7 col3\" >0.6004</td>\n",
       "      <td id=\"T_bae75_row7_col4\" class=\"data row7 col4\" >0.3922</td>\n",
       "      <td id=\"T_bae75_row7_col5\" class=\"data row7 col5\" >0.2379</td>\n",
       "    </tr>\n",
       "    <tr>\n",
       "      <th id=\"T_bae75_level0_row8\" class=\"row_heading level0 row8\" >8</th>\n",
       "      <td id=\"T_bae75_row8_col0\" class=\"data row8 col0\" >3087.2763</td>\n",
       "      <td id=\"T_bae75_row8_col1\" class=\"data row8 col1\" >33972247.1504</td>\n",
       "      <td id=\"T_bae75_row8_col2\" class=\"data row8 col2\" >5828.5716</td>\n",
       "      <td id=\"T_bae75_row8_col3\" class=\"data row8 col3\" >0.6664</td>\n",
       "      <td id=\"T_bae75_row8_col4\" class=\"data row8 col4\" >0.3609</td>\n",
       "      <td id=\"T_bae75_row8_col5\" class=\"data row8 col5\" >0.2470</td>\n",
       "    </tr>\n",
       "    <tr>\n",
       "      <th id=\"T_bae75_level0_row9\" class=\"row_heading level0 row9\" >9</th>\n",
       "      <td id=\"T_bae75_row9_col0\" class=\"data row9 col0\" >3000.9526</td>\n",
       "      <td id=\"T_bae75_row9_col1\" class=\"data row9 col1\" >29751027.2060</td>\n",
       "      <td id=\"T_bae75_row9_col2\" class=\"data row9 col2\" >5454.4502</td>\n",
       "      <td id=\"T_bae75_row9_col3\" class=\"data row9 col3\" >0.7167</td>\n",
       "      <td id=\"T_bae75_row9_col4\" class=\"data row9 col4\" >0.3671</td>\n",
       "      <td id=\"T_bae75_row9_col5\" class=\"data row9 col5\" >0.2801</td>\n",
       "    </tr>\n",
       "    <tr>\n",
       "      <th id=\"T_bae75_level0_row10\" class=\"row_heading level0 row10\" >Mean</th>\n",
       "      <td id=\"T_bae75_row10_col0\" class=\"data row10 col0\" >3035.9031</td>\n",
       "      <td id=\"T_bae75_row10_col1\" class=\"data row10 col1\" >35880397.2408</td>\n",
       "      <td id=\"T_bae75_row10_col2\" class=\"data row10 col2\" >5962.1831</td>\n",
       "      <td id=\"T_bae75_row10_col3\" class=\"data row10 col3\" >0.6450</td>\n",
       "      <td id=\"T_bae75_row10_col4\" class=\"data row10 col4\" >0.3690</td>\n",
       "      <td id=\"T_bae75_row10_col5\" class=\"data row10 col5\" >0.2538</td>\n",
       "    </tr>\n",
       "    <tr>\n",
       "      <th id=\"T_bae75_level0_row11\" class=\"row_heading level0 row11\" >Std</th>\n",
       "      <td id=\"T_bae75_row11_col0\" class=\"data row11 col0\" >223.5087</td>\n",
       "      <td id=\"T_bae75_row11_col1\" class=\"data row11 col1\" >6996090.0957</td>\n",
       "      <td id=\"T_bae75_row11_col2\" class=\"data row11 col2\" >576.8625</td>\n",
       "      <td id=\"T_bae75_row11_col3\" class=\"data row11 col3\" >0.0422</td>\n",
       "      <td id=\"T_bae75_row11_col4\" class=\"data row11 col4\" >0.0229</td>\n",
       "      <td id=\"T_bae75_row11_col5\" class=\"data row11 col5\" >0.0151</td>\n",
       "    </tr>\n",
       "  </tbody>\n",
       "</table>\n"
      ],
      "text/plain": [
       "<pandas.io.formats.style.Styler at 0x1f8ad392400>"
      ]
     },
     "metadata": {},
     "output_type": "display_data"
    },
    {
     "data": {
      "text/html": [],
      "text/plain": [
       "<IPython.core.display.HTML object>"
      ]
     },
     "metadata": {},
     "output_type": "display_data"
    },
    {
     "name": "stdout",
     "output_type": "stream",
     "text": [
      "Fitting 10 folds for each of 50 candidates, totalling 500 fits\n"
     ]
    }
   ],
   "source": [
    "tuned_knn2 = tune_model(knn, n_iter = 50)"
   ]
  },
  {
   "cell_type": "markdown",
   "metadata": {
    "colab_type": "text",
    "id": "iLFFpJnU1RVL"
   },
   "source": [
    "Notice how two tuned K Nearest Neighbors were created based on the `n_iter` parameter. In `tuned_knn`, the `n_iter` parameter is left to the default value and resulted in R2 of `0.6504`. In `tuned_knn2`, the `n_iter` parameter was set to `50` and the R2 improved to `0.6689`. Observe the differences between the hyperparameters of `tuned_knn` and `tuned_knn2` below:"
   ]
  },
  {
   "cell_type": "code",
   "execution_count": 16,
   "metadata": {
    "colab": {},
    "colab_type": "code",
    "id": "9xDXsAYt1RVO",
    "outputId": "642a84d9-2046-4b8e-f963-5acc481527d5"
   },
   "outputs": [
    {
     "data": {
      "text/html": [],
      "text/plain": [
       "<IPython.core.display.HTML object>"
      ]
     },
     "metadata": {},
     "output_type": "display_data"
    },
    {
     "data": {
      "text/html": [
       "<div>\n",
       "<style scoped>\n",
       "    .dataframe tbody tr th:only-of-type {\n",
       "        vertical-align: middle;\n",
       "    }\n",
       "\n",
       "    .dataframe tbody tr th {\n",
       "        vertical-align: top;\n",
       "    }\n",
       "\n",
       "    .dataframe thead th {\n",
       "        text-align: right;\n",
       "    }\n",
       "</style>\n",
       "<table border=\"1\" class=\"dataframe\">\n",
       "  <thead>\n",
       "    <tr style=\"text-align: right;\">\n",
       "      <th></th>\n",
       "      <th>Parameters</th>\n",
       "    </tr>\n",
       "  </thead>\n",
       "  <tbody>\n",
       "    <tr>\n",
       "      <th>algorithm</th>\n",
       "      <td>auto</td>\n",
       "    </tr>\n",
       "    <tr>\n",
       "      <th>leaf_size</th>\n",
       "      <td>30</td>\n",
       "    </tr>\n",
       "    <tr>\n",
       "      <th>metric</th>\n",
       "      <td>manhattan</td>\n",
       "    </tr>\n",
       "    <tr>\n",
       "      <th>metric_params</th>\n",
       "      <td>None</td>\n",
       "    </tr>\n",
       "    <tr>\n",
       "      <th>n_jobs</th>\n",
       "      <td>-1</td>\n",
       "    </tr>\n",
       "    <tr>\n",
       "      <th>n_neighbors</th>\n",
       "      <td>13</td>\n",
       "    </tr>\n",
       "    <tr>\n",
       "      <th>p</th>\n",
       "      <td>2</td>\n",
       "    </tr>\n",
       "    <tr>\n",
       "      <th>weights</th>\n",
       "      <td>distance</td>\n",
       "    </tr>\n",
       "  </tbody>\n",
       "</table>\n",
       "</div>"
      ],
      "text/plain": [
       "              Parameters\n",
       "algorithm           auto\n",
       "leaf_size             30\n",
       "metric         manhattan\n",
       "metric_params       None\n",
       "n_jobs                -1\n",
       "n_neighbors           13\n",
       "p                      2\n",
       "weights         distance"
      ]
     },
     "metadata": {},
     "output_type": "display_data"
    }
   ],
   "source": [
    "plot_model(tuned_knn, plot = 'parameter')"
   ]
  },
  {
   "cell_type": "code",
   "execution_count": 17,
   "metadata": {
    "colab": {},
    "colab_type": "code",
    "id": "9K_webQ11RVa",
    "outputId": "468d764b-edd6-47d1-936c-d9f07ed6ae3a"
   },
   "outputs": [
    {
     "data": {
      "text/html": [],
      "text/plain": [
       "<IPython.core.display.HTML object>"
      ]
     },
     "metadata": {},
     "output_type": "display_data"
    },
    {
     "data": {
      "text/html": [
       "<div>\n",
       "<style scoped>\n",
       "    .dataframe tbody tr th:only-of-type {\n",
       "        vertical-align: middle;\n",
       "    }\n",
       "\n",
       "    .dataframe tbody tr th {\n",
       "        vertical-align: top;\n",
       "    }\n",
       "\n",
       "    .dataframe thead th {\n",
       "        text-align: right;\n",
       "    }\n",
       "</style>\n",
       "<table border=\"1\" class=\"dataframe\">\n",
       "  <thead>\n",
       "    <tr style=\"text-align: right;\">\n",
       "      <th></th>\n",
       "      <th>Parameters</th>\n",
       "    </tr>\n",
       "  </thead>\n",
       "  <tbody>\n",
       "    <tr>\n",
       "      <th>algorithm</th>\n",
       "      <td>auto</td>\n",
       "    </tr>\n",
       "    <tr>\n",
       "      <th>leaf_size</th>\n",
       "      <td>30</td>\n",
       "    </tr>\n",
       "    <tr>\n",
       "      <th>metric</th>\n",
       "      <td>manhattan</td>\n",
       "    </tr>\n",
       "    <tr>\n",
       "      <th>metric_params</th>\n",
       "      <td>None</td>\n",
       "    </tr>\n",
       "    <tr>\n",
       "      <th>n_jobs</th>\n",
       "      <td>-1</td>\n",
       "    </tr>\n",
       "    <tr>\n",
       "      <th>n_neighbors</th>\n",
       "      <td>7</td>\n",
       "    </tr>\n",
       "    <tr>\n",
       "      <th>p</th>\n",
       "      <td>2</td>\n",
       "    </tr>\n",
       "    <tr>\n",
       "      <th>weights</th>\n",
       "      <td>distance</td>\n",
       "    </tr>\n",
       "  </tbody>\n",
       "</table>\n",
       "</div>"
      ],
      "text/plain": [
       "              Parameters\n",
       "algorithm           auto\n",
       "leaf_size             30\n",
       "metric         manhattan\n",
       "metric_params       None\n",
       "n_jobs                -1\n",
       "n_neighbors            7\n",
       "p                      2\n",
       "weights         distance"
      ]
     },
     "metadata": {},
     "output_type": "display_data"
    }
   ],
   "source": [
    "plot_model(tuned_knn2, plot = 'parameter')"
   ]
  },
  {
   "cell_type": "markdown",
   "metadata": {
    "colab_type": "text",
    "id": "pwyjV3KW1RVo"
   },
   "source": [
    "# 9.0 Ensemble a Model"
   ]
  },
  {
   "cell_type": "markdown",
   "metadata": {
    "colab_type": "text",
    "id": "sr64qPJg1RVt"
   },
   "source": [
    "Ensembling is a common machine learning technique used to improve the performance of models (mostly tree based). There are various techniques for ensembling that we will cover in this section. These include Bagging and Boosting __[(Read More)](https://towardsdatascience.com/ensemble-methods-bagging-boosting-and-stacking-c9214a10a205)__. We will use the `ensemble_model()` function in PyCaret which ensembles the trained base estimators using the method defined in the `method` parameter."
   ]
  },
  {
   "cell_type": "code",
   "execution_count": 18,
   "metadata": {
    "colab": {},
    "colab_type": "code",
    "id": "3TQio5301RVx",
    "outputId": "91a74209-e9f7-4958-eac9-554249c0f708"
   },
   "outputs": [
    {
     "data": {
      "text/html": [],
      "text/plain": [
       "<IPython.core.display.HTML object>"
      ]
     },
     "metadata": {},
     "output_type": "display_data"
    },
    {
     "data": {
      "text/html": [
       "<style type=\"text/css\">\n",
       "#T_8a9ca_row10_col0, #T_8a9ca_row10_col1, #T_8a9ca_row10_col2, #T_8a9ca_row10_col3, #T_8a9ca_row10_col4, #T_8a9ca_row10_col5 {\n",
       "  background: yellow;\n",
       "}\n",
       "</style>\n",
       "<table id=\"T_8a9ca\">\n",
       "  <thead>\n",
       "    <tr>\n",
       "      <th class=\"blank level0\" >&nbsp;</th>\n",
       "      <th id=\"T_8a9ca_level0_col0\" class=\"col_heading level0 col0\" >MAE</th>\n",
       "      <th id=\"T_8a9ca_level0_col1\" class=\"col_heading level0 col1\" >MSE</th>\n",
       "      <th id=\"T_8a9ca_level0_col2\" class=\"col_heading level0 col2\" >RMSE</th>\n",
       "      <th id=\"T_8a9ca_level0_col3\" class=\"col_heading level0 col3\" >R2</th>\n",
       "      <th id=\"T_8a9ca_level0_col4\" class=\"col_heading level0 col4\" >RMSLE</th>\n",
       "      <th id=\"T_8a9ca_level0_col5\" class=\"col_heading level0 col5\" >MAPE</th>\n",
       "    </tr>\n",
       "    <tr>\n",
       "      <th class=\"index_name level0\" >Fold</th>\n",
       "      <th class=\"blank col0\" >&nbsp;</th>\n",
       "      <th class=\"blank col1\" >&nbsp;</th>\n",
       "      <th class=\"blank col2\" >&nbsp;</th>\n",
       "      <th class=\"blank col3\" >&nbsp;</th>\n",
       "      <th class=\"blank col4\" >&nbsp;</th>\n",
       "      <th class=\"blank col5\" >&nbsp;</th>\n",
       "    </tr>\n",
       "  </thead>\n",
       "  <tbody>\n",
       "    <tr>\n",
       "      <th id=\"T_8a9ca_level0_row0\" class=\"row_heading level0 row0\" >0</th>\n",
       "      <td id=\"T_8a9ca_row0_col0\" class=\"data row0 col0\" >1924.4656</td>\n",
       "      <td id=\"T_8a9ca_row0_col1\" class=\"data row0 col1\" >8736131.7449</td>\n",
       "      <td id=\"T_8a9ca_row0_col2\" class=\"data row0 col2\" >2955.6948</td>\n",
       "      <td id=\"T_8a9ca_row0_col3\" class=\"data row0 col3\" >0.9041</td>\n",
       "      <td id=\"T_8a9ca_row0_col4\" class=\"data row0 col4\" >0.2668</td>\n",
       "      <td id=\"T_8a9ca_row0_col5\" class=\"data row0 col5\" >0.2041</td>\n",
       "    </tr>\n",
       "    <tr>\n",
       "      <th id=\"T_8a9ca_level0_row1\" class=\"row_heading level0 row1\" >1</th>\n",
       "      <td id=\"T_8a9ca_row1_col0\" class=\"data row1 col0\" >1980.1004</td>\n",
       "      <td id=\"T_8a9ca_row1_col1\" class=\"data row1 col1\" >12538181.9475</td>\n",
       "      <td id=\"T_8a9ca_row1_col2\" class=\"data row1 col2\" >3540.9295</td>\n",
       "      <td id=\"T_8a9ca_row1_col3\" class=\"data row1 col3\" >0.9039</td>\n",
       "      <td id=\"T_8a9ca_row1_col4\" class=\"data row1 col4\" >0.2646</td>\n",
       "      <td id=\"T_8a9ca_row1_col5\" class=\"data row1 col5\" >0.2041</td>\n",
       "    </tr>\n",
       "    <tr>\n",
       "      <th id=\"T_8a9ca_level0_row2\" class=\"row_heading level0 row2\" >2</th>\n",
       "      <td id=\"T_8a9ca_row2_col0\" class=\"data row2 col0\" >1912.0015</td>\n",
       "      <td id=\"T_8a9ca_row2_col1\" class=\"data row2 col1\" >8982930.8341</td>\n",
       "      <td id=\"T_8a9ca_row2_col2\" class=\"data row2 col2\" >2997.1538</td>\n",
       "      <td id=\"T_8a9ca_row2_col3\" class=\"data row2 col3\" >0.9176</td>\n",
       "      <td id=\"T_8a9ca_row2_col4\" class=\"data row2 col4\" >0.2651</td>\n",
       "      <td id=\"T_8a9ca_row2_col5\" class=\"data row2 col5\" >0.2165</td>\n",
       "    </tr>\n",
       "    <tr>\n",
       "      <th id=\"T_8a9ca_level0_row3\" class=\"row_heading level0 row3\" >3</th>\n",
       "      <td id=\"T_8a9ca_row3_col0\" class=\"data row3 col0\" >1923.1600</td>\n",
       "      <td id=\"T_8a9ca_row3_col1\" class=\"data row3 col1\" >8364765.4873</td>\n",
       "      <td id=\"T_8a9ca_row3_col2\" class=\"data row3 col2\" >2892.1904</td>\n",
       "      <td id=\"T_8a9ca_row3_col3\" class=\"data row3 col3\" >0.9077</td>\n",
       "      <td id=\"T_8a9ca_row3_col4\" class=\"data row3 col4\" >0.2507</td>\n",
       "      <td id=\"T_8a9ca_row3_col5\" class=\"data row3 col5\" >0.1954</td>\n",
       "    </tr>\n",
       "    <tr>\n",
       "      <th id=\"T_8a9ca_level0_row4\" class=\"row_heading level0 row4\" >4</th>\n",
       "      <td id=\"T_8a9ca_row4_col0\" class=\"data row4 col0\" >1945.9234</td>\n",
       "      <td id=\"T_8a9ca_row4_col1\" class=\"data row4 col1\" >8658428.0843</td>\n",
       "      <td id=\"T_8a9ca_row4_col2\" class=\"data row4 col2\" >2942.5207</td>\n",
       "      <td id=\"T_8a9ca_row4_col3\" class=\"data row4 col3\" >0.8920</td>\n",
       "      <td id=\"T_8a9ca_row4_col4\" class=\"data row4 col4\" >0.2634</td>\n",
       "      <td id=\"T_8a9ca_row4_col5\" class=\"data row4 col5\" >0.2157</td>\n",
       "    </tr>\n",
       "    <tr>\n",
       "      <th id=\"T_8a9ca_level0_row5\" class=\"row_heading level0 row5\" >5</th>\n",
       "      <td id=\"T_8a9ca_row5_col0\" class=\"data row5 col0\" >2020.7376</td>\n",
       "      <td id=\"T_8a9ca_row5_col1\" class=\"data row5 col1\" >11914427.8011</td>\n",
       "      <td id=\"T_8a9ca_row5_col2\" class=\"data row5 col2\" >3451.7282</td>\n",
       "      <td id=\"T_8a9ca_row5_col3\" class=\"data row5 col3\" >0.8983</td>\n",
       "      <td id=\"T_8a9ca_row5_col4\" class=\"data row5 col4\" >0.2598</td>\n",
       "      <td id=\"T_8a9ca_row5_col5\" class=\"data row5 col5\" >0.2096</td>\n",
       "    </tr>\n",
       "    <tr>\n",
       "      <th id=\"T_8a9ca_level0_row6\" class=\"row_heading level0 row6\" >6</th>\n",
       "      <td id=\"T_8a9ca_row6_col0\" class=\"data row6 col0\" >1939.6026</td>\n",
       "      <td id=\"T_8a9ca_row6_col1\" class=\"data row6 col1\" >8723092.9019</td>\n",
       "      <td id=\"T_8a9ca_row6_col2\" class=\"data row6 col2\" >2953.4883</td>\n",
       "      <td id=\"T_8a9ca_row6_col3\" class=\"data row6 col3\" >0.9180</td>\n",
       "      <td id=\"T_8a9ca_row6_col4\" class=\"data row6 col4\" >0.2619</td>\n",
       "      <td id=\"T_8a9ca_row6_col5\" class=\"data row6 col5\" >0.1962</td>\n",
       "    </tr>\n",
       "    <tr>\n",
       "      <th id=\"T_8a9ca_level0_row7\" class=\"row_heading level0 row7\" >7</th>\n",
       "      <td id=\"T_8a9ca_row7_col0\" class=\"data row7 col0\" >1485.4546</td>\n",
       "      <td id=\"T_8a9ca_row7_col1\" class=\"data row7 col1\" >5583419.3599</td>\n",
       "      <td id=\"T_8a9ca_row7_col2\" class=\"data row7 col2\" >2362.9260</td>\n",
       "      <td id=\"T_8a9ca_row7_col3\" class=\"data row7 col3\" >0.9294</td>\n",
       "      <td id=\"T_8a9ca_row7_col4\" class=\"data row7 col4\" >0.2226</td>\n",
       "      <td id=\"T_8a9ca_row7_col5\" class=\"data row7 col5\" >0.1659</td>\n",
       "    </tr>\n",
       "    <tr>\n",
       "      <th id=\"T_8a9ca_level0_row8\" class=\"row_heading level0 row8\" >8</th>\n",
       "      <td id=\"T_8a9ca_row8_col0\" class=\"data row8 col0\" >1997.2631</td>\n",
       "      <td id=\"T_8a9ca_row8_col1\" class=\"data row8 col1\" >9908416.9058</td>\n",
       "      <td id=\"T_8a9ca_row8_col2\" class=\"data row8 col2\" >3147.7638</td>\n",
       "      <td id=\"T_8a9ca_row8_col3\" class=\"data row8 col3\" >0.9027</td>\n",
       "      <td id=\"T_8a9ca_row8_col4\" class=\"data row8 col4\" >0.2708</td>\n",
       "      <td id=\"T_8a9ca_row8_col5\" class=\"data row8 col5\" >0.2056</td>\n",
       "    </tr>\n",
       "    <tr>\n",
       "      <th id=\"T_8a9ca_level0_row9\" class=\"row_heading level0 row9\" >9</th>\n",
       "      <td id=\"T_8a9ca_row9_col0\" class=\"data row9 col0\" >2043.9121</td>\n",
       "      <td id=\"T_8a9ca_row9_col1\" class=\"data row9 col1\" >10074024.3315</td>\n",
       "      <td id=\"T_8a9ca_row9_col2\" class=\"data row9 col2\" >3173.9604</td>\n",
       "      <td id=\"T_8a9ca_row9_col3\" class=\"data row9 col3\" >0.9041</td>\n",
       "      <td id=\"T_8a9ca_row9_col4\" class=\"data row9 col4\" >0.2857</td>\n",
       "      <td id=\"T_8a9ca_row9_col5\" class=\"data row9 col5\" >0.2317</td>\n",
       "    </tr>\n",
       "    <tr>\n",
       "      <th id=\"T_8a9ca_level0_row10\" class=\"row_heading level0 row10\" >Mean</th>\n",
       "      <td id=\"T_8a9ca_row10_col0\" class=\"data row10 col0\" >1917.2621</td>\n",
       "      <td id=\"T_8a9ca_row10_col1\" class=\"data row10 col1\" >9348381.9398</td>\n",
       "      <td id=\"T_8a9ca_row10_col2\" class=\"data row10 col2\" >3041.8356</td>\n",
       "      <td id=\"T_8a9ca_row10_col3\" class=\"data row10 col3\" >0.9078</td>\n",
       "      <td id=\"T_8a9ca_row10_col4\" class=\"data row10 col4\" >0.2611</td>\n",
       "      <td id=\"T_8a9ca_row10_col5\" class=\"data row10 col5\" >0.2045</td>\n",
       "    </tr>\n",
       "    <tr>\n",
       "      <th id=\"T_8a9ca_level0_row11\" class=\"row_heading level0 row11\" >Std</th>\n",
       "      <td id=\"T_8a9ca_row11_col0\" class=\"data row11 col0\" >149.9963</td>\n",
       "      <td id=\"T_8a9ca_row11_col1\" class=\"data row11 col1\" >1847091.8646</td>\n",
       "      <td id=\"T_8a9ca_row11_col2\" class=\"data row11 col2\" >309.2219</td>\n",
       "      <td id=\"T_8a9ca_row11_col3\" class=\"data row11 col3\" >0.0104</td>\n",
       "      <td id=\"T_8a9ca_row11_col4\" class=\"data row11 col4\" >0.0154</td>\n",
       "      <td id=\"T_8a9ca_row11_col5\" class=\"data row11 col5\" >0.0164</td>\n",
       "    </tr>\n",
       "  </tbody>\n",
       "</table>\n"
      ],
      "text/plain": [
       "<pandas.io.formats.style.Styler at 0x1f8adc75d60>"
      ]
     },
     "metadata": {},
     "output_type": "display_data"
    },
    {
     "data": {
      "text/html": [],
      "text/plain": [
       "<IPython.core.display.HTML object>"
      ]
     },
     "metadata": {},
     "output_type": "display_data"
    }
   ],
   "source": [
    "# lets create a simple dt\n",
    "dt = create_model('dt')"
   ]
  },
  {
   "cell_type": "markdown",
   "metadata": {
    "colab_type": "text",
    "id": "oN1T29bo1RV-"
   },
   "source": [
    "# 9.1 Bagging"
   ]
  },
  {
   "cell_type": "code",
   "execution_count": 19,
   "metadata": {
    "colab": {},
    "colab_type": "code",
    "id": "fXN5tYyE1RWB",
    "outputId": "e6a354e5-1a2c-47cb-f6e7-643fcba344c3"
   },
   "outputs": [
    {
     "data": {
      "text/html": [],
      "text/plain": [
       "<IPython.core.display.HTML object>"
      ]
     },
     "metadata": {},
     "output_type": "display_data"
    },
    {
     "data": {
      "text/html": [
       "<style type=\"text/css\">\n",
       "#T_48495_row10_col0, #T_48495_row10_col1, #T_48495_row10_col2, #T_48495_row10_col3, #T_48495_row10_col4, #T_48495_row10_col5 {\n",
       "  background: yellow;\n",
       "}\n",
       "</style>\n",
       "<table id=\"T_48495\">\n",
       "  <thead>\n",
       "    <tr>\n",
       "      <th class=\"blank level0\" >&nbsp;</th>\n",
       "      <th id=\"T_48495_level0_col0\" class=\"col_heading level0 col0\" >MAE</th>\n",
       "      <th id=\"T_48495_level0_col1\" class=\"col_heading level0 col1\" >MSE</th>\n",
       "      <th id=\"T_48495_level0_col2\" class=\"col_heading level0 col2\" >RMSE</th>\n",
       "      <th id=\"T_48495_level0_col3\" class=\"col_heading level0 col3\" >R2</th>\n",
       "      <th id=\"T_48495_level0_col4\" class=\"col_heading level0 col4\" >RMSLE</th>\n",
       "      <th id=\"T_48495_level0_col5\" class=\"col_heading level0 col5\" >MAPE</th>\n",
       "    </tr>\n",
       "    <tr>\n",
       "      <th class=\"index_name level0\" >Fold</th>\n",
       "      <th class=\"blank col0\" >&nbsp;</th>\n",
       "      <th class=\"blank col1\" >&nbsp;</th>\n",
       "      <th class=\"blank col2\" >&nbsp;</th>\n",
       "      <th class=\"blank col3\" >&nbsp;</th>\n",
       "      <th class=\"blank col4\" >&nbsp;</th>\n",
       "      <th class=\"blank col5\" >&nbsp;</th>\n",
       "    </tr>\n",
       "  </thead>\n",
       "  <tbody>\n",
       "    <tr>\n",
       "      <th id=\"T_48495_level0_row0\" class=\"row_heading level0 row0\" >0</th>\n",
       "      <td id=\"T_48495_row0_col0\" class=\"data row0 col0\" >1767.1462</td>\n",
       "      <td id=\"T_48495_row0_col1\" class=\"data row0 col1\" >6737781.6593</td>\n",
       "      <td id=\"T_48495_row0_col2\" class=\"data row0 col2\" >2595.7237</td>\n",
       "      <td id=\"T_48495_row0_col3\" class=\"data row0 col3\" >0.9260</td>\n",
       "      <td id=\"T_48495_row0_col4\" class=\"data row0 col4\" >0.2513</td>\n",
       "      <td id=\"T_48495_row0_col5\" class=\"data row0 col5\" >0.1948</td>\n",
       "    </tr>\n",
       "    <tr>\n",
       "      <th id=\"T_48495_level0_row1\" class=\"row_heading level0 row1\" >1</th>\n",
       "      <td id=\"T_48495_row1_col0\" class=\"data row1 col0\" >1829.8755</td>\n",
       "      <td id=\"T_48495_row1_col1\" class=\"data row1 col1\" >10975942.8633</td>\n",
       "      <td id=\"T_48495_row1_col2\" class=\"data row1 col2\" >3312.9961</td>\n",
       "      <td id=\"T_48495_row1_col3\" class=\"data row1 col3\" >0.9159</td>\n",
       "      <td id=\"T_48495_row1_col4\" class=\"data row1 col4\" >0.2415</td>\n",
       "      <td id=\"T_48495_row1_col5\" class=\"data row1 col5\" >0.1910</td>\n",
       "    </tr>\n",
       "    <tr>\n",
       "      <th id=\"T_48495_level0_row2\" class=\"row_heading level0 row2\" >2</th>\n",
       "      <td id=\"T_48495_row2_col0\" class=\"data row2 col0\" >1830.6263</td>\n",
       "      <td id=\"T_48495_row2_col1\" class=\"data row2 col1\" >8073105.9527</td>\n",
       "      <td id=\"T_48495_row2_col2\" class=\"data row2 col2\" >2841.3212</td>\n",
       "      <td id=\"T_48495_row2_col3\" class=\"data row2 col3\" >0.9260</td>\n",
       "      <td id=\"T_48495_row2_col4\" class=\"data row2 col4\" >0.2503</td>\n",
       "      <td id=\"T_48495_row2_col5\" class=\"data row2 col5\" >0.2041</td>\n",
       "    </tr>\n",
       "    <tr>\n",
       "      <th id=\"T_48495_level0_row3\" class=\"row_heading level0 row3\" >3</th>\n",
       "      <td id=\"T_48495_row3_col0\" class=\"data row3 col0\" >1706.5973</td>\n",
       "      <td id=\"T_48495_row3_col1\" class=\"data row3 col1\" >5818551.2544</td>\n",
       "      <td id=\"T_48495_row3_col2\" class=\"data row3 col2\" >2412.1673</td>\n",
       "      <td id=\"T_48495_row3_col3\" class=\"data row3 col3\" >0.9358</td>\n",
       "      <td id=\"T_48495_row3_col4\" class=\"data row3 col4\" >0.2293</td>\n",
       "      <td id=\"T_48495_row3_col5\" class=\"data row3 col5\" >0.1815</td>\n",
       "    </tr>\n",
       "    <tr>\n",
       "      <th id=\"T_48495_level0_row4\" class=\"row_heading level0 row4\" >4</th>\n",
       "      <td id=\"T_48495_row4_col0\" class=\"data row4 col0\" >1754.0543</td>\n",
       "      <td id=\"T_48495_row4_col1\" class=\"data row4 col1\" >6420900.6174</td>\n",
       "      <td id=\"T_48495_row4_col2\" class=\"data row4 col2\" >2533.9496</td>\n",
       "      <td id=\"T_48495_row4_col3\" class=\"data row4 col3\" >0.9199</td>\n",
       "      <td id=\"T_48495_row4_col4\" class=\"data row4 col4\" >0.2487</td>\n",
       "      <td id=\"T_48495_row4_col5\" class=\"data row4 col5\" >0.2029</td>\n",
       "    </tr>\n",
       "    <tr>\n",
       "      <th id=\"T_48495_level0_row5\" class=\"row_heading level0 row5\" >5</th>\n",
       "      <td id=\"T_48495_row5_col0\" class=\"data row5 col0\" >1875.1184</td>\n",
       "      <td id=\"T_48495_row5_col1\" class=\"data row5 col1\" >9842995.2813</td>\n",
       "      <td id=\"T_48495_row5_col2\" class=\"data row5 col2\" >3137.3548</td>\n",
       "      <td id=\"T_48495_row5_col3\" class=\"data row5 col3\" >0.9160</td>\n",
       "      <td id=\"T_48495_row5_col4\" class=\"data row5 col4\" >0.2400</td>\n",
       "      <td id=\"T_48495_row5_col5\" class=\"data row5 col5\" >0.1967</td>\n",
       "    </tr>\n",
       "    <tr>\n",
       "      <th id=\"T_48495_level0_row6\" class=\"row_heading level0 row6\" >6</th>\n",
       "      <td id=\"T_48495_row6_col0\" class=\"data row6 col0\" >1904.4099</td>\n",
       "      <td id=\"T_48495_row6_col1\" class=\"data row6 col1\" >9289012.8910</td>\n",
       "      <td id=\"T_48495_row6_col2\" class=\"data row6 col2\" >3047.7882</td>\n",
       "      <td id=\"T_48495_row6_col3\" class=\"data row6 col3\" >0.9127</td>\n",
       "      <td id=\"T_48495_row6_col4\" class=\"data row6 col4\" >0.2498</td>\n",
       "      <td id=\"T_48495_row6_col5\" class=\"data row6 col5\" >0.1926</td>\n",
       "    </tr>\n",
       "    <tr>\n",
       "      <th id=\"T_48495_level0_row7\" class=\"row_heading level0 row7\" >7</th>\n",
       "      <td id=\"T_48495_row7_col0\" class=\"data row7 col0\" >1404.7415</td>\n",
       "      <td id=\"T_48495_row7_col1\" class=\"data row7 col1\" >4677902.9585</td>\n",
       "      <td id=\"T_48495_row7_col2\" class=\"data row7 col2\" >2162.8460</td>\n",
       "      <td id=\"T_48495_row7_col3\" class=\"data row7 col3\" >0.9408</td>\n",
       "      <td id=\"T_48495_row7_col4\" class=\"data row7 col4\" >0.2103</td>\n",
       "      <td id=\"T_48495_row7_col5\" class=\"data row7 col5\" >0.1588</td>\n",
       "    </tr>\n",
       "    <tr>\n",
       "      <th id=\"T_48495_level0_row8\" class=\"row_heading level0 row8\" >8</th>\n",
       "      <td id=\"T_48495_row8_col0\" class=\"data row8 col0\" >1769.3131</td>\n",
       "      <td id=\"T_48495_row8_col1\" class=\"data row8 col1\" >6349131.1466</td>\n",
       "      <td id=\"T_48495_row8_col2\" class=\"data row8 col2\" >2519.7482</td>\n",
       "      <td id=\"T_48495_row8_col3\" class=\"data row8 col3\" >0.9376</td>\n",
       "      <td id=\"T_48495_row8_col4\" class=\"data row8 col4\" >0.2470</td>\n",
       "      <td id=\"T_48495_row8_col5\" class=\"data row8 col5\" >0.1947</td>\n",
       "    </tr>\n",
       "    <tr>\n",
       "      <th id=\"T_48495_level0_row9\" class=\"row_heading level0 row9\" >9</th>\n",
       "      <td id=\"T_48495_row9_col0\" class=\"data row9 col0\" >1944.2884</td>\n",
       "      <td id=\"T_48495_row9_col1\" class=\"data row9 col1\" >9343070.0321</td>\n",
       "      <td id=\"T_48495_row9_col2\" class=\"data row9 col2\" >3056.6436</td>\n",
       "      <td id=\"T_48495_row9_col3\" class=\"data row9 col3\" >0.9110</td>\n",
       "      <td id=\"T_48495_row9_col4\" class=\"data row9 col4\" >0.2709</td>\n",
       "      <td id=\"T_48495_row9_col5\" class=\"data row9 col5\" >0.2205</td>\n",
       "    </tr>\n",
       "    <tr>\n",
       "      <th id=\"T_48495_level0_row10\" class=\"row_heading level0 row10\" >Mean</th>\n",
       "      <td id=\"T_48495_row10_col0\" class=\"data row10 col0\" >1778.6171</td>\n",
       "      <td id=\"T_48495_row10_col1\" class=\"data row10 col1\" >7752839.4657</td>\n",
       "      <td id=\"T_48495_row10_col2\" class=\"data row10 col2\" >2762.0539</td>\n",
       "      <td id=\"T_48495_row10_col3\" class=\"data row10 col3\" >0.9242</td>\n",
       "      <td id=\"T_48495_row10_col4\" class=\"data row10 col4\" >0.2439</td>\n",
       "      <td id=\"T_48495_row10_col5\" class=\"data row10 col5\" >0.1938</td>\n",
       "    </tr>\n",
       "    <tr>\n",
       "      <th id=\"T_48495_level0_row11\" class=\"row_heading level0 row11\" >Std</th>\n",
       "      <td id=\"T_48495_row11_col0\" class=\"data row11 col0\" >142.7260</td>\n",
       "      <td id=\"T_48495_row11_col1\" class=\"data row11 col1\" >1942160.7918</td>\n",
       "      <td id=\"T_48495_row11_col2\" class=\"data row11 col2\" >351.9913</td>\n",
       "      <td id=\"T_48495_row11_col3\" class=\"data row11 col3\" >0.0103</td>\n",
       "      <td id=\"T_48495_row11_col4\" class=\"data row11 col4\" >0.0150</td>\n",
       "      <td id=\"T_48495_row11_col5\" class=\"data row11 col5\" >0.0152</td>\n",
       "    </tr>\n",
       "  </tbody>\n",
       "</table>\n"
      ],
      "text/plain": [
       "<pandas.io.formats.style.Styler at 0x1f8ad78fb80>"
      ]
     },
     "metadata": {},
     "output_type": "display_data"
    },
    {
     "data": {
      "text/html": [],
      "text/plain": [
       "<IPython.core.display.HTML object>"
      ]
     },
     "metadata": {},
     "output_type": "display_data"
    }
   ],
   "source": [
    "bagged_dt = ensemble_model(dt)"
   ]
  },
  {
   "cell_type": "code",
   "execution_count": 20,
   "metadata": {
    "colab": {},
    "colab_type": "code",
    "id": "rZnQhUoJ1RWN",
    "outputId": "43d56e9d-2eec-45c8-b8c6-a8ae64b17ad7"
   },
   "outputs": [
    {
     "name": "stdout",
     "output_type": "stream",
     "text": [
      "BaggingRegressor(base_estimator=DecisionTreeRegressor(random_state=123),\n",
      "                 random_state=123)\n"
     ]
    }
   ],
   "source": [
    "# check the parameter of bagged_dt\n",
    "print(bagged_dt)"
   ]
  },
  {
   "cell_type": "markdown",
   "metadata": {
    "colab_type": "text",
    "id": "QMKjtHZA1RWY"
   },
   "source": [
    "Notice how ensembling has improved the `RMSLE` from `0.1082` to `0.0938`. In the above example we have used the default parameters of `ensemble_model()` which uses the `Bagging` method. Let's try `Boosting` by changing the `method` parameter in `ensemble_model()`. See example below: "
   ]
  },
  {
   "cell_type": "markdown",
   "metadata": {
    "colab_type": "text",
    "id": "TFk_UbV51RWc"
   },
   "source": [
    "# 9.2 Boosting"
   ]
  },
  {
   "cell_type": "code",
   "execution_count": 21,
   "metadata": {
    "colab": {},
    "colab_type": "code",
    "id": "lMP9Uj801RWf",
    "outputId": "442145ff-1a0a-4c72-ec3c-cc29f5091477"
   },
   "outputs": [
    {
     "data": {
      "text/html": [],
      "text/plain": [
       "<IPython.core.display.HTML object>"
      ]
     },
     "metadata": {},
     "output_type": "display_data"
    },
    {
     "data": {
      "text/html": [
       "<style type=\"text/css\">\n",
       "#T_ab5f3_row10_col0, #T_ab5f3_row10_col1, #T_ab5f3_row10_col2, #T_ab5f3_row10_col3, #T_ab5f3_row10_col4, #T_ab5f3_row10_col5 {\n",
       "  background: yellow;\n",
       "}\n",
       "</style>\n",
       "<table id=\"T_ab5f3\">\n",
       "  <thead>\n",
       "    <tr>\n",
       "      <th class=\"blank level0\" >&nbsp;</th>\n",
       "      <th id=\"T_ab5f3_level0_col0\" class=\"col_heading level0 col0\" >MAE</th>\n",
       "      <th id=\"T_ab5f3_level0_col1\" class=\"col_heading level0 col1\" >MSE</th>\n",
       "      <th id=\"T_ab5f3_level0_col2\" class=\"col_heading level0 col2\" >RMSE</th>\n",
       "      <th id=\"T_ab5f3_level0_col3\" class=\"col_heading level0 col3\" >R2</th>\n",
       "      <th id=\"T_ab5f3_level0_col4\" class=\"col_heading level0 col4\" >RMSLE</th>\n",
       "      <th id=\"T_ab5f3_level0_col5\" class=\"col_heading level0 col5\" >MAPE</th>\n",
       "    </tr>\n",
       "    <tr>\n",
       "      <th class=\"index_name level0\" >Fold</th>\n",
       "      <th class=\"blank col0\" >&nbsp;</th>\n",
       "      <th class=\"blank col1\" >&nbsp;</th>\n",
       "      <th class=\"blank col2\" >&nbsp;</th>\n",
       "      <th class=\"blank col3\" >&nbsp;</th>\n",
       "      <th class=\"blank col4\" >&nbsp;</th>\n",
       "      <th class=\"blank col5\" >&nbsp;</th>\n",
       "    </tr>\n",
       "  </thead>\n",
       "  <tbody>\n",
       "    <tr>\n",
       "      <th id=\"T_ab5f3_level0_row0\" class=\"row_heading level0 row0\" >0</th>\n",
       "      <td id=\"T_ab5f3_row0_col0\" class=\"data row0 col0\" >1881.0771</td>\n",
       "      <td id=\"T_ab5f3_row0_col1\" class=\"data row0 col1\" >7215903.0900</td>\n",
       "      <td id=\"T_ab5f3_row0_col2\" class=\"data row0 col2\" >2686.2433</td>\n",
       "      <td id=\"T_ab5f3_row0_col3\" class=\"data row0 col3\" >0.9208</td>\n",
       "      <td id=\"T_ab5f3_row0_col4\" class=\"data row0 col4\" >0.2699</td>\n",
       "      <td id=\"T_ab5f3_row0_col5\" class=\"data row0 col5\" >0.2069</td>\n",
       "    </tr>\n",
       "    <tr>\n",
       "      <th id=\"T_ab5f3_level0_row1\" class=\"row_heading level0 row1\" >1</th>\n",
       "      <td id=\"T_ab5f3_row1_col0\" class=\"data row1 col0\" >1990.8388</td>\n",
       "      <td id=\"T_ab5f3_row1_col1\" class=\"data row1 col1\" >12728084.8040</td>\n",
       "      <td id=\"T_ab5f3_row1_col2\" class=\"data row1 col2\" >3567.6442</td>\n",
       "      <td id=\"T_ab5f3_row1_col3\" class=\"data row1 col3\" >0.9025</td>\n",
       "      <td id=\"T_ab5f3_row1_col4\" class=\"data row1 col4\" >0.2593</td>\n",
       "      <td id=\"T_ab5f3_row1_col5\" class=\"data row1 col5\" >0.2019</td>\n",
       "    </tr>\n",
       "    <tr>\n",
       "      <th id=\"T_ab5f3_level0_row2\" class=\"row_heading level0 row2\" >2</th>\n",
       "      <td id=\"T_ab5f3_row2_col0\" class=\"data row2 col0\" >1857.8921</td>\n",
       "      <td id=\"T_ab5f3_row2_col1\" class=\"data row2 col1\" >6676250.8704</td>\n",
       "      <td id=\"T_ab5f3_row2_col2\" class=\"data row2 col2\" >2583.8442</td>\n",
       "      <td id=\"T_ab5f3_row2_col3\" class=\"data row2 col3\" >0.9388</td>\n",
       "      <td id=\"T_ab5f3_row2_col4\" class=\"data row2 col4\" >0.2564</td>\n",
       "      <td id=\"T_ab5f3_row2_col5\" class=\"data row2 col5\" >0.2103</td>\n",
       "    </tr>\n",
       "    <tr>\n",
       "      <th id=\"T_ab5f3_level0_row3\" class=\"row_heading level0 row3\" >3</th>\n",
       "      <td id=\"T_ab5f3_row3_col0\" class=\"data row3 col0\" >1824.9308</td>\n",
       "      <td id=\"T_ab5f3_row3_col1\" class=\"data row3 col1\" >6530790.3589</td>\n",
       "      <td id=\"T_ab5f3_row3_col2\" class=\"data row3 col2\" >2555.5411</td>\n",
       "      <td id=\"T_ab5f3_row3_col3\" class=\"data row3 col3\" >0.9279</td>\n",
       "      <td id=\"T_ab5f3_row3_col4\" class=\"data row3 col4\" >0.2488</td>\n",
       "      <td id=\"T_ab5f3_row3_col5\" class=\"data row3 col5\" >0.1935</td>\n",
       "    </tr>\n",
       "    <tr>\n",
       "      <th id=\"T_ab5f3_level0_row4\" class=\"row_heading level0 row4\" >4</th>\n",
       "      <td id=\"T_ab5f3_row4_col0\" class=\"data row4 col0\" >1910.9129</td>\n",
       "      <td id=\"T_ab5f3_row4_col1\" class=\"data row4 col1\" >7601374.4146</td>\n",
       "      <td id=\"T_ab5f3_row4_col2\" class=\"data row4 col2\" >2757.0590</td>\n",
       "      <td id=\"T_ab5f3_row4_col3\" class=\"data row4 col3\" >0.9052</td>\n",
       "      <td id=\"T_ab5f3_row4_col4\" class=\"data row4 col4\" >0.2709</td>\n",
       "      <td id=\"T_ab5f3_row4_col5\" class=\"data row4 col5\" >0.2176</td>\n",
       "    </tr>\n",
       "    <tr>\n",
       "      <th id=\"T_ab5f3_level0_row5\" class=\"row_heading level0 row5\" >5</th>\n",
       "      <td id=\"T_ab5f3_row5_col0\" class=\"data row5 col0\" >1889.2235</td>\n",
       "      <td id=\"T_ab5f3_row5_col1\" class=\"data row5 col1\" >9030032.3369</td>\n",
       "      <td id=\"T_ab5f3_row5_col2\" class=\"data row5 col2\" >3005.0012</td>\n",
       "      <td id=\"T_ab5f3_row5_col3\" class=\"data row5 col3\" >0.9229</td>\n",
       "      <td id=\"T_ab5f3_row5_col4\" class=\"data row5 col4\" >0.2506</td>\n",
       "      <td id=\"T_ab5f3_row5_col5\" class=\"data row5 col5\" >0.2066</td>\n",
       "    </tr>\n",
       "    <tr>\n",
       "      <th id=\"T_ab5f3_level0_row6\" class=\"row_heading level0 row6\" >6</th>\n",
       "      <td id=\"T_ab5f3_row6_col0\" class=\"data row6 col0\" >1919.9484</td>\n",
       "      <td id=\"T_ab5f3_row6_col1\" class=\"data row6 col1\" >8871738.6963</td>\n",
       "      <td id=\"T_ab5f3_row6_col2\" class=\"data row6 col2\" >2978.5464</td>\n",
       "      <td id=\"T_ab5f3_row6_col3\" class=\"data row6 col3\" >0.9167</td>\n",
       "      <td id=\"T_ab5f3_row6_col4\" class=\"data row6 col4\" >0.2549</td>\n",
       "      <td id=\"T_ab5f3_row6_col5\" class=\"data row6 col5\" >0.1927</td>\n",
       "    </tr>\n",
       "    <tr>\n",
       "      <th id=\"T_ab5f3_level0_row7\" class=\"row_heading level0 row7\" >7</th>\n",
       "      <td id=\"T_ab5f3_row7_col0\" class=\"data row7 col0\" >1511.9313</td>\n",
       "      <td id=\"T_ab5f3_row7_col1\" class=\"data row7 col1\" >5357740.4775</td>\n",
       "      <td id=\"T_ab5f3_row7_col2\" class=\"data row7 col2\" >2314.6793</td>\n",
       "      <td id=\"T_ab5f3_row7_col3\" class=\"data row7 col3\" >0.9322</td>\n",
       "      <td id=\"T_ab5f3_row7_col4\" class=\"data row7 col4\" >0.2268</td>\n",
       "      <td id=\"T_ab5f3_row7_col5\" class=\"data row7 col5\" >0.1725</td>\n",
       "    </tr>\n",
       "    <tr>\n",
       "      <th id=\"T_ab5f3_level0_row8\" class=\"row_heading level0 row8\" >8</th>\n",
       "      <td id=\"T_ab5f3_row8_col0\" class=\"data row8 col0\" >1777.2217</td>\n",
       "      <td id=\"T_ab5f3_row8_col1\" class=\"data row8 col1\" >6350058.8393</td>\n",
       "      <td id=\"T_ab5f3_row8_col2\" class=\"data row8 col2\" >2519.9323</td>\n",
       "      <td id=\"T_ab5f3_row8_col3\" class=\"data row8 col3\" >0.9376</td>\n",
       "      <td id=\"T_ab5f3_row8_col4\" class=\"data row8 col4\" >0.2614</td>\n",
       "      <td id=\"T_ab5f3_row8_col5\" class=\"data row8 col5\" >0.1961</td>\n",
       "    </tr>\n",
       "    <tr>\n",
       "      <th id=\"T_ab5f3_level0_row9\" class=\"row_heading level0 row9\" >9</th>\n",
       "      <td id=\"T_ab5f3_row9_col0\" class=\"data row9 col0\" >1941.6839</td>\n",
       "      <td id=\"T_ab5f3_row9_col1\" class=\"data row9 col1\" >8829752.0860</td>\n",
       "      <td id=\"T_ab5f3_row9_col2\" class=\"data row9 col2\" >2971.4899</td>\n",
       "      <td id=\"T_ab5f3_row9_col3\" class=\"data row9 col3\" >0.9159</td>\n",
       "      <td id=\"T_ab5f3_row9_col4\" class=\"data row9 col4\" >0.2768</td>\n",
       "      <td id=\"T_ab5f3_row9_col5\" class=\"data row9 col5\" >0.2207</td>\n",
       "    </tr>\n",
       "    <tr>\n",
       "      <th id=\"T_ab5f3_level0_row10\" class=\"row_heading level0 row10\" >Mean</th>\n",
       "      <td id=\"T_ab5f3_row10_col0\" class=\"data row10 col0\" >1850.5660</td>\n",
       "      <td id=\"T_ab5f3_row10_col1\" class=\"data row10 col1\" >7919172.5974</td>\n",
       "      <td id=\"T_ab5f3_row10_col2\" class=\"data row10 col2\" >2793.9981</td>\n",
       "      <td id=\"T_ab5f3_row10_col3\" class=\"data row10 col3\" >0.9221</td>\n",
       "      <td id=\"T_ab5f3_row10_col4\" class=\"data row10 col4\" >0.2576</td>\n",
       "      <td id=\"T_ab5f3_row10_col5\" class=\"data row10 col5\" >0.2019</td>\n",
       "    </tr>\n",
       "    <tr>\n",
       "      <th id=\"T_ab5f3_level0_row11\" class=\"row_heading level0 row11\" >Std</th>\n",
       "      <td id=\"T_ab5f3_row11_col0\" class=\"data row11 col0\" >126.3422</td>\n",
       "      <td id=\"T_ab5f3_row11_col1\" class=\"data row11 col1\" >1979577.7071</td>\n",
       "      <td id=\"T_ab5f3_row11_col2\" class=\"data row11 col2\" >335.7786</td>\n",
       "      <td id=\"T_ab5f3_row11_col3\" class=\"data row11 col3\" >0.0118</td>\n",
       "      <td id=\"T_ab5f3_row11_col4\" class=\"data row11 col4\" >0.0134</td>\n",
       "      <td id=\"T_ab5f3_row11_col5\" class=\"data row11 col5\" >0.0133</td>\n",
       "    </tr>\n",
       "  </tbody>\n",
       "</table>\n"
      ],
      "text/plain": [
       "<pandas.io.formats.style.Styler at 0x1f8ad920520>"
      ]
     },
     "metadata": {},
     "output_type": "display_data"
    },
    {
     "data": {
      "text/html": [],
      "text/plain": [
       "<IPython.core.display.HTML object>"
      ]
     },
     "metadata": {},
     "output_type": "display_data"
    }
   ],
   "source": [
    "boosted_dt = ensemble_model(dt, method = 'Boosting')"
   ]
  },
  {
   "cell_type": "markdown",
   "metadata": {
    "colab_type": "text",
    "id": "TUJdkdR-1RWp"
   },
   "source": [
    "Notice how easy it is to ensemble models in PyCaret. By simply changing the `method` parameter you can do bagging or boosting which would otherwise have taken multiple lines of code. Note that `ensemble_model()` will by default build `10` estimators. This can be changed using the `n_estimators` parameter. Increasing the number of estimators can sometimes improve results. See an example below:"
   ]
  },
  {
   "cell_type": "code",
   "execution_count": 22,
   "metadata": {
    "colab": {},
    "colab_type": "code",
    "id": "S73V76Fr1RWu",
    "outputId": "a9b7c767-7f66-45c0-ee0e-fd2a620f1125"
   },
   "outputs": [
    {
     "data": {
      "text/html": [],
      "text/plain": [
       "<IPython.core.display.HTML object>"
      ]
     },
     "metadata": {},
     "output_type": "display_data"
    },
    {
     "data": {
      "text/html": [
       "<style type=\"text/css\">\n",
       "#T_ec6e1_row10_col0, #T_ec6e1_row10_col1, #T_ec6e1_row10_col2, #T_ec6e1_row10_col3, #T_ec6e1_row10_col4, #T_ec6e1_row10_col5 {\n",
       "  background: yellow;\n",
       "}\n",
       "</style>\n",
       "<table id=\"T_ec6e1\">\n",
       "  <thead>\n",
       "    <tr>\n",
       "      <th class=\"blank level0\" >&nbsp;</th>\n",
       "      <th id=\"T_ec6e1_level0_col0\" class=\"col_heading level0 col0\" >MAE</th>\n",
       "      <th id=\"T_ec6e1_level0_col1\" class=\"col_heading level0 col1\" >MSE</th>\n",
       "      <th id=\"T_ec6e1_level0_col2\" class=\"col_heading level0 col2\" >RMSE</th>\n",
       "      <th id=\"T_ec6e1_level0_col3\" class=\"col_heading level0 col3\" >R2</th>\n",
       "      <th id=\"T_ec6e1_level0_col4\" class=\"col_heading level0 col4\" >RMSLE</th>\n",
       "      <th id=\"T_ec6e1_level0_col5\" class=\"col_heading level0 col5\" >MAPE</th>\n",
       "    </tr>\n",
       "    <tr>\n",
       "      <th class=\"index_name level0\" >Fold</th>\n",
       "      <th class=\"blank col0\" >&nbsp;</th>\n",
       "      <th class=\"blank col1\" >&nbsp;</th>\n",
       "      <th class=\"blank col2\" >&nbsp;</th>\n",
       "      <th class=\"blank col3\" >&nbsp;</th>\n",
       "      <th class=\"blank col4\" >&nbsp;</th>\n",
       "      <th class=\"blank col5\" >&nbsp;</th>\n",
       "    </tr>\n",
       "  </thead>\n",
       "  <tbody>\n",
       "    <tr>\n",
       "      <th id=\"T_ec6e1_level0_row0\" class=\"row_heading level0 row0\" >0</th>\n",
       "      <td id=\"T_ec6e1_row0_col0\" class=\"data row0 col0\" >1768.6334</td>\n",
       "      <td id=\"T_ec6e1_row0_col1\" class=\"data row0 col1\" >6770978.3496</td>\n",
       "      <td id=\"T_ec6e1_row0_col2\" class=\"data row0 col2\" >2602.1104</td>\n",
       "      <td id=\"T_ec6e1_row0_col3\" class=\"data row0 col3\" >0.9257</td>\n",
       "      <td id=\"T_ec6e1_row0_col4\" class=\"data row0 col4\" >0.2484</td>\n",
       "      <td id=\"T_ec6e1_row0_col5\" class=\"data row0 col5\" >0.1941</td>\n",
       "    </tr>\n",
       "    <tr>\n",
       "      <th id=\"T_ec6e1_level0_row1\" class=\"row_heading level0 row1\" >1</th>\n",
       "      <td id=\"T_ec6e1_row1_col0\" class=\"data row1 col0\" >1828.7557</td>\n",
       "      <td id=\"T_ec6e1_row1_col1\" class=\"data row1 col1\" >10694621.1337</td>\n",
       "      <td id=\"T_ec6e1_row1_col2\" class=\"data row1 col2\" >3270.2632</td>\n",
       "      <td id=\"T_ec6e1_row1_col3\" class=\"data row1 col3\" >0.9180</td>\n",
       "      <td id=\"T_ec6e1_row1_col4\" class=\"data row1 col4\" >0.2426</td>\n",
       "      <td id=\"T_ec6e1_row1_col5\" class=\"data row1 col5\" >0.1924</td>\n",
       "    </tr>\n",
       "    <tr>\n",
       "      <th id=\"T_ec6e1_level0_row2\" class=\"row_heading level0 row2\" >2</th>\n",
       "      <td id=\"T_ec6e1_row2_col0\" class=\"data row2 col0\" >1790.8172</td>\n",
       "      <td id=\"T_ec6e1_row2_col1\" class=\"data row2 col1\" >6550480.9886</td>\n",
       "      <td id=\"T_ec6e1_row2_col2\" class=\"data row2 col2\" >2559.3907</td>\n",
       "      <td id=\"T_ec6e1_row2_col3\" class=\"data row2 col3\" >0.9399</td>\n",
       "      <td id=\"T_ec6e1_row2_col4\" class=\"data row2 col4\" >0.2480</td>\n",
       "      <td id=\"T_ec6e1_row2_col5\" class=\"data row2 col5\" >0.2049</td>\n",
       "    </tr>\n",
       "    <tr>\n",
       "      <th id=\"T_ec6e1_level0_row3\" class=\"row_heading level0 row3\" >3</th>\n",
       "      <td id=\"T_ec6e1_row3_col0\" class=\"data row3 col0\" >1718.1859</td>\n",
       "      <td id=\"T_ec6e1_row3_col1\" class=\"data row3 col1\" >5859451.4830</td>\n",
       "      <td id=\"T_ec6e1_row3_col2\" class=\"data row3 col2\" >2420.6304</td>\n",
       "      <td id=\"T_ec6e1_row3_col3\" class=\"data row3 col3\" >0.9354</td>\n",
       "      <td id=\"T_ec6e1_row3_col4\" class=\"data row3 col4\" >0.2277</td>\n",
       "      <td id=\"T_ec6e1_row3_col5\" class=\"data row3 col5\" >0.1814</td>\n",
       "    </tr>\n",
       "    <tr>\n",
       "      <th id=\"T_ec6e1_level0_row4\" class=\"row_heading level0 row4\" >4</th>\n",
       "      <td id=\"T_ec6e1_row4_col0\" class=\"data row4 col0\" >1731.3220</td>\n",
       "      <td id=\"T_ec6e1_row4_col1\" class=\"data row4 col1\" >6241468.6932</td>\n",
       "      <td id=\"T_ec6e1_row4_col2\" class=\"data row4 col2\" >2498.2932</td>\n",
       "      <td id=\"T_ec6e1_row4_col3\" class=\"data row4 col3\" >0.9222</td>\n",
       "      <td id=\"T_ec6e1_row4_col4\" class=\"data row4 col4\" >0.2448</td>\n",
       "      <td id=\"T_ec6e1_row4_col5\" class=\"data row4 col5\" >0.1999</td>\n",
       "    </tr>\n",
       "    <tr>\n",
       "      <th id=\"T_ec6e1_level0_row5\" class=\"row_heading level0 row5\" >5</th>\n",
       "      <td id=\"T_ec6e1_row5_col0\" class=\"data row5 col0\" >1831.2207</td>\n",
       "      <td id=\"T_ec6e1_row5_col1\" class=\"data row5 col1\" >8651946.9435</td>\n",
       "      <td id=\"T_ec6e1_row5_col2\" class=\"data row5 col2\" >2941.4192</td>\n",
       "      <td id=\"T_ec6e1_row5_col3\" class=\"data row5 col3\" >0.9262</td>\n",
       "      <td id=\"T_ec6e1_row5_col4\" class=\"data row5 col4\" >0.2364</td>\n",
       "      <td id=\"T_ec6e1_row5_col5\" class=\"data row5 col5\" >0.1958</td>\n",
       "    </tr>\n",
       "    <tr>\n",
       "      <th id=\"T_ec6e1_level0_row6\" class=\"row_heading level0 row6\" >6</th>\n",
       "      <td id=\"T_ec6e1_row6_col0\" class=\"data row6 col0\" >1828.2129</td>\n",
       "      <td id=\"T_ec6e1_row6_col1\" class=\"data row6 col1\" >8151819.5797</td>\n",
       "      <td id=\"T_ec6e1_row6_col2\" class=\"data row6 col2\" >2855.1392</td>\n",
       "      <td id=\"T_ec6e1_row6_col3\" class=\"data row6 col3\" >0.9234</td>\n",
       "      <td id=\"T_ec6e1_row6_col4\" class=\"data row6 col4\" >0.2419</td>\n",
       "      <td id=\"T_ec6e1_row6_col5\" class=\"data row6 col5\" >0.1865</td>\n",
       "    </tr>\n",
       "    <tr>\n",
       "      <th id=\"T_ec6e1_level0_row7\" class=\"row_heading level0 row7\" >7</th>\n",
       "      <td id=\"T_ec6e1_row7_col0\" class=\"data row7 col0\" >1357.2761</td>\n",
       "      <td id=\"T_ec6e1_row7_col1\" class=\"data row7 col1\" >4277227.2823</td>\n",
       "      <td id=\"T_ec6e1_row7_col2\" class=\"data row7 col2\" >2068.1459</td>\n",
       "      <td id=\"T_ec6e1_row7_col3\" class=\"data row7 col3\" >0.9459</td>\n",
       "      <td id=\"T_ec6e1_row7_col4\" class=\"data row7 col4\" >0.2045</td>\n",
       "      <td id=\"T_ec6e1_row7_col5\" class=\"data row7 col5\" >0.1552</td>\n",
       "    </tr>\n",
       "    <tr>\n",
       "      <th id=\"T_ec6e1_level0_row8\" class=\"row_heading level0 row8\" >8</th>\n",
       "      <td id=\"T_ec6e1_row8_col0\" class=\"data row8 col0\" >1728.8104</td>\n",
       "      <td id=\"T_ec6e1_row8_col1\" class=\"data row8 col1\" >6498070.4056</td>\n",
       "      <td id=\"T_ec6e1_row8_col2\" class=\"data row8 col2\" >2549.1313</td>\n",
       "      <td id=\"T_ec6e1_row8_col3\" class=\"data row8 col3\" >0.9362</td>\n",
       "      <td id=\"T_ec6e1_row8_col4\" class=\"data row8 col4\" >0.2423</td>\n",
       "      <td id=\"T_ec6e1_row8_col5\" class=\"data row8 col5\" >0.1900</td>\n",
       "    </tr>\n",
       "    <tr>\n",
       "      <th id=\"T_ec6e1_level0_row9\" class=\"row_heading level0 row9\" >9</th>\n",
       "      <td id=\"T_ec6e1_row9_col0\" class=\"data row9 col0\" >1852.2415</td>\n",
       "      <td id=\"T_ec6e1_row9_col1\" class=\"data row9 col1\" >8135775.5017</td>\n",
       "      <td id=\"T_ec6e1_row9_col2\" class=\"data row9 col2\" >2852.3281</td>\n",
       "      <td id=\"T_ec6e1_row9_col3\" class=\"data row9 col3\" >0.9225</td>\n",
       "      <td id=\"T_ec6e1_row9_col4\" class=\"data row9 col4\" >0.2677</td>\n",
       "      <td id=\"T_ec6e1_row9_col5\" class=\"data row9 col5\" >0.2177</td>\n",
       "    </tr>\n",
       "    <tr>\n",
       "      <th id=\"T_ec6e1_level0_row10\" class=\"row_heading level0 row10\" >Mean</th>\n",
       "      <td id=\"T_ec6e1_row10_col0\" class=\"data row10 col0\" >1743.5476</td>\n",
       "      <td id=\"T_ec6e1_row10_col1\" class=\"data row10 col1\" >7183184.0361</td>\n",
       "      <td id=\"T_ec6e1_row10_col2\" class=\"data row10 col2\" >2661.6851</td>\n",
       "      <td id=\"T_ec6e1_row10_col3\" class=\"data row10 col3\" >0.9295</td>\n",
       "      <td id=\"T_ec6e1_row10_col4\" class=\"data row10 col4\" >0.2404</td>\n",
       "      <td id=\"T_ec6e1_row10_col5\" class=\"data row10 col5\" >0.1918</td>\n",
       "    </tr>\n",
       "    <tr>\n",
       "      <th id=\"T_ec6e1_level0_row11\" class=\"row_heading level0 row11\" >Std</th>\n",
       "      <td id=\"T_ec6e1_row11_col0\" class=\"data row11 col0\" >136.7512</td>\n",
       "      <td id=\"T_ec6e1_row11_col1\" class=\"data row11 col1\" >1686903.3156</td>\n",
       "      <td id=\"T_ec6e1_row11_col2\" class=\"data row11 col2\" >314.0322</td>\n",
       "      <td id=\"T_ec6e1_row11_col3\" class=\"data row11 col3\" >0.0087</td>\n",
       "      <td id=\"T_ec6e1_row11_col4\" class=\"data row11 col4\" >0.0154</td>\n",
       "      <td id=\"T_ec6e1_row11_col5\" class=\"data row11 col5\" >0.0155</td>\n",
       "    </tr>\n",
       "  </tbody>\n",
       "</table>\n"
      ],
      "text/plain": [
       "<pandas.io.formats.style.Styler at 0x1f8adbe8b80>"
      ]
     },
     "metadata": {},
     "output_type": "display_data"
    },
    {
     "data": {
      "text/html": [],
      "text/plain": [
       "<IPython.core.display.HTML object>"
      ]
     },
     "metadata": {},
     "output_type": "display_data"
    }
   ],
   "source": [
    "bagged_dt2 = ensemble_model(dt, n_estimators=50)"
   ]
  },
  {
   "cell_type": "markdown",
   "metadata": {
    "colab_type": "text",
    "id": "UuCvIXA21RW4"
   },
   "source": [
    "Notice how increasing the n_estimators parameter has improved the result. The bagged_dt model with the default `10` estimators resulted in a RMSLE of `0.0996` whereas in bagged_dt2 where `n_estimators = 50` the RMSLE improved to `0.0911`."
   ]
  },
  {
   "cell_type": "markdown",
   "metadata": {
    "colab_type": "text",
    "id": "RdYEDmAQ1RXT"
   },
   "source": [
    "# 9.3 Blending"
   ]
  },
  {
   "cell_type": "markdown",
   "metadata": {
    "colab_type": "text",
    "id": "-Q7HPxJY1RXW"
   },
   "source": [
    "Blending is another common technique for ensembling that can be used in PyCaret. It creates multiple models and then averages the individual predictions to form a final prediction. Let's see an example below:"
   ]
  },
  {
   "cell_type": "code",
   "execution_count": 23,
   "metadata": {},
   "outputs": [],
   "source": [
    "# train individual models to blend\n",
    "lightgbm = create_model('lightgbm', verbose = False)\n",
    "dt = create_model('dt', verbose = False)\n",
    "lr = create_model('lr', verbose = False)"
   ]
  },
  {
   "cell_type": "code",
   "execution_count": 24,
   "metadata": {},
   "outputs": [
    {
     "data": {
      "text/html": [],
      "text/plain": [
       "<IPython.core.display.HTML object>"
      ]
     },
     "metadata": {},
     "output_type": "display_data"
    },
    {
     "data": {
      "text/html": [
       "<style type=\"text/css\">\n",
       "#T_2fef3_row10_col0, #T_2fef3_row10_col1, #T_2fef3_row10_col2, #T_2fef3_row10_col3, #T_2fef3_row10_col4, #T_2fef3_row10_col5 {\n",
       "  background: yellow;\n",
       "}\n",
       "</style>\n",
       "<table id=\"T_2fef3\">\n",
       "  <thead>\n",
       "    <tr>\n",
       "      <th class=\"blank level0\" >&nbsp;</th>\n",
       "      <th id=\"T_2fef3_level0_col0\" class=\"col_heading level0 col0\" >MAE</th>\n",
       "      <th id=\"T_2fef3_level0_col1\" class=\"col_heading level0 col1\" >MSE</th>\n",
       "      <th id=\"T_2fef3_level0_col2\" class=\"col_heading level0 col2\" >RMSE</th>\n",
       "      <th id=\"T_2fef3_level0_col3\" class=\"col_heading level0 col3\" >R2</th>\n",
       "      <th id=\"T_2fef3_level0_col4\" class=\"col_heading level0 col4\" >RMSLE</th>\n",
       "      <th id=\"T_2fef3_level0_col5\" class=\"col_heading level0 col5\" >MAPE</th>\n",
       "    </tr>\n",
       "    <tr>\n",
       "      <th class=\"index_name level0\" >Fold</th>\n",
       "      <th class=\"blank col0\" >&nbsp;</th>\n",
       "      <th class=\"blank col1\" >&nbsp;</th>\n",
       "      <th class=\"blank col2\" >&nbsp;</th>\n",
       "      <th class=\"blank col3\" >&nbsp;</th>\n",
       "      <th class=\"blank col4\" >&nbsp;</th>\n",
       "      <th class=\"blank col5\" >&nbsp;</th>\n",
       "    </tr>\n",
       "  </thead>\n",
       "  <tbody>\n",
       "    <tr>\n",
       "      <th id=\"T_2fef3_level0_row0\" class=\"row_heading level0 row0\" >0</th>\n",
       "      <td id=\"T_2fef3_row0_col0\" class=\"data row0 col0\" >1792.3915</td>\n",
       "      <td id=\"T_2fef3_row0_col1\" class=\"data row0 col1\" >5612874.7665</td>\n",
       "      <td id=\"T_2fef3_row0_col2\" class=\"data row0 col2\" >2369.1506</td>\n",
       "      <td id=\"T_2fef3_row0_col3\" class=\"data row0 col3\" >0.9384</td>\n",
       "      <td id=\"T_2fef3_row0_col4\" class=\"data row0 col4\" >0.2292</td>\n",
       "      <td id=\"T_2fef3_row0_col5\" class=\"data row0 col5\" >0.1931</td>\n",
       "    </tr>\n",
       "    <tr>\n",
       "      <th id=\"T_2fef3_level0_row1\" class=\"row_heading level0 row1\" >1</th>\n",
       "      <td id=\"T_2fef3_row1_col0\" class=\"data row1 col0\" >2060.5845</td>\n",
       "      <td id=\"T_2fef3_row1_col1\" class=\"data row1 col1\" >11431919.8910</td>\n",
       "      <td id=\"T_2fef3_row1_col2\" class=\"data row1 col2\" >3381.1122</td>\n",
       "      <td id=\"T_2fef3_row1_col3\" class=\"data row1 col3\" >0.9124</td>\n",
       "      <td id=\"T_2fef3_row1_col4\" class=\"data row1 col4\" >0.2340</td>\n",
       "      <td id=\"T_2fef3_row1_col5\" class=\"data row1 col5\" >0.2008</td>\n",
       "    </tr>\n",
       "    <tr>\n",
       "      <th id=\"T_2fef3_level0_row2\" class=\"row_heading level0 row2\" >2</th>\n",
       "      <td id=\"T_2fef3_row2_col0\" class=\"data row2 col0\" >1833.7757</td>\n",
       "      <td id=\"T_2fef3_row2_col1\" class=\"data row2 col1\" >5767469.6529</td>\n",
       "      <td id=\"T_2fef3_row2_col2\" class=\"data row2 col2\" >2401.5557</td>\n",
       "      <td id=\"T_2fef3_row2_col3\" class=\"data row2 col3\" >0.9471</td>\n",
       "      <td id=\"T_2fef3_row2_col4\" class=\"data row2 col4\" >0.2392</td>\n",
       "      <td id=\"T_2fef3_row2_col5\" class=\"data row2 col5\" >0.2090</td>\n",
       "    </tr>\n",
       "    <tr>\n",
       "      <th id=\"T_2fef3_level0_row3\" class=\"row_heading level0 row3\" >3</th>\n",
       "      <td id=\"T_2fef3_row3_col0\" class=\"data row3 col0\" >1807.0819</td>\n",
       "      <td id=\"T_2fef3_row3_col1\" class=\"data row3 col1\" >5971875.5862</td>\n",
       "      <td id=\"T_2fef3_row3_col2\" class=\"data row3 col2\" >2443.7421</td>\n",
       "      <td id=\"T_2fef3_row3_col3\" class=\"data row3 col3\" >0.9341</td>\n",
       "      <td id=\"T_2fef3_row3_col4\" class=\"data row3 col4\" >0.2229</td>\n",
       "      <td id=\"T_2fef3_row3_col5\" class=\"data row3 col5\" >0.1862</td>\n",
       "    </tr>\n",
       "    <tr>\n",
       "      <th id=\"T_2fef3_level0_row4\" class=\"row_heading level0 row4\" >4</th>\n",
       "      <td id=\"T_2fef3_row4_col0\" class=\"data row4 col0\" >1852.8244</td>\n",
       "      <td id=\"T_2fef3_row4_col1\" class=\"data row4 col1\" >5981259.2186</td>\n",
       "      <td id=\"T_2fef3_row4_col2\" class=\"data row4 col2\" >2445.6613</td>\n",
       "      <td id=\"T_2fef3_row4_col3\" class=\"data row4 col3\" >0.9254</td>\n",
       "      <td id=\"T_2fef3_row4_col4\" class=\"data row4 col4\" >0.2376</td>\n",
       "      <td id=\"T_2fef3_row4_col5\" class=\"data row4 col5\" >0.2070</td>\n",
       "    </tr>\n",
       "    <tr>\n",
       "      <th id=\"T_2fef3_level0_row5\" class=\"row_heading level0 row5\" >5</th>\n",
       "      <td id=\"T_2fef3_row5_col0\" class=\"data row5 col0\" >1938.9640</td>\n",
       "      <td id=\"T_2fef3_row5_col1\" class=\"data row5 col1\" >8814640.4457</td>\n",
       "      <td id=\"T_2fef3_row5_col2\" class=\"data row5 col2\" >2968.9460</td>\n",
       "      <td id=\"T_2fef3_row5_col3\" class=\"data row5 col3\" >0.9248</td>\n",
       "      <td id=\"T_2fef3_row5_col4\" class=\"data row5 col4\" >0.2340</td>\n",
       "      <td id=\"T_2fef3_row5_col5\" class=\"data row5 col5\" >0.2028</td>\n",
       "    </tr>\n",
       "    <tr>\n",
       "      <th id=\"T_2fef3_level0_row6\" class=\"row_heading level0 row6\" >6</th>\n",
       "      <td id=\"T_2fef3_row6_col0\" class=\"data row6 col0\" >1991.7775</td>\n",
       "      <td id=\"T_2fef3_row6_col1\" class=\"data row6 col1\" >8166767.6234</td>\n",
       "      <td id=\"T_2fef3_row6_col2\" class=\"data row6 col2\" >2857.7557</td>\n",
       "      <td id=\"T_2fef3_row6_col3\" class=\"data row6 col3\" >0.9233</td>\n",
       "      <td id=\"T_2fef3_row6_col4\" class=\"data row6 col4\" >0.2353</td>\n",
       "      <td id=\"T_2fef3_row6_col5\" class=\"data row6 col5\" >0.1987</td>\n",
       "    </tr>\n",
       "    <tr>\n",
       "      <th id=\"T_2fef3_level0_row7\" class=\"row_heading level0 row7\" >7</th>\n",
       "      <td id=\"T_2fef3_row7_col0\" class=\"data row7 col0\" >1447.7937</td>\n",
       "      <td id=\"T_2fef3_row7_col1\" class=\"data row7 col1\" >4965029.0636</td>\n",
       "      <td id=\"T_2fef3_row7_col2\" class=\"data row7 col2\" >2228.2345</td>\n",
       "      <td id=\"T_2fef3_row7_col3\" class=\"data row7 col3\" >0.9372</td>\n",
       "      <td id=\"T_2fef3_row7_col4\" class=\"data row7 col4\" >0.2016</td>\n",
       "      <td id=\"T_2fef3_row7_col5\" class=\"data row7 col5\" >0.1587</td>\n",
       "    </tr>\n",
       "    <tr>\n",
       "      <th id=\"T_2fef3_level0_row8\" class=\"row_heading level0 row8\" >8</th>\n",
       "      <td id=\"T_2fef3_row8_col0\" class=\"data row8 col0\" >1900.9482</td>\n",
       "      <td id=\"T_2fef3_row8_col1\" class=\"data row8 col1\" >7290265.3818</td>\n",
       "      <td id=\"T_2fef3_row8_col2\" class=\"data row8 col2\" >2700.0491</td>\n",
       "      <td id=\"T_2fef3_row8_col3\" class=\"data row8 col3\" >0.9284</td>\n",
       "      <td id=\"T_2fef3_row8_col4\" class=\"data row8 col4\" >0.2353</td>\n",
       "      <td id=\"T_2fef3_row8_col5\" class=\"data row8 col5\" >0.1961</td>\n",
       "    </tr>\n",
       "    <tr>\n",
       "      <th id=\"T_2fef3_level0_row9\" class=\"row_heading level0 row9\" >9</th>\n",
       "      <td id=\"T_2fef3_row9_col0\" class=\"data row9 col0\" >1842.1676</td>\n",
       "      <td id=\"T_2fef3_row9_col1\" class=\"data row9 col1\" >6782325.0421</td>\n",
       "      <td id=\"T_2fef3_row9_col2\" class=\"data row9 col2\" >2604.2897</td>\n",
       "      <td id=\"T_2fef3_row9_col3\" class=\"data row9 col3\" >0.9354</td>\n",
       "      <td id=\"T_2fef3_row9_col4\" class=\"data row9 col4\" >0.2471</td>\n",
       "      <td id=\"T_2fef3_row9_col5\" class=\"data row9 col5\" >0.2136</td>\n",
       "    </tr>\n",
       "    <tr>\n",
       "      <th id=\"T_2fef3_level0_row10\" class=\"row_heading level0 row10\" >Mean</th>\n",
       "      <td id=\"T_2fef3_row10_col0\" class=\"data row10 col0\" >1846.8309</td>\n",
       "      <td id=\"T_2fef3_row10_col1\" class=\"data row10 col1\" >7078442.6672</td>\n",
       "      <td id=\"T_2fef3_row10_col2\" class=\"data row10 col2\" >2640.0497</td>\n",
       "      <td id=\"T_2fef3_row10_col3\" class=\"data row10 col3\" >0.9306</td>\n",
       "      <td id=\"T_2fef3_row10_col4\" class=\"data row10 col4\" >0.2316</td>\n",
       "      <td id=\"T_2fef3_row10_col5\" class=\"data row10 col5\" >0.1966</td>\n",
       "    </tr>\n",
       "    <tr>\n",
       "      <th id=\"T_2fef3_level0_row11\" class=\"row_heading level0 row11\" >Std</th>\n",
       "      <td id=\"T_2fef3_row11_col0\" class=\"data row11 col0\" >155.6020</td>\n",
       "      <td id=\"T_2fef3_row11_col1\" class=\"data row11 col1\" >1845142.5740</td>\n",
       "      <td id=\"T_2fef3_row11_col2\" class=\"data row11 col2\" >329.5151</td>\n",
       "      <td id=\"T_2fef3_row11_col3\" class=\"data row11 col3\" >0.0093</td>\n",
       "      <td id=\"T_2fef3_row11_col4\" class=\"data row11 col4\" >0.0116</td>\n",
       "      <td id=\"T_2fef3_row11_col5\" class=\"data row11 col5\" >0.0147</td>\n",
       "    </tr>\n",
       "  </tbody>\n",
       "</table>\n"
      ],
      "text/plain": [
       "<pandas.io.formats.style.Styler at 0x1f8adc58a30>"
      ]
     },
     "metadata": {},
     "output_type": "display_data"
    },
    {
     "data": {
      "text/html": [],
      "text/plain": [
       "<IPython.core.display.HTML object>"
      ]
     },
     "metadata": {},
     "output_type": "display_data"
    }
   ],
   "source": [
    "# blend individual models\n",
    "blender = blend_models(estimator_list = [lightgbm, dt, lr])"
   ]
  },
  {
   "cell_type": "code",
   "execution_count": 25,
   "metadata": {
    "colab": {},
    "colab_type": "code",
    "id": "443dCPZN1RXZ",
    "outputId": "b415d161-dfad-4282-fb6b-89381e325fb9"
   },
   "outputs": [
    {
     "data": {
      "text/html": [],
      "text/plain": [
       "<IPython.core.display.HTML object>"
      ]
     },
     "metadata": {},
     "output_type": "display_data"
    },
    {
     "data": {
      "text/html": [
       "<style type=\"text/css\">\n",
       "#T_052d0_row10_col0, #T_052d0_row10_col1, #T_052d0_row10_col2, #T_052d0_row10_col3, #T_052d0_row10_col4, #T_052d0_row10_col5 {\n",
       "  background: yellow;\n",
       "}\n",
       "</style>\n",
       "<table id=\"T_052d0\">\n",
       "  <thead>\n",
       "    <tr>\n",
       "      <th class=\"blank level0\" >&nbsp;</th>\n",
       "      <th id=\"T_052d0_level0_col0\" class=\"col_heading level0 col0\" >MAE</th>\n",
       "      <th id=\"T_052d0_level0_col1\" class=\"col_heading level0 col1\" >MSE</th>\n",
       "      <th id=\"T_052d0_level0_col2\" class=\"col_heading level0 col2\" >RMSE</th>\n",
       "      <th id=\"T_052d0_level0_col3\" class=\"col_heading level0 col3\" >R2</th>\n",
       "      <th id=\"T_052d0_level0_col4\" class=\"col_heading level0 col4\" >RMSLE</th>\n",
       "      <th id=\"T_052d0_level0_col5\" class=\"col_heading level0 col5\" >MAPE</th>\n",
       "    </tr>\n",
       "    <tr>\n",
       "      <th class=\"index_name level0\" >Fold</th>\n",
       "      <th class=\"blank col0\" >&nbsp;</th>\n",
       "      <th class=\"blank col1\" >&nbsp;</th>\n",
       "      <th class=\"blank col2\" >&nbsp;</th>\n",
       "      <th class=\"blank col3\" >&nbsp;</th>\n",
       "      <th class=\"blank col4\" >&nbsp;</th>\n",
       "      <th class=\"blank col5\" >&nbsp;</th>\n",
       "    </tr>\n",
       "  </thead>\n",
       "  <tbody>\n",
       "    <tr>\n",
       "      <th id=\"T_052d0_level0_row0\" class=\"row_heading level0 row0\" >0</th>\n",
       "      <td id=\"T_052d0_row0_col0\" class=\"data row0 col0\" >1635.6224</td>\n",
       "      <td id=\"T_052d0_row0_col1\" class=\"data row0 col1\" >4741904.2455</td>\n",
       "      <td id=\"T_052d0_row0_col2\" class=\"data row0 col2\" >2177.5914</td>\n",
       "      <td id=\"T_052d0_row0_col3\" class=\"data row0 col3\" >0.9479</td>\n",
       "      <td id=\"T_052d0_row0_col4\" class=\"data row0 col4\" >0.2199</td>\n",
       "      <td id=\"T_052d0_row0_col5\" class=\"data row0 col5\" >0.1823</td>\n",
       "    </tr>\n",
       "    <tr>\n",
       "      <th id=\"T_052d0_level0_row1\" class=\"row_heading level0 row1\" >1</th>\n",
       "      <td id=\"T_052d0_row1_col0\" class=\"data row1 col0\" >1825.6666</td>\n",
       "      <td id=\"T_052d0_row1_col1\" class=\"data row1 col1\" >8213653.8017</td>\n",
       "      <td id=\"T_052d0_row1_col2\" class=\"data row1 col2\" >2865.9473</td>\n",
       "      <td id=\"T_052d0_row1_col3\" class=\"data row1 col3\" >0.9371</td>\n",
       "      <td id=\"T_052d0_row1_col4\" class=\"data row1 col4\" >0.2241</td>\n",
       "      <td id=\"T_052d0_row1_col5\" class=\"data row1 col5\" >0.1901</td>\n",
       "    </tr>\n",
       "    <tr>\n",
       "      <th id=\"T_052d0_level0_row2\" class=\"row_heading level0 row2\" >2</th>\n",
       "      <td id=\"T_052d0_row2_col0\" class=\"data row2 col0\" >1706.3179</td>\n",
       "      <td id=\"T_052d0_row2_col1\" class=\"data row2 col1\" >5390984.2434</td>\n",
       "      <td id=\"T_052d0_row2_col2\" class=\"data row2 col2\" >2321.8493</td>\n",
       "      <td id=\"T_052d0_row2_col3\" class=\"data row2 col3\" >0.9506</td>\n",
       "      <td id=\"T_052d0_row2_col4\" class=\"data row2 col4\" >0.2382</td>\n",
       "      <td id=\"T_052d0_row2_col5\" class=\"data row2 col5\" >0.2020</td>\n",
       "    </tr>\n",
       "    <tr>\n",
       "      <th id=\"T_052d0_level0_row3\" class=\"row_heading level0 row3\" >3</th>\n",
       "      <td id=\"T_052d0_row3_col0\" class=\"data row3 col0\" >1644.3962</td>\n",
       "      <td id=\"T_052d0_row3_col1\" class=\"data row3 col1\" >4576692.1413</td>\n",
       "      <td id=\"T_052d0_row3_col2\" class=\"data row3 col2\" >2139.3205</td>\n",
       "      <td id=\"T_052d0_row3_col3\" class=\"data row3 col3\" >0.9495</td>\n",
       "      <td id=\"T_052d0_row3_col4\" class=\"data row3 col4\" >0.2090</td>\n",
       "      <td id=\"T_052d0_row3_col5\" class=\"data row3 col5\" >0.1756</td>\n",
       "    </tr>\n",
       "    <tr>\n",
       "      <th id=\"T_052d0_level0_row4\" class=\"row_heading level0 row4\" >4</th>\n",
       "      <td id=\"T_052d0_row4_col0\" class=\"data row4 col0\" >1716.4900</td>\n",
       "      <td id=\"T_052d0_row4_col1\" class=\"data row4 col1\" >6931055.2129</td>\n",
       "      <td id=\"T_052d0_row4_col2\" class=\"data row4 col2\" >2632.6897</td>\n",
       "      <td id=\"T_052d0_row4_col3\" class=\"data row4 col3\" >0.9136</td>\n",
       "      <td id=\"T_052d0_row4_col4\" class=\"data row4 col4\" >0.2305</td>\n",
       "      <td id=\"T_052d0_row4_col5\" class=\"data row4 col5\" >0.1956</td>\n",
       "    </tr>\n",
       "    <tr>\n",
       "      <th id=\"T_052d0_level0_row5\" class=\"row_heading level0 row5\" >5</th>\n",
       "      <td id=\"T_052d0_row5_col0\" class=\"data row5 col0\" >1690.2676</td>\n",
       "      <td id=\"T_052d0_row5_col1\" class=\"data row5 col1\" >5330966.8283</td>\n",
       "      <td id=\"T_052d0_row5_col2\" class=\"data row5 col2\" >2308.8887</td>\n",
       "      <td id=\"T_052d0_row5_col3\" class=\"data row5 col3\" >0.9545</td>\n",
       "      <td id=\"T_052d0_row5_col4\" class=\"data row5 col4\" >0.2171</td>\n",
       "      <td id=\"T_052d0_row5_col5\" class=\"data row5 col5\" >0.1867</td>\n",
       "    </tr>\n",
       "    <tr>\n",
       "      <th id=\"T_052d0_level0_row6\" class=\"row_heading level0 row6\" >6</th>\n",
       "      <td id=\"T_052d0_row6_col0\" class=\"data row6 col0\" >1800.4510</td>\n",
       "      <td id=\"T_052d0_row6_col1\" class=\"data row6 col1\" >7509022.2552</td>\n",
       "      <td id=\"T_052d0_row6_col2\" class=\"data row6 col2\" >2740.2595</td>\n",
       "      <td id=\"T_052d0_row6_col3\" class=\"data row6 col3\" >0.9295</td>\n",
       "      <td id=\"T_052d0_row6_col4\" class=\"data row6 col4\" >0.2243</td>\n",
       "      <td id=\"T_052d0_row6_col5\" class=\"data row6 col5\" >0.1859</td>\n",
       "    </tr>\n",
       "    <tr>\n",
       "      <th id=\"T_052d0_level0_row7\" class=\"row_heading level0 row7\" >7</th>\n",
       "      <td id=\"T_052d0_row7_col0\" class=\"data row7 col0\" >1252.6605</td>\n",
       "      <td id=\"T_052d0_row7_col1\" class=\"data row7 col1\" >3282073.9440</td>\n",
       "      <td id=\"T_052d0_row7_col2\" class=\"data row7 col2\" >1811.6495</td>\n",
       "      <td id=\"T_052d0_row7_col3\" class=\"data row7 col3\" >0.9585</td>\n",
       "      <td id=\"T_052d0_row7_col4\" class=\"data row7 col4\" >0.1884</td>\n",
       "      <td id=\"T_052d0_row7_col5\" class=\"data row7 col5\" >0.1478</td>\n",
       "    </tr>\n",
       "    <tr>\n",
       "      <th id=\"T_052d0_level0_row8\" class=\"row_heading level0 row8\" >8</th>\n",
       "      <td id=\"T_052d0_row8_col0\" class=\"data row8 col0\" >1677.2267</td>\n",
       "      <td id=\"T_052d0_row8_col1\" class=\"data row8 col1\" >6130810.4679</td>\n",
       "      <td id=\"T_052d0_row8_col2\" class=\"data row8 col2\" >2476.0473</td>\n",
       "      <td id=\"T_052d0_row8_col3\" class=\"data row8 col3\" >0.9398</td>\n",
       "      <td id=\"T_052d0_row8_col4\" class=\"data row8 col4\" >0.2178</td>\n",
       "      <td id=\"T_052d0_row8_col5\" class=\"data row8 col5\" >0.1794</td>\n",
       "    </tr>\n",
       "    <tr>\n",
       "      <th id=\"T_052d0_level0_row9\" class=\"row_heading level0 row9\" >9</th>\n",
       "      <td id=\"T_052d0_row9_col0\" class=\"data row9 col0\" >1724.6525</td>\n",
       "      <td id=\"T_052d0_row9_col1\" class=\"data row9 col1\" >6545587.1225</td>\n",
       "      <td id=\"T_052d0_row9_col2\" class=\"data row9 col2\" >2558.4345</td>\n",
       "      <td id=\"T_052d0_row9_col3\" class=\"data row9 col3\" >0.9377</td>\n",
       "      <td id=\"T_052d0_row9_col4\" class=\"data row9 col4\" >0.2387</td>\n",
       "      <td id=\"T_052d0_row9_col5\" class=\"data row9 col5\" >0.2027</td>\n",
       "    </tr>\n",
       "    <tr>\n",
       "      <th id=\"T_052d0_level0_row10\" class=\"row_heading level0 row10\" >Mean</th>\n",
       "      <td id=\"T_052d0_row10_col0\" class=\"data row10 col0\" >1667.3752</td>\n",
       "      <td id=\"T_052d0_row10_col1\" class=\"data row10 col1\" >5865275.0263</td>\n",
       "      <td id=\"T_052d0_row10_col2\" class=\"data row10 col2\" >2403.2678</td>\n",
       "      <td id=\"T_052d0_row10_col3\" class=\"data row10 col3\" >0.9419</td>\n",
       "      <td id=\"T_052d0_row10_col4\" class=\"data row10 col4\" >0.2208</td>\n",
       "      <td id=\"T_052d0_row10_col5\" class=\"data row10 col5\" >0.1848</td>\n",
       "    </tr>\n",
       "    <tr>\n",
       "      <th id=\"T_052d0_level0_row11\" class=\"row_heading level0 row11\" >Std</th>\n",
       "      <td id=\"T_052d0_row11_col0\" class=\"data row11 col0\" >149.7065</td>\n",
       "      <td id=\"T_052d0_row11_col1\" class=\"data row11 col1\" >1413922.9626</td>\n",
       "      <td id=\"T_052d0_row11_col2\" class=\"data row11 col2\" >299.2976</td>\n",
       "      <td id=\"T_052d0_row11_col3\" class=\"data row11 col3\" >0.0127</td>\n",
       "      <td id=\"T_052d0_row11_col4\" class=\"data row11 col4\" >0.0140</td>\n",
       "      <td id=\"T_052d0_row11_col5\" class=\"data row11 col5\" >0.0150</td>\n",
       "    </tr>\n",
       "  </tbody>\n",
       "</table>\n"
      ],
      "text/plain": [
       "<pandas.io.formats.style.Styler at 0x1f8ace5ed90>"
      ]
     },
     "metadata": {},
     "output_type": "display_data"
    },
    {
     "data": {
      "text/html": [],
      "text/plain": [
       "<IPython.core.display.HTML object>"
      ]
     },
     "metadata": {},
     "output_type": "display_data"
    }
   ],
   "source": [
    "# blend top3 models from compare_models\n",
    "blender_top3 = blend_models(top3)"
   ]
  },
  {
   "cell_type": "code",
   "execution_count": 26,
   "metadata": {},
   "outputs": [
    {
     "name": "stdout",
     "output_type": "stream",
     "text": [
      "[GradientBoostingRegressor(random_state=123), LGBMRegressor(random_state=123), XGBRegressor(base_score=0.5, booster='gbtree', callbacks=None,\n",
      "             colsample_bylevel=1, colsample_bynode=1, colsample_bytree=1,\n",
      "             early_stopping_rounds=None, enable_categorical=False,\n",
      "             eval_metric=None, feature_types=None, gamma=0, gpu_id=-1,\n",
      "             grow_policy='depthwise', importance_type=None,\n",
      "             interaction_constraints='', learning_rate=0.300000012, max_bin=256,\n",
      "             max_cat_threshold=64, max_cat_to_onehot=4, max_delta_step=0,\n",
      "             max_depth=6, max_leaves=0, min_child_weight=1, missing=nan,\n",
      "             monotone_constraints='()', n_estimators=100, n_jobs=-1,\n",
      "             num_parallel_tree=1, predictor='auto', random_state=123, ...)]\n"
     ]
    }
   ],
   "source": [
    "print(blender_top3.estimators_)"
   ]
  },
  {
   "cell_type": "markdown",
   "metadata": {
    "colab_type": "text",
    "id": "g6KDkbVu1RXq"
   },
   "source": [
    "Now that we have created a `VotingRegressor` using the `blend_models()` function. The model returned by the `blend_models` function is just like any other model that you would create using `create_model()` or `tune_model()`. You can use this model for predictions on unseen data using `predict_model()` in the same way you would for any other model."
   ]
  },
  {
   "cell_type": "markdown",
   "metadata": {
    "colab_type": "text",
    "id": "5hwtKpxV1RYa"
   },
   "source": [
    "# 9.4 Stacking"
   ]
  },
  {
   "cell_type": "markdown",
   "metadata": {
    "colab_type": "text",
    "id": "3ZDMp0KO1RYi"
   },
   "source": [
    "Stacking is another popular technique for ensembling but is less commonly implemented due to practical difficulties. Stacking is an ensemble learning technique that combines multiple models via a meta-model. Another way to think about stacking is that multiple models are trained to predict the outcome and a meta-model is created that uses the predictions from those models as an input along with the original features. The implementation of `stack_models()` is based on Wolpert, D. H. (1992b). Stacked generalization __[(Read More)](https://www.sciencedirect.com/science/article/abs/pii/S0893608005800231)__. \n",
    "\n",
    "Let's see an example below using the top 3 models we have obtained from `compare_models`:"
   ]
  },
  {
   "cell_type": "code",
   "execution_count": 27,
   "metadata": {
    "colab": {},
    "colab_type": "code",
    "id": "wDdutrXy1RYp",
    "outputId": "f3c092c3-c307-488b-ee6f-cf104248f828"
   },
   "outputs": [
    {
     "data": {
      "text/html": [],
      "text/plain": [
       "<IPython.core.display.HTML object>"
      ]
     },
     "metadata": {},
     "output_type": "display_data"
    },
    {
     "data": {
      "text/html": [
       "<style type=\"text/css\">\n",
       "#T_95101_row10_col0, #T_95101_row10_col1, #T_95101_row10_col2, #T_95101_row10_col3, #T_95101_row10_col4, #T_95101_row10_col5 {\n",
       "  background: yellow;\n",
       "}\n",
       "</style>\n",
       "<table id=\"T_95101\">\n",
       "  <thead>\n",
       "    <tr>\n",
       "      <th class=\"blank level0\" >&nbsp;</th>\n",
       "      <th id=\"T_95101_level0_col0\" class=\"col_heading level0 col0\" >MAE</th>\n",
       "      <th id=\"T_95101_level0_col1\" class=\"col_heading level0 col1\" >MSE</th>\n",
       "      <th id=\"T_95101_level0_col2\" class=\"col_heading level0 col2\" >RMSE</th>\n",
       "      <th id=\"T_95101_level0_col3\" class=\"col_heading level0 col3\" >R2</th>\n",
       "      <th id=\"T_95101_level0_col4\" class=\"col_heading level0 col4\" >RMSLE</th>\n",
       "      <th id=\"T_95101_level0_col5\" class=\"col_heading level0 col5\" >MAPE</th>\n",
       "    </tr>\n",
       "    <tr>\n",
       "      <th class=\"index_name level0\" >Fold</th>\n",
       "      <th class=\"blank col0\" >&nbsp;</th>\n",
       "      <th class=\"blank col1\" >&nbsp;</th>\n",
       "      <th class=\"blank col2\" >&nbsp;</th>\n",
       "      <th class=\"blank col3\" >&nbsp;</th>\n",
       "      <th class=\"blank col4\" >&nbsp;</th>\n",
       "      <th class=\"blank col5\" >&nbsp;</th>\n",
       "    </tr>\n",
       "  </thead>\n",
       "  <tbody>\n",
       "    <tr>\n",
       "      <th id=\"T_95101_level0_row0\" class=\"row_heading level0 row0\" >0</th>\n",
       "      <td id=\"T_95101_row0_col0\" class=\"data row0 col0\" >1632.3619</td>\n",
       "      <td id=\"T_95101_row0_col1\" class=\"data row0 col1\" >4524599.1384</td>\n",
       "      <td id=\"T_95101_row0_col2\" class=\"data row0 col2\" >2127.1105</td>\n",
       "      <td id=\"T_95101_row0_col3\" class=\"data row0 col3\" >0.9503</td>\n",
       "      <td id=\"T_95101_row0_col4\" class=\"data row0 col4\" >0.2195</td>\n",
       "      <td id=\"T_95101_row0_col5\" class=\"data row0 col5\" >0.1834</td>\n",
       "    </tr>\n",
       "    <tr>\n",
       "      <th id=\"T_95101_level0_row1\" class=\"row_heading level0 row1\" >1</th>\n",
       "      <td id=\"T_95101_row1_col0\" class=\"data row1 col0\" >1790.7553</td>\n",
       "      <td id=\"T_95101_row1_col1\" class=\"data row1 col1\" >6451750.6996</td>\n",
       "      <td id=\"T_95101_row1_col2\" class=\"data row1 col2\" >2540.0297</td>\n",
       "      <td id=\"T_95101_row1_col3\" class=\"data row1 col3\" >0.9506</td>\n",
       "      <td id=\"T_95101_row1_col4\" class=\"data row1 col4\" >0.2225</td>\n",
       "      <td id=\"T_95101_row1_col5\" class=\"data row1 col5\" >0.1912</td>\n",
       "    </tr>\n",
       "    <tr>\n",
       "      <th id=\"T_95101_level0_row2\" class=\"row_heading level0 row2\" >2</th>\n",
       "      <td id=\"T_95101_row2_col0\" class=\"data row2 col0\" >1728.5853</td>\n",
       "      <td id=\"T_95101_row2_col1\" class=\"data row2 col1\" >5658584.3262</td>\n",
       "      <td id=\"T_95101_row2_col2\" class=\"data row2 col2\" >2378.7779</td>\n",
       "      <td id=\"T_95101_row2_col3\" class=\"data row2 col3\" >0.9481</td>\n",
       "      <td id=\"T_95101_row2_col4\" class=\"data row2 col4\" >0.2375</td>\n",
       "      <td id=\"T_95101_row2_col5\" class=\"data row2 col5\" >0.2033</td>\n",
       "    </tr>\n",
       "    <tr>\n",
       "      <th id=\"T_95101_level0_row3\" class=\"row_heading level0 row3\" >3</th>\n",
       "      <td id=\"T_95101_row3_col0\" class=\"data row3 col0\" >1657.0831</td>\n",
       "      <td id=\"T_95101_row3_col1\" class=\"data row3 col1\" >4694787.2553</td>\n",
       "      <td id=\"T_95101_row3_col2\" class=\"data row3 col2\" >2166.7458</td>\n",
       "      <td id=\"T_95101_row3_col3\" class=\"data row3 col3\" >0.9482</td>\n",
       "      <td id=\"T_95101_row3_col4\" class=\"data row3 col4\" >0.2111</td>\n",
       "      <td id=\"T_95101_row3_col5\" class=\"data row3 col5\" >0.1781</td>\n",
       "    </tr>\n",
       "    <tr>\n",
       "      <th id=\"T_95101_level0_row4\" class=\"row_heading level0 row4\" >4</th>\n",
       "      <td id=\"T_95101_row4_col0\" class=\"data row4 col0\" >1749.1464</td>\n",
       "      <td id=\"T_95101_row4_col1\" class=\"data row4 col1\" >7033193.2800</td>\n",
       "      <td id=\"T_95101_row4_col2\" class=\"data row4 col2\" >2652.0168</td>\n",
       "      <td id=\"T_95101_row4_col3\" class=\"data row4 col3\" >0.9123</td>\n",
       "      <td id=\"T_95101_row4_col4\" class=\"data row4 col4\" >0.2306</td>\n",
       "      <td id=\"T_95101_row4_col5\" class=\"data row4 col5\" >0.1978</td>\n",
       "    </tr>\n",
       "    <tr>\n",
       "      <th id=\"T_95101_level0_row5\" class=\"row_heading level0 row5\" >5</th>\n",
       "      <td id=\"T_95101_row5_col0\" class=\"data row5 col0\" >6458.1397</td>\n",
       "      <td id=\"T_95101_row5_col1\" class=\"data row5 col1\" >8661019495.6930</td>\n",
       "      <td id=\"T_95101_row5_col2\" class=\"data row5 col2\" >93064.5985</td>\n",
       "      <td id=\"T_95101_row5_col3\" class=\"data row5 col3\" >-72.9195</td>\n",
       "      <td id=\"T_95101_row5_col4\" class=\"data row5 col4\" >0.2664</td>\n",
       "      <td id=\"T_95101_row5_col5\" class=\"data row5 col5\" >0.2378</td>\n",
       "    </tr>\n",
       "    <tr>\n",
       "      <th id=\"T_95101_level0_row6\" class=\"row_heading level0 row6\" >6</th>\n",
       "      <td id=\"T_95101_row6_col0\" class=\"data row6 col0\" >1806.6697</td>\n",
       "      <td id=\"T_95101_row6_col1\" class=\"data row6 col1\" >7240286.5919</td>\n",
       "      <td id=\"T_95101_row6_col2\" class=\"data row6 col2\" >2690.7781</td>\n",
       "      <td id=\"T_95101_row6_col3\" class=\"data row6 col3\" >0.9320</td>\n",
       "      <td id=\"T_95101_row6_col4\" class=\"data row6 col4\" >0.2260</td>\n",
       "      <td id=\"T_95101_row6_col5\" class=\"data row6 col5\" >0.1895</td>\n",
       "    </tr>\n",
       "    <tr>\n",
       "      <th id=\"T_95101_level0_row7\" class=\"row_heading level0 row7\" >7</th>\n",
       "      <td id=\"T_95101_row7_col0\" class=\"data row7 col0\" >1569.2824</td>\n",
       "      <td id=\"T_95101_row7_col1\" class=\"data row7 col1\" >6031239.4375</td>\n",
       "      <td id=\"T_95101_row7_col2\" class=\"data row7 col2\" >2455.8582</td>\n",
       "      <td id=\"T_95101_row7_col3\" class=\"data row7 col3\" >0.9237</td>\n",
       "      <td id=\"T_95101_row7_col4\" class=\"data row7 col4\" >0.2064</td>\n",
       "      <td id=\"T_95101_row7_col5\" class=\"data row7 col5\" >0.1654</td>\n",
       "    </tr>\n",
       "    <tr>\n",
       "      <th id=\"T_95101_level0_row8\" class=\"row_heading level0 row8\" >8</th>\n",
       "      <td id=\"T_95101_row8_col0\" class=\"data row8 col0\" >1734.9555</td>\n",
       "      <td id=\"T_95101_row8_col1\" class=\"data row8 col1\" >6543405.7723</td>\n",
       "      <td id=\"T_95101_row8_col2\" class=\"data row8 col2\" >2558.0082</td>\n",
       "      <td id=\"T_95101_row8_col3\" class=\"data row8 col3\" >0.9357</td>\n",
       "      <td id=\"T_95101_row8_col4\" class=\"data row8 col4\" >0.2195</td>\n",
       "      <td id=\"T_95101_row8_col5\" class=\"data row8 col5\" >0.1829</td>\n",
       "    </tr>\n",
       "    <tr>\n",
       "      <th id=\"T_95101_level0_row9\" class=\"row_heading level0 row9\" >9</th>\n",
       "      <td id=\"T_95101_row9_col0\" class=\"data row9 col0\" >1693.9885</td>\n",
       "      <td id=\"T_95101_row9_col1\" class=\"data row9 col1\" >5443240.0594</td>\n",
       "      <td id=\"T_95101_row9_col2\" class=\"data row9 col2\" >2333.0752</td>\n",
       "      <td id=\"T_95101_row9_col3\" class=\"data row9 col3\" >0.9482</td>\n",
       "      <td id=\"T_95101_row9_col4\" class=\"data row9 col4\" >0.2333</td>\n",
       "      <td id=\"T_95101_row9_col5\" class=\"data row9 col5\" >0.2020</td>\n",
       "    </tr>\n",
       "    <tr>\n",
       "      <th id=\"T_95101_level0_row10\" class=\"row_heading level0 row10\" >Mean</th>\n",
       "      <td id=\"T_95101_row10_col0\" class=\"data row10 col0\" >2182.0968</td>\n",
       "      <td id=\"T_95101_row10_col1\" class=\"data row10 col1\" >871464058.2254</td>\n",
       "      <td id=\"T_95101_row10_col2\" class=\"data row10 col2\" >11496.6999</td>\n",
       "      <td id=\"T_95101_row10_col3\" class=\"data row10 col3\" >-6.4470</td>\n",
       "      <td id=\"T_95101_row10_col4\" class=\"data row10 col4\" >0.2273</td>\n",
       "      <td id=\"T_95101_row10_col5\" class=\"data row10 col5\" >0.1932</td>\n",
       "    </tr>\n",
       "    <tr>\n",
       "      <th id=\"T_95101_level0_row11\" class=\"row_heading level0 row11\" >Std</th>\n",
       "      <td id=\"T_95101_row11_col0\" class=\"data row11 col0\" >1427.0014</td>\n",
       "      <td id=\"T_95101_row11_col1\" class=\"data row11 col1\" >2596518621.5990</td>\n",
       "      <td id=\"T_95101_row11_col2\" class=\"data row11 col2\" >27189.8869</td>\n",
       "      <td id=\"T_95101_row11_col3\" class=\"data row11 col3\" >22.1575</td>\n",
       "      <td id=\"T_95101_row11_col4\" class=\"data row11 col4\" >0.0159</td>\n",
       "      <td id=\"T_95101_row11_col5\" class=\"data row11 col5\" >0.0185</td>\n",
       "    </tr>\n",
       "  </tbody>\n",
       "</table>\n"
      ],
      "text/plain": [
       "<pandas.io.formats.style.Styler at 0x1f8adcf3cd0>"
      ]
     },
     "metadata": {},
     "output_type": "display_data"
    },
    {
     "data": {
      "text/html": [],
      "text/plain": [
       "<IPython.core.display.HTML object>"
      ]
     },
     "metadata": {},
     "output_type": "display_data"
    }
   ],
   "source": [
    "stacker = stack_models(top3)"
   ]
  },
  {
   "cell_type": "markdown",
   "metadata": {
    "colab_type": "text",
    "id": "roI0qUd61RY8"
   },
   "source": [
    "By default, the meta model (final model to generate predictions) is Linear Regression. The meta model can be changed using the `meta_model` parameter. See an example below:"
   ]
  },
  {
   "cell_type": "code",
   "execution_count": 28,
   "metadata": {
    "colab": {},
    "colab_type": "code",
    "id": "OOZr6EzJ1RZB",
    "outputId": "c29a338c-fda0-4c04-a384-ad821adf6013"
   },
   "outputs": [
    {
     "data": {
      "text/html": [],
      "text/plain": [
       "<IPython.core.display.HTML object>"
      ]
     },
     "metadata": {},
     "output_type": "display_data"
    },
    {
     "data": {
      "text/html": [
       "<style type=\"text/css\">\n",
       "#T_8634f_row10_col0, #T_8634f_row10_col1, #T_8634f_row10_col2, #T_8634f_row10_col3, #T_8634f_row10_col4, #T_8634f_row10_col5 {\n",
       "  background: yellow;\n",
       "}\n",
       "</style>\n",
       "<table id=\"T_8634f\">\n",
       "  <thead>\n",
       "    <tr>\n",
       "      <th class=\"blank level0\" >&nbsp;</th>\n",
       "      <th id=\"T_8634f_level0_col0\" class=\"col_heading level0 col0\" >MAE</th>\n",
       "      <th id=\"T_8634f_level0_col1\" class=\"col_heading level0 col1\" >MSE</th>\n",
       "      <th id=\"T_8634f_level0_col2\" class=\"col_heading level0 col2\" >RMSE</th>\n",
       "      <th id=\"T_8634f_level0_col3\" class=\"col_heading level0 col3\" >R2</th>\n",
       "      <th id=\"T_8634f_level0_col4\" class=\"col_heading level0 col4\" >RMSLE</th>\n",
       "      <th id=\"T_8634f_level0_col5\" class=\"col_heading level0 col5\" >MAPE</th>\n",
       "    </tr>\n",
       "    <tr>\n",
       "      <th class=\"index_name level0\" >Fold</th>\n",
       "      <th class=\"blank col0\" >&nbsp;</th>\n",
       "      <th class=\"blank col1\" >&nbsp;</th>\n",
       "      <th class=\"blank col2\" >&nbsp;</th>\n",
       "      <th class=\"blank col3\" >&nbsp;</th>\n",
       "      <th class=\"blank col4\" >&nbsp;</th>\n",
       "      <th class=\"blank col5\" >&nbsp;</th>\n",
       "    </tr>\n",
       "  </thead>\n",
       "  <tbody>\n",
       "    <tr>\n",
       "      <th id=\"T_8634f_level0_row0\" class=\"row_heading level0 row0\" >0</th>\n",
       "      <td id=\"T_8634f_row0_col0\" class=\"data row0 col0\" >1673.7116</td>\n",
       "      <td id=\"T_8634f_row0_col1\" class=\"data row0 col1\" >5319233.6757</td>\n",
       "      <td id=\"T_8634f_row0_col2\" class=\"data row0 col2\" >2306.3464</td>\n",
       "      <td id=\"T_8634f_row0_col3\" class=\"data row0 col3\" >0.9416</td>\n",
       "      <td id=\"T_8634f_row0_col4\" class=\"data row0 col4\" >0.2250</td>\n",
       "      <td id=\"T_8634f_row0_col5\" class=\"data row0 col5\" >0.1834</td>\n",
       "    </tr>\n",
       "    <tr>\n",
       "      <th id=\"T_8634f_level0_row1\" class=\"row_heading level0 row1\" >1</th>\n",
       "      <td id=\"T_8634f_row1_col0\" class=\"data row1 col0\" >1916.2224</td>\n",
       "      <td id=\"T_8634f_row1_col1\" class=\"data row1 col1\" >9797890.6746</td>\n",
       "      <td id=\"T_8634f_row1_col2\" class=\"data row1 col2\" >3130.1583</td>\n",
       "      <td id=\"T_8634f_row1_col3\" class=\"data row1 col3\" >0.9249</td>\n",
       "      <td id=\"T_8634f_row1_col4\" class=\"data row1 col4\" >0.2313</td>\n",
       "      <td id=\"T_8634f_row1_col5\" class=\"data row1 col5\" >0.1949</td>\n",
       "    </tr>\n",
       "    <tr>\n",
       "      <th id=\"T_8634f_level0_row2\" class=\"row_heading level0 row2\" >2</th>\n",
       "      <td id=\"T_8634f_row2_col0\" class=\"data row2 col0\" >1782.3041</td>\n",
       "      <td id=\"T_8634f_row2_col1\" class=\"data row2 col1\" >6372413.3866</td>\n",
       "      <td id=\"T_8634f_row2_col2\" class=\"data row2 col2\" >2524.3640</td>\n",
       "      <td id=\"T_8634f_row2_col3\" class=\"data row2 col3\" >0.9416</td>\n",
       "      <td id=\"T_8634f_row2_col4\" class=\"data row2 col4\" >0.2444</td>\n",
       "      <td id=\"T_8634f_row2_col5\" class=\"data row2 col5\" >0.2048</td>\n",
       "    </tr>\n",
       "    <tr>\n",
       "      <th id=\"T_8634f_level0_row3\" class=\"row_heading level0 row3\" >3</th>\n",
       "      <td id=\"T_8634f_row3_col0\" class=\"data row3 col0\" >1674.4973</td>\n",
       "      <td id=\"T_8634f_row3_col1\" class=\"data row3 col1\" >5021679.5404</td>\n",
       "      <td id=\"T_8634f_row3_col2\" class=\"data row3 col2\" >2240.9104</td>\n",
       "      <td id=\"T_8634f_row3_col3\" class=\"data row3 col3\" >0.9446</td>\n",
       "      <td id=\"T_8634f_row3_col4\" class=\"data row3 col4\" >0.2122</td>\n",
       "      <td id=\"T_8634f_row3_col5\" class=\"data row3 col5\" >0.1756</td>\n",
       "    </tr>\n",
       "    <tr>\n",
       "      <th id=\"T_8634f_level0_row4\" class=\"row_heading level0 row4\" >4</th>\n",
       "      <td id=\"T_8634f_row4_col0\" class=\"data row4 col0\" >1803.2105</td>\n",
       "      <td id=\"T_8634f_row4_col1\" class=\"data row4 col1\" >9087803.8697</td>\n",
       "      <td id=\"T_8634f_row4_col2\" class=\"data row4 col2\" >3014.5985</td>\n",
       "      <td id=\"T_8634f_row4_col3\" class=\"data row4 col3\" >0.8867</td>\n",
       "      <td id=\"T_8634f_row4_col4\" class=\"data row4 col4\" >0.2384</td>\n",
       "      <td id=\"T_8634f_row4_col5\" class=\"data row4 col5\" >0.1991</td>\n",
       "    </tr>\n",
       "    <tr>\n",
       "      <th id=\"T_8634f_level0_row5\" class=\"row_heading level0 row5\" >5</th>\n",
       "      <td id=\"T_8634f_row5_col0\" class=\"data row5 col0\" >1835.9699</td>\n",
       "      <td id=\"T_8634f_row5_col1\" class=\"data row5 col1\" >8405137.8449</td>\n",
       "      <td id=\"T_8634f_row5_col2\" class=\"data row5 col2\" >2899.1616</td>\n",
       "      <td id=\"T_8634f_row5_col3\" class=\"data row5 col3\" >0.9283</td>\n",
       "      <td id=\"T_8634f_row5_col4\" class=\"data row5 col4\" >0.2218</td>\n",
       "      <td id=\"T_8634f_row5_col5\" class=\"data row5 col5\" >0.1904</td>\n",
       "    </tr>\n",
       "    <tr>\n",
       "      <th id=\"T_8634f_level0_row6\" class=\"row_heading level0 row6\" >6</th>\n",
       "      <td id=\"T_8634f_row6_col0\" class=\"data row6 col0\" >1888.8559</td>\n",
       "      <td id=\"T_8634f_row6_col1\" class=\"data row6 col1\" >9015611.6168</td>\n",
       "      <td id=\"T_8634f_row6_col2\" class=\"data row6 col2\" >3002.6008</td>\n",
       "      <td id=\"T_8634f_row6_col3\" class=\"data row6 col3\" >0.9153</td>\n",
       "      <td id=\"T_8634f_row6_col4\" class=\"data row6 col4\" >0.2275</td>\n",
       "      <td id=\"T_8634f_row6_col5\" class=\"data row6 col5\" >0.1865</td>\n",
       "    </tr>\n",
       "    <tr>\n",
       "      <th id=\"T_8634f_level0_row7\" class=\"row_heading level0 row7\" >7</th>\n",
       "      <td id=\"T_8634f_row7_col0\" class=\"data row7 col0\" >1304.4661</td>\n",
       "      <td id=\"T_8634f_row7_col1\" class=\"data row7 col1\" >3674818.3166</td>\n",
       "      <td id=\"T_8634f_row7_col2\" class=\"data row7 col2\" >1916.9816</td>\n",
       "      <td id=\"T_8634f_row7_col3\" class=\"data row7 col3\" >0.9535</td>\n",
       "      <td id=\"T_8634f_row7_col4\" class=\"data row7 col4\" >0.1918</td>\n",
       "      <td id=\"T_8634f_row7_col5\" class=\"data row7 col5\" >0.1512</td>\n",
       "    </tr>\n",
       "    <tr>\n",
       "      <th id=\"T_8634f_level0_row8\" class=\"row_heading level0 row8\" >8</th>\n",
       "      <td id=\"T_8634f_row8_col0\" class=\"data row8 col0\" >1708.6405</td>\n",
       "      <td id=\"T_8634f_row8_col1\" class=\"data row8 col1\" >6795447.2166</td>\n",
       "      <td id=\"T_8634f_row8_col2\" class=\"data row8 col2\" >2606.8079</td>\n",
       "      <td id=\"T_8634f_row8_col3\" class=\"data row8 col3\" >0.9333</td>\n",
       "      <td id=\"T_8634f_row8_col4\" class=\"data row8 col4\" >0.2237</td>\n",
       "      <td id=\"T_8634f_row8_col5\" class=\"data row8 col5\" >0.1813</td>\n",
       "    </tr>\n",
       "    <tr>\n",
       "      <th id=\"T_8634f_level0_row9\" class=\"row_heading level0 row9\" >9</th>\n",
       "      <td id=\"T_8634f_row9_col0\" class=\"data row9 col0\" >1741.2143</td>\n",
       "      <td id=\"T_8634f_row9_col1\" class=\"data row9 col1\" >6497930.8996</td>\n",
       "      <td id=\"T_8634f_row9_col2\" class=\"data row9 col2\" >2549.1039</td>\n",
       "      <td id=\"T_8634f_row9_col3\" class=\"data row9 col3\" >0.9381</td>\n",
       "      <td id=\"T_8634f_row9_col4\" class=\"data row9 col4\" >0.2474</td>\n",
       "      <td id=\"T_8634f_row9_col5\" class=\"data row9 col5\" >0.2070</td>\n",
       "    </tr>\n",
       "    <tr>\n",
       "      <th id=\"T_8634f_level0_row10\" class=\"row_heading level0 row10\" >Mean</th>\n",
       "      <td id=\"T_8634f_row10_col0\" class=\"data row10 col0\" >1732.9093</td>\n",
       "      <td id=\"T_8634f_row10_col1\" class=\"data row10 col1\" >6998796.7042</td>\n",
       "      <td id=\"T_8634f_row10_col2\" class=\"data row10 col2\" >2619.1033</td>\n",
       "      <td id=\"T_8634f_row10_col3\" class=\"data row10 col3\" >0.9308</td>\n",
       "      <td id=\"T_8634f_row10_col4\" class=\"data row10 col4\" >0.2263</td>\n",
       "      <td id=\"T_8634f_row10_col5\" class=\"data row10 col5\" >0.1874</td>\n",
       "    </tr>\n",
       "    <tr>\n",
       "      <th id=\"T_8634f_level0_row11\" class=\"row_heading level0 row11\" >Std</th>\n",
       "      <td id=\"T_8634f_row11_col0\" class=\"data row11 col0\" >163.4211</td>\n",
       "      <td id=\"T_8634f_row11_col1\" class=\"data row11 col1\" >1915921.3445</td>\n",
       "      <td id=\"T_8634f_row11_col2\" class=\"data row11 col2\" >372.9537</td>\n",
       "      <td id=\"T_8634f_row11_col3\" class=\"data row11 col3\" >0.0180</td>\n",
       "      <td id=\"T_8634f_row11_col4\" class=\"data row11 col4\" >0.0154</td>\n",
       "      <td id=\"T_8634f_row11_col5\" class=\"data row11 col5\" >0.0155</td>\n",
       "    </tr>\n",
       "  </tbody>\n",
       "</table>\n"
      ],
      "text/plain": [
       "<pandas.io.formats.style.Styler at 0x1f8add75400>"
      ]
     },
     "metadata": {},
     "output_type": "display_data"
    },
    {
     "data": {
      "text/html": [],
      "text/plain": [
       "<IPython.core.display.HTML object>"
      ]
     },
     "metadata": {},
     "output_type": "display_data"
    },
    {
     "data": {
      "text/html": [],
      "text/plain": [
       "<IPython.core.display.HTML object>"
      ]
     },
     "metadata": {},
     "output_type": "display_data"
    },
    {
     "data": {
      "text/html": [
       "<style type=\"text/css\">\n",
       "#T_cbb3f_row10_col0, #T_cbb3f_row10_col1, #T_cbb3f_row10_col2, #T_cbb3f_row10_col3, #T_cbb3f_row10_col4, #T_cbb3f_row10_col5 {\n",
       "  background: yellow;\n",
       "}\n",
       "</style>\n",
       "<table id=\"T_cbb3f\">\n",
       "  <thead>\n",
       "    <tr>\n",
       "      <th class=\"blank level0\" >&nbsp;</th>\n",
       "      <th id=\"T_cbb3f_level0_col0\" class=\"col_heading level0 col0\" >MAE</th>\n",
       "      <th id=\"T_cbb3f_level0_col1\" class=\"col_heading level0 col1\" >MSE</th>\n",
       "      <th id=\"T_cbb3f_level0_col2\" class=\"col_heading level0 col2\" >RMSE</th>\n",
       "      <th id=\"T_cbb3f_level0_col3\" class=\"col_heading level0 col3\" >R2</th>\n",
       "      <th id=\"T_cbb3f_level0_col4\" class=\"col_heading level0 col4\" >RMSLE</th>\n",
       "      <th id=\"T_cbb3f_level0_col5\" class=\"col_heading level0 col5\" >MAPE</th>\n",
       "    </tr>\n",
       "    <tr>\n",
       "      <th class=\"index_name level0\" >Fold</th>\n",
       "      <th class=\"blank col0\" >&nbsp;</th>\n",
       "      <th class=\"blank col1\" >&nbsp;</th>\n",
       "      <th class=\"blank col2\" >&nbsp;</th>\n",
       "      <th class=\"blank col3\" >&nbsp;</th>\n",
       "      <th class=\"blank col4\" >&nbsp;</th>\n",
       "      <th class=\"blank col5\" >&nbsp;</th>\n",
       "    </tr>\n",
       "  </thead>\n",
       "  <tbody>\n",
       "    <tr>\n",
       "      <th id=\"T_cbb3f_level0_row0\" class=\"row_heading level0 row0\" >0</th>\n",
       "      <td id=\"T_cbb3f_row0_col0\" class=\"data row0 col0\" >1812.7926</td>\n",
       "      <td id=\"T_cbb3f_row0_col1\" class=\"data row0 col1\" >6192806.5037</td>\n",
       "      <td id=\"T_cbb3f_row0_col2\" class=\"data row0 col2\" >2488.5350</td>\n",
       "      <td id=\"T_cbb3f_row0_col3\" class=\"data row0 col3\" >0.9320</td>\n",
       "      <td id=\"T_cbb3f_row0_col4\" class=\"data row0 col4\" >0.2442</td>\n",
       "      <td id=\"T_cbb3f_row0_col5\" class=\"data row0 col5\" >0.1942</td>\n",
       "    </tr>\n",
       "    <tr>\n",
       "      <th id=\"T_cbb3f_level0_row1\" class=\"row_heading level0 row1\" >1</th>\n",
       "      <td id=\"T_cbb3f_row1_col0\" class=\"data row1 col0\" >1951.9821</td>\n",
       "      <td id=\"T_cbb3f_row1_col1\" class=\"data row1 col1\" >13692958.9656</td>\n",
       "      <td id=\"T_cbb3f_row1_col2\" class=\"data row1 col2\" >3700.3998</td>\n",
       "      <td id=\"T_cbb3f_row1_col3\" class=\"data row1 col3\" >0.8951</td>\n",
       "      <td id=\"T_cbb3f_row1_col4\" class=\"data row1 col4\" >0.2413</td>\n",
       "      <td id=\"T_cbb3f_row1_col5\" class=\"data row1 col5\" >0.1948</td>\n",
       "    </tr>\n",
       "    <tr>\n",
       "      <th id=\"T_cbb3f_level0_row2\" class=\"row_heading level0 row2\" >2</th>\n",
       "      <td id=\"T_cbb3f_row2_col0\" class=\"data row2 col0\" >1747.1343</td>\n",
       "      <td id=\"T_cbb3f_row2_col1\" class=\"data row2 col1\" >5962745.1181</td>\n",
       "      <td id=\"T_cbb3f_row2_col2\" class=\"data row2 col2\" >2441.8733</td>\n",
       "      <td id=\"T_cbb3f_row2_col3\" class=\"data row2 col3\" >0.9453</td>\n",
       "      <td id=\"T_cbb3f_row2_col4\" class=\"data row2 col4\" >0.2521</td>\n",
       "      <td id=\"T_cbb3f_row2_col5\" class=\"data row2 col5\" >0.2079</td>\n",
       "    </tr>\n",
       "    <tr>\n",
       "      <th id=\"T_cbb3f_level0_row3\" class=\"row_heading level0 row3\" >3</th>\n",
       "      <td id=\"T_cbb3f_row3_col0\" class=\"data row3 col0\" >1660.9236</td>\n",
       "      <td id=\"T_cbb3f_row3_col1\" class=\"data row3 col1\" >5018632.3193</td>\n",
       "      <td id=\"T_cbb3f_row3_col2\" class=\"data row3 col2\" >2240.2304</td>\n",
       "      <td id=\"T_cbb3f_row3_col3\" class=\"data row3 col3\" >0.9446</td>\n",
       "      <td id=\"T_cbb3f_row3_col4\" class=\"data row3 col4\" >0.2281</td>\n",
       "      <td id=\"T_cbb3f_row3_col5\" class=\"data row3 col5\" >0.1841</td>\n",
       "    </tr>\n",
       "    <tr>\n",
       "      <th id=\"T_cbb3f_level0_row4\" class=\"row_heading level0 row4\" >4</th>\n",
       "      <td id=\"T_cbb3f_row4_col0\" class=\"data row4 col0\" >1779.5969</td>\n",
       "      <td id=\"T_cbb3f_row4_col1\" class=\"data row4 col1\" >6877323.0203</td>\n",
       "      <td id=\"T_cbb3f_row4_col2\" class=\"data row4 col2\" >2622.4651</td>\n",
       "      <td id=\"T_cbb3f_row4_col3\" class=\"data row4 col3\" >0.9142</td>\n",
       "      <td id=\"T_cbb3f_row4_col4\" class=\"data row4 col4\" >0.2468</td>\n",
       "      <td id=\"T_cbb3f_row4_col5\" class=\"data row4 col5\" >0.2037</td>\n",
       "    </tr>\n",
       "    <tr>\n",
       "      <th id=\"T_cbb3f_level0_row5\" class=\"row_heading level0 row5\" >5</th>\n",
       "      <td id=\"T_cbb3f_row5_col0\" class=\"data row5 col0\" >1982.3381</td>\n",
       "      <td id=\"T_cbb3f_row5_col1\" class=\"data row5 col1\" >19802716.3548</td>\n",
       "      <td id=\"T_cbb3f_row5_col2\" class=\"data row5 col2\" >4450.0243</td>\n",
       "      <td id=\"T_cbb3f_row5_col3\" class=\"data row5 col3\" >0.8310</td>\n",
       "      <td id=\"T_cbb3f_row5_col4\" class=\"data row5 col4\" >0.2353</td>\n",
       "      <td id=\"T_cbb3f_row5_col5\" class=\"data row5 col5\" >0.1991</td>\n",
       "    </tr>\n",
       "    <tr>\n",
       "      <th id=\"T_cbb3f_level0_row6\" class=\"row_heading level0 row6\" >6</th>\n",
       "      <td id=\"T_cbb3f_row6_col0\" class=\"data row6 col0\" >1808.8721</td>\n",
       "      <td id=\"T_cbb3f_row6_col1\" class=\"data row6 col1\" >7240357.3288</td>\n",
       "      <td id=\"T_cbb3f_row6_col2\" class=\"data row6 col2\" >2690.7912</td>\n",
       "      <td id=\"T_cbb3f_row6_col3\" class=\"data row6 col3\" >0.9320</td>\n",
       "      <td id=\"T_cbb3f_row6_col4\" class=\"data row6 col4\" >0.2337</td>\n",
       "      <td id=\"T_cbb3f_row6_col5\" class=\"data row6 col5\" >0.1891</td>\n",
       "    </tr>\n",
       "    <tr>\n",
       "      <th id=\"T_cbb3f_level0_row7\" class=\"row_heading level0 row7\" >7</th>\n",
       "      <td id=\"T_cbb3f_row7_col0\" class=\"data row7 col0\" >1336.8906</td>\n",
       "      <td id=\"T_cbb3f_row7_col1\" class=\"data row7 col1\" >4156648.6308</td>\n",
       "      <td id=\"T_cbb3f_row7_col2\" class=\"data row7 col2\" >2038.7861</td>\n",
       "      <td id=\"T_cbb3f_row7_col3\" class=\"data row7 col3\" >0.9474</td>\n",
       "      <td id=\"T_cbb3f_row7_col4\" class=\"data row7 col4\" >0.1982</td>\n",
       "      <td id=\"T_cbb3f_row7_col5\" class=\"data row7 col5\" >0.1503</td>\n",
       "    </tr>\n",
       "    <tr>\n",
       "      <th id=\"T_cbb3f_level0_row8\" class=\"row_heading level0 row8\" >8</th>\n",
       "      <td id=\"T_cbb3f_row8_col0\" class=\"data row8 col0\" >1630.4806</td>\n",
       "      <td id=\"T_cbb3f_row8_col1\" class=\"data row8 col1\" >5294020.9249</td>\n",
       "      <td id=\"T_cbb3f_row8_col2\" class=\"data row8 col2\" >2300.8739</td>\n",
       "      <td id=\"T_cbb3f_row8_col3\" class=\"data row8 col3\" >0.9480</td>\n",
       "      <td id=\"T_cbb3f_row8_col4\" class=\"data row8 col4\" >0.2265</td>\n",
       "      <td id=\"T_cbb3f_row8_col5\" class=\"data row8 col5\" >0.1812</td>\n",
       "    </tr>\n",
       "    <tr>\n",
       "      <th id=\"T_cbb3f_level0_row9\" class=\"row_heading level0 row9\" >9</th>\n",
       "      <td id=\"T_cbb3f_row9_col0\" class=\"data row9 col0\" >1809.3773</td>\n",
       "      <td id=\"T_cbb3f_row9_col1\" class=\"data row9 col1\" >7746880.3306</td>\n",
       "      <td id=\"T_cbb3f_row9_col2\" class=\"data row9 col2\" >2783.3218</td>\n",
       "      <td id=\"T_cbb3f_row9_col3\" class=\"data row9 col3\" >0.9262</td>\n",
       "      <td id=\"T_cbb3f_row9_col4\" class=\"data row9 col4\" >0.2565</td>\n",
       "      <td id=\"T_cbb3f_row9_col5\" class=\"data row9 col5\" >0.2121</td>\n",
       "    </tr>\n",
       "    <tr>\n",
       "      <th id=\"T_cbb3f_level0_row10\" class=\"row_heading level0 row10\" >Mean</th>\n",
       "      <td id=\"T_cbb3f_row10_col0\" class=\"data row10 col0\" >1752.0388</td>\n",
       "      <td id=\"T_cbb3f_row10_col1\" class=\"data row10 col1\" >8198508.9497</td>\n",
       "      <td id=\"T_cbb3f_row10_col2\" class=\"data row10 col2\" >2775.7301</td>\n",
       "      <td id=\"T_cbb3f_row10_col3\" class=\"data row10 col3\" >0.9216</td>\n",
       "      <td id=\"T_cbb3f_row10_col4\" class=\"data row10 col4\" >0.2363</td>\n",
       "      <td id=\"T_cbb3f_row10_col5\" class=\"data row10 col5\" >0.1917</td>\n",
       "    </tr>\n",
       "    <tr>\n",
       "      <th id=\"T_cbb3f_level0_row11\" class=\"row_heading level0 row11\" >Std</th>\n",
       "      <td id=\"T_cbb3f_row11_col0\" class=\"data row11 col0\" >173.0415</td>\n",
       "      <td id=\"T_cbb3f_row11_col1\" class=\"data row11 col1\" >4600216.8296</td>\n",
       "      <td id=\"T_cbb3f_row11_col2\" class=\"data row11 col2\" >702.7314</td>\n",
       "      <td id=\"T_cbb3f_row11_col3\" class=\"data row11 col3\" >0.0342</td>\n",
       "      <td id=\"T_cbb3f_row11_col4\" class=\"data row11 col4\" >0.0158</td>\n",
       "      <td id=\"T_cbb3f_row11_col5\" class=\"data row11 col5\" >0.0167</td>\n",
       "    </tr>\n",
       "  </tbody>\n",
       "</table>\n"
      ],
      "text/plain": [
       "<pandas.io.formats.style.Styler at 0x1f8add69fa0>"
      ]
     },
     "metadata": {},
     "output_type": "display_data"
    },
    {
     "data": {
      "text/html": [],
      "text/plain": [
       "<IPython.core.display.HTML object>"
      ]
     },
     "metadata": {},
     "output_type": "display_data"
    }
   ],
   "source": [
    "xgboost = create_model('xgboost')\n",
    "stacker2 = stack_models(top3, meta_model = xgboost)"
   ]
  },
  {
   "cell_type": "markdown",
   "metadata": {
    "colab_type": "text",
    "id": "cnbiUV5H1RZX"
   },
   "source": [
    "Before we wrap up this section, there is another parameter in `stack_models()` that we haven't seen yet called `restack`. This parameter controls the ability to expose the raw data to the meta model. When set to `True`, it exposes the raw data to the meta model along with all the predictions of the base level models. By default it is set to `True`. See the example below with the `restack` parameter changed to `False`."
   ]
  },
  {
   "cell_type": "markdown",
   "metadata": {},
   "source": [
    "# 10.0 Experiment Logging"
   ]
  },
  {
   "cell_type": "markdown",
   "metadata": {},
   "source": [
    "PyCaret 2.0 embeds MLflow Tracking component as a backend API and UI for logging parameters, code versions, metrics, and output files when running your machine learning code and for later visualizing the results. To log your experiments in pycaret simply use log_experiment and experiment_name parameter in the setup function, as we did in this example.\n",
    "\n",
    "You can start the UI on `localhost:5000`. Simply initiate the MLFlow server from command line or from notebook. See example below:"
   ]
  },
  {
   "cell_type": "code",
   "execution_count": 29,
   "metadata": {},
   "outputs": [],
   "source": [
    "# to start the MLFlow server from notebook:\n",
    "# !mlflow ui"
   ]
  },
  {
   "cell_type": "markdown",
   "metadata": {},
   "source": [
    "# Open localhost:5000 on your browser (below is example of how UI looks like)\n",
    "![title](https://i2.wp.com/pycaret.org/wp-content/uploads/2020/07/classification_mlflow_ui.png?resize=1080%2C508&ssl=1)"
   ]
  },
  {
   "cell_type": "markdown",
   "metadata": {
    "colab_type": "text",
    "id": "AYIcCby_1RdN"
   },
   "source": [
    "# 11.0 Wrap-up / Next Steps?"
   ]
  },
  {
   "cell_type": "markdown",
   "metadata": {
    "colab_type": "text",
    "id": "D94EyMJo1RdQ"
   },
   "source": [
    "We have covered a lot of new concepts in this tutorial. Most importantly we have seen how to use exploratory data analysis to customize a pipeline in `setup()` which has improved the results considerably when compared to what we saw earlier in __[Regression Tutorial (REG101) - Level Beginner](https://github.com/pycaret/pycaret/blob/master/tutorials/Regression%20Tutorial%20Level%20Beginner%20-%20REG101.ipynb)__. WWe have also learned how to perform and tune ensembling in PyCaret.\n",
    "\n",
    "There are however a few more advanced things to cover in `pycaret.regression` which include interpretating more complex tree based models using shapley values, advanced ensembling techniques such as multiple layer stacknet and more pre-processing pipeline methods. We will cover all of this in our next and final tutorial in the `pycaret.regression` series. \n",
    "\n",
    "See you at the next tutorial. Follow the link to __[Regression Tutorial (REG103) - Level Expert](https://github.com/pycaret/pycaret/blob/master/tutorials/Regression%20Tutorial%20Level%20Expert%20-%20REG103.ipynb)__"
   ]
  },
  {
   "cell_type": "code",
   "execution_count": null,
   "metadata": {},
   "outputs": [],
   "source": []
  },
  {
   "cell_type": "code",
   "execution_count": null,
   "metadata": {},
   "outputs": [],
   "source": []
  },
  {
   "cell_type": "code",
   "execution_count": null,
   "metadata": {},
   "outputs": [],
   "source": []
  }
 ],
 "metadata": {
  "colab": {
   "collapsed_sections": [
    "zrNWkm4v1RRh",
    "BuL2VDPq1RRq",
    "vZbKDK261RSt",
    "E5ZGIV_61RTV",
    "OYkCSO7n1RTv",
    "6TVGAA7Q1RT2",
    "axAmmrbZ1RUI",
    "Jlef9kIH1RUk",
    "pwyjV3KW1RVo",
    "oN1T29bo1RV-",
    "TFk_UbV51RWc",
    "RdYEDmAQ1RXT",
    "5hwtKpxV1RYa",
    "WvX-RM0J1RZv",
    "gCMLw6t21RaU",
    "4PgpKbHb1Raz",
    "LF2Y3w-J1Rbp",
    "-htwJZFV1RcI",
    "AYIcCby_1RdN"
   ],
   "name": "Regression Tutorial (REG102) - Level Intermediate (ACN_EDITS).ipynb",
   "provenance": []
  },
  "kernelspec": {
   "display_name": "pycaretrc5",
   "language": "python",
   "name": "pycaretrc5"
  },
  "language_info": {
   "codemirror_mode": {
    "name": "ipython",
    "version": 3
   },
   "file_extension": ".py",
   "mimetype": "text/x-python",
   "name": "python",
   "nbconvert_exporter": "python",
   "pygments_lexer": "ipython3",
   "version": "3.8.15"
  }
 },
 "nbformat": 4,
 "nbformat_minor": 1
}
