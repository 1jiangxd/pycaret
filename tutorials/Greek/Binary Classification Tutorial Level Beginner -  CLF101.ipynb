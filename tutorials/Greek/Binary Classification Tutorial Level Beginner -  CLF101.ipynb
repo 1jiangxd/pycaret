{
 "cells": [
  {
   "cell_type": "markdown",
   "metadata": {
    "colab_type": "text",
    "id": "Y57RMM1LEQmR",
    "pycharm": {
     "name": "#%% md\n"
    }
   },
   "source": [
    "#  <span style=\"color:orange\">Μάθημα Δυαδικής Ταξινόμησης (CLF101) - Επίπεδο Αρχάριων</span>"
   ]
  },
  {
   "cell_type": "markdown",
   "source": [
    "**Έγινε χρήση της βιβλιοθήκης: PyCaret 3.0** <br />\n",
    "**Python Vesrion: 3.9** <br />\n",
    "**Ημερομηνία τελευταίας τροποποίησης: 14 Αυγούστου 2022**\n",
    "\n",
    "\n",
    "# 1.0 Στόχοι Μαθήματος\n",
    "\n",
    "Καλώς ήρθατε στο μάθημα Δυαδικής Ταξινόμησης (CLF101) - Επίπεδο Αρχάριων. Ο οδηγός προορίζεται για τις νέες χρήστριες του PyCaret, οι οποίες ενδιαφέρονται να αξιοποιήσουν το Module `pycaret.classification` για να εκτελέσουν Δυαδική Ταξινόμηση:\n",
    "\n",
    "Σε αυτό το μάθημα θα διδαχθούμε:\n",
    "\n",
    "* **Λήψη Δεδομένων:** Πώς να εισάγουμε δεδομένα από το αποθετήριο της βιβλιοθήκης PyCaret.\n",
    "* **Εγκατάσταση Περιβάλλοντος:** Πώς να στήνουμε μια πειραματική διαδικασία κάνοντας χρήση της PyCaret και πώς να χτίζουμε μοντέλα ταξινόμησης.\n",
    "* **Δημιουργία Μοντέλου:** Πώς να δημιουργούμε ένα μοντέλο, να κάνουμε stratified cross validation (ΣτΜ: μέθοδος αξιολόγησης) και να αξιολογούμε τις μετρικές που χρησιμοποιούνται στην ταξινόμηση.\n",
    "* **Ρύθμιση Μοντέλου:** Πώς να ρυθμίζουμε αυτόματα τις υπερ-παραμέτρους ενός μοντέλου ταξινόμησης.\n",
    "* **Γραφική Απεικόνιση Μοντέλου:** Πώς να αναλύουμε την απόδοση ενός μοντέλου αξιοποιώντας διάφορες γραφικές απεικονίσεις.\n",
    "* **Οριστικοποίηση Μοντέλου:** Πώς να οριστικοποιούμε το καλύτερο μοντέλο στο τέλος του πειράματος.\n",
    "* **Πρόβλεψη Μοντέλου:** Πώς να κάνουμε προβλέψεις βασισμένες σε νέα / άγνωστα δεδομένα.\n",
    "* **Αποθήκευση / Φόρτωση Μοντέλου:** Πώς να αποθηκεύουμε / φορτώνουμε ένα μοντέλο για μελλοντική χρήση.\n",
    "\n",
    "Χρόνος Ανάγνωσης : Περίπου 30 Λεπτά.\n",
    "\n",
    "\n",
    "## 1.1 Εγκατάσταση PyCaret\n",
    "Το πρώτο βήμα για να χρησιμοποιήσουμε τη βιβλιοθήκη PyCaret είναι να την εγκαταστήσουμε. Η εγκατάσταση είναι εύκολη και θα διαρκέσει μόνο μερικά λεπτά. Ακολουθήστε τις παρακάτω οδηγίες:\n",
    "\n",
    "#### Εγκατάσταση PyCaret σε Τοπικό Jupyter Notebook.\n",
    "`pip install pycaret`  <br />\n",
    "\n",
    "#### Εγκατάσταση PyCaret στο Google Colab η στο Azure Notebooks\n",
    "`!pip install pycaret`\n",
    "\n",
    "\n",
    "## 1.2 Προ-απαιτούμενα\n",
    "- Python 3.6 ή πιο σύγχρονη (ΣτΜ: H Python 3.10 δεν υποστηρίζεται τη δεδομένη στιγμή).\n",
    "- PyCaret 2.0 ή πιο σύγχρονη.\n",
    "- Σύνδεση στο Internet, ώστε να φορτώσουμε δεδομένα από το αποθετήριο της PyCaret.\n",
    "- Βασικές Γνώσεις πάνω στη Δυαδική Ταξινόμηση.\n",
    "\n",
    "## 1.3 Για τους χρήστες του Google Colab:\n",
    "Αν εκτελείτε αυτό το notebook στο Google Colab, «τρέξτε» το παρακάτω κομμάτι κώδικα στην αρχή του notebook, ώστε να προβάλλετε διαδραστικές εικόνες.<br/>\n",
    "\n",
    "`from pycaret.utils import enable_colab` <br/>\n",
    "`enable_colab()`\n",
    "\n",
    "\n",
    "## 1.4 Δείτε επίσης:\n",
    "- __[Μάθημα Δυαδικής Ταξινόμησης (CLF102) - Μέσο Επίπεδο](https://github.com/pycaret/pycaret/blob/master/tutorials/Greek/Binary%20Classification%20Tutorial%20Level%20Intermediate%20-%20CLF102.ipynb)__\n",
    "- __[Μάθημα Δυαδικής Ταξινόμησης (CLF102) - Επίπεδο Προχωρημένων](https://github.com/pycaret/pycaret/blob/master/tutorials/Greek/Binary%20Classification%20Tutorial%20Level%Expert%20-%20CLF103.ipynb)__"
   ],
   "metadata": {
    "collapsed": false,
    "pycharm": {
     "name": "#%% md\n"
    }
   }
  },
  {
   "cell_type": "markdown",
   "source": [
    "# 2.0 Τι είναι η Δυαδική Ταξινόμηση;\n",
    "\n",
    "Η δυαδική ταξινόμηση είναι μια τεχνική επιβλεπόμενης μηχανικής μάθησης. Στοχεύει στην πρόβλεψη διακριτών ετικετών (labels) κλάσεων, όπως για παράδειγμα: Επιτυχία/Αποτυχία (Pass/Fail), Θετικό/Αρνητικό κλπ. Ακολουθούν ορισμένα πραγματικά προβλήματα όπου επιστρατεύεται η ταξινόμηση.\n",
    "\n",
    "- Ο ιατρικός έλεγχος ώστε να διαγνωστεί αν ένας ασθενής πάσχει από μία συγκεκριμένη ασθένεια. Η ιδιότητα που καλούμαστε να ταξινομήσουμε είναι η ύπαρξη ή μη της νόσου.\n",
    "- Η μέθοδος καθορισμούς της \"επιτυχίας ή αποτυχίας\" σε ένα τεστ ή ο ποιοτικός έλεγχος σε εργοστάσια, π.χ. η απόφαση για το αν πληρούνται κάποιες προδιαγραφές ή όχι.\n",
    "- Η ανάκτηση πληροφοριών, δηλαδή αν μια ιστοσελίδα ή ένα άρθρο πρέπει να συμπεριλαμβάνεται στα αποτελέσματα αναζήτησης ή όχι. Η ιδιότητα που καλούμαστε να ταξινομήσουμε είναι η συνάφεια του άρθρου ή η χρησιμότητα του για τη χρήστρια.\n",
    "\n",
    "__[Περισσότερες πληροφορίες σχετικά με τη δυαδική αναζήτηση](https://medium.com/@categitau/in-one-of-my-previous-posts-i-introduced-machine-learning-and-talked-about-the-two-most-common-c1ac6e18df16)__"
   ],
   "metadata": {
    "collapsed": false,
    "pycharm": {
     "name": "#%% md\n"
    }
   }
  },
  {
   "cell_type": "markdown",
   "source": [
    "# 3.0 Επισκόπηση του Module Ταξινόμησης της PyCaret\n",
    "\n",
    "Το Module της βιβλιοθήκης PyCaret που αφορά την ταξινόμηση (`pycaret.classification`) είναι ένα module επιβλεπόμενης μηχανικής μάθησης. Χρησιμοποιείται για την ταξινόμηση στοιχείων σε δύο ομάδες βάσει διάφορων τεχνικών και αλγορίθμων. Κάποια συνηθισμένα προβλήματα ταξινόμησης είναι η προεπιλογές πελατών (ναι ή όχι), η απώλεια πελάτη (θα μείνει ή θα φύγει) και η διάγνωση ασθένειας (θετικό ή αρνητικό).\n",
    "\n",
    "Το module ταξινόμησης της PyCaret μπορεί να χρησιμοποιηθεί σε προβλήματα Δυαδικής (Binary) ταξινόμησης και ταξινόμησης Πολλαπλών Κλάσεων (Multi-class classification). Έχει περισσότερους απο 18 αλγορίθμους και 14 γραφικές απεικονίσεις για την ανάλυση της απόδοσης των μοντέλων. Το module ταξινόμησης της PyCaret τα έχει όλα, είτε πρόκειται για ρύθμιση υπερ-παραμέντρων (tuning hyper-parameters), είτε για ensembling (ΣτΜ: τεχνική συνδυασμού μεθόδων), είτε για πιο προηγμένες τεχνικές όπως stacking (ΣτΜ: ό.π)."
   ],
   "metadata": {
    "collapsed": false,
    "pycharm": {
     "name": "#%% md\n"
    }
   }
  },
  {
   "cell_type": "markdown",
   "source": [
    "# 4.0 Το Σύνολο Δεδομένων (Dataset) του Μαθήματος"
   ],
   "metadata": {
    "collapsed": false,
    "pycharm": {
     "name": "#%% md\n"
    }
   }
  },
  {
   "cell_type": "markdown",
   "source": [
    "Σε αυτό το μάθημα θα χρησιμοποιήσουμε ένα σύνολο δεδομένων (dataset) που παρέχεται από το [UCI](https://archive.ics.uci.edu/ml/index.php) και ονομάζεται **Default of Credit Card Clients Dataset**. Σε αυτό εμπεριέχονται πληροφορίες σχετικά με τις προεπιλεγμένες πληρωμές, δημογραφικοί παράγοντες, πιστωτικά δεδομένα, ιστορικό πληρωμών και καταστάσεις τιμολόγησης πελατών πιστωτικών καρτών στην Ταϊβάν από τον Απρίλιο του 2005 έως τον Σεπτέμβριο του 2005. Υπάρχουν 24.000 δείγματα (samples) και 25 χαρακτηριστικά (features). Ακολουθεί σύντομη περιγραφή των επιμέρους στηλών:\n",
    "\n",
    "- **ID:** Αναγνωριστικό του κάθε πελάτη.\n",
    "- **LIMIT_BAL:** Ποσό πίστωσης σε δολάρια ΝΤ (περιλαμβάνει ατομική και οικογενειακή/συμπληρωματική πίστωση).\n",
    "- **SEX:** Φύλο (1=άρρεν, 2=θήλυ).\n",
    "- **EDUCATION:** (1=μεταπτυχιακό, 2=πανεπιστήμιο, 3=λύκειο, 4=άλλα, 5=άγνωστο, 6=άγνωστο).\n",
    "- **MARRIAGE:** Οικογενειακή κατάσταση (1=παντρεμένος, 2=ανύπαντρος, 3=άλλο).\n",
    "- **AGE:** Ηλικία σε χρόνια.\n",
    "- **PAY_1 to PAY_6:** Κατάσταση αποπληρωμής πριν από Χ μήνες (PAY_1 = προηγούμενος μήνας ... PAY_6 = πριν 6 μήνες) (Labels: -1=συνεπής πληρωμή, 1=αργοπορημένη πληρωμή κατά 1 μήνα, 2=αργοπορημένη πληρωμή κατά 2 μήνες, ... 8=αργοπορημένη πληρωμή κατά 8 μήνες, 9=αργοπορημένη πληρωμή κατά 9 ή περισσότερους μήνες).\n",
    "- **BILL_AMT1 to BILL_AMT6:** Εκκαθαριστικό υπόλοιπο του λογαριασμού πριν από Χ μήνες ( BILL_AMT1 = προηγούμενος μήνας .. BILL_AMT6 = πριν από 6 μήνες)\n",
    "- **PAY_AMT1 to PAY_AMT6:** Ποσό πληρωμής πριν από Χ μήνες ( BILL_AMT1 = προηγούμενος μήνας .. BILL_AMT6 = πριν από 6 μήνες)\n",
    "- **default:** Προεπιλεγμένη πληρωμή (1=ναι, 0=όχι) `Στήλη-Στόχος`\n",
    "\n",
    "#### Αναγνώριση του Συνόλου Δεδομένων:\n",
    "Lichman, M. (2013). UCI Machine Learning Repository. Irvine, CA: University of California, School of Information and Computer Science.\n",
    "\n",
    "__[Πηγή](https://archive.ics.uci.edu/ml/datasets/default+of+credit+card+clients)__"
   ],
   "metadata": {
    "collapsed": false,
    "pycharm": {
     "name": "#%% md\n"
    }
   }
  },
  {
   "cell_type": "markdown",
   "source": [
    "# 5.0 Λήψη Δεδομένων"
   ],
   "metadata": {
    "collapsed": false,
    "pycharm": {
     "name": "#%% md\n"
    }
   }
  },
  {
   "cell_type": "markdown",
   "source": [
    "Μπορείτε να κατεβάσετε τα δεδομένα από την αρχική τους πηγή, __[εδώ](https://archive.ics.uci.edu/ml/datasets/default+of+credit+card+clients)__ και να τα φορτώσετε χρησιμοποιώντας τη βιβλιοθήκη Pandas __[(μαθετε πώς)](https://pandas.pydata.org/pandas-docs/stable/reference/api/pandas.read_csv.html)__ ή μπορείτε να χρησιμοποιήσετε το αποθετήριο της βιβλιοθήκης PyCaret και να τα φορτώσετε χρησιμοποιώντας τη συνάρτηση `get_data()` (αυτό απαιτεί σύνδεση στο Internet)."
   ],
   "metadata": {
    "collapsed": false,
    "pycharm": {
     "name": "#%% md\n"
    }
   }
  },
  {
   "cell_type": "code",
   "execution_count": null,
   "outputs": [],
   "source": [
    "from pycaret.datasets import get_data\n",
    "dataset = get_data('credit')"
   ],
   "metadata": {
    "collapsed": false,
    "pycharm": {
     "name": "#%%\n"
    }
   }
  },
  {
   "cell_type": "code",
   "execution_count": null,
   "outputs": [],
   "source": [
    "#check the shape of data\n",
    "#έλεγχος του μεγέθους των δεδομένων\n",
    "dataset.shape"
   ],
   "metadata": {
    "collapsed": false,
    "pycharm": {
     "name": "#%%\n"
    }
   }
  },
  {
   "cell_type": "markdown",
   "source": [
    "Για να επιδείξουμε τη λειτουργία της συνάρτησης `predict_model()` σε άγνωστα δεδομένα, δειγματοληπτούμε 1.200 καταγραφές (records) από το αρχικό σύνολο δεδομένων, οι οποίες θα χρησιμοποιηθούν για να κάνουμε τις προβλέψεις μας. Αυτό δεν πρέπει να το συγχέουμε με το διαχωρισμό δεδομένων εκπαίδευσης/ελέχου (train/test split), καθώς στη δική μας περίπτωσης εκτελείται με τέτοιο τρόπο ώστε να ανταποκρίνεται σε ένα πραγματικό σενάριο. Ένας άλλος τρόπος για να το αντιληφθούμε θα ήταν η παραδοχή ότι αυτές οι 1.200 καταγραφές δεν είναι διαθέσιμες τη στιγμή που διεξάγεται το πείραμα μηχανικής μάθησης."
   ],
   "metadata": {
    "collapsed": false,
    "pycharm": {
     "name": "#%% md\n"
    }
   }
  },
  {
   "cell_type": "code",
   "execution_count": null,
   "outputs": [],
   "source": [
    "data = dataset.sample(frac=0.95, random_state=786)\n",
    "data_unseen = dataset.drop(data.index)\n",
    "data.reset_index(inplace=True, drop=True)\n",
    "data_unseen.reset_index(inplace=True, drop=True)\n",
    "print('Δεδομένα που χρησιμοποιούνται στη Μοντελοποίηση: ' + str(data.shape))\n",
    "print('Άγνωστα Δεδομένα για να κάνουμε Προβλέψεις: ' + str(data_unseen.shape))"
   ],
   "metadata": {
    "collapsed": false,
    "pycharm": {
     "name": "#%%\n"
    }
   }
  },
  {
   "cell_type": "markdown",
   "source": [
    "# 6.0 Εγκατάσταση Περιβάλλοντος στην PyCaret"
   ],
   "metadata": {
    "collapsed": false,
    "pycharm": {
     "name": "#%% md\n"
    }
   }
  },
  {
   "cell_type": "markdown",
   "source": [
    "Η συνάρτηση `setup()` αρχικοποιεί το περιβάλλον στην pycaret και δημιουργεί το transformation pipeline που προετοιμάζει τα δεδομένα για  τις διαδικασίες της μοντελοποίησης και της ανάπτυξης. Η συνάρτηση `setup()` πρέπει να προηγείται οποιασδήποτε άλλης στην pycaret. Δέχεται δυο υποχρεωτικές παραμέτρους: ένα pandas dataframe και το όνομα της στήλης-στόχου. Όλες οι υπόλοιπες παράμετροι είναι προαιρετικές και χρησιμοποιούνται για την εξατομίκευση του pre-processing pipeline (θα το δούμε σε επόμενα μαθήματα).\n",
    "\n",
    "Όταν εκτελείται η συνάρτηση `setup()`, οι αλγόριθμοι συμπερασμάτων (inference algorithms) της PyCaret θα καταλήξουν στους τύπους δεδομένων όλων των features βάσει συγκεκριμένων ιδιοτήτων τους. Οι τύποι των δεδομένων πρέπει να συμπεραίνονται ορθά, αλλά αυτό δε συμβαίνει πάντα. Για να αντισταθμιστεί αυτό, η PyCaret προβάλλει έναν πίνακα με τα features και του αντίστοιχους τύπους δεδομένων που προέκυψαν μετά την εκτέλεση της `setup()`. Αν όλοι οι τύποι δεδομένων εντοπίστηκαν ορθά, τότε μπορεί να πατηθεί το κουμπί `enter` για να συνεχιστεί το πείραμα. Ειδάλλως, η πληκτρολόγηση της λέξης `quit` θα το τερματίσει. Η εξασφάλιση της ορθότητας των τύπων δεδομένων είναι θεμελιωδώς σημαντική στην PyCaret, καθώς εκτελεί αυτόματα μια σειρά από εργασίες προ-επεξεργασίας (pre-processing) που είναι απολύτως απαραίτητες σε κάθε πείραμα μηχανικής μάθησης. Αυτές εκτελούνται διαφορετικά ανάλογα με τον τύπο δεδομένων, γι' αυτό είναι ιδιαίτερα σημαντική η σωστή ρύθμισή τους.\n",
    "\n",
    "Σε επόμενα μαθήματα θα μάθουμε πώς να αντικαθιστούμε τους τύπος δεδομένων, που συμπέρανε η PyCaret, χρησιμοποιώντας τις παραμέτρους της `setup()`: `numeric_features` και `categorical_values`."
   ],
   "metadata": {
    "collapsed": false,
    "pycharm": {
     "name": "#%% md\n"
    }
   }
  },
  {
   "cell_type": "code",
   "execution_count": null,
   "outputs": [],
   "source": [
    "from pycaret.classification import *"
   ],
   "metadata": {
    "collapsed": false,
    "pycharm": {
     "name": "#%%\n"
    }
   }
  },
  {
   "cell_type": "code",
   "execution_count": null,
   "outputs": [],
   "source": [
    "exp_clf101 = setup(data = data, target ='default', session_id=123)"
   ],
   "metadata": {
    "collapsed": false,
    "pycharm": {
     "name": "#%%\n"
    }
   }
  },
  {
   "cell_type": "markdown",
   "source": [
    "\n",
    "Όταν ολοκληρωθεί η εγκατάσταση, τυπώνονται κάποιες πολύ χρήσιμες πληροφορίες. Οι περισσότερες αφορούν το pre-processing pipeline που δημιουργείται με την εκτέλεση της `setup`. Η πλειοψηφία των features δεν ενδιαφέρουν στο συγκεκριμένο μάθημα, ωστόσο υπάρχουν κάποιες λίγες, αλλά σημαντικές, επισημάνσεις που πρέπει να γίνουν σε αυτό το στάδιο:\n",
    "\n",
    "* **session_id :** Ένας ψευδο-τυχαίος αριθμός που διαμοιράζεται ως seed σε όλες τις συναρτήσεις, έτσι ώστε τα αποτελέσματα να μπορούν αν αναπαραχθούν. Αν δεν οριστεί το `session_id`, τότε παράγεται ένας τυχαίος αριθμός. Σε αυτό το πείραμα, το `session_id` θα ισούται `123` για να μπορούν να αναπαραχθούν τα αποτελέσματα σε μεταγενέστερο χρόνο.<br/>\n",
    "* **Target Type :** Binary (Δύο Κλάσεις) ή Multiclass (Πολλαπλών Κλάσεων). Το πλήθος των κλάσεων στο οποίο μπορεί να ταξινομηθεί η μεταβλητή-στόχος εντοπίζεται αυτόματα και εμφανίζεται. Δεν υπάρχει διαφορά στον τρόπο εκτέλεσης του πειράματος για ταξινόμηση σε δύο ή περισσότερες κλάσεις. Όλες οι λειτουργίες είναι πανομοιότυπες.<br/>\n",
    "* **Label Encoded :** Όταν η μεταβλητή-στόχος είναι τύπου συμβολοσειράς (string), για παράδειγμα «Ναι» ή «Όχι», ατνί για 1 ή 0, τότε η ετικέτα (label) κωδικοποιείται αυτόματα σετ 1 και 0 και εμφανίζεται η αντιστοίχιση (0 : Όχι, 1 : Ναι). Σε αυτό το πείραμα δεν απαιτείται η κωδικοποίηση της ετικέτας, επειδή η μεταβλητή-στόχος είναι ήδη αριθμητικού τύπου.<br/>\n",
    "* **Original Data :** Εμφανίζεται το αρχικό μέγεθος του συνόλου δεδομένων. Σε αυτό το πείραμα το (22800, 24) σημαίνει 22.800 δείγματα (samples) και 24 χαρακτηριστικά (features) συμπεριλαμβανομένου και της στήλης-στόχου. <br/>\n",
    "* **Missing Values :** Όταν λείπουν κάποιες τιμές στα αρχικά δεδομένα, τότε παίρνει την τιμή True (Αληθές). Σε αυτό το πείραμα δε λείπουν τιμές στο σύνολο δεδομένων.<br/>\n",
    "* **Numeric Features :** Το πλήθος των features που χαρακτηρίστηκαν ως αριθμητικά. Σε αυτό το dataset, 14 από τα 24 features χαρακτηρίστηκαν ως τέτοια.<br/>\n",
    "* **Categorical Features :** Το πλήθος των features που λαμβάνουν διακριτές τιμές (categorical). Σε αυτό το dataset, 9 από τα 24 features χαρακτηρίστηκαν ως τέτοια. <br/>\n",
    "* **Transformed Train Set :** Εμφανίζεται το μέγεθος του μετασχηματισμένου συνόλου δεδομένων εκπαίδευσης (training set). Παρατηρούμε ότι το αρχικό μέγεθος (22800, 24) μετασχηματίζεται σε (15959, 91) και το πλήθος των features αυξήθηκε σε 91 από 24 εξαιτίας της κωδικοποίησης των categorical features (δηλ. αυτών που λαμβάνουν διακριτές τιμές).<br/>\n",
    "* **Transformed Test Set :** Εμφανίζεται το μέγεθος του μετασχηματισμένου συνόλου δεδομένων ελέγχου (test / hold-out set) (ΣτΜ: Εδώ πρόκειται για ένα μέρος των Δεδομένων Μοντελοποίησης· δεν πρέπει να συγχέεται με τα Άγνωστα Δεδομένα. Για να το διαχωρίσει, λοιπόν, από το test set το αναφέρει ως test / hold-out set). Υπάρχουν 6.841 δείγματα (samples) στο σύνολο δεδομένων ελέγχου. Τα δεδομένα διαχωρίζονται βάσει της προεπιλεγμένης αναλογίας 70/30, αυτό μπορεί να αλλάξει ορίζοντας την τιμή της παραμέτρου `train_size` στη συνάρτηση `setup()`.<br/>\n",
    "\n",
    "Παρατηρούμε πως κάποιες εργασίες που είναι απαραίτητες για τη μοντελοποίηση γίνονται αυτόματα, όπως για παράδειγμα η διαχείριση των τιμών που λείπουν (σε αυτή την περίπτωση μπορεί να μη λείπουν τιμές στα δεδομένα εκπαίδευσης, αλλά εξακολουθούμε να χρειασόμαστε μια τέτοια διαχείριση για τα άγνωστα δεδομένα), η κωδικοποίηση των features που λαμβάνουν διακριτές (categorical encoding) κλπ. Οι περισσότερες παράμετροι της `setup()` είναι προαιρετικές και χρησιμοποιούνται για την εξατομίκευση του pre-processing pipeline. Αυτές οι παράμετροι είναι εκτός του πεδίου του συγκεκριμένου μαθήματος, αλλά καθώς προχωράτε στα επόμενα επίπεδα (μέσο και προχωρημένων), θα καλυφτούν με μεγαλύτερη λεπτομέρεια."
   ],
   "metadata": {
    "collapsed": false,
    "pycharm": {
     "name": "#%% md\n"
    }
   }
  },
  {
   "cell_type": "markdown",
   "source": [
    "# 7.0 Σύγκριση Όλων των Μοντέλων"
   ],
   "metadata": {
    "collapsed": false,
    "pycharm": {
     "name": "#%% md\n"
    }
   }
  },
  {
   "cell_type": "markdown",
   "source": [
    "Αφού έχει ολοκληρωθεί η εκατάσταση (setup), η σύγκριση όλων των μοντέλων για την αξιολόγηση της απόδοσής τους είναι το πρώτο βήμα που συνιστάται (εκτός αν γνωρίζετε επακριβώς ποιο είναι το μοντέλο που χρειάζεται, το οποίο δε συνηθίζεται). Αυτή η συνάρτηση εκπαιδεύει όλα τα μοντέλα που βρίσκονται στη βιβλιοθήκη και τα αξιολογεί χρησιμοποιώντας stratified cross validation. Στην έξοδο εμφανίζεται ένας πίνακας βαθμολόγησης με τις μέσες τιμές των Accuracy, AUC, Recall, Precision, F1, Kappa και MCC για όλα τα folds (ΣτΜ: Το cross validation χωρίζει τα δεδομένα εκπαίδευσης σε επιμέρους κομμάτια (folds) - το προεπιλεγμένο πλήθος αυτών των folds είναι 10. Μάλιστα όταν αυτός ο διαχωρισμός είναι stratified, τότε το ποσοστό των samples που ανήκουν στην ίδια κλάση είναι περίπου ίσο σε όλα τα folds.) καθώς και τους χρόνους εκπαίδευσης."
   ],
   "metadata": {
    "collapsed": false,
    "pycharm": {
     "name": "#%% md\n"
    }
   }
  },
  {
   "cell_type": "code",
   "execution_count": null,
   "outputs": [],
   "source": [
    "best_model = compare_models()"
   ],
   "metadata": {
    "collapsed": false,
    "pycharm": {
     "name": "#%%\n"
    }
   }
  },
  {
   "cell_type": "markdown",
   "source": [
    "Με δύο απλές λέξεις κώδικα ***(ούτε καν μια ολόκληρη γραμμή κώδικα)*** έχουμε εκπαιδεύσει και αξιολογήσει περισσότερα από 15 μοντέλα χρησιμοποιώντας cross validation. Ο πίνακας βαθμολόγησης επισημαίνει με έντονο χρώμα της καλύτερες επιδόσεις για λόγους σύγκρισης. Ο πίνακας κατατάσσεται με βάση το 'Accuracy', από το υψηλότερο στο χαμηλότερο. Αυτή η προεπιλογή (δηλ. το Accuracy) μπορεί να αλλάξει χρησιμοποιώντας την παράμετρο `sort`. Για παράδειγμα, το `compare_models(sort = 'Recall')` θα κατατάξει τον πίνακα βαθμολόγησης με βάση το Recall αντί του Accuracy. Αν θέλετε να αλλάξετε την προεπιλεγμένη τιμή για το πλήθος των folds (`10`) σε κάποια άλλη, τότε μπορείτε να χρησιμοποιήσετε την παράμετρο `fold`. Για παράδειγμα, το `compare_models(fold = 5)` θα συγκρίνει όλα τα μοντέλα κάνοντας 5 fold cross validation. Η μείωση του πλήθους των folds θα βελτιώσει το χρόνο εκπαίδευσης. Εκ προεπιλογής, το `compare_models` επιστρέφει το μοντέλο με την καλύτερη απόδοση με βάση την προεπιλεγμένη σειρά κατάταξης, αλλά μπορεί επίσης να επιστρέψει μια λίστα με τα N καλύτερα μοντέλα χρησιμοποιώντας την παράμετρο `n_select`."
   ],
   "metadata": {
    "collapsed": false,
    "pycharm": {
     "name": "#%% md\n"
    }
   }
  },
  {
   "cell_type": "code",
   "execution_count": null,
   "outputs": [],
   "source": [
    "print(best_model)"
   ],
   "metadata": {
    "collapsed": false,
    "pycharm": {
     "name": "#%%\n"
    }
   }
  },
  {
   "cell_type": "markdown",
   "source": [
    "# 8.0 Δημιουργία ενός Μοντέλου"
   ],
   "metadata": {
    "collapsed": false,
    "pycharm": {
     "name": "#%% md\n"
    }
   }
  },
  {
   "cell_type": "markdown",
   "source": [
    "Η συνάρτηση `create_model` αποτελεί τη θεμελιωδέστερη της PyCaret και συχνά αποτελεί τη βάση πάνω στην οποία αναπτύσσονται όλες οι λειτουργίες της PyCaret. Όπως προδίδει και το όνομα της, αυτή η συνάρτηση εκπαιδεύει και αξιολογεί ένα μοντέλο χρησιμοποιώντας cross validation - το τελευταίο μπορεί να οριστεί με την παράμετρο `fold`. Στην έξοδο εκτυπώνεται ένας πίνακας βαθμολόγησης που δείχνει τις τιμές των Accuracy, AUC, Recall, Precision, F1, Kappa και MCC ανά fold.\n",
    "\n",
    "Σε όλο το υπόλοιπο μάθημα θα δουλέψουμε με τα μοντέλα που παραθέτονται παρακάτω· θα τα ορίσουμε ως υποψήφια μοντέλα. Η επιλογή των μοντέλων έγινε καθαρά για λόγους επίδειξης και δε σημαίνει, απαραιτήτως, ότι έχουν την καλύτερη απόδοση ή είναι τα ιδανικότερα γι' αυτό τον τύπο δεδομένων.\n",
    "\n",
    "- Decision Tree Classifier ('dt')\n",
    "- K Neighbors Classifier ('knn')\n",
    "- Random Forest Classifier ('rf')\n",
    "\n",
    "Υπάρχουν περισσότεροι από 18 ταξινομητές στη βιβλιοθήκη μοντέλων της PyCaret. Για να δείτε μια λίστα με όλους τους ταξινομητές μπορείτε να ελέγξετε το `docstring` ή να χρησιμοποιήσετε τη συνάρτηση `models`."
   ],
   "metadata": {
    "collapsed": false,
    "pycharm": {
     "name": "#%% md\n"
    }
   }
  },
  {
   "cell_type": "code",
   "execution_count": null,
   "outputs": [],
   "source": [
    "models()"
   ],
   "metadata": {
    "collapsed": false,
    "pycharm": {
     "name": "#%%\n"
    }
   }
  },
  {
   "cell_type": "markdown",
   "source": [
    "### 8.1 Decision Tree Classifier"
   ],
   "metadata": {
    "collapsed": false,
    "pycharm": {
     "name": "#%% md\n"
    }
   }
  },
  {
   "cell_type": "code",
   "execution_count": null,
   "outputs": [],
   "source": [
    "dt = create_model('dt')"
   ],
   "metadata": {
    "collapsed": false,
    "pycharm": {
     "name": "#%%\n"
    }
   }
  },
  {
   "cell_type": "code",
   "execution_count": null,
   "outputs": [],
   "source": [
    "#trained model object is stored in the variable 'dt'.\n",
    "#το εκπαιδευμένο μοντέλο αποθηκεύεται στη μεταβλητή 'dt'.\n",
    "print(dt)"
   ],
   "metadata": {
    "collapsed": false,
    "pycharm": {
     "name": "#%%\n"
    }
   }
  },
  {
   "cell_type": "markdown",
   "source": [
    "### 8.2 K Neighbors Classifier"
   ],
   "metadata": {
    "collapsed": false,
    "pycharm": {
     "name": "#%% md\n"
    }
   }
  },
  {
   "cell_type": "code",
   "execution_count": null,
   "outputs": [],
   "source": [
    "knn = create_model('knn')"
   ],
   "metadata": {
    "collapsed": false,
    "pycharm": {
     "name": "#%%\n"
    }
   }
  },
  {
   "cell_type": "markdown",
   "source": [
    "### 8.3 Random Forest Classifier"
   ],
   "metadata": {
    "collapsed": false,
    "pycharm": {
     "name": "#%% md\n"
    }
   }
  },
  {
   "cell_type": "code",
   "execution_count": null,
   "outputs": [],
   "source": [
    "rf = create_model('rf')"
   ],
   "metadata": {
    "collapsed": false,
    "pycharm": {
     "name": "#%%\n"
    }
   }
  },
  {
   "cell_type": "markdown",
   "source": [
    "Παρατηρείστε ότι ο μέσος όρος των σκoρ του κάθε μοντέλου ταιριάζει με το σκορ που εμφανίστηκε από τη συνάρτηση `compare_modles()`. Αυτό οφείλεται στο ότι οι μετρικές που εκτυπώνονται από τη συνάρτηση `compare_models()` αποτελούν τη μέση τιμή όλων των CV folds. Όπως και στην `compare_models()`, αν θέλετε να αλλάξετε το πλήθος των folds από την προεπιλεγμένη τιμή (10) σε κάποια άλλη, τότε μπορείτε να χρησιμοποιήσετε την παράμετρο `fold`. Για παράδειγμα, το `create_model('dt', fold = 5)` θα δημιουργήσει έναν Decision Tree Classifier χρησιμοποιώντας 5 fold stratified CV."
   ],
   "metadata": {
    "collapsed": false,
    "pycharm": {
     "name": "#%% md\n"
    }
   }
  },
  {
   "cell_type": "markdown",
   "source": [
    "# 9.0 Ρύθμιση Μοντέλου"
   ],
   "metadata": {
    "collapsed": false,
    "pycharm": {
     "name": "#%% md\n"
    }
   }
  },
  {
   "cell_type": "markdown",
   "source": [
    "Όταν δημιουργείται ένα μοντέλο από τη συνάρτηση `create_model()`, τότε χρησιμοποιούνται οι προεπιλεγμένες υπερ-παράμετροι για την εκπαίδευσή του. Για να ρυθμίσουμε τις υπερ-παραμέτρους χρησιμοποιούμε τη συνάρτηση `tune_model()`. Αυτή η συνάρτηση ρυθμίζει αυτόματα τις υπερπαραμέτρους του μοντέλου χρησιμοποιώντας την τεχνική `Random Grid Search` σε ένα πεδίο τιμών που εμείς ορίζουμε. Στην έξοδο εκτυπώνεται ένας πίνακας βαθμολόγησης που δείχνει τις μετρικές Accuracy, AUC, Recall, Precision, F1, Kappa και MCC ανά fold για το καλύτερο μοντέλο. Για να το επιτύχουμε, περνάμε την παράμετρο `custom_grid` στη συνάρτηση `tune_model` (βλέπε ενότητα 9.2)."
   ],
   "metadata": {
    "collapsed": false,
    "pycharm": {
     "name": "#%% md\n"
    }
   }
  },
  {
   "cell_type": "markdown",
   "source": [
    "### 9.1 Decision Tree Classifier"
   ],
   "metadata": {
    "collapsed": false,
    "pycharm": {
     "name": "#%% md\n"
    }
   }
  },
  {
   "cell_type": "code",
   "execution_count": null,
   "outputs": [],
   "source": [
    "tuned_dt = tune_model(dt)"
   ],
   "metadata": {
    "collapsed": false,
    "pycharm": {
     "name": "#%%\n"
    }
   }
  },
  {
   "cell_type": "code",
   "execution_count": null,
   "outputs": [],
   "source": [
    "#tuned model object is stored in the variable 'tuned_dt'.\n",
    "#το μοντέλο με ρυθμισμένες υπερ-παραμέτρους αποθηκεύεται στη μεταβλητή 'tuned_dt'.\n",
    "print(tuned_dt)"
   ],
   "metadata": {
    "collapsed": false,
    "pycharm": {
     "name": "#%%\n"
    }
   }
  },
  {
   "cell_type": "markdown",
   "source": [
    "### 9.2 K Neighbors Classifier"
   ],
   "metadata": {
    "collapsed": false,
    "pycharm": {
     "name": "#%% md\n"
    }
   }
  },
  {
   "cell_type": "code",
   "execution_count": null,
   "outputs": [],
   "source": [
    "import numpy as np\n",
    "tuned_knn = tune_model(knn, custom_grid = {'n_neighbors' : np.arange(0,50,1)})"
   ],
   "metadata": {
    "collapsed": false,
    "pycharm": {
     "name": "#%%\n"
    }
   }
  },
  {
   "cell_type": "code",
   "execution_count": null,
   "outputs": [],
   "source": [
    "print(tuned_knn)"
   ],
   "metadata": {
    "collapsed": false,
    "pycharm": {
     "name": "#%%\n"
    }
   }
  },
  {
   "cell_type": "markdown",
   "source": [
    "### 9.3 Random Forest Classifier"
   ],
   "metadata": {
    "collapsed": false,
    "pycharm": {
     "name": "#%% md\n"
    }
   }
  },
  {
   "cell_type": "code",
   "execution_count": null,
   "outputs": [],
   "source": [
    "tuned_rf = tune_model(rf)"
   ],
   "metadata": {
    "collapsed": false,
    "pycharm": {
     "name": "#%%\n"
    }
   }
  },
  {
   "cell_type": "markdown",
   "source": [
    "Εκ προεπιλογής, η συνάρτηση `tune_model` βελτιστοποιεί το `Accuracy`, αλλά αυτό μπορεί να αλλάξει ορίζοντας την παράμετρο `optimize`. Για παράδειγμα, το `tune_model(dt, optimize = 'AUC')` θα αναζητήσει υπερ-παραμέτρους για έναν Ταξινομητή Decision Tree που καταλήγει να έχει το υψηλότερο `AUC` αντί για `Accuracy`. Για τις ανάγκες αυτού του παραδείγματος χρησιμοποιήσαμε την προεπιλεγμένη μετρική `Accuracy` για λόγους απλότητας. Γενικά, όταν το dataset δεν είναι ισορροπημένο (imbalanced), όπως αυτό με το οποίο δουλεύουμε τώρα, δε συστήνεται να λάβουμε υπόψη μια μετρική σαν το `Accuracy`. Η μεθοδολογία επιλογής της καλύτερης μετρικής για την αξιολόγηση των ταξινομητών ξεπερνά το πεδίο αυτού του μαθήματος, αλλά αν θέλετε να μάθετε περισσότερα σχετικά με αυτό, μπορείτε να κλικάρετε __[εδώ](https://medium.com/@MohammedS/performance-metrics-for-classification-problems-in-machine-learning-part-i-b085d432082b)__ για να διαβάσετε πώς να επιλέξετε την ιδανική μετρική αξιολόγησης.\n",
    "\n",
    "Η μετρική από μόνης της δεν είναι το μοναδικό κριτήριο που πρέπει να λάβετε υπόψη για να οριστικοποιήσετε το καλύτερο μοντέλο. Άλλοι παράγοντες είναι ο χρόνος εκπαίδευσης, η τυπική απόκλιση των kfolds κ.α. Στα επόμενα επίπεδα αυτής της σειράς μαθημάτων θα συζητήσουμε λεπτομερώς αυτούς τους παράγοντες. Προς το παρόν, ας συνεχίσουμε θεωρώντας το Tuned Random Forest Classifier `tuned_rf`, ως το καλύτερο μοντέλο για το υπόλοιπο αυτού του μαθήματος."
   ],
   "metadata": {
    "collapsed": false,
    "pycharm": {
     "name": "#%% md\n"
    }
   }
  },
  {
   "cell_type": "markdown",
   "source": [
    "# 10.0 Γραφφική Απεικόνιση Μοντέλου"
   ],
   "metadata": {
    "collapsed": false,
    "pycharm": {
     "name": "#%% md\n"
    }
   }
  },
  {
   "cell_type": "markdown",
   "source": [
    "Πριν την οριστικοποίηση του μοντέλου, μπορεί να χρησιμοποιηθεί η συνάρτηση `plot_model()` για να αναλύσουμε την απόδοση από διάφορες σκοπιές, όπως AUC, confusion_matrix, decision boundary κλπ. Αυτή η συνάρτηση δέχεται ένα αντικείμενο (object) εκπαιδευμένου μοντέλου και επιστρέφει μια γραφική απεικόνιση βάσει του test / hold-out set.\n",
    "\n",
    "Υπάρχουν 15 διαφορετικά διαθέσιμα γραφήματα, παρακαλώ ανατρέξτε στο docstring της `plot_model()` για να βρείτε τη λίστα με τα διαθέσιμα γραφήματα."
   ],
   "metadata": {
    "collapsed": false,
    "pycharm": {
     "name": "#%% md\n"
    }
   }
  },
  {
   "cell_type": "markdown",
   "source": [
    "### 10.1 Γράφημα AUC"
   ],
   "metadata": {
    "collapsed": false,
    "pycharm": {
     "name": "#%% md\n"
    }
   }
  },
  {
   "cell_type": "code",
   "execution_count": null,
   "outputs": [],
   "source": [
    "plot_model(tuned_rf, plot = 'auc')"
   ],
   "metadata": {
    "collapsed": false,
    "pycharm": {
     "name": "#%%\n"
    }
   }
  },
  {
   "cell_type": "markdown",
   "source": [
    "### 10.2 Καμπύλη Precision-Recall"
   ],
   "metadata": {
    "collapsed": false,
    "pycharm": {
     "name": "#%% md\n"
    }
   }
  },
  {
   "cell_type": "code",
   "execution_count": null,
   "outputs": [],
   "source": [
    "plot_model(tuned_rf, plot = 'pr')"
   ],
   "metadata": {
    "collapsed": false,
    "pycharm": {
     "name": "#%%\n"
    }
   }
  },
  {
   "cell_type": "markdown",
   "source": [
    "### 10.3 Γράφημα Σπουδαιότητας των Χαρακτηριστικών (Features)"
   ],
   "metadata": {
    "collapsed": false,
    "pycharm": {
     "name": "#%% md\n"
    }
   }
  },
  {
   "cell_type": "code",
   "execution_count": null,
   "outputs": [],
   "source": [
    "plot_model(tuned_rf, plot='feature')"
   ],
   "metadata": {
    "collapsed": false,
    "pycharm": {
     "name": "#%%\n"
    }
   }
  },
  {
   "cell_type": "markdown",
   "source": [
    "### 10.4 Confusion Matrix"
   ],
   "metadata": {
    "collapsed": false,
    "pycharm": {
     "name": "#%% md\n"
    }
   }
  },
  {
   "cell_type": "code",
   "execution_count": null,
   "outputs": [],
   "source": [
    "plot_model(tuned_rf, plot = 'confusion_matrix')"
   ],
   "metadata": {
    "collapsed": false,
    "pycharm": {
     "name": "#%%\n"
    }
   }
  },
  {
   "cell_type": "markdown",
   "source": [
    "*Ένας άλλος τρόπος* ανάλυσης της απόδοσης των μοντέλων γίνεται με τη χρήση της συνάρτησης `evaluate_model()`, η οποία εμφανίζει ένα γραφικό περιβάλλον με όλα τα διαθέσιμα γραφήματα για ένα δεδομένο μοντέλο. Εσωτερικά χρησιμοποιεί τη συνάρτηση `plot_model()`."
   ],
   "metadata": {
    "collapsed": false,
    "pycharm": {
     "name": "#%% md\n"
    }
   }
  },
  {
   "cell_type": "code",
   "execution_count": null,
   "outputs": [],
   "source": [
    "evaluate_model(tuned_rf)"
   ],
   "metadata": {
    "collapsed": false,
    "pycharm": {
     "name": "#%%\n"
    }
   }
  },
  {
   "cell_type": "markdown",
   "source": [
    "# 11.0 Προβλέψεις στο Test / Hold-Out Set"
   ],
   "metadata": {
    "collapsed": false,
    "pycharm": {
     "name": "#%% md\n"
    }
   }
  },
  {
   "cell_type": "markdown",
   "source": [
    "Πριν την οριστικοποίηση του μοντέλου, συνιστάται να κάνουμε έναν τελευταίο έλεγχο εξάγοντας τις προβλέψεις από το test/hold-out σετ και εξετάζοντας τις μετρικές αξιολόγησης. Αν ανατρέξετε στον πίνακα με τις πληροφορίες της Ενότητας 6, θα διαπιστώσετε ότι το 30% (6.841 δείγματα) των δεδομένων έχει διαχωριστεί - διαμορφώνοντας το test/hold-out set. Όλα τα αποτελέσματα των παραπάνω μετρικών αξιολόγησης αφορούν μόνο τα δεδομένα εκπαίδευσης (training set), δηλαδή το 70%. Τώρα, θα χρησιμοποιήσουμε το αποθηκευμένο εκπαιδευμένο μοντέλο για κάνουμε προβλέψεις στα δεδομένα που διαχωρίσαμε και να εξάγουμε τα αποτελέσματα των μετρικών αξιολόγησης. Σκοπός είναι να δούμε αν υπάρχει ουσιαστική διαφορά σε σχέση με τα αποτελέσματα από το cross validation."
   ],
   "metadata": {
    "collapsed": false,
    "pycharm": {
     "name": "#%% md\n"
    }
   }
  },
  {
   "cell_type": "code",
   "execution_count": null,
   "outputs": [],
   "source": [
    "predict_model(tuned_rf);"
   ],
   "metadata": {
    "collapsed": false,
    "pycharm": {
     "name": "#%%\n"
    }
   }
  },
  {
   "cell_type": "markdown",
   "source": [
    "Το accuracy στο test/hold-out set είναι **`0.8116`** για το μοντέλο `tuned_rf`. Το αποτέλεσμα της ίδιας μετρικής κάνοντας cross validation ήταν **`0.8203`** (βλέπε Ενότητα 9.3). Αυτή δεν είναι ουσιαστική διαφορά. Αν υπάρχει μεγαλύτερη διακύμανση μεταξύ των αποτελεσμάτων test/hold-out και CV, τότε συνήθως αυτό υπονοεί over-fitting (ΣτΜ: δηλαδή ότι το μοντέλο έχει προσαρμοστεί υπερβολικά στα δεδομένα εκπαίδευσης και δεν μπορεί να γενικεύσει σε άγνωστα δεδομένα), αλλά μπορεί να οφείλεται και σε άλλους παράγοντες που χρήζουν περαιτέρω διερεύνησης. Σε αυτή την περίπτωση, θα προχωρήσουμε παρακάτω οριστικοποιώντας το μοντέλο και εξάγοντας τις προβλέψεις για τα άγνωστα δεδομένα. Δηλαδή, το 5% των δεδομένων που είχαμε διαχωρίσει από την αρχή και δεν τα έχει δει ποτέ η PyCaret.\n",
    "\n",
    "(Συμβουλή: Είναι πάντα καλή πρακτική να κοιτάμε την τυπική απόκλιση στα αποτελέσματα από του cross validation, όταν χρησιμοποιούμε το `create_model()`.)"
   ],
   "metadata": {
    "collapsed": false,
    "pycharm": {
     "name": "#%% md\n"
    }
   }
  },
  {
   "cell_type": "markdown",
   "source": [
    "# 12.0 Οριστικοποίηση Μοντέλου για Τελική Χρήση."
   ],
   "metadata": {
    "collapsed": false,
    "pycharm": {
     "name": "#%% md\n"
    }
   }
  },
  {
   "cell_type": "markdown",
   "source": [
    "Η οριστικοποίηση του μοντέλου είναι το τελευταίο βήμα του πειράματος. Μια τυπική ροή εργασιών μηχανικής μάθησης (ML workflow) ξεκινάει με τη συνάρτηση `setup()`, συνεχίζει συγκρίνοντας τα μοντέλα με την `compare_models()`, εκεί προκρίνονται μερικά υποψήφια μοντέλα (βάσει της μετρικής που ενδιαφέρει) και στα οποία εφαρμόζονται διάφορες τεχνικής μοντελοποίησης, όπως η ρύθμιση των υπερ-παραμέτρων, ensembling, stacking κλπ. Τελικά, αυτή η ροή εργασιών θα οδηγήσει στο καλύτερο μοντέλο που θα χρησιμοποιηθεί για να εξαχθούν οι προβλέψεις από νέα και άγνωστα δεδομένα. Η συνάρτηση `finalize_model()` προσαρμόζει το μοντέλο σε ολόκληρο το dataset, συμπεριλαμβανομένου του test/hold-out set (30% σε αυτή την περίπτωση). Ο σκοπός αυτής της συνάρτησης είναι να εκπαιδεύσει το μοντέλο σε ολόκληρο το dataset προτού είναι έτοιμο για τελική χρήση (deployment)."
   ],
   "metadata": {
    "collapsed": false,
    "pycharm": {
     "name": "#%% md\n"
    }
   }
  },
  {
   "cell_type": "code",
   "execution_count": null,
   "outputs": [],
   "source": [
    "final_rf = finalize_model(tuned_rf)"
   ],
   "metadata": {
    "collapsed": false,
    "pycharm": {
     "name": "#%%\n"
    }
   }
  },
  {
   "cell_type": "code",
   "execution_count": null,
   "outputs": [],
   "source": [
    "#Final Random Forest model parameters for deployment\n",
    "#Οι τελικές παράμετροι του μοντέλου Random Forest,\n",
    "#που προορίζονται για τελική χρήση.\n",
    "print(final_rf)"
   ],
   "metadata": {
    "collapsed": false,
    "pycharm": {
     "name": "#%%\n"
    }
   }
  },
  {
   "cell_type": "markdown",
   "source": [
    "**Προσοχή:** Μια τελευταία προειδοποίηση! Όταν το μοντέλο οριστικοποιείται με την `finalize_model()`, χρησιμοποιείται ολόκληρο το dataset κατά την εκπαίδευση, συμπεριλαμβανομένου του test/hold-out set. Γι' αυτό το λόγο, αν το μοντέλο χρησιμοποιηθεί για να κάνει προβλέψεις βάσει των δεδομένων του test/hold-out set, τότε τα αποτελέσματα θα είναι παραπλανητικά, καθώς θα προσπαθείτε να εξάγετε προβλέψεις για δεδομένα που έχετε ήδη χρησιμοποιήσει κατά τη μοντελοποίηση. Μόνο και μόνο για να καταδείξουμε αυτό ακριβώς, θα χρησιμοποιήσουμε το `final_rf` με την `predict_model` για να συγκρίνουμε τα αποτελέσματα με αυτά της Ενότητας 11."
   ],
   "metadata": {
    "collapsed": false,
    "pycharm": {
     "name": "#%% md\n"
    }
   }
  },
  {
   "cell_type": "code",
   "execution_count": null,
   "outputs": [],
   "source": [
    "predict_model(final_rf);"
   ],
   "metadata": {
    "collapsed": false,
    "pycharm": {
     "name": "#%%\n"
    }
   }
  },
  {
   "cell_type": "markdown",
   "source": [
    "Παρατηρείστε πως η AUC στο `final_rf` αυξήθηκε σε **`0,7526`** από **`0,7407`**, παρόλο που το μοντέλο παραμένει ίδιο. Αυτό συμβαίνει επειδή το `final_rf` έχει εκπαιδευτεί σε όλα τα δεδομένα, συμπεριλαμβανομένου του test/hold-out set."
   ],
   "metadata": {
    "collapsed": false,
    "pycharm": {
     "name": "#%% md\n"
    }
   }
  },
  {
   "cell_type": "markdown",
   "source": [
    "# 13.0 Προβλέψεις βάσει Άγνωστων Δεδομένων"
   ],
   "metadata": {
    "collapsed": false,
    "pycharm": {
     "name": "#%% md\n"
    }
   }
  },
  {
   "cell_type": "markdown",
   "source": [
    "Η συνάρτηση `predict_model()` χρησιμοποιείται, επίσης, για την εξαγωγή προβλέψεων βάσει άγνωστων δεδομένων. Η μόνη διαφορά από την Ενότητα 11 είναι ότι, αυτή τη φορά, θα περάσουμε την παράμετρο `data_unseen` στη συνάρτηση. Τη μεταβλητή `data_unseen` την ορίσαμε στην αρχή του μαθήματος και περιέχει το 5% (1.200 δείγματα) του αρχικού dataset, το οποίο δεν έχει εκτεθεί ποτέ στην PyCaret (βλέπε Ενότητα 5 για επεξήγηση)."
   ],
   "metadata": {
    "collapsed": false,
    "pycharm": {
     "name": "#%% md\n"
    }
   }
  },
  {
   "cell_type": "code",
   "execution_count": null,
   "outputs": [],
   "source": [
    "unseen_predictions = predict_model(final_rf, data=data_unseen)\n",
    "unseen_predictions.head()"
   ],
   "metadata": {
    "collapsed": false,
    "pycharm": {
     "name": "#%%\n"
    }
   }
  },
  {
   "cell_type": "markdown",
   "source": [
    " Οι στήλες `Label` και `Score` προστίθενται στο σύνολο δεδομένων `data_unseen`. To Label (Ετικέτα) είναι η πρόβλεψη και το Score είναι η πιθανότητα αυτή της πρόβλεψης. Παρατηρείστε πως τα αποτελέσματα συνενώνονται στο αρχικό dataset, ενώ όλοι οι μετασχηματισμοί εκτελούνται αυτόματα στο υπόβαθρο. Επίσης, μπορείτε να ελέγξετε τις μετρικές αξιολόγησης σε αυτό το dataset, αφού είναι διαθέσιμη η στήλη-στόχος `default` με τις πραγματικές τιμές. Για να το κάνουμε αυτό, θα χρησιμοποιήσουμε το module `pycaret.utils`. Δείτε το παρακάτω παράδειγμα:"
   ],
   "metadata": {
    "collapsed": false,
    "pycharm": {
     "name": "#%% md\n"
    }
   }
  },
  {
   "cell_type": "code",
   "execution_count": null,
   "outputs": [],
   "source": [
    "from pycaret.utils import check_metric\n",
    "check_metric(unseen_predictions['default'], unseen_predictions['Label'], metric = 'Accuracy')"
   ],
   "metadata": {
    "collapsed": false,
    "pycharm": {
     "name": "#%%\n"
    }
   }
  },
  {
   "cell_type": "markdown",
   "source": [
    "# 14.0 Αποθήκευση Μοντέλου"
   ],
   "metadata": {
    "collapsed": false,
    "pycharm": {
     "name": "#%% md\n"
    }
   }
  },
  {
   "cell_type": "markdown",
   "source": [
    "Τώρα, έχουμε ολοκληρώσει το πείραμα οριστικοποιώντας το μοντέλο `tuned_rf` που είναι αποθηκευμένο στη μεταβλητή `final_rf`. Επίσης, το χρησιμοποιήσαμε για κάνουμε προβλέψεις βάσει των άγνωστων δεδομένων `data_unseen`. Έτσι, φτάσαμε στο τέλος του πειράματος, αλλά παραμένει μια ερώτηση που πρέπει να απαντηθεί: Τι γίνεται όταν έχεις νέα, περισσότερα δεδομένα για να εξάγεις προβλέψεις; Πρέπει να ξανα-εκτελέσετε το πείραμα από την αρχή; Η απάντηση είναι όχι, η ενσωματωμένη συνάρτηση της PyCaret, `save_model()` σας επιτρέπει να αποθηκεύσετε το μοντέλο μαζί με ολόκληρη τη διαδικασία μετασχηματισμού (transformation pipeline) για μελλοντική χρήση."
   ],
   "metadata": {
    "collapsed": false,
    "pycharm": {
     "name": "#%% md\n"
    }
   }
  },
  {
   "cell_type": "code",
   "execution_count": null,
   "outputs": [],
   "source": [
    "save_model(final_rf,'Final RF Model 14Aug2022')"
   ],
   "metadata": {
    "collapsed": false,
    "pycharm": {
     "name": "#%%\n"
    }
   }
  },
  {
   "cell_type": "markdown",
   "source": [
    "(Συμβουλή: Είναι πάντα καλή πρακτική να αναγράφετε την ημερομηνία στο όνομα του αρχείου όταν αποθηκεύεται μοντέλα - βοηθάει στον έλεγχο της έκδοσης (version control).)"
   ],
   "metadata": {
    "collapsed": false,
    "pycharm": {
     "name": "#%% md\n"
    }
   }
  },
  {
   "cell_type": "markdown",
   "source": [
    "# 15.0 Φόρτωση Αποθηκευμένου Μοντέλου"
   ],
   "metadata": {
    "collapsed": false,
    "pycharm": {
     "name": "#%% md\n"
    }
   }
  },
  {
   "cell_type": "markdown",
   "source": [
    "Για να φορτώσουμε ένα μοντέλο είτε σε κάποιο μεταγενέστερο χρόνο είτε σε κάποιο άλλο περιβάλλον, θα χρησιμοποιήσουμε τη συνάρτηση της Pycaret, `load_model()`. Στη συνέχεια, θα εφαρμόσουμε το μοντέλο σε νέα άγνωστα δεδομένα για να εξάγουμε προβλέψεις."
   ],
   "metadata": {
    "collapsed": false,
    "pycharm": {
     "name": "#%% md\n"
    }
   }
  },
  {
   "cell_type": "code",
   "execution_count": null,
   "outputs": [],
   "source": [
    "saved_final_rf = load_model('Final RF Model 14Aug2022')"
   ],
   "metadata": {
    "collapsed": false,
    "pycharm": {
     "name": "#%%\n"
    }
   }
  },
  {
   "cell_type": "markdown",
   "source": [
    "Όταν φορτώσετε το μοντέλο στο περιβάλλον, μπορείτε με απλό τρόπο να κάνετε προβλέψεις σε νέα δεδομένα χρησιμοποιώντας τη συνάρτηση `predict_model()`. Παρακάτω έχουμε εφαρμόσει το φορτωμένο μοντέλο στα ίδια άγνωστα δεδομένα, `data_unseen`, που χρησιμοποιήσαμε στην Ενότητα 13."
   ],
   "metadata": {
    "collapsed": false,
    "pycharm": {
     "name": "#%% md\n"
    }
   }
  },
  {
   "cell_type": "code",
   "execution_count": null,
   "outputs": [],
   "source": [
    "new_prediction = predict_model(saved_final_rf, data=data_unseen)"
   ],
   "metadata": {
    "collapsed": false,
    "pycharm": {
     "name": "#%%\n"
    }
   }
  },
  {
   "cell_type": "code",
   "execution_count": null,
   "outputs": [],
   "source": [
    "new_prediction.head()"
   ],
   "metadata": {
    "collapsed": false,
    "pycharm": {
     "name": "#%%\n"
    }
   }
  },
  {
   "cell_type": "markdown",
   "source": [
    "Παρατηρείστε ότι τα αποτελέσματα `unseen_predictions` και `new_prediction` είναι πανομοιότυπα."
   ],
   "metadata": {
    "collapsed": false,
    "pycharm": {
     "name": "#%% md\n"
    }
   }
  },
  {
   "cell_type": "code",
   "execution_count": null,
   "outputs": [],
   "source": [
    "from pycaret.utils import check_metric\n",
    "check_metric(new_prediction['default'], new_prediction['Label'], metric = 'Accuracy')"
   ],
   "metadata": {
    "collapsed": false,
    "pycharm": {
     "name": "#%%\n"
    }
   }
  },
  {
   "cell_type": "markdown",
   "source": [
    "# 16.0 Σύνοψη / Επόμενα Βήματα;"
   ],
   "metadata": {
    "collapsed": false,
    "pycharm": {
     "name": "#%% md\n"
    }
   }
  },
  {
   "cell_type": "markdown",
   "source": [
    "Αυτό το μάθημα έχει καλύψει ολόκληρο το pipeline της μηχανικής μάθησης: λήψη δεδομένων, προ-επεξεργασία, εκπαίδευση μοντέλου, ρύθμιση υπερ-παραμέτρων, προβλέψεις και αποθήκευση μοντέλου για μελλοντική χρήση. Ολοκληρώσαμε όλα αυτά τα βήματα με λιγότερες από 10 εντολές, οι οποίες είναι πολύ φυσικά δομημένες και εύκολο να τις θυμόμαστε διαισθητικά, όπως `create_model()`, `tune_model()`, `compare_models()`. Η εκτέλεση του πειράματος από την αρχή, χωρίς να κάνουμε χρήση της PyCaret, θα απαιτούσε περισσότερες από 100 εντολές για την πλειοψηφία των βιβλιοθηκών.\n",
    "\n",
    "Έχουμε καλύψει μόνο τα βασικά του module `pycaret.classification`. Στα επόμενα μαθήματα θα εμβαθύνουμε στην προηγμένη προ-επεξεργασία, τo ensembling, το γενικευμένο stacking και άλλες τεχνικές που επιτρέπουν την πλήρη εξατομίκευση του pipeline μηχανικής μάθησης και πρέπει να είναι κτήμα κάθε Data Scientist.\n",
    "\n",
    "Τα λέμε στο επόμενο μάθημα. Ακολουθήστε το σύνδεσμο στο __[Binary Classification Tutorial (CLF102) - Intermediate Level](https://github.com/pycaret/pycaret/blob/master/tutorials/Greek/Binary%20Classification%20Tutorial%20Level%20Intermediate%20-%20CLF102.ipynb)__"
   ],
   "metadata": {
    "collapsed": false,
    "pycharm": {
     "name": "#%% md\n"
    }
   }
  },
  {
   "cell_type": "code",
   "execution_count": null,
   "metadata": {
    "pycharm": {
     "name": "#%%\n"
    }
   },
   "outputs": [],
   "source": []
  }
 ],
 "metadata": {
  "colab": {
   "collapsed_sections": [
    "Ui_rALqYEQmv",
    "y9s9wNcjEQn0",
    "it_nJo1IEQob",
    "P5m2pciOEQo4",
    "UWMSeyNhEQo-",
    "rWUojqBCEQpb",
    "nSg3OUjuEQpu",
    "XvpjzbGQEQqB",
    "BQlMCxrUEQqG",
    "CD-f0delEQqq",
    "KO3zIfs-EQrA",
    "w_P46O0jEQrT",
    "euqkQYJaEQrY",
    "bwyoTUDQEQrm",
    "_r9rwEw7EQrz",
    "FfWC3NEhEQr9",
    "RX5pYUJJEQsV",
    "r79BGjIfEQs1",
    "hUzc6tXNEQtr",
    "L__po3sUEQt7",
    "Z8OBesfkEQuU",
    "_HeOs8BhEQvF"
   ],
   "name": "Binary Classification Tutorial (CLF101) - Level Beginner (ACN_EDITS).ipynb",
   "provenance": []
  },
  "kernelspec": {
   "display_name": "Python 3 (ipykernel)",
   "language": "python",
   "name": "python3"
  },
  "language_info": {
   "codemirror_mode": {
    "name": "ipython",
    "version": 3
   },
   "file_extension": ".py",
   "mimetype": "text/x-python",
   "name": "python",
   "nbconvert_exporter": "python",
   "pygments_lexer": "ipython3",
   "version": "3.9.0"
  },
  "widgets": {
   "application/vnd.jupyter.widget-state+json": {
    "02771b4dc3284414ab05df1906f4556b": {
     "model_module": "@jupyter-widgets/controls",
     "model_name": "IntProgressModel",
     "state": {
      "_dom_classes": [],
      "_model_module": "@jupyter-widgets/controls",
      "_model_module_version": "1.5.0",
      "_model_name": "IntProgressModel",
      "_view_count": null,
      "_view_module": "@jupyter-widgets/controls",
      "_view_module_version": "1.5.0",
      "_view_name": "ProgressView",
      "bar_style": "",
      "description": "Processing: ",
      "description_tooltip": null,
      "layout": "IPY_MODEL_22588a12c0db4067982e62ebbe7e6930",
      "max": 5,
      "min": 0,
      "orientation": "horizontal",
      "style": "IPY_MODEL_9e338844e75b4e17be8483529f5f38fd",
      "value": 5
     }
    },
    "0a06fb091bd94ce6b6ab892e2c6faadf": {
     "model_module": "@jupyter-widgets/base",
     "model_name": "LayoutModel",
     "state": {
      "_model_module": "@jupyter-widgets/base",
      "_model_module_version": "1.2.0",
      "_model_name": "LayoutModel",
      "_view_count": null,
      "_view_module": "@jupyter-widgets/base",
      "_view_module_version": "1.2.0",
      "_view_name": "LayoutView",
      "align_content": null,
      "align_items": null,
      "align_self": null,
      "border": null,
      "bottom": null,
      "display": null,
      "flex": null,
      "flex_flow": null,
      "grid_area": null,
      "grid_auto_columns": null,
      "grid_auto_flow": null,
      "grid_auto_rows": null,
      "grid_column": null,
      "grid_gap": null,
      "grid_row": null,
      "grid_template_areas": null,
      "grid_template_columns": null,
      "grid_template_rows": null,
      "height": null,
      "justify_content": null,
      "justify_items": null,
      "left": null,
      "margin": null,
      "max_height": null,
      "max_width": null,
      "min_height": null,
      "min_width": null,
      "object_fit": null,
      "object_position": null,
      "order": null,
      "overflow": null,
      "overflow_x": null,
      "overflow_y": null,
      "padding": null,
      "right": null,
      "top": null,
      "visibility": null,
      "width": null
     }
    },
    "12bf8b3c6ae8444a900474912589fdf1": {
     "model_module": "@jupyter-widgets/controls",
     "model_name": "ToggleButtonsModel",
     "state": {
      "_dom_classes": [],
      "_model_module": "@jupyter-widgets/controls",
      "_model_module_version": "1.5.0",
      "_model_name": "ToggleButtonsModel",
      "_options_labels": [
       "Hyperparameters",
       "AUC",
       "Confusion Matrix",
       "Threshold",
       "Precision Recall",
       "Error",
       "Class Report",
       "Feature Selection",
       "Learning Curve",
       "Manifold Learning",
       "Calibration Curve",
       "Validation Curve",
       "Dimensions",
       "Feature Importance",
       "Decision Boundary"
      ],
      "_view_count": null,
      "_view_module": "@jupyter-widgets/controls",
      "_view_module_version": "1.5.0",
      "_view_name": "ToggleButtonsView",
      "button_style": "",
      "description": "Plot Type:",
      "description_tooltip": null,
      "disabled": false,
      "icons": [
       ""
      ],
      "index": 2,
      "layout": "IPY_MODEL_0a06fb091bd94ce6b6ab892e2c6faadf",
      "style": "IPY_MODEL_8886001bc7c1463ba58a8453f5c55073",
      "tooltips": []
     }
    },
    "22588a12c0db4067982e62ebbe7e6930": {
     "model_module": "@jupyter-widgets/base",
     "model_name": "LayoutModel",
     "state": {
      "_model_module": "@jupyter-widgets/base",
      "_model_module_version": "1.2.0",
      "_model_name": "LayoutModel",
      "_view_count": null,
      "_view_module": "@jupyter-widgets/base",
      "_view_module_version": "1.2.0",
      "_view_name": "LayoutView",
      "align_content": null,
      "align_items": null,
      "align_self": null,
      "border": null,
      "bottom": null,
      "display": null,
      "flex": null,
      "flex_flow": null,
      "grid_area": null,
      "grid_auto_columns": null,
      "grid_auto_flow": null,
      "grid_auto_rows": null,
      "grid_column": null,
      "grid_gap": null,
      "grid_row": null,
      "grid_template_areas": null,
      "grid_template_columns": null,
      "grid_template_rows": null,
      "height": null,
      "justify_content": null,
      "justify_items": null,
      "left": null,
      "margin": null,
      "max_height": null,
      "max_width": null,
      "min_height": null,
      "min_width": null,
      "object_fit": null,
      "object_position": null,
      "order": null,
      "overflow": null,
      "overflow_x": null,
      "overflow_y": null,
      "padding": null,
      "right": null,
      "top": null,
      "visibility": null,
      "width": null
     }
    },
    "2a81017413ca4fe789c2272a5831a069": {
     "model_module": "@jupyter-widgets/base",
     "model_name": "LayoutModel",
     "state": {
      "_model_module": "@jupyter-widgets/base",
      "_model_module_version": "1.2.0",
      "_model_name": "LayoutModel",
      "_view_count": null,
      "_view_module": "@jupyter-widgets/base",
      "_view_module_version": "1.2.0",
      "_view_name": "LayoutView",
      "align_content": null,
      "align_items": null,
      "align_self": null,
      "border": null,
      "bottom": null,
      "display": null,
      "flex": null,
      "flex_flow": null,
      "grid_area": null,
      "grid_auto_columns": null,
      "grid_auto_flow": null,
      "grid_auto_rows": null,
      "grid_column": null,
      "grid_gap": null,
      "grid_row": null,
      "grid_template_areas": null,
      "grid_template_columns": null,
      "grid_template_rows": null,
      "height": null,
      "justify_content": null,
      "justify_items": null,
      "left": null,
      "margin": null,
      "max_height": null,
      "max_width": null,
      "min_height": null,
      "min_width": null,
      "object_fit": null,
      "object_position": null,
      "order": null,
      "overflow": null,
      "overflow_x": null,
      "overflow_y": null,
      "padding": null,
      "right": null,
      "top": null,
      "visibility": null,
      "width": null
     }
    },
    "3cc1e83b91f34b289c7d52003f20a97a": {
     "model_module": "@jupyter-widgets/controls",
     "model_name": "IntProgressModel",
     "state": {
      "_dom_classes": [],
      "_model_module": "@jupyter-widgets/controls",
      "_model_module_version": "1.5.0",
      "_model_name": "IntProgressModel",
      "_view_count": null,
      "_view_module": "@jupyter-widgets/controls",
      "_view_module_version": "1.5.0",
      "_view_name": "ProgressView",
      "bar_style": "",
      "description": "Processing: ",
      "description_tooltip": null,
      "layout": "IPY_MODEL_8399e21b17634116861a5abaa9c0ccf7",
      "max": 5,
      "min": 0,
      "orientation": "horizontal",
      "style": "IPY_MODEL_8d709ec9ec484944b1f9773748857f84",
      "value": 2
     }
    },
    "41031579127f4a53b58957e601465083": {
     "model_module": "@jupyter-widgets/base",
     "model_name": "LayoutModel",
     "state": {
      "_model_module": "@jupyter-widgets/base",
      "_model_module_version": "1.2.0",
      "_model_name": "LayoutModel",
      "_view_count": null,
      "_view_module": "@jupyter-widgets/base",
      "_view_module_version": "1.2.0",
      "_view_name": "LayoutView",
      "align_content": null,
      "align_items": null,
      "align_self": null,
      "border": null,
      "bottom": null,
      "display": null,
      "flex": null,
      "flex_flow": null,
      "grid_area": null,
      "grid_auto_columns": null,
      "grid_auto_flow": null,
      "grid_auto_rows": null,
      "grid_column": null,
      "grid_gap": null,
      "grid_row": null,
      "grid_template_areas": null,
      "grid_template_columns": null,
      "grid_template_rows": null,
      "height": null,
      "justify_content": null,
      "justify_items": null,
      "left": null,
      "margin": null,
      "max_height": null,
      "max_width": null,
      "min_height": null,
      "min_width": null,
      "object_fit": null,
      "object_position": null,
      "order": null,
      "overflow": null,
      "overflow_x": null,
      "overflow_y": null,
      "padding": null,
      "right": null,
      "top": null,
      "visibility": null,
      "width": null
     }
    },
    "42d5400d235d40b78190016ef0dabe11": {
     "model_module": "@jupyter-widgets/controls",
     "model_name": "VBoxModel",
     "state": {
      "_dom_classes": [
       "widget-interact"
      ],
      "_model_module": "@jupyter-widgets/controls",
      "_model_module_version": "1.5.0",
      "_model_name": "VBoxModel",
      "_view_count": null,
      "_view_module": "@jupyter-widgets/controls",
      "_view_module_version": "1.5.0",
      "_view_name": "VBoxView",
      "box_style": "",
      "children": [
       "IPY_MODEL_12bf8b3c6ae8444a900474912589fdf1",
       "IPY_MODEL_9bb3600d38c04691b444ff375ad5e3f5"
      ],
      "layout": "IPY_MODEL_41031579127f4a53b58957e601465083"
     }
    },
    "57b94ac505d142769b79de2f1e5c1166": {
     "model_module": "@jupyter-widgets/controls",
     "model_name": "ProgressStyleModel",
     "state": {
      "_model_module": "@jupyter-widgets/controls",
      "_model_module_version": "1.5.0",
      "_model_name": "ProgressStyleModel",
      "_view_count": null,
      "_view_module": "@jupyter-widgets/base",
      "_view_module_version": "1.2.0",
      "_view_name": "StyleView",
      "bar_color": null,
      "description_width": ""
     }
    },
    "8399e21b17634116861a5abaa9c0ccf7": {
     "model_module": "@jupyter-widgets/base",
     "model_name": "LayoutModel",
     "state": {
      "_model_module": "@jupyter-widgets/base",
      "_model_module_version": "1.2.0",
      "_model_name": "LayoutModel",
      "_view_count": null,
      "_view_module": "@jupyter-widgets/base",
      "_view_module_version": "1.2.0",
      "_view_name": "LayoutView",
      "align_content": null,
      "align_items": null,
      "align_self": null,
      "border": null,
      "bottom": null,
      "display": null,
      "flex": null,
      "flex_flow": null,
      "grid_area": null,
      "grid_auto_columns": null,
      "grid_auto_flow": null,
      "grid_auto_rows": null,
      "grid_column": null,
      "grid_gap": null,
      "grid_row": null,
      "grid_template_areas": null,
      "grid_template_columns": null,
      "grid_template_rows": null,
      "height": null,
      "justify_content": null,
      "justify_items": null,
      "left": null,
      "margin": null,
      "max_height": null,
      "max_width": null,
      "min_height": null,
      "min_width": null,
      "object_fit": null,
      "object_position": null,
      "order": null,
      "overflow": null,
      "overflow_x": null,
      "overflow_y": null,
      "padding": null,
      "right": null,
      "top": null,
      "visibility": null,
      "width": null
     }
    },
    "8886001bc7c1463ba58a8453f5c55073": {
     "model_module": "@jupyter-widgets/controls",
     "model_name": "ToggleButtonsStyleModel",
     "state": {
      "_model_module": "@jupyter-widgets/controls",
      "_model_module_version": "1.5.0",
      "_model_name": "ToggleButtonsStyleModel",
      "_view_count": null,
      "_view_module": "@jupyter-widgets/base",
      "_view_module_version": "1.2.0",
      "_view_name": "StyleView",
      "button_width": "",
      "description_width": "",
      "font_weight": ""
     }
    },
    "8d709ec9ec484944b1f9773748857f84": {
     "model_module": "@jupyter-widgets/controls",
     "model_name": "ProgressStyleModel",
     "state": {
      "_model_module": "@jupyter-widgets/controls",
      "_model_module_version": "1.5.0",
      "_model_name": "ProgressStyleModel",
      "_view_count": null,
      "_view_module": "@jupyter-widgets/base",
      "_view_module_version": "1.2.0",
      "_view_name": "StyleView",
      "bar_color": null,
      "description_width": ""
     }
    },
    "9bb3600d38c04691b444ff375ad5e3f5": {
     "model_module": "@jupyter-widgets/output",
     "model_name": "OutputModel",
     "state": {
      "_dom_classes": [],
      "_model_module": "@jupyter-widgets/output",
      "_model_module_version": "1.0.0",
      "_model_name": "OutputModel",
      "_view_count": null,
      "_view_module": "@jupyter-widgets/output",
      "_view_module_version": "1.0.0",
      "_view_name": "OutputView",
      "layout": "IPY_MODEL_4f8f81ab97b041a58a53c85a1ab97bd4",
      "msg_id": "",
      "outputs": [
       {
        "image/png": "iVBORw0KGgoAAAANSUhEUgAAAeoAAAFlCAYAAAAki6s3AAAABHNCSVQICAgIfAhkiAAAAAlwSFlz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\nAAAm9n9QR+M8QEgGtgAAAABJRU5ErkJggg==\n",
        "metadata": {
         "tags": []
        },
        "output_type": "display_data",
        "text/plain": "<Figure size 576x396 with 1 Axes>"
       }
      ]
     }
    },
    "9e338844e75b4e17be8483529f5f38fd": {
     "model_module": "@jupyter-widgets/controls",
     "model_name": "ProgressStyleModel",
     "state": {
      "_model_module": "@jupyter-widgets/controls",
      "_model_module_version": "1.5.0",
      "_model_name": "ProgressStyleModel",
      "_view_count": null,
      "_view_module": "@jupyter-widgets/base",
      "_view_module_version": "1.2.0",
      "_view_name": "StyleView",
      "bar_color": null,
      "description_width": ""
     }
    },
    "d5b6fce1763b4b54898ff3397b0f5bb0": {
     "model_module": "@jupyter-widgets/controls",
     "model_name": "IntProgressModel",
     "state": {
      "_dom_classes": [],
      "_model_module": "@jupyter-widgets/controls",
      "_model_module_version": "1.5.0",
      "_model_name": "IntProgressModel",
      "_view_count": null,
      "_view_module": "@jupyter-widgets/controls",
      "_view_module_version": "1.5.0",
      "_view_name": "ProgressView",
      "bar_style": "",
      "description": "Processing: ",
      "description_tooltip": null,
      "layout": "IPY_MODEL_2a81017413ca4fe789c2272a5831a069",
      "max": 5,
      "min": 0,
      "orientation": "horizontal",
      "style": "IPY_MODEL_57b94ac505d142769b79de2f1e5c1166",
      "value": 5
     }
    }
   }
  }
 },
 "nbformat": 4,
 "nbformat_minor": 1
}