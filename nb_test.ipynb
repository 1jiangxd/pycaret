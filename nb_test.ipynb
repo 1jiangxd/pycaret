{
 "cells": [
  {
   "cell_type": "code",
   "execution_count": 1,
   "metadata": {
    "pycharm": {
     "name": "#%%\n"
    }
   },
   "outputs": [],
   "source": [
    "import time\n",
    "import numpy as np\n",
    "import pandas as pd\n",
    "\n",
    "from pycaret.datasets import get_data\n",
    "from pycaret.classification import *"
   ]
  },
  {
   "cell_type": "code",
   "execution_count": 2,
   "metadata": {
    "pycharm": {
     "name": "#%%\n"
    }
   },
   "outputs": [],
   "source": [
    "data = get_data('juice', verbose=False)"
   ]
  },
  {
   "cell_type": "code",
   "execution_count": 3,
   "outputs": [],
   "source": [
    "y = [\"a\" if i else \"b\" for i in data.iloc[:, -1]]"
   ],
   "metadata": {
    "collapsed": false,
    "pycharm": {
     "name": "#%%\n"
    }
   }
  },
  {
   "cell_type": "code",
   "execution_count": null,
   "outputs": [],
   "source": [
    "exp = setup(data=data, target=y, session_id=123)"
   ],
   "metadata": {
    "collapsed": false,
    "pycharm": {
     "name": "#%%\n"
    }
   }
  },
  {
   "cell_type": "code",
   "execution_count": null,
   "outputs": [],
   "source": [
    "exp.create_model(\"lr\")"
   ],
   "metadata": {
    "collapsed": false,
    "pycharm": {
     "name": "#%%\n"
    }
   }
  },
  {
   "cell_type": "code",
   "execution_count": null,
   "outputs": [],
   "source": [],
   "metadata": {
    "collapsed": false,
    "pycharm": {
     "name": "#%%\n"
    }
   }
  },
  {
   "cell_type": "code",
   "execution_count": 5,
   "outputs": [
    {
     "data": {
      "text/plain": "<pandas.io.formats.style.Styler at 0x208156dd9a0>",
      "text/html": "<style type=\"text/css\">\n#T_16656_row10_col0, #T_16656_row10_col1, #T_16656_row10_col2, #T_16656_row10_col3, #T_16656_row10_col4, #T_16656_row10_col5, #T_16656_row10_col6 {\n  background: yellow;\n}\n</style>\n<table id=\"T_16656\">\n  <thead>\n    <tr>\n      <th class=\"blank level0\" >&nbsp;</th>\n      <th id=\"T_16656_level0_col0\" class=\"col_heading level0 col0\" >Accuracy</th>\n      <th id=\"T_16656_level0_col1\" class=\"col_heading level0 col1\" >AUC</th>\n      <th id=\"T_16656_level0_col2\" class=\"col_heading level0 col2\" >Recall</th>\n      <th id=\"T_16656_level0_col3\" class=\"col_heading level0 col3\" >Prec.</th>\n      <th id=\"T_16656_level0_col4\" class=\"col_heading level0 col4\" >F1</th>\n      <th id=\"T_16656_level0_col5\" class=\"col_heading level0 col5\" >Kappa</th>\n      <th id=\"T_16656_level0_col6\" class=\"col_heading level0 col6\" >MCC</th>\n    </tr>\n    <tr>\n      <th class=\"index_name level0\" >Fold</th>\n      <th class=\"blank col0\" >&nbsp;</th>\n      <th class=\"blank col1\" >&nbsp;</th>\n      <th class=\"blank col2\" >&nbsp;</th>\n      <th class=\"blank col3\" >&nbsp;</th>\n      <th class=\"blank col4\" >&nbsp;</th>\n      <th class=\"blank col5\" >&nbsp;</th>\n      <th class=\"blank col6\" >&nbsp;</th>\n    </tr>\n  </thead>\n  <tbody>\n    <tr>\n      <th id=\"T_16656_level0_row0\" class=\"row_heading level0 row0\" >0</th>\n      <td id=\"T_16656_row0_col0\" class=\"data row0 col0\" >1.0000</td>\n      <td id=\"T_16656_row0_col1\" class=\"data row0 col1\" >1.0000</td>\n      <td id=\"T_16656_row0_col2\" class=\"data row0 col2\" >1.0000</td>\n      <td id=\"T_16656_row0_col3\" class=\"data row0 col3\" >1.0000</td>\n      <td id=\"T_16656_row0_col4\" class=\"data row0 col4\" >1.0000</td>\n      <td id=\"T_16656_row0_col5\" class=\"data row0 col5\" >1.0000</td>\n      <td id=\"T_16656_row0_col6\" class=\"data row0 col6\" >1.0000</td>\n    </tr>\n    <tr>\n      <th id=\"T_16656_level0_row1\" class=\"row_heading level0 row1\" >1</th>\n      <td id=\"T_16656_row1_col0\" class=\"data row1 col0\" >1.0000</td>\n      <td id=\"T_16656_row1_col1\" class=\"data row1 col1\" >1.0000</td>\n      <td id=\"T_16656_row1_col2\" class=\"data row1 col2\" >1.0000</td>\n      <td id=\"T_16656_row1_col3\" class=\"data row1 col3\" >1.0000</td>\n      <td id=\"T_16656_row1_col4\" class=\"data row1 col4\" >1.0000</td>\n      <td id=\"T_16656_row1_col5\" class=\"data row1 col5\" >1.0000</td>\n      <td id=\"T_16656_row1_col6\" class=\"data row1 col6\" >1.0000</td>\n    </tr>\n    <tr>\n      <th id=\"T_16656_level0_row2\" class=\"row_heading level0 row2\" >2</th>\n      <td id=\"T_16656_row2_col0\" class=\"data row2 col0\" >1.0000</td>\n      <td id=\"T_16656_row2_col1\" class=\"data row2 col1\" >1.0000</td>\n      <td id=\"T_16656_row2_col2\" class=\"data row2 col2\" >1.0000</td>\n      <td id=\"T_16656_row2_col3\" class=\"data row2 col3\" >1.0000</td>\n      <td id=\"T_16656_row2_col4\" class=\"data row2 col4\" >1.0000</td>\n      <td id=\"T_16656_row2_col5\" class=\"data row2 col5\" >1.0000</td>\n      <td id=\"T_16656_row2_col6\" class=\"data row2 col6\" >1.0000</td>\n    </tr>\n    <tr>\n      <th id=\"T_16656_level0_row3\" class=\"row_heading level0 row3\" >3</th>\n      <td id=\"T_16656_row3_col0\" class=\"data row3 col0\" >1.0000</td>\n      <td id=\"T_16656_row3_col1\" class=\"data row3 col1\" >1.0000</td>\n      <td id=\"T_16656_row3_col2\" class=\"data row3 col2\" >1.0000</td>\n      <td id=\"T_16656_row3_col3\" class=\"data row3 col3\" >1.0000</td>\n      <td id=\"T_16656_row3_col4\" class=\"data row3 col4\" >1.0000</td>\n      <td id=\"T_16656_row3_col5\" class=\"data row3 col5\" >1.0000</td>\n      <td id=\"T_16656_row3_col6\" class=\"data row3 col6\" >1.0000</td>\n    </tr>\n    <tr>\n      <th id=\"T_16656_level0_row4\" class=\"row_heading level0 row4\" >4</th>\n      <td id=\"T_16656_row4_col0\" class=\"data row4 col0\" >1.0000</td>\n      <td id=\"T_16656_row4_col1\" class=\"data row4 col1\" >1.0000</td>\n      <td id=\"T_16656_row4_col2\" class=\"data row4 col2\" >1.0000</td>\n      <td id=\"T_16656_row4_col3\" class=\"data row4 col3\" >1.0000</td>\n      <td id=\"T_16656_row4_col4\" class=\"data row4 col4\" >1.0000</td>\n      <td id=\"T_16656_row4_col5\" class=\"data row4 col5\" >1.0000</td>\n      <td id=\"T_16656_row4_col6\" class=\"data row4 col6\" >1.0000</td>\n    </tr>\n    <tr>\n      <th id=\"T_16656_level0_row5\" class=\"row_heading level0 row5\" >5</th>\n      <td id=\"T_16656_row5_col0\" class=\"data row5 col0\" >1.0000</td>\n      <td id=\"T_16656_row5_col1\" class=\"data row5 col1\" >1.0000</td>\n      <td id=\"T_16656_row5_col2\" class=\"data row5 col2\" >1.0000</td>\n      <td id=\"T_16656_row5_col3\" class=\"data row5 col3\" >1.0000</td>\n      <td id=\"T_16656_row5_col4\" class=\"data row5 col4\" >1.0000</td>\n      <td id=\"T_16656_row5_col5\" class=\"data row5 col5\" >1.0000</td>\n      <td id=\"T_16656_row5_col6\" class=\"data row5 col6\" >1.0000</td>\n    </tr>\n    <tr>\n      <th id=\"T_16656_level0_row6\" class=\"row_heading level0 row6\" >6</th>\n      <td id=\"T_16656_row6_col0\" class=\"data row6 col0\" >1.0000</td>\n      <td id=\"T_16656_row6_col1\" class=\"data row6 col1\" >1.0000</td>\n      <td id=\"T_16656_row6_col2\" class=\"data row6 col2\" >1.0000</td>\n      <td id=\"T_16656_row6_col3\" class=\"data row6 col3\" >1.0000</td>\n      <td id=\"T_16656_row6_col4\" class=\"data row6 col4\" >1.0000</td>\n      <td id=\"T_16656_row6_col5\" class=\"data row6 col5\" >1.0000</td>\n      <td id=\"T_16656_row6_col6\" class=\"data row6 col6\" >1.0000</td>\n    </tr>\n    <tr>\n      <th id=\"T_16656_level0_row7\" class=\"row_heading level0 row7\" >7</th>\n      <td id=\"T_16656_row7_col0\" class=\"data row7 col0\" >1.0000</td>\n      <td id=\"T_16656_row7_col1\" class=\"data row7 col1\" >1.0000</td>\n      <td id=\"T_16656_row7_col2\" class=\"data row7 col2\" >1.0000</td>\n      <td id=\"T_16656_row7_col3\" class=\"data row7 col3\" >1.0000</td>\n      <td id=\"T_16656_row7_col4\" class=\"data row7 col4\" >1.0000</td>\n      <td id=\"T_16656_row7_col5\" class=\"data row7 col5\" >1.0000</td>\n      <td id=\"T_16656_row7_col6\" class=\"data row7 col6\" >1.0000</td>\n    </tr>\n    <tr>\n      <th id=\"T_16656_level0_row8\" class=\"row_heading level0 row8\" >8</th>\n      <td id=\"T_16656_row8_col0\" class=\"data row8 col0\" >1.0000</td>\n      <td id=\"T_16656_row8_col1\" class=\"data row8 col1\" >1.0000</td>\n      <td id=\"T_16656_row8_col2\" class=\"data row8 col2\" >1.0000</td>\n      <td id=\"T_16656_row8_col3\" class=\"data row8 col3\" >1.0000</td>\n      <td id=\"T_16656_row8_col4\" class=\"data row8 col4\" >1.0000</td>\n      <td id=\"T_16656_row8_col5\" class=\"data row8 col5\" >1.0000</td>\n      <td id=\"T_16656_row8_col6\" class=\"data row8 col6\" >1.0000</td>\n    </tr>\n    <tr>\n      <th id=\"T_16656_level0_row9\" class=\"row_heading level0 row9\" >9</th>\n      <td id=\"T_16656_row9_col0\" class=\"data row9 col0\" >1.0000</td>\n      <td id=\"T_16656_row9_col1\" class=\"data row9 col1\" >1.0000</td>\n      <td id=\"T_16656_row9_col2\" class=\"data row9 col2\" >1.0000</td>\n      <td id=\"T_16656_row9_col3\" class=\"data row9 col3\" >1.0000</td>\n      <td id=\"T_16656_row9_col4\" class=\"data row9 col4\" >1.0000</td>\n      <td id=\"T_16656_row9_col5\" class=\"data row9 col5\" >1.0000</td>\n      <td id=\"T_16656_row9_col6\" class=\"data row9 col6\" >1.0000</td>\n    </tr>\n    <tr>\n      <th id=\"T_16656_level0_row10\" class=\"row_heading level0 row10\" >Mean</th>\n      <td id=\"T_16656_row10_col0\" class=\"data row10 col0\" >1.0000</td>\n      <td id=\"T_16656_row10_col1\" class=\"data row10 col1\" >1.0000</td>\n      <td id=\"T_16656_row10_col2\" class=\"data row10 col2\" >1.0000</td>\n      <td id=\"T_16656_row10_col3\" class=\"data row10 col3\" >1.0000</td>\n      <td id=\"T_16656_row10_col4\" class=\"data row10 col4\" >1.0000</td>\n      <td id=\"T_16656_row10_col5\" class=\"data row10 col5\" >1.0000</td>\n      <td id=\"T_16656_row10_col6\" class=\"data row10 col6\" >1.0000</td>\n    </tr>\n    <tr>\n      <th id=\"T_16656_level0_row11\" class=\"row_heading level0 row11\" >Std</th>\n      <td id=\"T_16656_row11_col0\" class=\"data row11 col0\" >0.0000</td>\n      <td id=\"T_16656_row11_col1\" class=\"data row11 col1\" >0.0000</td>\n      <td id=\"T_16656_row11_col2\" class=\"data row11 col2\" >0.0000</td>\n      <td id=\"T_16656_row11_col3\" class=\"data row11 col3\" >0.0000</td>\n      <td id=\"T_16656_row11_col4\" class=\"data row11 col4\" >0.0000</td>\n      <td id=\"T_16656_row11_col5\" class=\"data row11 col5\" >0.0000</td>\n      <td id=\"T_16656_row11_col6\" class=\"data row11 col6\" >0.0000</td>\n    </tr>\n  </tbody>\n</table>\n"
     },
     "metadata": {},
     "output_type": "display_data"
    },
    {
     "data": {
      "text/plain": "LogisticRegression(max_iter=1000, random_state=123)"
     },
     "execution_count": 5,
     "metadata": {},
     "output_type": "execute_result"
    }
   ],
   "source": [
    "exp.create_model(\"lr\")"
   ],
   "metadata": {
    "collapsed": false,
    "pycharm": {
     "name": "#%%\n"
    }
   }
  },
  {
   "cell_type": "code",
   "execution_count": null,
   "outputs": [],
   "source": [],
   "metadata": {
    "collapsed": false,
    "pycharm": {
     "name": "#%%\n"
    }
   }
  }
 ],
 "metadata": {
  "interpreter": {
   "hash": "83be8a105015beb0be3130957f981d91e0431cfb610106a7fbaabcd7fd8062ab"
  },
  "kernelspec": {
   "display_name": "pycaret_dev_sktime_0p10p0",
   "language": "python",
   "name": "python3"
  },
  "language_info": {
   "codemirror_mode": {
    "name": "ipython",
    "version": 3
   },
   "file_extension": ".py",
   "mimetype": "text/x-python",
   "name": "python",
   "nbconvert_exporter": "python",
   "pygments_lexer": "ipython3",
   "version": "3.8.12"
  }
 },
 "nbformat": 4,
 "nbformat_minor": 2
}