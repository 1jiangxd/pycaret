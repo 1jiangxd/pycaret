{
 "cells": [
  {
   "cell_type": "code",
   "execution_count": 1,
   "metadata": {
    "pycharm": {
     "name": "#%%\n"
    }
   },
   "outputs": [],
   "source": [
    "from pycaret.classification import *\n",
    "from sklearn.decomposition import PCA\n",
    "from sklearn.datasets import fetch_20newsgroups\n",
    "from scipy.sparse import csr_matrix\n",
    "import numpy as np"
   ]
  },
  {
   "cell_type": "code",
   "execution_count": 2,
   "outputs": [
    {
     "data": {
      "text/plain": "   Id Purchase  WeekofPurchase  StoreID  PriceCH  PriceMM  DiscCH  DiscMM  \\\n0   1       CH             237        1     1.75     1.99    0.00     0.0   \n1   2       CH             239        1     1.75     1.99    0.00     0.3   \n2   3       CH             245        1     1.86     2.09    0.17     0.0   \n3   4       MM             227        1     1.69     1.69    0.00     0.0   \n4   5       CH             228        7     1.69     1.69    0.00     0.0   \n\n   SpecialCH  SpecialMM   LoyalCH  SalePriceMM  SalePriceCH  PriceDiff Store7  \\\n0          0          0  0.500000         1.99         1.75       0.24     No   \n1          0          1  0.600000         1.69         1.75      -0.06     No   \n2          0          0  0.680000         2.09         1.69       0.40     No   \n3          0          0  0.400000         1.69         1.69       0.00     No   \n4          0          0  0.956535         1.69         1.69       0.00    Yes   \n\n   PctDiscMM  PctDiscCH  ListPriceDiff  STORE  \n0   0.000000   0.000000           0.24      1  \n1   0.150754   0.000000           0.24      1  \n2   0.000000   0.091398           0.23      1  \n3   0.000000   0.000000           0.00      1  \n4   0.000000   0.000000           0.00      0  ",
      "text/html": "<div>\n<style scoped>\n    .dataframe tbody tr th:only-of-type {\n        vertical-align: middle;\n    }\n\n    .dataframe tbody tr th {\n        vertical-align: top;\n    }\n\n    .dataframe thead th {\n        text-align: right;\n    }\n</style>\n<table border=\"1\" class=\"dataframe\">\n  <thead>\n    <tr style=\"text-align: right;\">\n      <th></th>\n      <th>Id</th>\n      <th>Purchase</th>\n      <th>WeekofPurchase</th>\n      <th>StoreID</th>\n      <th>PriceCH</th>\n      <th>PriceMM</th>\n      <th>DiscCH</th>\n      <th>DiscMM</th>\n      <th>SpecialCH</th>\n      <th>SpecialMM</th>\n      <th>LoyalCH</th>\n      <th>SalePriceMM</th>\n      <th>SalePriceCH</th>\n      <th>PriceDiff</th>\n      <th>Store7</th>\n      <th>PctDiscMM</th>\n      <th>PctDiscCH</th>\n      <th>ListPriceDiff</th>\n      <th>STORE</th>\n    </tr>\n  </thead>\n  <tbody>\n    <tr>\n      <th>0</th>\n      <td>1</td>\n      <td>CH</td>\n      <td>237</td>\n      <td>1</td>\n      <td>1.75</td>\n      <td>1.99</td>\n      <td>0.00</td>\n      <td>0.0</td>\n      <td>0</td>\n      <td>0</td>\n      <td>0.500000</td>\n      <td>1.99</td>\n      <td>1.75</td>\n      <td>0.24</td>\n      <td>No</td>\n      <td>0.000000</td>\n      <td>0.000000</td>\n      <td>0.24</td>\n      <td>1</td>\n    </tr>\n    <tr>\n      <th>1</th>\n      <td>2</td>\n      <td>CH</td>\n      <td>239</td>\n      <td>1</td>\n      <td>1.75</td>\n      <td>1.99</td>\n      <td>0.00</td>\n      <td>0.3</td>\n      <td>0</td>\n      <td>1</td>\n      <td>0.600000</td>\n      <td>1.69</td>\n      <td>1.75</td>\n      <td>-0.06</td>\n      <td>No</td>\n      <td>0.150754</td>\n      <td>0.000000</td>\n      <td>0.24</td>\n      <td>1</td>\n    </tr>\n    <tr>\n      <th>2</th>\n      <td>3</td>\n      <td>CH</td>\n      <td>245</td>\n      <td>1</td>\n      <td>1.86</td>\n      <td>2.09</td>\n      <td>0.17</td>\n      <td>0.0</td>\n      <td>0</td>\n      <td>0</td>\n      <td>0.680000</td>\n      <td>2.09</td>\n      <td>1.69</td>\n      <td>0.40</td>\n      <td>No</td>\n      <td>0.000000</td>\n      <td>0.091398</td>\n      <td>0.23</td>\n      <td>1</td>\n    </tr>\n    <tr>\n      <th>3</th>\n      <td>4</td>\n      <td>MM</td>\n      <td>227</td>\n      <td>1</td>\n      <td>1.69</td>\n      <td>1.69</td>\n      <td>0.00</td>\n      <td>0.0</td>\n      <td>0</td>\n      <td>0</td>\n      <td>0.400000</td>\n      <td>1.69</td>\n      <td>1.69</td>\n      <td>0.00</td>\n      <td>No</td>\n      <td>0.000000</td>\n      <td>0.000000</td>\n      <td>0.00</td>\n      <td>1</td>\n    </tr>\n    <tr>\n      <th>4</th>\n      <td>5</td>\n      <td>CH</td>\n      <td>228</td>\n      <td>7</td>\n      <td>1.69</td>\n      <td>1.69</td>\n      <td>0.00</td>\n      <td>0.0</td>\n      <td>0</td>\n      <td>0</td>\n      <td>0.956535</td>\n      <td>1.69</td>\n      <td>1.69</td>\n      <td>0.00</td>\n      <td>Yes</td>\n      <td>0.000000</td>\n      <td>0.000000</td>\n      <td>0.00</td>\n      <td>0</td>\n    </tr>\n  </tbody>\n</table>\n</div>"
     },
     "metadata": {},
     "output_type": "display_data"
    },
    {
     "name": "stdout",
     "output_type": "stream",
     "text": [
      "(1070, 19)\n"
     ]
    }
   ],
   "source": [
    "from pycaret.datasets import get_data\n",
    "dataset = get_data('juice')\n",
    "\n",
    "print(dataset.shape)"
   ],
   "metadata": {
    "collapsed": false,
    "pycharm": {
     "name": "#%%\n"
    }
   }
  },
  {
   "cell_type": "code",
   "execution_count": 3,
   "metadata": {
    "pycharm": {
     "name": "#%%\n"
    }
   },
   "outputs": [
    {
     "name": "stdout",
     "output_type": "stream",
     "text": [
      "Alert! from version 0.1.39, fter importing, you must do '%matplotlib inline' to display charts in Jupyter Notebooks.\n",
      "    AV = AutoViz_Class()\n",
      "    dfte = AV.AutoViz(filename, sep=',', depVar='', dfte=None, header=0, verbose=0, lowess=False,\n",
      "               chart_format='svg',max_rows_analyzed=150000,max_cols_analyzed=30, save_plot_dir=None)\n",
      "Note: verbose=0 or 1 generates charts and displays them in your local Jupyter notebook.\n",
      "      verbose=2 does not display plots but saves them in AutoViz_Plots folder in local machine.\n",
      "Updated: chart_format='bokeh' generates and displays charts in your local Jupyter notebook.\n",
      "      chart_format='server' generates and displays charts in the browser - one tab for each chart.\n",
      "      chart_format='html' silently saves charts HTML format - they are also interactive!\n"
     ]
    },
    {
     "name": "stderr",
     "output_type": "stream",
     "text": [
      "`scipy.sparse.sparsetools` is deprecated!\n",
      "scipy.sparse.sparsetools is a private module for scipy.sparse, and should not be used.\n"
     ]
    },
    {
     "data": {
      "text/plain": "<pandas.io.formats.style.Styler at 0x204e0139f70>",
      "text/html": "<style type=\"text/css\">\n</style>\n<table id=\"T_f253f\">\n  <thead>\n    <tr>\n      <th class=\"blank level0\" >&nbsp;</th>\n      <th id=\"T_f253f_level0_col0\" class=\"col_heading level0 col0\" >Description</th>\n      <th id=\"T_f253f_level0_col1\" class=\"col_heading level0 col1\" >Value</th>\n    </tr>\n  </thead>\n  <tbody>\n    <tr>\n      <th id=\"T_f253f_level0_row0\" class=\"row_heading level0 row0\" >0</th>\n      <td id=\"T_f253f_row0_col0\" class=\"data row0 col0\" >Session id</td>\n      <td id=\"T_f253f_row0_col1\" class=\"data row0 col1\" >123</td>\n    </tr>\n    <tr>\n      <th id=\"T_f253f_level0_row1\" class=\"row_heading level0 row1\" >1</th>\n      <td id=\"T_f253f_row1_col0\" class=\"data row1 col0\" >Target</td>\n      <td id=\"T_f253f_row1_col1\" class=\"data row1 col1\" >STORE</td>\n    </tr>\n    <tr>\n      <th id=\"T_f253f_level0_row2\" class=\"row_heading level0 row2\" >2</th>\n      <td id=\"T_f253f_row2_col0\" class=\"data row2 col0\" >Target type</td>\n      <td id=\"T_f253f_row2_col1\" class=\"data row2 col1\" >classification</td>\n    </tr>\n    <tr>\n      <th id=\"T_f253f_level0_row3\" class=\"row_heading level0 row3\" >3</th>\n      <td id=\"T_f253f_row3_col0\" class=\"data row3 col0\" >Data shape</td>\n      <td id=\"T_f253f_row3_col1\" class=\"data row3 col1\" >(1070, 19)</td>\n    </tr>\n    <tr>\n      <th id=\"T_f253f_level0_row4\" class=\"row_heading level0 row4\" >4</th>\n      <td id=\"T_f253f_row4_col0\" class=\"data row4 col0\" >Train data shape</td>\n      <td id=\"T_f253f_row4_col1\" class=\"data row4 col1\" >(748, 19)</td>\n    </tr>\n    <tr>\n      <th id=\"T_f253f_level0_row5\" class=\"row_heading level0 row5\" >5</th>\n      <td id=\"T_f253f_row5_col0\" class=\"data row5 col0\" >Test data shape</td>\n      <td id=\"T_f253f_row5_col1\" class=\"data row5 col1\" >(322, 19)</td>\n    </tr>\n    <tr>\n      <th id=\"T_f253f_level0_row6\" class=\"row_heading level0 row6\" >6</th>\n      <td id=\"T_f253f_row6_col0\" class=\"data row6 col0\" >Numeric features</td>\n      <td id=\"T_f253f_row6_col1\" class=\"data row6 col1\" >16</td>\n    </tr>\n    <tr>\n      <th id=\"T_f253f_level0_row7\" class=\"row_heading level0 row7\" >7</th>\n      <td id=\"T_f253f_row7_col0\" class=\"data row7 col0\" >Categorical features</td>\n      <td id=\"T_f253f_row7_col1\" class=\"data row7 col1\" >2</td>\n    </tr>\n    <tr>\n      <th id=\"T_f253f_level0_row8\" class=\"row_heading level0 row8\" >8</th>\n      <td id=\"T_f253f_row8_col0\" class=\"data row8 col0\" >Missing Values</td>\n      <td id=\"T_f253f_row8_col1\" class=\"data row8 col1\" >0.00%</td>\n    </tr>\n  </tbody>\n</table>\n"
     },
     "metadata": {},
     "output_type": "display_data"
    }
   ],
   "source": [
    "sparseMatrix = csr_matrix((3, 4),\n",
    "                          dtype = np.int8).toarray()\n",
    "\n",
    "dataset.iloc[0, 2] = np.nan\n",
    "\n",
    "py = setup(\n",
    "    data=dataset,\n",
    "    target=-1,\n",
    "    session_id=123,\n",
    "    experiment_name=None,\n",
    "    text_features=None,\n",
    "    # ignore_features=[\"Id\"],\n",
    "    # keep_features=[\"SalePriceCH\"],\n",
    "    preprocess=False,\n",
    "    imputation_type='simple',\n",
    "    numeric_iterative_imputer='lightgbm',\n",
    "    categorical_iterative_imputer='lightgbm',\n",
    "    max_encoding_ohe=5,\n",
    "    remove_multicollinearity=True,\n",
    "    multicollinearity_threshold=0.8,\n",
    "    bin_numeric_features=[\"PriceMM\"],\n",
    "    remove_outliers=True,\n",
    "    outliers_method=\"lof\",\n",
    "    outliers_threshold=0.5,\n",
    "    normalize=True,\n",
    "    feature_selection=True,\n",
    "    feature_selection_method=\"classic\",\n",
    "    feature_selection_estimator=\"rf\",\n",
    "    n_features_to_select=7,\n",
    "    # custom_pipeline=[(\"pca\", PCA(n_components=5))],\n",
    "    # data_split_stratify=[\"SalePriceCH\", \"Purchase\"],\n",
    "    system_log=False,\n",
    "    memory=False,\n",
    ")"
   ]
  },
  {
   "cell_type": "code",
   "execution_count": 10,
   "outputs": [
    {
     "data": {
      "text/plain": "       Id Purchase  WeekofPurchase  StoreID  PriceCH  PriceMM  DiscCH  DiscMM  \\\n0     339       MM           255.0        7     1.86     2.18    0.00     0.0   \n1     270       MM           261.0        2     1.86     2.18    0.00     0.0   \n2      75       CH           230.0        7     1.69     1.99    0.00     0.0   \n3     328       CH           266.0        1     1.86     1.99    0.00     0.1   \n4     663       CH           265.0        7     1.86     2.13    0.37     0.0   \n...   ...      ...             ...      ...      ...      ...     ...     ...   \n1065  156       CH           233.0        1     1.69     1.99    0.00     0.0   \n1066  939       MM           237.0        2     1.75     1.99    0.00     0.0   \n1067  812       CH           266.0        7     1.86     2.13    0.37     0.0   \n1068  237       CH           238.0        3     1.79     2.09    0.00     0.0   \n1069  984       CH           264.0        7     1.86     2.13    0.37     0.0   \n\n      SpecialCH  SpecialMM   LoyalCH  SalePriceMM  SalePriceCH  PriceDiff  \\\n0             0          0  0.039170         2.18         1.86       0.32   \n1             0          0  0.533760         2.18         1.86       0.32   \n2             0          1  0.680000         1.99         1.69       0.30   \n3             0          0  0.564800         1.89         1.86       0.03   \n4             1          0  0.400000         2.13         1.49       0.64   \n...         ...        ...       ...          ...          ...        ...   \n1065          0          0  0.916114         1.99         1.69       0.30   \n1066          0          0  0.086789         1.99         1.75       0.24   \n1067          1          0  0.916114         2.13         1.49       0.64   \n1068          0          0  0.719675         2.09         1.79       0.30   \n1069          1          0  0.492800         2.13         1.49       0.64   \n\n     Store7  PctDiscMM  PctDiscCH  ListPriceDiff  STORE  \n0       Yes   0.000000   0.000000           0.32      0  \n1        No   0.000000   0.000000           0.32      2  \n2       Yes   0.000000   0.000000           0.30      0  \n3        No   0.050251   0.000000           0.13      1  \n4       Yes   0.000000   0.198925           0.27      0  \n...     ...        ...        ...            ...    ...  \n1065     No   0.000000   0.000000           0.30      1  \n1066     No   0.000000   0.000000           0.24      2  \n1067    Yes   0.000000   0.198925           0.27      0  \n1068     No   0.000000   0.000000           0.30      3  \n1069    Yes   0.000000   0.198925           0.27      0  \n\n[1070 rows x 19 columns]",
      "text/html": "<div>\n<style scoped>\n    .dataframe tbody tr th:only-of-type {\n        vertical-align: middle;\n    }\n\n    .dataframe tbody tr th {\n        vertical-align: top;\n    }\n\n    .dataframe thead th {\n        text-align: right;\n    }\n</style>\n<table border=\"1\" class=\"dataframe\">\n  <thead>\n    <tr style=\"text-align: right;\">\n      <th></th>\n      <th>Id</th>\n      <th>Purchase</th>\n      <th>WeekofPurchase</th>\n      <th>StoreID</th>\n      <th>PriceCH</th>\n      <th>PriceMM</th>\n      <th>DiscCH</th>\n      <th>DiscMM</th>\n      <th>SpecialCH</th>\n      <th>SpecialMM</th>\n      <th>LoyalCH</th>\n      <th>SalePriceMM</th>\n      <th>SalePriceCH</th>\n      <th>PriceDiff</th>\n      <th>Store7</th>\n      <th>PctDiscMM</th>\n      <th>PctDiscCH</th>\n      <th>ListPriceDiff</th>\n      <th>STORE</th>\n    </tr>\n  </thead>\n  <tbody>\n    <tr>\n      <th>0</th>\n      <td>339</td>\n      <td>MM</td>\n      <td>255.0</td>\n      <td>7</td>\n      <td>1.86</td>\n      <td>2.18</td>\n      <td>0.00</td>\n      <td>0.0</td>\n      <td>0</td>\n      <td>0</td>\n      <td>0.039170</td>\n      <td>2.18</td>\n      <td>1.86</td>\n      <td>0.32</td>\n      <td>Yes</td>\n      <td>0.000000</td>\n      <td>0.000000</td>\n      <td>0.32</td>\n      <td>0</td>\n    </tr>\n    <tr>\n      <th>1</th>\n      <td>270</td>\n      <td>MM</td>\n      <td>261.0</td>\n      <td>2</td>\n      <td>1.86</td>\n      <td>2.18</td>\n      <td>0.00</td>\n      <td>0.0</td>\n      <td>0</td>\n      <td>0</td>\n      <td>0.533760</td>\n      <td>2.18</td>\n      <td>1.86</td>\n      <td>0.32</td>\n      <td>No</td>\n      <td>0.000000</td>\n      <td>0.000000</td>\n      <td>0.32</td>\n      <td>2</td>\n    </tr>\n    <tr>\n      <th>2</th>\n      <td>75</td>\n      <td>CH</td>\n      <td>230.0</td>\n      <td>7</td>\n      <td>1.69</td>\n      <td>1.99</td>\n      <td>0.00</td>\n      <td>0.0</td>\n      <td>0</td>\n      <td>1</td>\n      <td>0.680000</td>\n      <td>1.99</td>\n      <td>1.69</td>\n      <td>0.30</td>\n      <td>Yes</td>\n      <td>0.000000</td>\n      <td>0.000000</td>\n      <td>0.30</td>\n      <td>0</td>\n    </tr>\n    <tr>\n      <th>3</th>\n      <td>328</td>\n      <td>CH</td>\n      <td>266.0</td>\n      <td>1</td>\n      <td>1.86</td>\n      <td>1.99</td>\n      <td>0.00</td>\n      <td>0.1</td>\n      <td>0</td>\n      <td>0</td>\n      <td>0.564800</td>\n      <td>1.89</td>\n      <td>1.86</td>\n      <td>0.03</td>\n      <td>No</td>\n      <td>0.050251</td>\n      <td>0.000000</td>\n      <td>0.13</td>\n      <td>1</td>\n    </tr>\n    <tr>\n      <th>4</th>\n      <td>663</td>\n      <td>CH</td>\n      <td>265.0</td>\n      <td>7</td>\n      <td>1.86</td>\n      <td>2.13</td>\n      <td>0.37</td>\n      <td>0.0</td>\n      <td>1</td>\n      <td>0</td>\n      <td>0.400000</td>\n      <td>2.13</td>\n      <td>1.49</td>\n      <td>0.64</td>\n      <td>Yes</td>\n      <td>0.000000</td>\n      <td>0.198925</td>\n      <td>0.27</td>\n      <td>0</td>\n    </tr>\n    <tr>\n      <th>...</th>\n      <td>...</td>\n      <td>...</td>\n      <td>...</td>\n      <td>...</td>\n      <td>...</td>\n      <td>...</td>\n      <td>...</td>\n      <td>...</td>\n      <td>...</td>\n      <td>...</td>\n      <td>...</td>\n      <td>...</td>\n      <td>...</td>\n      <td>...</td>\n      <td>...</td>\n      <td>...</td>\n      <td>...</td>\n      <td>...</td>\n      <td>...</td>\n    </tr>\n    <tr>\n      <th>1065</th>\n      <td>156</td>\n      <td>CH</td>\n      <td>233.0</td>\n      <td>1</td>\n      <td>1.69</td>\n      <td>1.99</td>\n      <td>0.00</td>\n      <td>0.0</td>\n      <td>0</td>\n      <td>0</td>\n      <td>0.916114</td>\n      <td>1.99</td>\n      <td>1.69</td>\n      <td>0.30</td>\n      <td>No</td>\n      <td>0.000000</td>\n      <td>0.000000</td>\n      <td>0.30</td>\n      <td>1</td>\n    </tr>\n    <tr>\n      <th>1066</th>\n      <td>939</td>\n      <td>MM</td>\n      <td>237.0</td>\n      <td>2</td>\n      <td>1.75</td>\n      <td>1.99</td>\n      <td>0.00</td>\n      <td>0.0</td>\n      <td>0</td>\n      <td>0</td>\n      <td>0.086789</td>\n      <td>1.99</td>\n      <td>1.75</td>\n      <td>0.24</td>\n      <td>No</td>\n      <td>0.000000</td>\n      <td>0.000000</td>\n      <td>0.24</td>\n      <td>2</td>\n    </tr>\n    <tr>\n      <th>1067</th>\n      <td>812</td>\n      <td>CH</td>\n      <td>266.0</td>\n      <td>7</td>\n      <td>1.86</td>\n      <td>2.13</td>\n      <td>0.37</td>\n      <td>0.0</td>\n      <td>1</td>\n      <td>0</td>\n      <td>0.916114</td>\n      <td>2.13</td>\n      <td>1.49</td>\n      <td>0.64</td>\n      <td>Yes</td>\n      <td>0.000000</td>\n      <td>0.198925</td>\n      <td>0.27</td>\n      <td>0</td>\n    </tr>\n    <tr>\n      <th>1068</th>\n      <td>237</td>\n      <td>CH</td>\n      <td>238.0</td>\n      <td>3</td>\n      <td>1.79</td>\n      <td>2.09</td>\n      <td>0.00</td>\n      <td>0.0</td>\n      <td>0</td>\n      <td>0</td>\n      <td>0.719675</td>\n      <td>2.09</td>\n      <td>1.79</td>\n      <td>0.30</td>\n      <td>No</td>\n      <td>0.000000</td>\n      <td>0.000000</td>\n      <td>0.30</td>\n      <td>3</td>\n    </tr>\n    <tr>\n      <th>1069</th>\n      <td>984</td>\n      <td>CH</td>\n      <td>264.0</td>\n      <td>7</td>\n      <td>1.86</td>\n      <td>2.13</td>\n      <td>0.37</td>\n      <td>0.0</td>\n      <td>1</td>\n      <td>0</td>\n      <td>0.492800</td>\n      <td>2.13</td>\n      <td>1.49</td>\n      <td>0.64</td>\n      <td>Yes</td>\n      <td>0.000000</td>\n      <td>0.198925</td>\n      <td>0.27</td>\n      <td>0</td>\n    </tr>\n  </tbody>\n</table>\n<p>1070 rows × 19 columns</p>\n</div>"
     },
     "execution_count": 10,
     "metadata": {},
     "output_type": "execute_result"
    }
   ],
   "source": [
    "py.dataset"
   ],
   "metadata": {
    "collapsed": false,
    "pycharm": {
     "name": "#%%\n"
    }
   }
  },
  {
   "cell_type": "code",
   "execution_count": 11,
   "outputs": [
    {
     "name": "stderr",
     "output_type": "stream",
     "text": [
      "Passing unrecognized arguments to super(IntProgress).__init__(step=1).\n",
      "object.__init__() takes exactly one argument (the instance to initialize)\n",
      "This is deprecated in traitlets 4.2.This error will be raised in a future release of traitlets.\n"
     ]
    },
    {
     "data": {
      "text/plain": "IntProgress(value=0, description='Processing: ', max=4)",
      "application/vnd.jupyter.widget-view+json": {
       "version_major": 2,
       "version_minor": 0,
       "model_id": "5967a4d244a048f1b8a614ebe40c2f6b"
      }
     },
     "metadata": {},
     "output_type": "display_data"
    },
    {
     "data": {
      "text/plain": "                                                                    \n                                                                    \nInitiated  . . . . . . . . . . . . . . . . . .              12:50:43\nStatus     . . . . . . . . . . . . . . . . . .  Loading Dependencies\nEstimator  . . . . . . . . . . . . . . . . . .     Compiling Library",
      "text/html": "<div>\n<style scoped>\n    .dataframe tbody tr th:only-of-type {\n        vertical-align: middle;\n    }\n\n    .dataframe tbody tr th {\n        vertical-align: top;\n    }\n\n    .dataframe thead th {\n        text-align: right;\n    }\n</style>\n<table border=\"1\" class=\"dataframe\">\n  <thead>\n    <tr style=\"text-align: right;\">\n      <th></th>\n      <th></th>\n      <th></th>\n    </tr>\n    <tr>\n      <th></th>\n      <th></th>\n      <th></th>\n    </tr>\n  </thead>\n  <tbody>\n    <tr>\n      <th>Initiated</th>\n      <td>. . . . . . . . . . . . . . . . . .</td>\n      <td>12:50:43</td>\n    </tr>\n    <tr>\n      <th>Status</th>\n      <td>. . . . . . . . . . . . . . . . . .</td>\n      <td>Loading Dependencies</td>\n    </tr>\n    <tr>\n      <th>Estimator</th>\n      <td>. . . . . . . . . . . . . . . . . .</td>\n      <td>Compiling Library</td>\n    </tr>\n  </tbody>\n</table>\n</div>"
     },
     "metadata": {},
     "output_type": "display_data"
    },
    {
     "data": {
      "text/plain": "Empty DataFrame\nColumns: [Fold, Accuracy, AUC, Recall, Prec., F1, Kappa, MCC]\nIndex: []",
      "text/html": "<div>\n<style scoped>\n    .dataframe tbody tr th:only-of-type {\n        vertical-align: middle;\n    }\n\n    .dataframe tbody tr th {\n        vertical-align: top;\n    }\n\n    .dataframe thead th {\n        text-align: right;\n    }\n</style>\n<table border=\"1\" class=\"dataframe\">\n  <thead>\n    <tr style=\"text-align: right;\">\n      <th></th>\n      <th>Fold</th>\n      <th>Accuracy</th>\n      <th>AUC</th>\n      <th>Recall</th>\n      <th>Prec.</th>\n      <th>F1</th>\n      <th>Kappa</th>\n      <th>MCC</th>\n    </tr>\n  </thead>\n  <tbody>\n  </tbody>\n</table>\n</div>"
     },
     "metadata": {},
     "output_type": "display_data"
    },
    {
     "name": "stderr",
     "output_type": "stream",
     "text": [
      "invalid escape sequence \\P\n"
     ]
    },
    {
     "ename": "ValueError",
     "evalue": "could not convert string to float: 'MM'",
     "output_type": "error",
     "traceback": [
      "\u001B[1;31m---------------------------------------------------------------------------\u001B[0m",
      "\u001B[1;31mValueError\u001B[0m                                Traceback (most recent call last)",
      "Input \u001B[1;32mIn [11]\u001B[0m, in \u001B[0;36m<cell line: 1>\u001B[1;34m()\u001B[0m\n\u001B[1;32m----> 1\u001B[0m best_model \u001B[38;5;241m=\u001B[39m create_model(\u001B[38;5;124m\"\u001B[39m\u001B[38;5;124mlr\u001B[39m\u001B[38;5;124m\"\u001B[39m)\n",
      "File \u001B[1;32m~\\Documents\\Python\\pycaret\\pycaret\\internal\\utils.py:881\u001B[0m, in \u001B[0;36mcheck_if_global_is_not_none.<locals>.decorator.<locals>.wrapper\u001B[1;34m(*args, **kwargs)\u001B[0m\n\u001B[0;32m    879\u001B[0m     \u001B[38;5;28;01mif\u001B[39;00m globals_d[name] \u001B[38;5;129;01mis\u001B[39;00m \u001B[38;5;28;01mNone\u001B[39;00m:\n\u001B[0;32m    880\u001B[0m         \u001B[38;5;28;01mraise\u001B[39;00m \u001B[38;5;167;01mValueError\u001B[39;00m(message)\n\u001B[1;32m--> 881\u001B[0m \u001B[38;5;28;01mreturn\u001B[39;00m func(\u001B[38;5;241m*\u001B[39margs, \u001B[38;5;241m*\u001B[39m\u001B[38;5;241m*\u001B[39mkwargs)\n",
      "File \u001B[1;32m~\\Documents\\Python\\pycaret\\pycaret\\classification\\functional.py:887\u001B[0m, in \u001B[0;36mcreate_model\u001B[1;34m(estimator, fold, round, cross_validation, fit_kwargs, groups, probability_threshold, experiment_custom_tags, verbose, return_train_score, **kwargs)\u001B[0m\n\u001B[0;32m    764\u001B[0m \u001B[38;5;129m@check_if_global_is_not_none\u001B[39m(\u001B[38;5;28mglobals\u001B[39m(), _CURRENT_EXPERIMENT_DECORATOR_DICT)\n\u001B[0;32m    765\u001B[0m \u001B[38;5;28;01mdef\u001B[39;00m \u001B[38;5;21mcreate_model\u001B[39m(\n\u001B[0;32m    766\u001B[0m     estimator: Union[\u001B[38;5;28mstr\u001B[39m, Any],\n\u001B[1;32m   (...)\u001B[0m\n\u001B[0;32m    776\u001B[0m     \u001B[38;5;241m*\u001B[39m\u001B[38;5;241m*\u001B[39mkwargs,\n\u001B[0;32m    777\u001B[0m ) \u001B[38;5;241m-\u001B[39m\u001B[38;5;241m>\u001B[39m Any:\n\u001B[0;32m    779\u001B[0m     \u001B[38;5;124;03m\"\"\"\u001B[39;00m\n\u001B[0;32m    780\u001B[0m \u001B[38;5;124;03m    This function trains and evaluates the performance of a given estimator\u001B[39;00m\n\u001B[0;32m    781\u001B[0m \u001B[38;5;124;03m    using cross validation. The output of this function is a score grid with\u001B[39;00m\n\u001B[1;32m   (...)\u001B[0m\n\u001B[0;32m    884\u001B[0m \n\u001B[0;32m    885\u001B[0m \u001B[38;5;124;03m    \"\"\"\u001B[39;00m\n\u001B[1;32m--> 887\u001B[0m     \u001B[38;5;28;01mreturn\u001B[39;00m _CURRENT_EXPERIMENT\u001B[38;5;241m.\u001B[39mcreate_model(\n\u001B[0;32m    888\u001B[0m         estimator\u001B[38;5;241m=\u001B[39mestimator,\n\u001B[0;32m    889\u001B[0m         fold\u001B[38;5;241m=\u001B[39mfold,\n\u001B[0;32m    890\u001B[0m         \u001B[38;5;28mround\u001B[39m\u001B[38;5;241m=\u001B[39m\u001B[38;5;28mround\u001B[39m,\n\u001B[0;32m    891\u001B[0m         cross_validation\u001B[38;5;241m=\u001B[39mcross_validation,\n\u001B[0;32m    892\u001B[0m         fit_kwargs\u001B[38;5;241m=\u001B[39mfit_kwargs,\n\u001B[0;32m    893\u001B[0m         groups\u001B[38;5;241m=\u001B[39mgroups,\n\u001B[0;32m    894\u001B[0m         probability_threshold\u001B[38;5;241m=\u001B[39mprobability_threshold,\n\u001B[0;32m    895\u001B[0m         experiment_custom_tags\u001B[38;5;241m=\u001B[39mexperiment_custom_tags,\n\u001B[0;32m    896\u001B[0m         verbose\u001B[38;5;241m=\u001B[39mverbose,\n\u001B[0;32m    897\u001B[0m         return_train_score\u001B[38;5;241m=\u001B[39mreturn_train_score,\n\u001B[0;32m    898\u001B[0m         \u001B[38;5;241m*\u001B[39m\u001B[38;5;241m*\u001B[39mkwargs,\n\u001B[0;32m    899\u001B[0m     )\n",
      "File \u001B[1;32m~\\Documents\\Python\\pycaret\\pycaret\\classification\\oop.py:721\u001B[0m, in \u001B[0;36mClassificationExperiment.create_model\u001B[1;34m(self, estimator, fold, round, cross_validation, fit_kwargs, groups, experiment_custom_tags, probability_threshold, verbose, return_train_score, **kwargs)\u001B[0m\n\u001B[0;32m    603\u001B[0m \u001B[38;5;28;01mdef\u001B[39;00m \u001B[38;5;21mcreate_model\u001B[39m(\n\u001B[0;32m    604\u001B[0m     \u001B[38;5;28mself\u001B[39m,\n\u001B[0;32m    605\u001B[0m     estimator: Union[\u001B[38;5;28mstr\u001B[39m, Any],\n\u001B[1;32m   (...)\u001B[0m\n\u001B[0;32m    615\u001B[0m     \u001B[38;5;241m*\u001B[39m\u001B[38;5;241m*\u001B[39mkwargs,\n\u001B[0;32m    616\u001B[0m ) \u001B[38;5;241m-\u001B[39m\u001B[38;5;241m>\u001B[39m Any:\n\u001B[0;32m    618\u001B[0m     \u001B[38;5;124;03m\"\"\"\u001B[39;00m\n\u001B[0;32m    619\u001B[0m \u001B[38;5;124;03m    This function trains and evaluates the performance of a given estimator\u001B[39;00m\n\u001B[0;32m    620\u001B[0m \u001B[38;5;124;03m    using cross validation. The output of this function is a score grid with\u001B[39;00m\n\u001B[1;32m   (...)\u001B[0m\n\u001B[0;32m    718\u001B[0m \n\u001B[0;32m    719\u001B[0m \u001B[38;5;124;03m    \"\"\"\u001B[39;00m\n\u001B[1;32m--> 721\u001B[0m     \u001B[38;5;28;01mreturn\u001B[39;00m \u001B[38;5;28msuper\u001B[39m()\u001B[38;5;241m.\u001B[39mcreate_model(\n\u001B[0;32m    722\u001B[0m         estimator\u001B[38;5;241m=\u001B[39mestimator,\n\u001B[0;32m    723\u001B[0m         fold\u001B[38;5;241m=\u001B[39mfold,\n\u001B[0;32m    724\u001B[0m         \u001B[38;5;28mround\u001B[39m\u001B[38;5;241m=\u001B[39m\u001B[38;5;28mround\u001B[39m,\n\u001B[0;32m    725\u001B[0m         cross_validation\u001B[38;5;241m=\u001B[39mcross_validation,\n\u001B[0;32m    726\u001B[0m         fit_kwargs\u001B[38;5;241m=\u001B[39mfit_kwargs,\n\u001B[0;32m    727\u001B[0m         groups\u001B[38;5;241m=\u001B[39mgroups,\n\u001B[0;32m    728\u001B[0m         verbose\u001B[38;5;241m=\u001B[39mverbose,\n\u001B[0;32m    729\u001B[0m         experiment_custom_tags\u001B[38;5;241m=\u001B[39mexperiment_custom_tags,\n\u001B[0;32m    730\u001B[0m         probability_threshold\u001B[38;5;241m=\u001B[39mprobability_threshold,\n\u001B[0;32m    731\u001B[0m         return_train_score\u001B[38;5;241m=\u001B[39mreturn_train_score,\n\u001B[0;32m    732\u001B[0m         \u001B[38;5;241m*\u001B[39m\u001B[38;5;241m*\u001B[39mkwargs,\n\u001B[0;32m    733\u001B[0m     )\n",
      "File \u001B[1;32m~\\Documents\\Python\\pycaret\\pycaret\\internal\\pycaret_experiment\\supervised_experiment.py:1553\u001B[0m, in \u001B[0;36m_SupervisedExperiment.create_model\u001B[1;34m(self, estimator, fold, round, cross_validation, predict, fit_kwargs, groups, refit, probability_threshold, experiment_custom_tags, verbose, system, add_to_model_list, X_train_data, y_train_data, metrics, display, return_train_score, **kwargs)\u001B[0m\n\u001B[0;32m   1550\u001B[0m         \u001B[38;5;28;01mreturn\u001B[39;00m model, model_fit_time\n\u001B[0;32m   1551\u001B[0m     \u001B[38;5;28;01mreturn\u001B[39;00m model\n\u001B[1;32m-> 1553\u001B[0m model, model_fit_time, model_results, _ \u001B[38;5;241m=\u001B[39m \u001B[38;5;28;43mself\u001B[39;49m\u001B[38;5;241;43m.\u001B[39;49m\u001B[43m_create_model_with_cv\u001B[49m\u001B[43m(\u001B[49m\n\u001B[0;32m   1554\u001B[0m \u001B[43m    \u001B[49m\u001B[43mmodel\u001B[49m\u001B[43m,\u001B[49m\n\u001B[0;32m   1555\u001B[0m \u001B[43m    \u001B[49m\u001B[43mdata_X\u001B[49m\u001B[43m,\u001B[49m\n\u001B[0;32m   1556\u001B[0m \u001B[43m    \u001B[49m\u001B[43mdata_y\u001B[49m\u001B[43m,\u001B[49m\n\u001B[0;32m   1557\u001B[0m \u001B[43m    \u001B[49m\u001B[43mfit_kwargs\u001B[49m\u001B[43m,\u001B[49m\n\u001B[0;32m   1558\u001B[0m \u001B[43m    \u001B[49m\u001B[38;5;28;43mround\u001B[39;49m\u001B[43m,\u001B[49m\n\u001B[0;32m   1559\u001B[0m \u001B[43m    \u001B[49m\u001B[43mcv\u001B[49m\u001B[43m,\u001B[49m\n\u001B[0;32m   1560\u001B[0m \u001B[43m    \u001B[49m\u001B[43mgroups\u001B[49m\u001B[43m,\u001B[49m\n\u001B[0;32m   1561\u001B[0m \u001B[43m    \u001B[49m\u001B[43mmetrics\u001B[49m\u001B[43m,\u001B[49m\n\u001B[0;32m   1562\u001B[0m \u001B[43m    \u001B[49m\u001B[43mrefit\u001B[49m\u001B[43m,\u001B[49m\n\u001B[0;32m   1563\u001B[0m \u001B[43m    \u001B[49m\u001B[43msystem\u001B[49m\u001B[43m,\u001B[49m\n\u001B[0;32m   1564\u001B[0m \u001B[43m    \u001B[49m\u001B[43mdisplay\u001B[49m\u001B[43m,\u001B[49m\n\u001B[0;32m   1565\u001B[0m \u001B[43m    \u001B[49m\u001B[43mreturn_train_score\u001B[49m\u001B[38;5;241;43m=\u001B[39;49m\u001B[43mreturn_train_score\u001B[49m\u001B[43m,\u001B[49m\n\u001B[0;32m   1566\u001B[0m \u001B[43m\u001B[49m\u001B[43m)\u001B[49m\n\u001B[0;32m   1568\u001B[0m \u001B[38;5;66;03m# end runtime\u001B[39;00m\n\u001B[0;32m   1569\u001B[0m runtime_end \u001B[38;5;241m=\u001B[39m time\u001B[38;5;241m.\u001B[39mtime()\n",
      "File \u001B[1;32m~\\Documents\\Python\\pycaret\\pycaret\\internal\\pycaret_experiment\\supervised_experiment.py:1096\u001B[0m, in \u001B[0;36m_SupervisedExperiment._create_model_with_cv\u001B[1;34m(self, model, data_X, data_y, fit_kwargs, round, cv, groups, metrics, refit, system, display, return_train_score)\u001B[0m\n\u001B[0;32m   1094\u001B[0m \u001B[38;5;28mself\u001B[39m\u001B[38;5;241m.\u001B[39mlogger\u001B[38;5;241m.\u001B[39minfo(\u001B[38;5;124m\"\u001B[39m\u001B[38;5;124mFinalizing model\u001B[39m\u001B[38;5;124m\"\u001B[39m)\n\u001B[0;32m   1095\u001B[0m \u001B[38;5;28;01mwith\u001B[39;00m io\u001B[38;5;241m.\u001B[39mcapture_output():\n\u001B[1;32m-> 1096\u001B[0m     pipeline_with_model\u001B[38;5;241m.\u001B[39mfit(data_X, data_y, \u001B[38;5;241m*\u001B[39m\u001B[38;5;241m*\u001B[39mfit_kwargs)\n\u001B[0;32m   1097\u001B[0m     model_fit_end \u001B[38;5;241m=\u001B[39m time\u001B[38;5;241m.\u001B[39mtime()\n\u001B[0;32m   1099\u001B[0m \u001B[38;5;66;03m# calculating metrics on predictions of complete train dataset\u001B[39;00m\n",
      "File \u001B[1;32m~\\Documents\\Python\\pycaret\\pycaret\\internal\\pipeline.py:134\u001B[0m, in \u001B[0;36mPipeline.fit\u001B[1;34m(self, X, y, **fit_params)\u001B[0m\n\u001B[0;32m    132\u001B[0m     \u001B[38;5;28;01mif\u001B[39;00m \u001B[38;5;28mself\u001B[39m\u001B[38;5;241m.\u001B[39m_final_estimator \u001B[38;5;241m!=\u001B[39m \u001B[38;5;124m\"\u001B[39m\u001B[38;5;124mpassthrough\u001B[39m\u001B[38;5;124m\"\u001B[39m:\n\u001B[0;32m    133\u001B[0m         fit_params_last_step \u001B[38;5;241m=\u001B[39m fit_params_steps[\u001B[38;5;28mself\u001B[39m\u001B[38;5;241m.\u001B[39msteps[\u001B[38;5;241m-\u001B[39m\u001B[38;5;241m1\u001B[39m][\u001B[38;5;241m0\u001B[39m]]\n\u001B[1;32m--> 134\u001B[0m         _fit_one(\u001B[38;5;28mself\u001B[39m\u001B[38;5;241m.\u001B[39m_final_estimator, X, y, \u001B[38;5;241m*\u001B[39m\u001B[38;5;241m*\u001B[39mfit_params_last_step)\n\u001B[0;32m    136\u001B[0m \u001B[38;5;28;01mreturn\u001B[39;00m \u001B[38;5;28mself\u001B[39m\n",
      "File \u001B[1;32m~\\Documents\\Python\\pycaret\\pycaret\\internal\\pipeline.py:38\u001B[0m, in \u001B[0;36m_fit_one\u001B[1;34m(transformer, X, y, message, **fit_params)\u001B[0m\n\u001B[0;32m     36\u001B[0m \u001B[38;5;28;01mif\u001B[39;00m \u001B[38;5;124m\"\u001B[39m\u001B[38;5;124my\u001B[39m\u001B[38;5;124m\"\u001B[39m \u001B[38;5;129;01min\u001B[39;00m signature(transformer\u001B[38;5;241m.\u001B[39mfit)\u001B[38;5;241m.\u001B[39mparameters:\n\u001B[0;32m     37\u001B[0m     args\u001B[38;5;241m.\u001B[39mappend(y)\n\u001B[1;32m---> 38\u001B[0m transformer\u001B[38;5;241m.\u001B[39mfit(\u001B[38;5;241m*\u001B[39margs, \u001B[38;5;241m*\u001B[39m\u001B[38;5;241m*\u001B[39mfit_params)\n",
      "File \u001B[1;32mc:\\users\\mavs\\documents\\python\\pycaret\\venv\\lib\\site-packages\\sklearn\\linear_model\\_logistic.py:1508\u001B[0m, in \u001B[0;36mLogisticRegression.fit\u001B[1;34m(self, X, y, sample_weight)\u001B[0m\n\u001B[0;32m   1505\u001B[0m \u001B[38;5;28;01melse\u001B[39;00m:\n\u001B[0;32m   1506\u001B[0m     _dtype \u001B[38;5;241m=\u001B[39m [np\u001B[38;5;241m.\u001B[39mfloat64, np\u001B[38;5;241m.\u001B[39mfloat32]\n\u001B[1;32m-> 1508\u001B[0m X, y \u001B[38;5;241m=\u001B[39m \u001B[38;5;28;43mself\u001B[39;49m\u001B[38;5;241;43m.\u001B[39;49m\u001B[43m_validate_data\u001B[49m\u001B[43m(\u001B[49m\n\u001B[0;32m   1509\u001B[0m \u001B[43m    \u001B[49m\u001B[43mX\u001B[49m\u001B[43m,\u001B[49m\n\u001B[0;32m   1510\u001B[0m \u001B[43m    \u001B[49m\u001B[43my\u001B[49m\u001B[43m,\u001B[49m\n\u001B[0;32m   1511\u001B[0m \u001B[43m    \u001B[49m\u001B[43maccept_sparse\u001B[49m\u001B[38;5;241;43m=\u001B[39;49m\u001B[38;5;124;43m\"\u001B[39;49m\u001B[38;5;124;43mcsr\u001B[39;49m\u001B[38;5;124;43m\"\u001B[39;49m\u001B[43m,\u001B[49m\n\u001B[0;32m   1512\u001B[0m \u001B[43m    \u001B[49m\u001B[43mdtype\u001B[49m\u001B[38;5;241;43m=\u001B[39;49m\u001B[43m_dtype\u001B[49m\u001B[43m,\u001B[49m\n\u001B[0;32m   1513\u001B[0m \u001B[43m    \u001B[49m\u001B[43morder\u001B[49m\u001B[38;5;241;43m=\u001B[39;49m\u001B[38;5;124;43m\"\u001B[39;49m\u001B[38;5;124;43mC\u001B[39;49m\u001B[38;5;124;43m\"\u001B[39;49m\u001B[43m,\u001B[49m\n\u001B[0;32m   1514\u001B[0m \u001B[43m    \u001B[49m\u001B[43maccept_large_sparse\u001B[49m\u001B[38;5;241;43m=\u001B[39;49m\u001B[43msolver\u001B[49m\u001B[43m \u001B[49m\u001B[38;5;129;43;01mnot\u001B[39;49;00m\u001B[43m \u001B[49m\u001B[38;5;129;43;01min\u001B[39;49;00m\u001B[43m \u001B[49m\u001B[43m[\u001B[49m\u001B[38;5;124;43m\"\u001B[39;49m\u001B[38;5;124;43mliblinear\u001B[39;49m\u001B[38;5;124;43m\"\u001B[39;49m\u001B[43m,\u001B[49m\u001B[43m \u001B[49m\u001B[38;5;124;43m\"\u001B[39;49m\u001B[38;5;124;43msag\u001B[39;49m\u001B[38;5;124;43m\"\u001B[39;49m\u001B[43m,\u001B[49m\u001B[43m \u001B[49m\u001B[38;5;124;43m\"\u001B[39;49m\u001B[38;5;124;43msaga\u001B[39;49m\u001B[38;5;124;43m\"\u001B[39;49m\u001B[43m]\u001B[49m\u001B[43m,\u001B[49m\n\u001B[0;32m   1515\u001B[0m \u001B[43m\u001B[49m\u001B[43m)\u001B[49m\n\u001B[0;32m   1516\u001B[0m check_classification_targets(y)\n\u001B[0;32m   1517\u001B[0m \u001B[38;5;28mself\u001B[39m\u001B[38;5;241m.\u001B[39mclasses_ \u001B[38;5;241m=\u001B[39m np\u001B[38;5;241m.\u001B[39munique(y)\n",
      "File \u001B[1;32mc:\\users\\mavs\\documents\\python\\pycaret\\venv\\lib\\site-packages\\sklearn\\base.py:581\u001B[0m, in \u001B[0;36mBaseEstimator._validate_data\u001B[1;34m(self, X, y, reset, validate_separately, **check_params)\u001B[0m\n\u001B[0;32m    579\u001B[0m         y \u001B[38;5;241m=\u001B[39m check_array(y, \u001B[38;5;241m*\u001B[39m\u001B[38;5;241m*\u001B[39mcheck_y_params)\n\u001B[0;32m    580\u001B[0m     \u001B[38;5;28;01melse\u001B[39;00m:\n\u001B[1;32m--> 581\u001B[0m         X, y \u001B[38;5;241m=\u001B[39m check_X_y(X, y, \u001B[38;5;241m*\u001B[39m\u001B[38;5;241m*\u001B[39mcheck_params)\n\u001B[0;32m    582\u001B[0m     out \u001B[38;5;241m=\u001B[39m X, y\n\u001B[0;32m    584\u001B[0m \u001B[38;5;28;01mif\u001B[39;00m \u001B[38;5;129;01mnot\u001B[39;00m no_val_X \u001B[38;5;129;01mand\u001B[39;00m check_params\u001B[38;5;241m.\u001B[39mget(\u001B[38;5;124m\"\u001B[39m\u001B[38;5;124mensure_2d\u001B[39m\u001B[38;5;124m\"\u001B[39m, \u001B[38;5;28;01mTrue\u001B[39;00m):\n",
      "File \u001B[1;32mc:\\users\\mavs\\documents\\python\\pycaret\\venv\\lib\\site-packages\\sklearn\\utils\\validation.py:964\u001B[0m, in \u001B[0;36mcheck_X_y\u001B[1;34m(X, y, accept_sparse, accept_large_sparse, dtype, order, copy, force_all_finite, ensure_2d, allow_nd, multi_output, ensure_min_samples, ensure_min_features, y_numeric, estimator)\u001B[0m\n\u001B[0;32m    961\u001B[0m \u001B[38;5;28;01mif\u001B[39;00m y \u001B[38;5;129;01mis\u001B[39;00m \u001B[38;5;28;01mNone\u001B[39;00m:\n\u001B[0;32m    962\u001B[0m     \u001B[38;5;28;01mraise\u001B[39;00m \u001B[38;5;167;01mValueError\u001B[39;00m(\u001B[38;5;124m\"\u001B[39m\u001B[38;5;124my cannot be None\u001B[39m\u001B[38;5;124m\"\u001B[39m)\n\u001B[1;32m--> 964\u001B[0m X \u001B[38;5;241m=\u001B[39m \u001B[43mcheck_array\u001B[49m\u001B[43m(\u001B[49m\n\u001B[0;32m    965\u001B[0m \u001B[43m    \u001B[49m\u001B[43mX\u001B[49m\u001B[43m,\u001B[49m\n\u001B[0;32m    966\u001B[0m \u001B[43m    \u001B[49m\u001B[43maccept_sparse\u001B[49m\u001B[38;5;241;43m=\u001B[39;49m\u001B[43maccept_sparse\u001B[49m\u001B[43m,\u001B[49m\n\u001B[0;32m    967\u001B[0m \u001B[43m    \u001B[49m\u001B[43maccept_large_sparse\u001B[49m\u001B[38;5;241;43m=\u001B[39;49m\u001B[43maccept_large_sparse\u001B[49m\u001B[43m,\u001B[49m\n\u001B[0;32m    968\u001B[0m \u001B[43m    \u001B[49m\u001B[43mdtype\u001B[49m\u001B[38;5;241;43m=\u001B[39;49m\u001B[43mdtype\u001B[49m\u001B[43m,\u001B[49m\n\u001B[0;32m    969\u001B[0m \u001B[43m    \u001B[49m\u001B[43morder\u001B[49m\u001B[38;5;241;43m=\u001B[39;49m\u001B[43morder\u001B[49m\u001B[43m,\u001B[49m\n\u001B[0;32m    970\u001B[0m \u001B[43m    \u001B[49m\u001B[43mcopy\u001B[49m\u001B[38;5;241;43m=\u001B[39;49m\u001B[43mcopy\u001B[49m\u001B[43m,\u001B[49m\n\u001B[0;32m    971\u001B[0m \u001B[43m    \u001B[49m\u001B[43mforce_all_finite\u001B[49m\u001B[38;5;241;43m=\u001B[39;49m\u001B[43mforce_all_finite\u001B[49m\u001B[43m,\u001B[49m\n\u001B[0;32m    972\u001B[0m \u001B[43m    \u001B[49m\u001B[43mensure_2d\u001B[49m\u001B[38;5;241;43m=\u001B[39;49m\u001B[43mensure_2d\u001B[49m\u001B[43m,\u001B[49m\n\u001B[0;32m    973\u001B[0m \u001B[43m    \u001B[49m\u001B[43mallow_nd\u001B[49m\u001B[38;5;241;43m=\u001B[39;49m\u001B[43mallow_nd\u001B[49m\u001B[43m,\u001B[49m\n\u001B[0;32m    974\u001B[0m \u001B[43m    \u001B[49m\u001B[43mensure_min_samples\u001B[49m\u001B[38;5;241;43m=\u001B[39;49m\u001B[43mensure_min_samples\u001B[49m\u001B[43m,\u001B[49m\n\u001B[0;32m    975\u001B[0m \u001B[43m    \u001B[49m\u001B[43mensure_min_features\u001B[49m\u001B[38;5;241;43m=\u001B[39;49m\u001B[43mensure_min_features\u001B[49m\u001B[43m,\u001B[49m\n\u001B[0;32m    976\u001B[0m \u001B[43m    \u001B[49m\u001B[43mestimator\u001B[49m\u001B[38;5;241;43m=\u001B[39;49m\u001B[43mestimator\u001B[49m\u001B[43m,\u001B[49m\n\u001B[0;32m    977\u001B[0m \u001B[43m\u001B[49m\u001B[43m)\u001B[49m\n\u001B[0;32m    979\u001B[0m y \u001B[38;5;241m=\u001B[39m _check_y(y, multi_output\u001B[38;5;241m=\u001B[39mmulti_output, y_numeric\u001B[38;5;241m=\u001B[39my_numeric)\n\u001B[0;32m    981\u001B[0m check_consistent_length(X, y)\n",
      "File \u001B[1;32mc:\\users\\mavs\\documents\\python\\pycaret\\venv\\lib\\site-packages\\sklearn\\utils\\validation.py:746\u001B[0m, in \u001B[0;36mcheck_array\u001B[1;34m(array, accept_sparse, accept_large_sparse, dtype, order, copy, force_all_finite, ensure_2d, allow_nd, ensure_min_samples, ensure_min_features, estimator)\u001B[0m\n\u001B[0;32m    744\u001B[0m         array \u001B[38;5;241m=\u001B[39m array\u001B[38;5;241m.\u001B[39mastype(dtype, casting\u001B[38;5;241m=\u001B[39m\u001B[38;5;124m\"\u001B[39m\u001B[38;5;124munsafe\u001B[39m\u001B[38;5;124m\"\u001B[39m, copy\u001B[38;5;241m=\u001B[39m\u001B[38;5;28;01mFalse\u001B[39;00m)\n\u001B[0;32m    745\u001B[0m     \u001B[38;5;28;01melse\u001B[39;00m:\n\u001B[1;32m--> 746\u001B[0m         array \u001B[38;5;241m=\u001B[39m \u001B[43mnp\u001B[49m\u001B[38;5;241;43m.\u001B[39;49m\u001B[43masarray\u001B[49m\u001B[43m(\u001B[49m\u001B[43marray\u001B[49m\u001B[43m,\u001B[49m\u001B[43m \u001B[49m\u001B[43morder\u001B[49m\u001B[38;5;241;43m=\u001B[39;49m\u001B[43morder\u001B[49m\u001B[43m,\u001B[49m\u001B[43m \u001B[49m\u001B[43mdtype\u001B[49m\u001B[38;5;241;43m=\u001B[39;49m\u001B[43mdtype\u001B[49m\u001B[43m)\u001B[49m\n\u001B[0;32m    747\u001B[0m \u001B[38;5;28;01mexcept\u001B[39;00m ComplexWarning \u001B[38;5;28;01mas\u001B[39;00m complex_warning:\n\u001B[0;32m    748\u001B[0m     \u001B[38;5;28;01mraise\u001B[39;00m \u001B[38;5;167;01mValueError\u001B[39;00m(\n\u001B[0;32m    749\u001B[0m         \u001B[38;5;124m\"\u001B[39m\u001B[38;5;124mComplex data not supported\u001B[39m\u001B[38;5;130;01m\\n\u001B[39;00m\u001B[38;5;132;01m{}\u001B[39;00m\u001B[38;5;130;01m\\n\u001B[39;00m\u001B[38;5;124m\"\u001B[39m\u001B[38;5;241m.\u001B[39mformat(array)\n\u001B[0;32m    750\u001B[0m     ) \u001B[38;5;28;01mfrom\u001B[39;00m \u001B[38;5;21;01mcomplex_warning\u001B[39;00m\n",
      "File \u001B[1;32mc:\\users\\mavs\\documents\\python\\pycaret\\venv\\lib\\site-packages\\pandas\\core\\generic.py:2072\u001B[0m, in \u001B[0;36mNDFrame.__array__\u001B[1;34m(self, dtype)\u001B[0m\n\u001B[0;32m   2071\u001B[0m \u001B[38;5;28;01mdef\u001B[39;00m \u001B[38;5;21m__array__\u001B[39m(\u001B[38;5;28mself\u001B[39m, dtype: npt\u001B[38;5;241m.\u001B[39mDTypeLike \u001B[38;5;241m|\u001B[39m \u001B[38;5;28;01mNone\u001B[39;00m \u001B[38;5;241m=\u001B[39m \u001B[38;5;28;01mNone\u001B[39;00m) \u001B[38;5;241m-\u001B[39m\u001B[38;5;241m>\u001B[39m np\u001B[38;5;241m.\u001B[39mndarray:\n\u001B[1;32m-> 2072\u001B[0m     \u001B[38;5;28;01mreturn\u001B[39;00m \u001B[43mnp\u001B[49m\u001B[38;5;241;43m.\u001B[39;49m\u001B[43masarray\u001B[49m\u001B[43m(\u001B[49m\u001B[38;5;28;43mself\u001B[39;49m\u001B[38;5;241;43m.\u001B[39;49m\u001B[43m_values\u001B[49m\u001B[43m,\u001B[49m\u001B[43m \u001B[49m\u001B[43mdtype\u001B[49m\u001B[38;5;241;43m=\u001B[39;49m\u001B[43mdtype\u001B[49m\u001B[43m)\u001B[49m\n",
      "\u001B[1;31mValueError\u001B[0m: could not convert string to float: 'MM'"
     ]
    }
   ],
   "source": [
    "best_model = create_model(\"lr\")"
   ],
   "metadata": {
    "collapsed": false,
    "pycharm": {
     "name": "#%%\n"
    }
   }
  },
  {
   "cell_type": "code",
   "execution_count": null,
   "outputs": [],
   "source": [
    "predict_model(best_model, data=None, encoded_labels=True)"
   ],
   "metadata": {
    "collapsed": false,
    "pycharm": {
     "name": "#%%\n"
    }
   }
  },
  {
   "cell_type": "code",
   "execution_count": null,
   "outputs": [],
   "source": [
    "ensemble_model(best_model, method='Boosting')"
   ],
   "metadata": {
    "collapsed": false,
    "pycharm": {
     "name": "#%%\n"
    }
   }
  },
  {
   "cell_type": "code",
   "execution_count": null,
   "outputs": [],
   "source": [
    "models = compare_models(turbo=False, n_select=5)"
   ],
   "metadata": {
    "collapsed": false,
    "pycharm": {
     "name": "#%%\n"
    }
   }
  }
 ],
 "metadata": {
  "kernelspec": {
   "display_name": "Python 3",
   "language": "python",
   "name": "python3"
  },
  "language_info": {
   "codemirror_mode": {
    "name": "ipython",
    "version": 3
   },
   "file_extension": ".py",
   "mimetype": "text/x-python",
   "name": "python",
   "nbconvert_exporter": "python",
   "pygments_lexer": "ipython3",
   "version": "3.8.3"
  }
 },
 "nbformat": 4,
 "nbformat_minor": 4
}