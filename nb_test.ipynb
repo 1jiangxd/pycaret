{
 "cells": [
  {
   "cell_type": "code",
   "execution_count": 1,
   "outputs": [],
   "source": [
    "import time\n",
    "import numpy as np\n",
    "import pandas as pd\n",
    "\n",
    "from pycaret.datasets import get_data\n",
    "from pycaret.classification import *"
   ],
   "metadata": {
    "collapsed": false,
    "pycharm": {
     "name": "#%%\n"
    }
   }
  },
  {
   "cell_type": "code",
   "execution_count": 2,
   "outputs": [],
   "source": [
    "data = get_data('juice', verbose=False)"
   ],
   "metadata": {
    "collapsed": false,
    "pycharm": {
     "name": "#%%\n"
    }
   }
  },
  {
   "cell_type": "code",
   "execution_count": 3,
   "outputs": [],
   "source": [
    "y = [\"a\" if i else \"b\" for i in data.iloc[:, -1]]"
   ],
   "metadata": {
    "collapsed": false,
    "pycharm": {
     "name": "#%%\n"
    }
   }
  },
  {
   "cell_type": "code",
   "execution_count": 4,
   "outputs": [
    {
     "name": "stdout",
     "output_type": "stream",
     "text": [
      "Alert! from version 0.1.39, fter importing, you must do '%matplotlib inline' to display charts in Jupyter Notebooks.\n",
      "    AV = AutoViz_Class()\n",
      "    dfte = AV.AutoViz(filename, sep=',', depVar='', dfte=None, header=0, verbose=0, lowess=False,\n",
      "               chart_format='svg',max_rows_analyzed=150000,max_cols_analyzed=30, save_plot_dir=None)\n",
      "Note: verbose=0 or 1 generates charts and displays them in your local Jupyter notebook.\n",
      "      verbose=2 does not display plots but saves them in AutoViz_Plots folder in local machine.\n",
      "Updated: chart_format='bokeh' generates and displays charts in your local Jupyter notebook.\n",
      "      chart_format='server' generates and displays charts in the browser - one tab for each chart.\n",
      "      chart_format='html' silently saves charts HTML format - they are also interactive!\n"
     ]
    },
    {
     "name": "stderr",
     "output_type": "stream",
     "text": [
      "`scipy.sparse.sparsetools` is deprecated!\n",
      "scipy.sparse.sparsetools is a private module for scipy.sparse, and should not be used.\n"
     ]
    },
    {
     "data": {
      "text/plain": "<pandas.io.formats.style.Styler at 0x189dd678370>",
      "text/html": "<style type=\"text/css\">\n#T_7490b_row10_col1 {\n  background-color: lightgreen;\n}\n</style>\n<table id=\"T_7490b\">\n  <thead>\n    <tr>\n      <th class=\"blank level0\" >&nbsp;</th>\n      <th id=\"T_7490b_level0_col0\" class=\"col_heading level0 col0\" >Description</th>\n      <th id=\"T_7490b_level0_col1\" class=\"col_heading level0 col1\" >Value</th>\n    </tr>\n  </thead>\n  <tbody>\n    <tr>\n      <th id=\"T_7490b_level0_row0\" class=\"row_heading level0 row0\" >0</th>\n      <td id=\"T_7490b_row0_col0\" class=\"data row0 col0\" >Session id</td>\n      <td id=\"T_7490b_row0_col1\" class=\"data row0 col1\" >123</td>\n    </tr>\n    <tr>\n      <th id=\"T_7490b_level0_row1\" class=\"row_heading level0 row1\" >1</th>\n      <td id=\"T_7490b_row1_col0\" class=\"data row1 col0\" >Target</td>\n      <td id=\"T_7490b_row1_col1\" class=\"data row1 col1\" >STORE</td>\n    </tr>\n    <tr>\n      <th id=\"T_7490b_level0_row2\" class=\"row_heading level0 row2\" >2</th>\n      <td id=\"T_7490b_row2_col0\" class=\"data row2 col0\" >Target type</td>\n      <td id=\"T_7490b_row2_col1\" class=\"data row2 col1\" >Multiclass</td>\n    </tr>\n    <tr>\n      <th id=\"T_7490b_level0_row3\" class=\"row_heading level0 row3\" >3</th>\n      <td id=\"T_7490b_row3_col0\" class=\"data row3 col0\" >Original data shape</td>\n      <td id=\"T_7490b_row3_col1\" class=\"data row3 col1\" >(1080, 19)</td>\n    </tr>\n    <tr>\n      <th id=\"T_7490b_level0_row4\" class=\"row_heading level0 row4\" >4</th>\n      <td id=\"T_7490b_row4_col0\" class=\"data row4 col0\" >Transformed data shape</td>\n      <td id=\"T_7490b_row4_col1\" class=\"data row4 col1\" >(1080, 19)</td>\n    </tr>\n    <tr>\n      <th id=\"T_7490b_level0_row5\" class=\"row_heading level0 row5\" >5</th>\n      <td id=\"T_7490b_row5_col0\" class=\"data row5 col0\" >Transformed train set shape</td>\n      <td id=\"T_7490b_row5_col1\" class=\"data row5 col1\" >(1070, 19)</td>\n    </tr>\n    <tr>\n      <th id=\"T_7490b_level0_row6\" class=\"row_heading level0 row6\" >6</th>\n      <td id=\"T_7490b_row6_col0\" class=\"data row6 col0\" >Transformed test set shape</td>\n      <td id=\"T_7490b_row6_col1\" class=\"data row6 col1\" >(10, 19)</td>\n    </tr>\n    <tr>\n      <th id=\"T_7490b_level0_row7\" class=\"row_heading level0 row7\" >7</th>\n      <td id=\"T_7490b_row7_col0\" class=\"data row7 col0\" >Ordinal features</td>\n      <td id=\"T_7490b_row7_col1\" class=\"data row7 col1\" >2</td>\n    </tr>\n    <tr>\n      <th id=\"T_7490b_level0_row8\" class=\"row_heading level0 row8\" >8</th>\n      <td id=\"T_7490b_row8_col0\" class=\"data row8 col0\" >Numeric features</td>\n      <td id=\"T_7490b_row8_col1\" class=\"data row8 col1\" >16</td>\n    </tr>\n    <tr>\n      <th id=\"T_7490b_level0_row9\" class=\"row_heading level0 row9\" >9</th>\n      <td id=\"T_7490b_row9_col0\" class=\"data row9 col0\" >Categorical features</td>\n      <td id=\"T_7490b_row9_col1\" class=\"data row9 col1\" >2</td>\n    </tr>\n    <tr>\n      <th id=\"T_7490b_level0_row10\" class=\"row_heading level0 row10\" >10</th>\n      <td id=\"T_7490b_row10_col0\" class=\"data row10 col0\" >Preprocess</td>\n      <td id=\"T_7490b_row10_col1\" class=\"data row10 col1\" >1</td>\n    </tr>\n    <tr>\n      <th id=\"T_7490b_level0_row11\" class=\"row_heading level0 row11\" >11</th>\n      <td id=\"T_7490b_row11_col0\" class=\"data row11 col0\" >Imputation type</td>\n      <td id=\"T_7490b_row11_col1\" class=\"data row11 col1\" >simple</td>\n    </tr>\n    <tr>\n      <th id=\"T_7490b_level0_row12\" class=\"row_heading level0 row12\" >12</th>\n      <td id=\"T_7490b_row12_col0\" class=\"data row12 col0\" >Numeric imputation</td>\n      <td id=\"T_7490b_row12_col1\" class=\"data row12 col1\" >mean</td>\n    </tr>\n    <tr>\n      <th id=\"T_7490b_level0_row13\" class=\"row_heading level0 row13\" >13</th>\n      <td id=\"T_7490b_row13_col0\" class=\"data row13 col0\" >Categorical imputation</td>\n      <td id=\"T_7490b_row13_col1\" class=\"data row13 col1\" >constant</td>\n    </tr>\n    <tr>\n      <th id=\"T_7490b_level0_row14\" class=\"row_heading level0 row14\" >14</th>\n      <td id=\"T_7490b_row14_col0\" class=\"data row14 col0\" >Maximum one-hot encoding</td>\n      <td id=\"T_7490b_row14_col1\" class=\"data row14 col1\" >5</td>\n    </tr>\n    <tr>\n      <th id=\"T_7490b_level0_row15\" class=\"row_heading level0 row15\" >15</th>\n      <td id=\"T_7490b_row15_col0\" class=\"data row15 col0\" >Encoding method</td>\n      <td id=\"T_7490b_row15_col1\" class=\"data row15 col1\" >None</td>\n    </tr>\n    <tr>\n      <th id=\"T_7490b_level0_row16\" class=\"row_heading level0 row16\" >16</th>\n      <td id=\"T_7490b_row16_col0\" class=\"data row16 col0\" >Fold Generator</td>\n      <td id=\"T_7490b_row16_col1\" class=\"data row16 col1\" >StratifiedKFold</td>\n    </tr>\n    <tr>\n      <th id=\"T_7490b_level0_row17\" class=\"row_heading level0 row17\" >17</th>\n      <td id=\"T_7490b_row17_col0\" class=\"data row17 col0\" >Fold Number</td>\n      <td id=\"T_7490b_row17_col1\" class=\"data row17 col1\" >10</td>\n    </tr>\n    <tr>\n      <th id=\"T_7490b_level0_row18\" class=\"row_heading level0 row18\" >18</th>\n      <td id=\"T_7490b_row18_col0\" class=\"data row18 col0\" >CPU Jobs</td>\n      <td id=\"T_7490b_row18_col1\" class=\"data row18 col1\" >-1</td>\n    </tr>\n    <tr>\n      <th id=\"T_7490b_level0_row19\" class=\"row_heading level0 row19\" >19</th>\n      <td id=\"T_7490b_row19_col0\" class=\"data row19 col0\" >Use GPU</td>\n      <td id=\"T_7490b_row19_col1\" class=\"data row19 col1\" >0</td>\n    </tr>\n    <tr>\n      <th id=\"T_7490b_level0_row20\" class=\"row_heading level0 row20\" >20</th>\n      <td id=\"T_7490b_row20_col0\" class=\"data row20 col0\" >Log Experiment</td>\n      <td id=\"T_7490b_row20_col1\" class=\"data row20 col1\" >0</td>\n    </tr>\n    <tr>\n      <th id=\"T_7490b_level0_row21\" class=\"row_heading level0 row21\" >21</th>\n      <td id=\"T_7490b_row21_col0\" class=\"data row21 col0\" >Experiment Name</td>\n      <td id=\"T_7490b_row21_col1\" class=\"data row21 col1\" >clf-default-name</td>\n    </tr>\n    <tr>\n      <th id=\"T_7490b_level0_row22\" class=\"row_heading level0 row22\" >22</th>\n      <td id=\"T_7490b_row22_col0\" class=\"data row22 col0\" >USI</td>\n      <td id=\"T_7490b_row22_col1\" class=\"data row22 col1\" >6644</td>\n    </tr>\n  </tbody>\n</table>\n"
     },
     "metadata": {},
     "output_type": "display_data"
    }
   ],
   "source": [
    "exp = setup(data=data, test_data=data.iloc[:10, :], target=-1, session_id=123)"
   ],
   "metadata": {
    "collapsed": false,
    "pycharm": {
     "name": "#%%\n"
    }
   }
  }
 ],
 "metadata": {
  "interpreter": {
   "hash": "83be8a105015beb0be3130957f981d91e0431cfb610106a7fbaabcd7fd8062ab"
  },
  "kernelspec": {
   "display_name": "pycaret_dev_sktime_0p10p0",
   "language": "python",
   "name": "python3"
  },
  "language_info": {
   "codemirror_mode": {
    "name": "ipython",
    "version": 3
   },
   "file_extension": ".py",
   "mimetype": "text/x-python",
   "name": "python",
   "nbconvert_exporter": "python",
   "pygments_lexer": "ipython3",
   "version": "3.8.12"
  }
 },
 "nbformat": 4,
 "nbformat_minor": 2
}